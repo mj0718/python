{
 "cells": [
  {
   "cell_type": "markdown",
   "id": "90ce57e9",
   "metadata": {},
   "source": [
    "# API 요청"
   ]
  },
  {
   "cell_type": "code",
   "execution_count": 1,
   "id": "f103e76e",
   "metadata": {},
   "outputs": [],
   "source": [
    "import requests"
   ]
  },
  {
   "cell_type": "code",
   "execution_count": 3,
   "id": "54026811",
   "metadata": {},
   "outputs": [
    {
     "name": "stdout",
     "output_type": "stream",
     "text": [
      "b'<?xml version=\"1.0\" encoding=\"UTF-8\" standalone=\"yes\"?><response><header><resultCode>00</resultCode><resultMsg>NORMAL SERVICE.</resultMsg></header><body><item><avgFnlPrvsAmt>996693</avgFnlPrvsAmt><avgPrvsPrdMcnt>1</avgPrvsPrdMcnt><avgTotPrvsAmt>1221287</avgTotPrvsAmt><totPrsnCnt>9</totPrsnCnt><whlPymtCtstPrvsRate>0.02</whlPymtCtstPrvsRate></item></body></response>'\n"
     ]
    }
   ],
   "source": [
    "url = 'http://apis.data.go.kr/B552015/NpsReciptInfoProvdService/getReciptSttusInfoSearch'\n",
    "\n",
    "service_key = 'N/0OlDLzWtTNk2TzJ+D1RgX89ZeTx3DrF5JZTiALrBvgsEBx6YSBMLynyAaVn2OfoBbz7DToXVpFr97VVvNclw=='\n",
    "\n",
    "params ={'serviceKey' : service_key, 'ldong_addr_mgpl_dg_cd' : '11', 'ldong_addr_mgpl_sggu_cd' : '11110', 'ldong_addr_mgpl_sggu_emd_cd' : '11110101', 'crtr_age' : '67', 'sex_dvcd' : 'M', 'pay_clss_cd' : '10' }\n",
    "\n",
    "response = requests.get(url, params=params)\n",
    "print(response.content)"
   ]
  },
  {
   "cell_type": "markdown",
   "id": "693dfa08",
   "metadata": {},
   "source": [
    "## [파일변환 1] str -> parsing"
   ]
  },
  {
   "cell_type": "code",
   "execution_count": 4,
   "id": "adfe6ae2",
   "metadata": {},
   "outputs": [
    {
     "data": {
      "text/plain": [
       "'<?xml version=\"1.0\" encoding=\"UTF-8\" standalone=\"yes\"?><response><header><resultCode>00</resultCode><resultMsg>NORMAL SERVICE.</resultMsg></header><body><item><avgFnlPrvsAmt>996693</avgFnlPrvsAmt><avgPrvsPrdMcnt>1</avgPrvsPrdMcnt><avgTotPrvsAmt>1221287</avgTotPrvsAmt><totPrsnCnt>9</totPrsnCnt><whlPymtCtstPrvsRate>0.02</whlPymtCtstPrvsRate></item></body></response>'"
      ]
     },
     "execution_count": 4,
     "metadata": {},
     "output_type": "execute_result"
    }
   ],
   "source": [
    "response.text"
   ]
  },
  {
   "cell_type": "code",
   "execution_count": 8,
   "id": "a9afc493",
   "metadata": {},
   "outputs": [
    {
     "data": {
      "text/plain": [
       "<?xml version=\"1.0\" encoding=\"utf-8\"?>\n",
       "<response><header><resultCode>00</resultCode><resultMsg>NORMAL SERVICE.</resultMsg></header><body><item><avgFnlPrvsAmt>996693</avgFnlPrvsAmt><avgPrvsPrdMcnt>1</avgPrvsPrdMcnt><avgTotPrvsAmt>1221287</avgTotPrvsAmt><totPrsnCnt>9</totPrsnCnt><whlPymtCtstPrvsRate>0.02</whlPymtCtstPrvsRate></item></body></response>"
      ]
     },
     "execution_count": 8,
     "metadata": {},
     "output_type": "execute_result"
    }
   ],
   "source": [
    "from bs4 import BeautifulSoup\n",
    "\n",
    "xml = BeautifulSoup(response.text, features='xml')\n",
    "xml"
   ]
  },
  {
   "cell_type": "code",
   "execution_count": 9,
   "id": "d642e42e",
   "metadata": {},
   "outputs": [
    {
     "data": {
      "text/plain": [
       "<response><header><resultCode>00</resultCode><resultMsg>NORMAL SERVICE.</resultMsg></header><body><item><avgFnlPrvsAmt>996693</avgFnlPrvsAmt><avgPrvsPrdMcnt>1</avgPrvsPrdMcnt><avgTotPrvsAmt>1221287</avgTotPrvsAmt><totPrsnCnt>9</totPrsnCnt><whlPymtCtstPrvsRate>0.02</whlPymtCtstPrvsRate></item></body></response>"
      ]
     },
     "execution_count": 9,
     "metadata": {},
     "output_type": "execute_result"
    }
   ],
   "source": [
    "xml.response"
   ]
  },
  {
   "cell_type": "code",
   "execution_count": 11,
   "id": "63ee03c0",
   "metadata": {},
   "outputs": [
    {
     "data": {
      "text/plain": [
       "<resultMsg>NORMAL SERVICE.</resultMsg>"
      ]
     },
     "execution_count": 11,
     "metadata": {},
     "output_type": "execute_result"
    }
   ],
   "source": [
    "xml.resultMsg"
   ]
  },
  {
   "cell_type": "markdown",
   "id": "c58a914f",
   "metadata": {},
   "source": [
    "## [파일 변환] str -> json"
   ]
  },
  {
   "cell_type": "code",
   "execution_count": 12,
   "id": "63dec837",
   "metadata": {},
   "outputs": [
    {
     "name": "stdout",
     "output_type": "stream",
     "text": [
      "Collecting xmltodict\n",
      "  Downloading xmltodict-0.13.0-py2.py3-none-any.whl (10.0 kB)\n",
      "Installing collected packages: xmltodict\n",
      "Successfully installed xmltodict-0.13.0\n"
     ]
    }
   ],
   "source": [
    "!pip install xmltodict"
   ]
  },
  {
   "cell_type": "code",
   "execution_count": 13,
   "id": "500bd76c",
   "metadata": {},
   "outputs": [],
   "source": [
    "import xmltodict\n",
    "\n",
    "parsing_dict = xmltodict.parse(response.text)"
   ]
  },
  {
   "cell_type": "code",
   "execution_count": 14,
   "id": "cc24e3d9",
   "metadata": {},
   "outputs": [
    {
     "data": {
      "text/plain": [
       "{'response': {'header': {'resultCode': '00', 'resultMsg': 'NORMAL SERVICE.'},\n",
       "  'body': {'item': {'avgFnlPrvsAmt': '996693',\n",
       "    'avgPrvsPrdMcnt': '1',\n",
       "    'avgTotPrvsAmt': '1221287',\n",
       "    'totPrsnCnt': '9',\n",
       "    'whlPymtCtstPrvsRate': '0.02'}}}}"
      ]
     },
     "execution_count": 14,
     "metadata": {},
     "output_type": "execute_result"
    }
   ],
   "source": [
    "parsing_dict"
   ]
  },
  {
   "cell_type": "code",
   "execution_count": 15,
   "id": "7f2b8fd4",
   "metadata": {},
   "outputs": [
    {
     "data": {
      "text/plain": [
       "dict_keys(['response'])"
      ]
     },
     "execution_count": 15,
     "metadata": {},
     "output_type": "execute_result"
    }
   ],
   "source": [
    "parsing_dict.keys()"
   ]
  },
  {
   "cell_type": "code",
   "execution_count": 16,
   "id": "eb8886e7",
   "metadata": {
    "scrolled": true
   },
   "outputs": [
    {
     "data": {
      "text/plain": [
       "{'header': {'resultCode': '00', 'resultMsg': 'NORMAL SERVICE.'},\n",
       " 'body': {'item': {'avgFnlPrvsAmt': '996693',\n",
       "   'avgPrvsPrdMcnt': '1',\n",
       "   'avgTotPrvsAmt': '1221287',\n",
       "   'totPrsnCnt': '9',\n",
       "   'whlPymtCtstPrvsRate': '0.02'}}}"
      ]
     },
     "execution_count": 16,
     "metadata": {},
     "output_type": "execute_result"
    }
   ],
   "source": [
    "parsing_dict['response']"
   ]
  },
  {
   "cell_type": "code",
   "execution_count": 18,
   "id": "ad8012d2",
   "metadata": {
    "scrolled": true
   },
   "outputs": [
    {
     "data": {
      "text/plain": [
       "dict_keys(['header', 'body'])"
      ]
     },
     "execution_count": 18,
     "metadata": {},
     "output_type": "execute_result"
    }
   ],
   "source": [
    "parsing_dict['response'].keys()"
   ]
  },
  {
   "cell_type": "code",
   "execution_count": 19,
   "id": "7dacc0b9",
   "metadata": {
    "scrolled": true
   },
   "outputs": [
    {
     "data": {
      "text/plain": [
       "{'item': {'avgFnlPrvsAmt': '996693',\n",
       "  'avgPrvsPrdMcnt': '1',\n",
       "  'avgTotPrvsAmt': '1221287',\n",
       "  'totPrsnCnt': '9',\n",
       "  'whlPymtCtstPrvsRate': '0.02'}}"
      ]
     },
     "execution_count": 19,
     "metadata": {},
     "output_type": "execute_result"
    }
   ],
   "source": [
    "parsing_dict['response']['body']"
   ]
  },
  {
   "cell_type": "code",
   "execution_count": 20,
   "id": "2522ac7a",
   "metadata": {},
   "outputs": [
    {
     "data": {
      "text/plain": [
       "{'avgFnlPrvsAmt': '996693',\n",
       " 'avgPrvsPrdMcnt': '1',\n",
       " 'avgTotPrvsAmt': '1221287',\n",
       " 'totPrsnCnt': '9',\n",
       " 'whlPymtCtstPrvsRate': '0.02'}"
      ]
     },
     "execution_count": 20,
     "metadata": {},
     "output_type": "execute_result"
    }
   ],
   "source": [
    "parsing_dict['response']['body']['item']"
   ]
  }
 ],
 "metadata": {
  "kernelspec": {
   "display_name": "ex_kernel",
   "language": "python",
   "name": "ex"
  },
  "language_info": {
   "codemirror_mode": {
    "name": "ipython",
    "version": 3
   },
   "file_extension": ".py",
   "mimetype": "text/x-python",
   "name": "python",
   "nbconvert_exporter": "python",
   "pygments_lexer": "ipython3",
   "version": "3.8.10"
  },
  "toc": {
   "base_numbering": 1,
   "nav_menu": {},
   "number_sections": true,
   "sideBar": true,
   "skip_h1_title": false,
   "title_cell": "Table of Contents",
   "title_sidebar": "Contents",
   "toc_cell": false,
   "toc_position": {},
   "toc_section_display": true,
   "toc_window_display": false
  }
 },
 "nbformat": 4,
 "nbformat_minor": 5
}
