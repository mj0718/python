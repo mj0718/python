{
 "cells": [
  {
   "cell_type": "code",
   "execution_count": 1,
   "id": "a49a4194",
   "metadata": {},
   "outputs": [],
   "source": [
    "import pandas as pd\n",
    "import matplotlib.pyplot as plt\n",
    "import seaborn as sns"
   ]
  },
  {
   "cell_type": "markdown",
   "id": "a0875364",
   "metadata": {},
   "source": [
    "## 파일 읽어오기"
   ]
  },
  {
   "cell_type": "code",
   "execution_count": 2,
   "id": "49dd1b5d",
   "metadata": {},
   "outputs": [
    {
     "data": {
      "text/html": [
       "<div>\n",
       "<style scoped>\n",
       "    .dataframe tbody tr th:only-of-type {\n",
       "        vertical-align: middle;\n",
       "    }\n",
       "\n",
       "    .dataframe tbody tr th {\n",
       "        vertical-align: top;\n",
       "    }\n",
       "\n",
       "    .dataframe thead th {\n",
       "        text-align: right;\n",
       "    }\n",
       "</style>\n",
       "<table border=\"1\" class=\"dataframe\">\n",
       "  <thead>\n",
       "    <tr style=\"text-align: right;\">\n",
       "      <th></th>\n",
       "      <th>기준일</th>\n",
       "      <th>확진자수</th>\n",
       "      <th>누적확진자수</th>\n",
       "      <th>사망자수</th>\n",
       "      <th>누적사망자수</th>\n",
       "      <th>누적의심신고검사자수</th>\n",
       "    </tr>\n",
       "  </thead>\n",
       "  <tbody>\n",
       "    <tr>\n",
       "      <th>0</th>\n",
       "      <td>2020-01-20</td>\n",
       "      <td>1</td>\n",
       "      <td>1</td>\n",
       "      <td>0</td>\n",
       "      <td>0</td>\n",
       "      <td>4</td>\n",
       "    </tr>\n",
       "    <tr>\n",
       "      <th>1</th>\n",
       "      <td>2020-01-21</td>\n",
       "      <td>0</td>\n",
       "      <td>1</td>\n",
       "      <td>0</td>\n",
       "      <td>0</td>\n",
       "      <td>15</td>\n",
       "    </tr>\n",
       "  </tbody>\n",
       "</table>\n",
       "</div>"
      ],
      "text/plain": [
       "          기준일  확진자수  누적확진자수  사망자수  누적사망자수  누적의심신고검사자수\n",
       "0  2020-01-20     1       1     0       0           4\n",
       "1  2020-01-21     0       1     0       0          15"
      ]
     },
     "execution_count": 2,
     "metadata": {},
     "output_type": "execute_result"
    }
   ],
   "source": [
    "corona_table = pd.read_csv('corona_table.csv')\n",
    "corona_table[:2]"
   ]
  },
  {
   "cell_type": "code",
   "execution_count": 3,
   "id": "7cf5895e",
   "metadata": {
    "scrolled": true
   },
   "outputs": [
    {
     "name": "stdout",
     "output_type": "stream",
     "text": [
      "<class 'pandas.core.frame.DataFrame'>\n",
      "RangeIndex: 742 entries, 0 to 741\n",
      "Data columns (total 6 columns):\n",
      " #   Column      Non-Null Count  Dtype \n",
      "---  ------      --------------  ----- \n",
      " 0   기준일         742 non-null    object\n",
      " 1   확진자수        742 non-null    int64 \n",
      " 2   누적확진자수      742 non-null    int64 \n",
      " 3   사망자수        742 non-null    int64 \n",
      " 4   누적사망자수      742 non-null    int64 \n",
      " 5   누적의심신고검사자수  742 non-null    int64 \n",
      "dtypes: int64(5), object(1)\n",
      "memory usage: 34.9+ KB\n"
     ]
    }
   ],
   "source": [
    "corona_table.info()"
   ]
  },
  {
   "cell_type": "code",
   "execution_count": 4,
   "id": "fdc51fb5",
   "metadata": {
    "scrolled": true
   },
   "outputs": [
    {
     "data": {
      "text/plain": [
       "기준일           datetime64[ns]\n",
       "확진자수                   int64\n",
       "누적확진자수                 int64\n",
       "사망자수                   int64\n",
       "누적사망자수                 int64\n",
       "누적의심신고검사자수             int64\n",
       "dtype: object"
      ]
     },
     "execution_count": 4,
     "metadata": {},
     "output_type": "execute_result"
    }
   ],
   "source": [
    "# 기준일 타입 변경\n",
    "corona_table.기준일 = pd.to_datetime(corona_table.기준일)\n",
    "corona_table.dtypes"
   ]
  },
  {
   "cell_type": "code",
   "execution_count": 5,
   "id": "d0fcc925",
   "metadata": {},
   "outputs": [
    {
     "data": {
      "text/html": [
       "<div>\n",
       "<style scoped>\n",
       "    .dataframe tbody tr th:only-of-type {\n",
       "        vertical-align: middle;\n",
       "    }\n",
       "\n",
       "    .dataframe tbody tr th {\n",
       "        vertical-align: top;\n",
       "    }\n",
       "\n",
       "    .dataframe thead th {\n",
       "        text-align: right;\n",
       "    }\n",
       "</style>\n",
       "<table border=\"1\" class=\"dataframe\">\n",
       "  <thead>\n",
       "    <tr style=\"text-align: right;\">\n",
       "      <th></th>\n",
       "      <th>기준일</th>\n",
       "      <th>확진자수</th>\n",
       "      <th>누적확진자수</th>\n",
       "      <th>사망자수</th>\n",
       "      <th>누적사망자수</th>\n",
       "      <th>누적의심신고검사자수</th>\n",
       "    </tr>\n",
       "  </thead>\n",
       "  <tbody>\n",
       "    <tr>\n",
       "      <th>740</th>\n",
       "      <td>2022-01-30</td>\n",
       "      <td>17522</td>\n",
       "      <td>828611</td>\n",
       "      <td>20</td>\n",
       "      <td>6732</td>\n",
       "      <td>21448119</td>\n",
       "    </tr>\n",
       "    <tr>\n",
       "      <th>741</th>\n",
       "      <td>2022-01-31</td>\n",
       "      <td>17077</td>\n",
       "      <td>845688</td>\n",
       "      <td>23</td>\n",
       "      <td>6755</td>\n",
       "      <td>21518073</td>\n",
       "    </tr>\n",
       "  </tbody>\n",
       "</table>\n",
       "</div>"
      ],
      "text/plain": [
       "           기준일   확진자수  누적확진자수  사망자수  누적사망자수  누적의심신고검사자수\n",
       "740 2022-01-30  17522  828611    20    6732    21448119\n",
       "741 2022-01-31  17077  845688    23    6755    21518073"
      ]
     },
     "execution_count": 5,
     "metadata": {},
     "output_type": "execute_result"
    }
   ],
   "source": [
    "corona_table[-2:]"
   ]
  },
  {
   "cell_type": "code",
   "execution_count": 6,
   "id": "405e18f4",
   "metadata": {},
   "outputs": [
    {
     "data": {
      "text/plain": [
       "845688"
      ]
     },
     "execution_count": 6,
     "metadata": {},
     "output_type": "execute_result"
    }
   ],
   "source": [
    "corona_table.확진자수.sum()"
   ]
  },
  {
   "cell_type": "code",
   "execution_count": 7,
   "id": "f41a2268",
   "metadata": {},
   "outputs": [
    {
     "data": {
      "text/plain": [
       "6755"
      ]
     },
     "execution_count": 7,
     "metadata": {},
     "output_type": "execute_result"
    }
   ],
   "source": [
    "corona_table.사망자수.sum()"
   ]
  },
  {
   "cell_type": "code",
   "execution_count": 8,
   "id": "33caebb6",
   "metadata": {},
   "outputs": [
    {
     "data": {
      "text/html": [
       "<div>\n",
       "<style scoped>\n",
       "    .dataframe tbody tr th:only-of-type {\n",
       "        vertical-align: middle;\n",
       "    }\n",
       "\n",
       "    .dataframe tbody tr th {\n",
       "        vertical-align: top;\n",
       "    }\n",
       "\n",
       "    .dataframe thead th {\n",
       "        text-align: right;\n",
       "    }\n",
       "</style>\n",
       "<table border=\"1\" class=\"dataframe\">\n",
       "  <thead>\n",
       "    <tr style=\"text-align: right;\">\n",
       "      <th></th>\n",
       "      <th>기준일</th>\n",
       "      <th>확진자수</th>\n",
       "      <th>누적확진자수</th>\n",
       "      <th>사망자수</th>\n",
       "      <th>누적사망자수</th>\n",
       "      <th>누적의심신고검사자수</th>\n",
       "    </tr>\n",
       "  </thead>\n",
       "  <tbody>\n",
       "    <tr>\n",
       "      <th>740</th>\n",
       "      <td>2022-01-30</td>\n",
       "      <td>17522</td>\n",
       "      <td>828611</td>\n",
       "      <td>20</td>\n",
       "      <td>6732</td>\n",
       "      <td>21448119</td>\n",
       "    </tr>\n",
       "  </tbody>\n",
       "</table>\n",
       "</div>"
      ],
      "text/plain": [
       "           기준일   확진자수  누적확진자수  사망자수  누적사망자수  누적의심신고검사자수\n",
       "740 2022-01-30  17522  828611    20    6732    21448119"
      ]
     },
     "execution_count": 8,
     "metadata": {},
     "output_type": "execute_result"
    }
   ],
   "source": [
    "# 확진자가 가장 많은 날 : 행 추출\n",
    "corona_table.sort_values(by='확진자수', ascending=False)[:1]"
   ]
  },
  {
   "cell_type": "code",
   "execution_count": 9,
   "id": "9a758bbf",
   "metadata": {},
   "outputs": [
    {
     "data": {
      "text/html": [
       "<div>\n",
       "<style scoped>\n",
       "    .dataframe tbody tr th:only-of-type {\n",
       "        vertical-align: middle;\n",
       "    }\n",
       "\n",
       "    .dataframe tbody tr th {\n",
       "        vertical-align: top;\n",
       "    }\n",
       "\n",
       "    .dataframe thead th {\n",
       "        text-align: right;\n",
       "    }\n",
       "</style>\n",
       "<table border=\"1\" class=\"dataframe\">\n",
       "  <thead>\n",
       "    <tr style=\"text-align: right;\">\n",
       "      <th></th>\n",
       "      <th>기준일</th>\n",
       "      <th>확진자수</th>\n",
       "      <th>누적확진자수</th>\n",
       "      <th>사망자수</th>\n",
       "      <th>누적사망자수</th>\n",
       "      <th>누적의심신고검사자수</th>\n",
       "    </tr>\n",
       "  </thead>\n",
       "  <tbody>\n",
       "    <tr>\n",
       "      <th>702</th>\n",
       "      <td>2021-12-23</td>\n",
       "      <td>6914</td>\n",
       "      <td>589961</td>\n",
       "      <td>109</td>\n",
       "      <td>5015</td>\n",
       "      <td>18859285</td>\n",
       "    </tr>\n",
       "  </tbody>\n",
       "</table>\n",
       "</div>"
      ],
      "text/plain": [
       "           기준일  확진자수  누적확진자수  사망자수  누적사망자수  누적의심신고검사자수\n",
       "702 2021-12-23  6914  589961   109    5015    18859285"
      ]
     },
     "execution_count": 9,
     "metadata": {},
     "output_type": "execute_result"
    }
   ],
   "source": [
    "# 사망자가 가장 많은 날 : 행 추출\n",
    "corona_table.sort_values(by='사망자수', ascending=False)[:1]"
   ]
  },
  {
   "cell_type": "markdown",
   "id": "d87f8a0e",
   "metadata": {},
   "source": [
    "2020년 1월 20일 ~ 2022년 1월 31일 기간 중\n",
    "확진자 수가 가장 높았던 날은 2022년 1월 30일로 17522명이었고, \n",
    "사망자 수가 가장 높았던 날은 2021년 12월 23일로 109명이었다."
   ]
  },
  {
   "cell_type": "code",
   "execution_count": 10,
   "id": "2e5d33e5",
   "metadata": {},
   "outputs": [
    {
     "data": {
      "image/png": "[encoded data removed]",
      "text/plain": [
       "<Figure size 1000x500 with 1 Axes>"
      ]
     },
     "metadata": {},
     "output_type": "display_data"
    }
   ],
   "source": [
    "# 일별 확진자 수\n",
    "plt.rc('font', family='D2coding')\n",
    "corona_table.plot(x='기준일', \n",
    "                  y='확진자수', \n",
    "                  figsize=(10, 5), \n",
    "                  legend=False, \n",
    "                  rot=0, \n",
    "                  title='날짜별 확진자 수',\n",
    "                  xlabel='날짜',\n",
    "                  ylabel='확진자 수 (단위 : 명)',\n",
    "                  color='olive',\n",
    "                 )\n",
    "# x축 눈금 레이블 : 가운데 정렬\n",
    "# ha = ['left', 'center', 'right']\n",
    "plt.xticks(ha='center')\n",
    "plt.show()"
   ]
  },
  {
   "cell_type": "code",
   "execution_count": 11,
   "id": "08621189",
   "metadata": {},
   "outputs": [
    {
     "data": {
      "text/plain": [
       "<Axes: xlabel='기준일', ylabel='확진자수'>"
      ]
     },
     "execution_count": 11,
     "metadata": {},
     "output_type": "execute_result"
    },
    {
     "data": {
      "image/png": "[encoded data removed]",
      "text/plain": [
       "<Figure size 640x480 with 1 Axes>"
      ]
     },
     "metadata": {},
     "output_type": "display_data"
    }
   ],
   "source": [
    "sns.lineplot(data=corona_table, \n",
    "             x='기준일', \n",
    "             y='확진자수'\n",
    "            )"
   ]
  },
  {
   "cell_type": "code",
   "execution_count": 12,
   "id": "10539c0f",
   "metadata": {},
   "outputs": [
    {
     "data": {
      "image/png": "[encoded data removed]",
      "text/plain": [
       "<Figure size 1000x500 with 1 Axes>"
      ]
     },
     "metadata": {},
     "output_type": "display_data"
    }
   ],
   "source": [
    "# 날짜별 사망자 수 \n",
    "corona_table.plot(x='기준일', \n",
    "                  y='사망자수',\n",
    "                  rot=0,\n",
    "                  figsize=(10, 5),\n",
    "                  legend=False,\n",
    "                  title='날짜별 사망자 수',\n",
    "                  xlabel='날짜',\n",
    "                  ylabel='사망자 수 (단위 : 명)',\n",
    "                  color='coral',\n",
    "                  alpha=0.6\n",
    "                 )\n",
    "plt.xticks(ha='center')\n",
    "plt.show()"
   ]
  },
  {
   "cell_type": "code",
   "execution_count": 13,
   "id": "90b51500",
   "metadata": {},
   "outputs": [
    {
     "data": {
      "text/plain": [
       "<Axes: xlabel='기준일', ylabel='사망자수'>"
      ]
     },
     "execution_count": 13,
     "metadata": {},
     "output_type": "execute_result"
    },
    {
     "data": {
      "image/png": "[encoded data removed]",
      "text/plain": [
       "<Figure size 640x480 with 1 Axes>"
      ]
     },
     "metadata": {},
     "output_type": "display_data"
    }
   ],
   "source": [
    "sns.lineplot(data=corona_table, x='기준일', y='사망자수')"
   ]
  },
  {
   "cell_type": "code",
   "execution_count": 14,
   "id": "5d58a269",
   "metadata": {},
   "outputs": [
    {
     "data": {
      "text/plain": [
       "<Axes: title={'center': '날짜별 확진자 수와 사망자 수'}, xlabel='날짜'>"
      ]
     },
     "execution_count": 14,
     "metadata": {},
     "output_type": "execute_result"
    },
    {
     "data": {
      "image/png": "[encoded data removed]",
      "text/plain": [
       "<Figure size 1000x500 with 2 Axes>"
      ]
     },
     "metadata": {},
     "output_type": "display_data"
    }
   ],
   "source": [
    "# 날짜별 확진자 수와 사망자 수\n",
    "corona_table[['기준일', '확진자수', '사망자수']].plot(x='기준일',\n",
    "                                           figsize=(10, 5), \n",
    "                                           xlabel='날짜',\n",
    "                                           color=['olive', 'coral'],\n",
    "                                           secondary_y='사망자수',\n",
    "                                           alpha=0.7,\n",
    "                                           title='날짜별 확진자 수와 사망자 수',\n",
    "                                          )"
   ]
  },
  {
   "cell_type": "code",
   "execution_count": 15,
   "id": "02f166dc",
   "metadata": {
    "scrolled": true
   },
   "outputs": [
    {
     "data": {
      "text/plain": [
       "0      2020\n",
       "1      2020\n",
       "2      2020\n",
       "3      2020\n",
       "4      2020\n",
       "       ... \n",
       "737    2022\n",
       "738    2022\n",
       "739    2022\n",
       "740    2022\n",
       "741    2022\n",
       "Name: 기준일, Length: 742, dtype: int32"
      ]
     },
     "execution_count": 15,
     "metadata": {},
     "output_type": "execute_result"
    }
   ],
   "source": [
    "# 월별 확진자 수와 사망자 수\n",
    "corona_table.기준일.dt.year"
   ]
  },
  {
   "cell_type": "code",
   "execution_count": 19,
   "id": "71f17938",
   "metadata": {},
   "outputs": [],
   "source": [
    "# 연도별 그룹화\n",
    "g_y = corona_table.groupby(corona_table.기준일.dt.year)"
   ]
  },
  {
   "cell_type": "code",
   "execution_count": 20,
   "id": "245997af",
   "metadata": {},
   "outputs": [
    {
     "data": {
      "text/html": [
       "<div>\n",
       "<style scoped>\n",
       "    .dataframe tbody tr th:only-of-type {\n",
       "        vertical-align: middle;\n",
       "    }\n",
       "\n",
       "    .dataframe tbody tr th {\n",
       "        vertical-align: top;\n",
       "    }\n",
       "\n",
       "    .dataframe thead th {\n",
       "        text-align: right;\n",
       "    }\n",
       "</style>\n",
       "<table border=\"1\" class=\"dataframe\">\n",
       "  <thead>\n",
       "    <tr style=\"text-align: right;\">\n",
       "      <th></th>\n",
       "      <th>기준일</th>\n",
       "      <th>확진자수</th>\n",
       "      <th>누적확진자수</th>\n",
       "      <th>사망자수</th>\n",
       "      <th>누적사망자수</th>\n",
       "      <th>누적의심신고검사자수</th>\n",
       "    </tr>\n",
       "  </thead>\n",
       "  <tbody>\n",
       "    <tr>\n",
       "      <th>0</th>\n",
       "      <td>2020-01-20</td>\n",
       "      <td>1</td>\n",
       "      <td>1</td>\n",
       "      <td>0</td>\n",
       "      <td>0</td>\n",
       "      <td>4</td>\n",
       "    </tr>\n",
       "    <tr>\n",
       "      <th>1</th>\n",
       "      <td>2020-01-21</td>\n",
       "      <td>0</td>\n",
       "      <td>1</td>\n",
       "      <td>0</td>\n",
       "      <td>0</td>\n",
       "      <td>15</td>\n",
       "    </tr>\n",
       "    <tr>\n",
       "      <th>2</th>\n",
       "      <td>2020-01-22</td>\n",
       "      <td>0</td>\n",
       "      <td>1</td>\n",
       "      <td>0</td>\n",
       "      <td>0</td>\n",
       "      <td>21</td>\n",
       "    </tr>\n",
       "    <tr>\n",
       "      <th>3</th>\n",
       "      <td>2020-01-23</td>\n",
       "      <td>0</td>\n",
       "      <td>1</td>\n",
       "      <td>0</td>\n",
       "      <td>0</td>\n",
       "      <td>25</td>\n",
       "    </tr>\n",
       "    <tr>\n",
       "      <th>4</th>\n",
       "      <td>2020-01-24</td>\n",
       "      <td>1</td>\n",
       "      <td>2</td>\n",
       "      <td>0</td>\n",
       "      <td>0</td>\n",
       "      <td>29</td>\n",
       "    </tr>\n",
       "    <tr>\n",
       "      <th>...</th>\n",
       "      <td>...</td>\n",
       "      <td>...</td>\n",
       "      <td>...</td>\n",
       "      <td>...</td>\n",
       "      <td>...</td>\n",
       "      <td>...</td>\n",
       "    </tr>\n",
       "    <tr>\n",
       "      <th>341</th>\n",
       "      <td>2020-12-27</td>\n",
       "      <td>970</td>\n",
       "      <td>56859</td>\n",
       "      <td>15</td>\n",
       "      <td>808</td>\n",
       "      <td>4006406</td>\n",
       "    </tr>\n",
       "    <tr>\n",
       "      <th>342</th>\n",
       "      <td>2020-12-28</td>\n",
       "      <td>806</td>\n",
       "      <td>57665</td>\n",
       "      <td>11</td>\n",
       "      <td>819</td>\n",
       "      <td>4038300</td>\n",
       "    </tr>\n",
       "    <tr>\n",
       "      <th>343</th>\n",
       "      <td>2020-12-29</td>\n",
       "      <td>1044</td>\n",
       "      <td>58709</td>\n",
       "      <td>40</td>\n",
       "      <td>859</td>\n",
       "      <td>4098173</td>\n",
       "    </tr>\n",
       "    <tr>\n",
       "      <th>344</th>\n",
       "      <td>2020-12-30</td>\n",
       "      <td>1050</td>\n",
       "      <td>59759</td>\n",
       "      <td>20</td>\n",
       "      <td>879</td>\n",
       "      <td>4159516</td>\n",
       "    </tr>\n",
       "    <tr>\n",
       "      <th>345</th>\n",
       "      <td>2020-12-31</td>\n",
       "      <td>967</td>\n",
       "      <td>60726</td>\n",
       "      <td>21</td>\n",
       "      <td>900</td>\n",
       "      <td>4213874</td>\n",
       "    </tr>\n",
       "  </tbody>\n",
       "</table>\n",
       "<p>346 rows × 6 columns</p>\n",
       "</div>"
      ],
      "text/plain": [
       "           기준일  확진자수  누적확진자수  사망자수  누적사망자수  누적의심신고검사자수\n",
       "0   2020-01-20     1       1     0       0           4\n",
       "1   2020-01-21     0       1     0       0          15\n",
       "2   2020-01-22     0       1     0       0          21\n",
       "3   2020-01-23     0       1     0       0          25\n",
       "4   2020-01-24     1       2     0       0          29\n",
       "..         ...   ...     ...   ...     ...         ...\n",
       "341 2020-12-27   970   56859    15     808     4006406\n",
       "342 2020-12-28   806   57665    11     819     4038300\n",
       "343 2020-12-29  1044   58709    40     859     4098173\n",
       "344 2020-12-30  1050   59759    20     879     4159516\n",
       "345 2020-12-31   967   60726    21     900     4213874\n",
       "\n",
       "[346 rows x 6 columns]"
      ]
     },
     "execution_count": 20,
     "metadata": {},
     "output_type": "execute_result"
    }
   ],
   "source": [
    "g_y.get_group(2020)"
   ]
  },
  {
   "cell_type": "code",
   "execution_count": 25,
   "id": "b9d6b05a",
   "metadata": {},
   "outputs": [
    {
     "data": {
      "text/html": [
       "<div>\n",
       "<style scoped>\n",
       "    .dataframe tbody tr th:only-of-type {\n",
       "        vertical-align: middle;\n",
       "    }\n",
       "\n",
       "    .dataframe tbody tr th {\n",
       "        vertical-align: top;\n",
       "    }\n",
       "\n",
       "    .dataframe thead th {\n",
       "        text-align: right;\n",
       "    }\n",
       "</style>\n",
       "<table border=\"1\" class=\"dataframe\">\n",
       "  <thead>\n",
       "    <tr style=\"text-align: right;\">\n",
       "      <th></th>\n",
       "      <th>확진자수</th>\n",
       "      <th>누적확진자수</th>\n",
       "      <th>사망자수</th>\n",
       "      <th>누적사망자수</th>\n",
       "      <th>누적의심신고검사자수</th>\n",
       "    </tr>\n",
       "    <tr>\n",
       "      <th>기준일</th>\n",
       "      <th></th>\n",
       "      <th></th>\n",
       "      <th></th>\n",
       "      <th></th>\n",
       "      <th></th>\n",
       "    </tr>\n",
       "  </thead>\n",
       "  <tbody>\n",
       "    <tr>\n",
       "      <th>2020</th>\n",
       "      <td>60726</td>\n",
       "      <td>5949023</td>\n",
       "      <td>900</td>\n",
       "      <td>103691</td>\n",
       "      <td>513952592</td>\n",
       "    </tr>\n",
       "    <tr>\n",
       "      <th>2021</th>\n",
       "      <td>570102</td>\n",
       "      <td>79737991</td>\n",
       "      <td>4663</td>\n",
       "      <td>824940</td>\n",
       "      <td>4074074842</td>\n",
       "    </tr>\n",
       "    <tr>\n",
       "      <th>2022</th>\n",
       "      <td>214860</td>\n",
       "      <td>21908081</td>\n",
       "      <td>1192</td>\n",
       "      <td>194438</td>\n",
       "      <td>634968707</td>\n",
       "    </tr>\n",
       "  </tbody>\n",
       "</table>\n",
       "</div>"
      ],
      "text/plain": [
       "        확진자수    누적확진자수  사망자수  누적사망자수  누적의심신고검사자수\n",
       "기준일                                             \n",
       "2020   60726   5949023   900  103691   513952592\n",
       "2021  570102  79737991  4663  824940  4074074842\n",
       "2022  214860  21908081  1192  194438   634968707"
      ]
     },
     "execution_count": 25,
     "metadata": {},
     "output_type": "execute_result"
    }
   ],
   "source": [
    "# 연도별 합\n",
    "g_y.sum(numeric_only=True)"
   ]
  },
  {
   "cell_type": "code",
   "execution_count": 28,
   "id": "eeaaecd2",
   "metadata": {},
   "outputs": [],
   "source": [
    "# 월별 합\n",
    "g_month = corona_table.groupby(corona_table.기준일.dt.month)"
   ]
  },
  {
   "cell_type": "code",
   "execution_count": 30,
   "id": "a6c00136",
   "metadata": {
    "scrolled": true
   },
   "outputs": [
    {
     "data": {
      "text/html": [
       "<div>\n",
       "<style scoped>\n",
       "    .dataframe tbody tr th:only-of-type {\n",
       "        vertical-align: middle;\n",
       "    }\n",
       "\n",
       "    .dataframe tbody tr th {\n",
       "        vertical-align: top;\n",
       "    }\n",
       "\n",
       "    .dataframe thead th {\n",
       "        text-align: right;\n",
       "    }\n",
       "</style>\n",
       "<table border=\"1\" class=\"dataframe\">\n",
       "  <thead>\n",
       "    <tr style=\"text-align: right;\">\n",
       "      <th></th>\n",
       "      <th>기준일</th>\n",
       "      <th>확진자수</th>\n",
       "      <th>누적확진자수</th>\n",
       "      <th>사망자수</th>\n",
       "      <th>누적사망자수</th>\n",
       "      <th>누적의심신고검사자수</th>\n",
       "    </tr>\n",
       "  </thead>\n",
       "  <tbody>\n",
       "    <tr>\n",
       "      <th>0</th>\n",
       "      <td>2020-01-20</td>\n",
       "      <td>1</td>\n",
       "      <td>1</td>\n",
       "      <td>0</td>\n",
       "      <td>0</td>\n",
       "      <td>4</td>\n",
       "    </tr>\n",
       "    <tr>\n",
       "      <th>1</th>\n",
       "      <td>2020-01-21</td>\n",
       "      <td>0</td>\n",
       "      <td>1</td>\n",
       "      <td>0</td>\n",
       "      <td>0</td>\n",
       "      <td>15</td>\n",
       "    </tr>\n",
       "    <tr>\n",
       "      <th>2</th>\n",
       "      <td>2020-01-22</td>\n",
       "      <td>0</td>\n",
       "      <td>1</td>\n",
       "      <td>0</td>\n",
       "      <td>0</td>\n",
       "      <td>21</td>\n",
       "    </tr>\n",
       "    <tr>\n",
       "      <th>3</th>\n",
       "      <td>2020-01-23</td>\n",
       "      <td>0</td>\n",
       "      <td>1</td>\n",
       "      <td>0</td>\n",
       "      <td>0</td>\n",
       "      <td>25</td>\n",
       "    </tr>\n",
       "    <tr>\n",
       "      <th>4</th>\n",
       "      <td>2020-01-24</td>\n",
       "      <td>1</td>\n",
       "      <td>2</td>\n",
       "      <td>0</td>\n",
       "      <td>0</td>\n",
       "      <td>29</td>\n",
       "    </tr>\n",
       "    <tr>\n",
       "      <th>...</th>\n",
       "      <td>...</td>\n",
       "      <td>...</td>\n",
       "      <td>...</td>\n",
       "      <td>...</td>\n",
       "      <td>...</td>\n",
       "      <td>...</td>\n",
       "    </tr>\n",
       "    <tr>\n",
       "      <th>737</th>\n",
       "      <td>2022-01-27</td>\n",
       "      <td>14514</td>\n",
       "      <td>777483</td>\n",
       "      <td>34</td>\n",
       "      <td>6654</td>\n",
       "      <td>21196354</td>\n",
       "    </tr>\n",
       "    <tr>\n",
       "      <th>738</th>\n",
       "      <td>2022-01-28</td>\n",
       "      <td>16093</td>\n",
       "      <td>793576</td>\n",
       "      <td>24</td>\n",
       "      <td>6678</td>\n",
       "      <td>21269304</td>\n",
       "    </tr>\n",
       "    <tr>\n",
       "      <th>739</th>\n",
       "      <td>2022-01-29</td>\n",
       "      <td>17513</td>\n",
       "      <td>811089</td>\n",
       "      <td>34</td>\n",
       "      <td>6712</td>\n",
       "      <td>21377393</td>\n",
       "    </tr>\n",
       "    <tr>\n",
       "      <th>740</th>\n",
       "      <td>2022-01-30</td>\n",
       "      <td>17522</td>\n",
       "      <td>828611</td>\n",
       "      <td>20</td>\n",
       "      <td>6732</td>\n",
       "      <td>21448119</td>\n",
       "    </tr>\n",
       "    <tr>\n",
       "      <th>741</th>\n",
       "      <td>2022-01-31</td>\n",
       "      <td>17077</td>\n",
       "      <td>845688</td>\n",
       "      <td>23</td>\n",
       "      <td>6755</td>\n",
       "      <td>21518073</td>\n",
       "    </tr>\n",
       "  </tbody>\n",
       "</table>\n",
       "<p>74 rows × 6 columns</p>\n",
       "</div>"
      ],
      "text/plain": [
       "           기준일   확진자수  누적확진자수  사망자수  누적사망자수  누적의심신고검사자수\n",
       "0   2020-01-20      1       1     0       0           4\n",
       "1   2020-01-21      0       1     0       0          15\n",
       "2   2020-01-22      0       1     0       0          21\n",
       "3   2020-01-23      0       1     0       0          25\n",
       "4   2020-01-24      1       2     0       0          29\n",
       "..         ...    ...     ...   ...     ...         ...\n",
       "737 2022-01-27  14514  777483    34    6654    21196354\n",
       "738 2022-01-28  16093  793576    24    6678    21269304\n",
       "739 2022-01-29  17513  811089    34    6712    21377393\n",
       "740 2022-01-30  17522  828611    20    6732    21448119\n",
       "741 2022-01-31  17077  845688    23    6755    21518073\n",
       "\n",
       "[74 rows x 6 columns]"
      ]
     },
     "execution_count": 30,
     "metadata": {},
     "output_type": "execute_result"
    }
   ],
   "source": [
    "g_month.get_group(1)"
   ]
  },
  {
   "cell_type": "code",
   "execution_count": 31,
   "id": "bd45b83a",
   "metadata": {},
   "outputs": [
    {
     "data": {
      "text/html": [
       "<div>\n",
       "<style scoped>\n",
       "    .dataframe tbody tr th:only-of-type {\n",
       "        vertical-align: middle;\n",
       "    }\n",
       "\n",
       "    .dataframe tbody tr th {\n",
       "        vertical-align: top;\n",
       "    }\n",
       "\n",
       "    .dataframe thead th {\n",
       "        text-align: right;\n",
       "    }\n",
       "</style>\n",
       "<table border=\"1\" class=\"dataframe\">\n",
       "  <thead>\n",
       "    <tr style=\"text-align: right;\">\n",
       "      <th></th>\n",
       "      <th>확진자수</th>\n",
       "      <th>누적확진자수</th>\n",
       "      <th>사망자수</th>\n",
       "      <th>누적사망자수</th>\n",
       "      <th>누적의심신고검사자수</th>\n",
       "    </tr>\n",
       "    <tr>\n",
       "      <th>기준일</th>\n",
       "      <th></th>\n",
       "      <th></th>\n",
       "      <th></th>\n",
       "      <th></th>\n",
       "      <th></th>\n",
       "    </tr>\n",
       "  </thead>\n",
       "  <tbody>\n",
       "    <tr>\n",
       "      <th>1</th>\n",
       "      <td>232342</td>\n",
       "      <td>24111724</td>\n",
       "      <td>1712</td>\n",
       "      <td>231918</td>\n",
       "      <td>789492003</td>\n",
       "    </tr>\n",
       "    <tr>\n",
       "      <th>2</th>\n",
       "      <td>14387</td>\n",
       "      <td>2363282</td>\n",
       "      <td>199</td>\n",
       "      <td>42577</td>\n",
       "      <td>173354766</td>\n",
       "    </tr>\n",
       "    <tr>\n",
       "      <th>3</th>\n",
       "      <td>20270</td>\n",
       "      <td>3231889</td>\n",
       "      <td>274</td>\n",
       "      <td>54478</td>\n",
       "      <td>230260588</td>\n",
       "    </tr>\n",
       "    <tr>\n",
       "      <th>4</th>\n",
       "      <td>19906</td>\n",
       "      <td>3691377</td>\n",
       "      <td>182</td>\n",
       "      <td>60052</td>\n",
       "      <td>264839419</td>\n",
       "    </tr>\n",
       "    <tr>\n",
       "      <th>5</th>\n",
       "      <td>19034</td>\n",
       "      <td>4409974</td>\n",
       "      <td>154</td>\n",
       "      <td>66656</td>\n",
       "      <td>311421134</td>\n",
       "    </tr>\n",
       "    <tr>\n",
       "      <th>6</th>\n",
       "      <td>17954</td>\n",
       "      <td>4832380</td>\n",
       "      <td>71</td>\n",
       "      <td>68059</td>\n",
       "      <td>339661053</td>\n",
       "    </tr>\n",
       "    <tr>\n",
       "      <th>7</th>\n",
       "      <td>42880</td>\n",
       "      <td>5874385</td>\n",
       "      <td>96</td>\n",
       "      <td>72684</td>\n",
       "      <td>389072675</td>\n",
       "    </tr>\n",
       "    <tr>\n",
       "      <th>8</th>\n",
       "      <td>58720</td>\n",
       "      <td>7486381</td>\n",
       "      <td>213</td>\n",
       "      <td>77036</td>\n",
       "      <td>437483004</td>\n",
       "    </tr>\n",
       "    <tr>\n",
       "      <th>9</th>\n",
       "      <td>63728</td>\n",
       "      <td>9070927</td>\n",
       "      <td>285</td>\n",
       "      <td>82474</td>\n",
       "      <td>480489695</td>\n",
       "    </tr>\n",
       "    <tr>\n",
       "      <th>10</th>\n",
       "      <td>56121</td>\n",
       "      <td>11311118</td>\n",
       "      <td>419</td>\n",
       "      <td>95966</td>\n",
       "      <td>547209331</td>\n",
       "    </tr>\n",
       "    <tr>\n",
       "      <th>11</th>\n",
       "      <td>90213</td>\n",
       "      <td>12947638</td>\n",
       "      <td>837</td>\n",
       "      <td>109885</td>\n",
       "      <td>580522221</td>\n",
       "    </tr>\n",
       "    <tr>\n",
       "      <th>12</th>\n",
       "      <td>210133</td>\n",
       "      <td>18264020</td>\n",
       "      <td>2313</td>\n",
       "      <td>161284</td>\n",
       "      <td>679190252</td>\n",
       "    </tr>\n",
       "  </tbody>\n",
       "</table>\n",
       "</div>"
      ],
      "text/plain": [
       "       확진자수    누적확진자수  사망자수  누적사망자수  누적의심신고검사자수\n",
       "기준일                                            \n",
       "1    232342  24111724  1712  231918   789492003\n",
       "2     14387   2363282   199   42577   173354766\n",
       "3     20270   3231889   274   54478   230260588\n",
       "4     19906   3691377   182   60052   264839419\n",
       "5     19034   4409974   154   66656   311421134\n",
       "6     17954   4832380    71   68059   339661053\n",
       "7     42880   5874385    96   72684   389072675\n",
       "8     58720   7486381   213   77036   437483004\n",
       "9     63728   9070927   285   82474   480489695\n",
       "10    56121  11311118   419   95966   547209331\n",
       "11    90213  12947638   837  109885   580522221\n",
       "12   210133  18264020  2313  161284   679190252"
      ]
     },
     "execution_count": 31,
     "metadata": {},
     "output_type": "execute_result"
    }
   ],
   "source": [
    "g_month.sum(numeric_only=True)"
   ]
  },
  {
   "cell_type": "code",
   "execution_count": 34,
   "id": "d472d3ad",
   "metadata": {},
   "outputs": [
    {
     "data": {
      "text/html": [
       "<div>\n",
       "<style scoped>\n",
       "    .dataframe tbody tr th:only-of-type {\n",
       "        vertical-align: middle;\n",
       "    }\n",
       "\n",
       "    .dataframe tbody tr th {\n",
       "        vertical-align: top;\n",
       "    }\n",
       "\n",
       "    .dataframe thead th {\n",
       "        text-align: right;\n",
       "    }\n",
       "</style>\n",
       "<table border=\"1\" class=\"dataframe\">\n",
       "  <thead>\n",
       "    <tr style=\"text-align: right;\">\n",
       "      <th></th>\n",
       "      <th>확진자수</th>\n",
       "      <th>누적확진자수</th>\n",
       "      <th>사망자수</th>\n",
       "      <th>누적사망자수</th>\n",
       "      <th>누적의심신고검사자수</th>\n",
       "    </tr>\n",
       "    <tr>\n",
       "      <th>기준일</th>\n",
       "      <th></th>\n",
       "      <th></th>\n",
       "      <th></th>\n",
       "      <th></th>\n",
       "      <th></th>\n",
       "    </tr>\n",
       "  </thead>\n",
       "  <tbody>\n",
       "    <tr>\n",
       "      <th>1</th>\n",
       "      <td>232342</td>\n",
       "      <td>24111724</td>\n",
       "      <td>1712</td>\n",
       "      <td>231918</td>\n",
       "      <td>789492003</td>\n",
       "    </tr>\n",
       "  </tbody>\n",
       "</table>\n",
       "</div>"
      ],
      "text/plain": [
       "       확진자수    누적확진자수  사망자수  누적사망자수  누적의심신고검사자수\n",
       "기준일                                            \n",
       "1    232342  24111724  1712  231918   789492003"
      ]
     },
     "execution_count": 34,
     "metadata": {},
     "output_type": "execute_result"
    }
   ],
   "source": [
    "# 월별 확진자수가 가장 많은 데이터(행)\n",
    "g_month.sum(numeric_only=True).sort_values(by='확진자수', ascending=False)[:1]"
   ]
  },
  {
   "cell_type": "code",
   "execution_count": 60,
   "id": "637a71be",
   "metadata": {},
   "outputs": [
    {
     "data": {
      "text/html": [
       "<div>\n",
       "<style scoped>\n",
       "    .dataframe tbody tr th:only-of-type {\n",
       "        vertical-align: middle;\n",
       "    }\n",
       "\n",
       "    .dataframe tbody tr th {\n",
       "        vertical-align: top;\n",
       "    }\n",
       "\n",
       "    .dataframe thead th {\n",
       "        text-align: right;\n",
       "    }\n",
       "</style>\n",
       "<table border=\"1\" class=\"dataframe\">\n",
       "  <thead>\n",
       "    <tr style=\"text-align: right;\">\n",
       "      <th></th>\n",
       "      <th>확진자수</th>\n",
       "      <th>누적확진자수</th>\n",
       "      <th>사망자수</th>\n",
       "      <th>누적사망자수</th>\n",
       "      <th>누적의심신고검사자수</th>\n",
       "    </tr>\n",
       "    <tr>\n",
       "      <th>기준일</th>\n",
       "      <th></th>\n",
       "      <th></th>\n",
       "      <th></th>\n",
       "      <th></th>\n",
       "      <th></th>\n",
       "    </tr>\n",
       "  </thead>\n",
       "  <tbody>\n",
       "    <tr>\n",
       "      <th>12</th>\n",
       "      <td>210133</td>\n",
       "      <td>18264020</td>\n",
       "      <td>2313</td>\n",
       "      <td>161284</td>\n",
       "      <td>679190252</td>\n",
       "    </tr>\n",
       "  </tbody>\n",
       "</table>\n",
       "</div>"
      ],
      "text/plain": [
       "       확진자수    누적확진자수  사망자수  누적사망자수  누적의심신고검사자수\n",
       "기준일                                            \n",
       "12   210133  18264020  2313  161284   679190252"
      ]
     },
     "execution_count": 60,
     "metadata": {},
     "output_type": "execute_result"
    }
   ],
   "source": [
    "# 월별 사망자수가 가장 많은 데이터(행)\n",
    "g_month.sum(numeric_only=True).sort_values(by='사망자수', ascending=False)[:1]"
   ]
  },
  {
   "cell_type": "code",
   "execution_count": 35,
   "id": "1d758422",
   "metadata": {
    "scrolled": false
   },
   "outputs": [
    {
     "data": {
      "text/plain": [
       "0      2020\n",
       "1      2020\n",
       "2      2020\n",
       "3      2020\n",
       "4      2020\n",
       "       ... \n",
       "737    2022\n",
       "738    2022\n",
       "739    2022\n",
       "740    2022\n",
       "741    2022\n",
       "Name: 기준일, Length: 742, dtype: object"
      ]
     },
     "execution_count": 35,
     "metadata": {},
     "output_type": "execute_result"
    }
   ],
   "source": [
    "corona_table.기준일.dt.strftime('%Y')"
   ]
  },
  {
   "cell_type": "code",
   "execution_count": 39,
   "id": "59dc31e3",
   "metadata": {
    "scrolled": false
   },
   "outputs": [
    {
     "data": {
      "text/plain": [
       "0      20\n",
       "1      20\n",
       "2      20\n",
       "3      20\n",
       "4      20\n",
       "       ..\n",
       "737    22\n",
       "738    22\n",
       "739    22\n",
       "740    22\n",
       "741    22\n",
       "Name: 기준일, Length: 742, dtype: object"
      ]
     },
     "execution_count": 39,
     "metadata": {},
     "output_type": "execute_result"
    }
   ],
   "source": [
    "corona_table.기준일.dt.strftime('%y')"
   ]
  },
  {
   "cell_type": "code",
   "execution_count": 36,
   "id": "9e0bf0fc",
   "metadata": {
    "scrolled": true
   },
   "outputs": [
    {
     "data": {
      "text/plain": [
       "0      01\n",
       "1      01\n",
       "2      01\n",
       "3      01\n",
       "4      01\n",
       "       ..\n",
       "737    01\n",
       "738    01\n",
       "739    01\n",
       "740    01\n",
       "741    01\n",
       "Name: 기준일, Length: 742, dtype: object"
      ]
     },
     "execution_count": 36,
     "metadata": {},
     "output_type": "execute_result"
    }
   ],
   "source": [
    "corona_table.기준일.dt.strftime('%m')"
   ]
  },
  {
   "cell_type": "code",
   "execution_count": 37,
   "id": "b40d9473",
   "metadata": {
    "scrolled": false
   },
   "outputs": [
    {
     "data": {
      "text/plain": [
       "0      20\n",
       "1      21\n",
       "2      22\n",
       "3      23\n",
       "4      24\n",
       "       ..\n",
       "737    27\n",
       "738    28\n",
       "739    29\n",
       "740    30\n",
       "741    31\n",
       "Name: 기준일, Length: 742, dtype: object"
      ]
     },
     "execution_count": 37,
     "metadata": {},
     "output_type": "execute_result"
    }
   ],
   "source": [
    "corona_table.기준일.dt.strftime('%d')"
   ]
  },
  {
   "cell_type": "code",
   "execution_count": 38,
   "id": "8b5a7a54",
   "metadata": {
    "scrolled": false
   },
   "outputs": [
    {
     "data": {
      "text/plain": [
       "0      01/20/20\n",
       "1      01/21/20\n",
       "2      01/22/20\n",
       "3      01/23/20\n",
       "4      01/24/20\n",
       "         ...   \n",
       "737    01/27/22\n",
       "738    01/28/22\n",
       "739    01/29/22\n",
       "740    01/30/22\n",
       "741    01/31/22\n",
       "Name: 기준일, Length: 742, dtype: object"
      ]
     },
     "execution_count": 38,
     "metadata": {},
     "output_type": "execute_result"
    }
   ],
   "source": [
    "corona_table.기준일.dt.strftime('%D')"
   ]
  },
  {
   "cell_type": "markdown",
   "id": "8f918cb0",
   "metadata": {},
   "source": [
    "## 월별 확진자 수와 사망자 수가 높았던 날 (행) 추출"
   ]
  },
  {
   "cell_type": "code",
   "execution_count": 44,
   "id": "708df6e1",
   "metadata": {},
   "outputs": [],
   "source": [
    "# 년-월 기준으로 사망자 수가 가장 높았던 년-월 추출\n",
    "g_year_month = corona_table.groupby(corona_table.기준일.dt.strftime('%y-%m'))"
   ]
  },
  {
   "cell_type": "code",
   "execution_count": 45,
   "id": "466d40ad",
   "metadata": {
    "scrolled": true
   },
   "outputs": [
    {
     "data": {
      "text/html": [
       "<div>\n",
       "<style scoped>\n",
       "    .dataframe tbody tr th:only-of-type {\n",
       "        vertical-align: middle;\n",
       "    }\n",
       "\n",
       "    .dataframe tbody tr th {\n",
       "        vertical-align: top;\n",
       "    }\n",
       "\n",
       "    .dataframe thead th {\n",
       "        text-align: right;\n",
       "    }\n",
       "</style>\n",
       "<table border=\"1\" class=\"dataframe\">\n",
       "  <thead>\n",
       "    <tr style=\"text-align: right;\">\n",
       "      <th></th>\n",
       "      <th>확진자수</th>\n",
       "      <th>누적확진자수</th>\n",
       "      <th>사망자수</th>\n",
       "      <th>누적사망자수</th>\n",
       "      <th>누적의심신고검사자수</th>\n",
       "    </tr>\n",
       "    <tr>\n",
       "      <th>기준일</th>\n",
       "      <th></th>\n",
       "      <th></th>\n",
       "      <th></th>\n",
       "      <th></th>\n",
       "      <th></th>\n",
       "    </tr>\n",
       "  </thead>\n",
       "  <tbody>\n",
       "    <tr>\n",
       "      <th>21-12</th>\n",
       "      <td>183606</td>\n",
       "      <td>16828211</td>\n",
       "      <td>1939</td>\n",
       "      <td>140974</td>\n",
       "      <td>568932067</td>\n",
       "    </tr>\n",
       "  </tbody>\n",
       "</table>\n",
       "</div>"
      ],
      "text/plain": [
       "         확진자수    누적확진자수  사망자수  누적사망자수  누적의심신고검사자수\n",
       "기준일                                              \n",
       "21-12  183606  16828211  1939  140974   568932067"
      ]
     },
     "execution_count": 45,
     "metadata": {},
     "output_type": "execute_result"
    }
   ],
   "source": [
    "g_year_month.sum(numeric_only=True).sort_values(by='사망자수', ascending=False)[:1]"
   ]
  },
  {
   "cell_type": "code",
   "execution_count": 61,
   "id": "e0f32cf3",
   "metadata": {
    "scrolled": false
   },
   "outputs": [
    {
     "data": {
      "text/html": [
       "<div>\n",
       "<style scoped>\n",
       "    .dataframe tbody tr th:only-of-type {\n",
       "        vertical-align: middle;\n",
       "    }\n",
       "\n",
       "    .dataframe tbody tr th {\n",
       "        vertical-align: top;\n",
       "    }\n",
       "\n",
       "    .dataframe thead th {\n",
       "        text-align: right;\n",
       "    }\n",
       "</style>\n",
       "<table border=\"1\" class=\"dataframe\">\n",
       "  <thead>\n",
       "    <tr style=\"text-align: right;\">\n",
       "      <th></th>\n",
       "      <th>확진자수</th>\n",
       "      <th>누적확진자수</th>\n",
       "      <th>사망자수</th>\n",
       "      <th>누적사망자수</th>\n",
       "      <th>누적의심신고검사자수</th>\n",
       "    </tr>\n",
       "    <tr>\n",
       "      <th>기준일</th>\n",
       "      <th></th>\n",
       "      <th></th>\n",
       "      <th></th>\n",
       "      <th></th>\n",
       "      <th></th>\n",
       "    </tr>\n",
       "  </thead>\n",
       "  <tbody>\n",
       "    <tr>\n",
       "      <th>22-01</th>\n",
       "      <td>214860</td>\n",
       "      <td>21908081</td>\n",
       "      <td>1192</td>\n",
       "      <td>194438</td>\n",
       "      <td>634968707</td>\n",
       "    </tr>\n",
       "  </tbody>\n",
       "</table>\n",
       "</div>"
      ],
      "text/plain": [
       "         확진자수    누적확진자수  사망자수  누적사망자수  누적의심신고검사자수\n",
       "기준일                                              \n",
       "22-01  214860  21908081  1192  194438   634968707"
      ]
     },
     "execution_count": 61,
     "metadata": {},
     "output_type": "execute_result"
    }
   ],
   "source": [
    "g_year_month.sum(numeric_only=True).sort_values(by='확진자수', ascending=False)[:1]"
   ]
  },
  {
   "cell_type": "markdown",
   "id": "7db5126a",
   "metadata": {},
   "source": [
    "확진자 수가 가장 높았던 달은 2022년 1월로 214,860명이었고,\n",
    "사망자 수가 가장 높았던 달은 2021년 12월로 1,939명이었다."
   ]
  },
  {
   "cell_type": "code",
   "execution_count": 57,
   "id": "cbf03e88",
   "metadata": {},
   "outputs": [
    {
     "data": {
      "image/png": "[encoded data removed]",
      "text/plain": [
       "<Figure size 1400x500 with 2 Axes>"
      ]
     },
     "metadata": {},
     "output_type": "display_data"
    }
   ],
   "source": [
    "g_year_month[['확진자수', '사망자수']].sum(numeric_only=True).plot(figsize=(14, 5),\n",
    "                                                           secondary_y='사망자수',\n",
    "                                                           color=['olive', 'coral'],\n",
    "                                                           alpha=0.7,\n",
    "                                                           title='월별 확진자 수와 사망자 수',\n",
    "                                                           xlabel='년-월',\n",
    "                                                           rot=45,\n",
    "                                                          )\n",
    "plt.xticks(range(len(g_year_month.indices)), labels=g_year_month.indices)\n",
    "plt.show()"
   ]
  },
  {
   "cell_type": "markdown",
   "id": "7503bb22",
   "metadata": {},
   "source": [
    "2020년 1월 20일 ~ 2022년 1월 31일 기간 중\n",
    "확진자 수가 가장 높았던 날은 2022년 1월 30일로 17522명이었고, \n",
    "사망자 수가 가장 높았던 날은 2021년 12월 23일로 109명이었다.\n",
    "\n",
    "확진자 수가 가장 높았던 달은 2022년 1월로 214,860명이었고,\n",
    "사망자 수가 가장 높았던 달은 2021년 12월로 1,939명이었다."
   ]
  }
 ],
 "metadata": {
  "kernelspec": {
   "display_name": "ex_kernel",
   "language": "python",
   "name": "ex"
  },
  "language_info": {
   "codemirror_mode": {
    "name": "ipython",
    "version": 3
   },
   "file_extension": ".py",
   "mimetype": "text/x-python",
   "name": "python",
   "nbconvert_exporter": "python",
   "pygments_lexer": "ipython3",
   "version": "3.8.10"
  },
  "toc": {
   "base_numbering": 1,
   "nav_menu": {},
   "number_sections": true,
   "sideBar": true,
   "skip_h1_title": false,
   "title_cell": "Table of Contents",
   "title_sidebar": "Contents",
   "toc_cell": false,
   "toc_position": {},
   "toc_section_display": true,
   "toc_window_display": false
  }
 },
 "nbformat": 4,
 "nbformat_minor": 5
}
