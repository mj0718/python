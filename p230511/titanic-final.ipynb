{
 "cells": [
  {
   "cell_type": "code",
   "execution_count": 1,
   "id": "20a13e51",
   "metadata": {},
   "outputs": [],
   "source": [
    "import pandas as pd"
   ]
  },
  {
   "cell_type": "markdown",
   "id": "bc6eb646",
   "metadata": {},
   "source": [
    "## 웹에서 titanic.csv 파일 읽어오기"
   ]
  },
  {
   "cell_type": "code",
   "execution_count": 2,
   "id": "abdf20f8",
   "metadata": {
    "scrolled": true
   },
   "outputs": [],
   "source": [
    "url = 'https://web.stanford.edu/class/archive/cs/cs109/cs109.1166/stuff/titanic.csv'\n",
    "titanic = pd.read_csv(url)"
   ]
  },
  {
   "cell_type": "markdown",
   "id": "a76f755d",
   "metadata": {},
   "source": [
    "## 데이터 파악"
   ]
  },
  {
   "cell_type": "code",
   "execution_count": 3,
   "id": "3561291e",
   "metadata": {},
   "outputs": [
    {
     "name": "stdout",
     "output_type": "stream",
     "text": [
      "<class 'pandas.core.frame.DataFrame'>\n",
      "RangeIndex: 887 entries, 0 to 886\n",
      "Data columns (total 8 columns):\n",
      " #   Column                   Non-Null Count  Dtype  \n",
      "---  ------                   --------------  -----  \n",
      " 0   Survived                 887 non-null    int64  \n",
      " 1   Pclass                   887 non-null    int64  \n",
      " 2   Name                     887 non-null    object \n",
      " 3   Sex                      887 non-null    object \n",
      " 4   Age                      887 non-null    float64\n",
      " 5   Siblings/Spouses Aboard  887 non-null    int64  \n",
      " 6   Parents/Children Aboard  887 non-null    int64  \n",
      " 7   Fare                     887 non-null    float64\n",
      "dtypes: float64(2), int64(4), object(2)\n",
      "memory usage: 55.6+ KB\n"
     ]
    }
   ],
   "source": [
    "titanic.info()"
   ]
  },
  {
   "cell_type": "code",
   "execution_count": 4,
   "id": "3e131a61",
   "metadata": {},
   "outputs": [
    {
     "data": {
      "text/plain": [
       "Index(['Survived', 'Pclass', 'Name', 'Sex', 'Age', 'Siblings/Spouses Aboard',\n",
       "       'Parents/Children Aboard', 'Fare'],\n",
       "      dtype='object')"
      ]
     },
     "execution_count": 4,
     "metadata": {},
     "output_type": "execute_result"
    }
   ],
   "source": [
    "# 컬럼명 확인\n",
    "titanic.columns"
   ]
  },
  {
   "cell_type": "markdown",
   "id": "8505eb28",
   "metadata": {},
   "source": [
    "## 전처리"
   ]
  },
  {
   "cell_type": "code",
   "execution_count": 5,
   "id": "6673d35a",
   "metadata": {},
   "outputs": [
    {
     "data": {
      "text/plain": [
       "Survived                   0\n",
       "Pclass                     0\n",
       "Name                       0\n",
       "Sex                        0\n",
       "Age                        0\n",
       "Siblings/Spouses Aboard    0\n",
       "Parents/Children Aboard    0\n",
       "Fare                       0\n",
       "dtype: int64"
      ]
     },
     "execution_count": 5,
     "metadata": {},
     "output_type": "execute_result"
    }
   ],
   "source": [
    "# 결측치 확인\n",
    "titanic.isna().sum()"
   ]
  },
  {
   "cell_type": "code",
   "execution_count": 7,
   "id": "a5eb99cd",
   "metadata": {
    "scrolled": false
   },
   "outputs": [],
   "source": [
    "# 컬럼명 변경 : Sex -> Gender\n",
    "titanic.rename(columns={'Sex' : 'Gender'}, inplace=True)"
   ]
  },
  {
   "cell_type": "markdown",
   "id": "2cd624cb",
   "metadata": {},
   "source": [
    "## titanic.csv 파일 저장"
   ]
  },
  {
   "cell_type": "code",
   "execution_count": 32,
   "id": "c81e4f0a",
   "metadata": {},
   "outputs": [
    {
     "name": "stdout",
     "output_type": "stream",
     "text": [
      "저장 완료\n"
     ]
    }
   ],
   "source": [
    "titanic.to_csv('titanic.csv', index=False, encoding='UTF-8')\n",
    "print('저장 완료')"
   ]
  },
  {
   "cell_type": "markdown",
   "id": "c5f434e7",
   "metadata": {},
   "source": [
    "## titanic.csv 파일 읽어오기"
   ]
  },
  {
   "cell_type": "code",
   "execution_count": 8,
   "id": "b1b0937c",
   "metadata": {},
   "outputs": [],
   "source": [
    "titanic = pd.read_csv('titanic.csv')"
   ]
  },
  {
   "cell_type": "markdown",
   "id": "65891c78",
   "metadata": {},
   "source": [
    "## 가설\n",
    "- 무엇을 분석할 것인가? \n",
    "1. 생존자의 성별 비율은 비슷할 것이다.\n",
    "2. 1등실 승객의 생존율이 높았을 것이다.\n",
    "3. 사망자는 고령자가 많았을 것이다."
   ]
  },
  {
   "cell_type": "markdown",
   "id": "d8f25091",
   "metadata": {},
   "source": [
    "### [가설 1] 생존자의 성별 비율은 비슷할 것이다."
   ]
  },
  {
   "cell_type": "markdown",
   "id": "ecf09d11",
   "metadata": {},
   "source": [
    "#### 분석 : 첫 번째 방법"
   ]
  },
  {
   "cell_type": "code",
   "execution_count": 9,
   "id": "dc8a7cac",
   "metadata": {
    "scrolled": true
   },
   "outputs": [
    {
     "data": {
      "text/plain": [
       "Gender\n",
       "female    233\n",
       "male      109\n",
       "dtype: int64"
      ]
     },
     "execution_count": 9,
     "metadata": {},
     "output_type": "execute_result"
    }
   ],
   "source": [
    "# 생존자 성별 인원 수\n",
    "survived_gender = titanic[titanic.Survived ==1].groupby('Gender').size()\n",
    "survived_gender"
   ]
  },
  {
   "cell_type": "code",
   "execution_count": 35,
   "id": "3c24a781",
   "metadata": {
    "scrolled": true
   },
   "outputs": [
    {
     "data": {
      "text/plain": [
       "Gender\n",
       "female    68.128655\n",
       "male      31.871345\n",
       "dtype: float64"
      ]
     },
     "execution_count": 35,
     "metadata": {},
     "output_type": "execute_result"
    }
   ],
   "source": [
    "# 생존자 성별 비율\n",
    "survived_gender / survived_gender.sum() * 100"
   ]
  },
  {
   "cell_type": "markdown",
   "id": "7a6bbd7f",
   "metadata": {},
   "source": [
    "#### 분석 : 두 번째 방법"
   ]
  },
  {
   "cell_type": "code",
   "execution_count": 36,
   "id": "a576dbd6",
   "metadata": {
    "scrolled": true
   },
   "outputs": [
    {
     "data": {
      "text/plain": [
       "Gender\n",
       "female    68.128655\n",
       "male      31.871345\n",
       "Name: proportion, dtype: float64"
      ]
     },
     "execution_count": 36,
     "metadata": {},
     "output_type": "execute_result"
    }
   ],
   "source": [
    "titanic[titanic.Survived == 1].Gender.value_counts(normalize=True) * 100"
   ]
  },
  {
   "cell_type": "code",
   "execution_count": 18,
   "id": "edca862e",
   "metadata": {
    "scrolled": false
   },
   "outputs": [
    {
     "data": {
      "text/plain": [
       "Gender  Survived\n",
       "female  0           25.796178\n",
       "        1           74.203822\n",
       "male    0           80.977312\n",
       "        1           19.022688\n",
       "Name: proportion, dtype: float64"
      ]
     },
     "execution_count": 18,
     "metadata": {},
     "output_type": "execute_result"
    }
   ],
   "source": [
    "# 성별별 사망자와 생존자 비율\n",
    "g_s = titanic.groupby('Gender').Survived.value_counts(normalize=True).sort_index() * 100\n",
    "g_s"
   ]
  },
  {
   "cell_type": "markdown",
   "id": "ed8d46d4",
   "metadata": {},
   "source": [
    "#### 시각화"
   ]
  },
  {
   "cell_type": "code",
   "execution_count": 19,
   "id": "49ecd995",
   "metadata": {},
   "outputs": [
    {
     "data": {
      "image/png": "[encoded data removed]",
      "text/plain": [
       "<Figure size 800x800 with 1 Axes>"
      ]
     },
     "metadata": {},
     "output_type": "display_data"
    }
   ],
   "source": [
    "import matplotlib.pyplot as plt\n",
    "\n",
    "plt.rcParams['font.family'] = 'Malgun Gothic'\n",
    "plt.rc('font', size=20) # 글자 사이즈\n",
    "\n",
    "plt.figure(figsize=(8, 8), facecolor='papayawhip')  #facecolor : 배경색 설정\n",
    "plt.title('생존자 남여 비율') \n",
    "\n",
    "plt.pie(survived_gender, \n",
    "        labels=['여', '남'], \n",
    "        autopct='%.f%%', \n",
    "        colors=['lightblue', 'palegreen'],\n",
    "       )\n",
    "\n",
    "# plt.show()\n",
    "\n",
    "# 저장 시에는 plt.show가 있으면 저장 안 됨\n",
    "plt.savefig('생존자 남여 비율.jpg', dpi=100)   #dpi : 사진 사이즈 키우기"
   ]
  },
  {
   "cell_type": "markdown",
   "id": "47cf94f9",
   "metadata": {},
   "source": [
    "#### 결론\n",
    "- [가설 1] 생존자의 성별 비율은 비슷할 것이다.\n",
    "    - 생존자 342명 중 여자는 233명(68%), 남자는 109명(32%)으로 여자가 남자의 2배 이상으로 나타났다."
   ]
  },
  {
   "cell_type": "markdown",
   "id": "31c25f2b",
   "metadata": {},
   "source": [
    "### [가설 2] 1등실 승객의 생존율이 높았을 것이다."
   ]
  },
  {
   "cell_type": "markdown",
   "id": "f3f4580f",
   "metadata": {},
   "source": [
    "#### 분석"
   ]
  },
  {
   "cell_type": "code",
   "execution_count": 20,
   "id": "d7667d2a",
   "metadata": {
    "scrolled": true
   },
   "outputs": [
    {
     "data": {
      "text/html": [
       "<div>\n",
       "<style scoped>\n",
       "    .dataframe tbody tr th:only-of-type {\n",
       "        vertical-align: middle;\n",
       "    }\n",
       "\n",
       "    .dataframe tbody tr th {\n",
       "        vertical-align: top;\n",
       "    }\n",
       "\n",
       "    .dataframe thead th {\n",
       "        text-align: right;\n",
       "    }\n",
       "</style>\n",
       "<table border=\"1\" class=\"dataframe\">\n",
       "  <thead>\n",
       "    <tr style=\"text-align: right;\">\n",
       "      <th>Survived</th>\n",
       "      <th>0</th>\n",
       "      <th>1</th>\n",
       "    </tr>\n",
       "    <tr>\n",
       "      <th>Pclass</th>\n",
       "      <th></th>\n",
       "      <th></th>\n",
       "    </tr>\n",
       "  </thead>\n",
       "  <tbody>\n",
       "    <tr>\n",
       "      <th>1</th>\n",
       "      <td>80</td>\n",
       "      <td>136</td>\n",
       "    </tr>\n",
       "    <tr>\n",
       "      <th>2</th>\n",
       "      <td>97</td>\n",
       "      <td>87</td>\n",
       "    </tr>\n",
       "    <tr>\n",
       "      <th>3</th>\n",
       "      <td>368</td>\n",
       "      <td>119</td>\n",
       "    </tr>\n",
       "  </tbody>\n",
       "</table>\n",
       "</div>"
      ],
      "text/plain": [
       "Survived    0    1\n",
       "Pclass            \n",
       "1          80  136\n",
       "2          97   87\n",
       "3         368  119"
      ]
     },
     "execution_count": 20,
     "metadata": {},
     "output_type": "execute_result"
    }
   ],
   "source": [
    "g_pclass_survived = titanic.groupby(['Pclass', 'Survived']).size().unstack()\n",
    "g_pclass_survived"
   ]
  },
  {
   "cell_type": "code",
   "execution_count": 21,
   "id": "00a1b62f",
   "metadata": {
    "scrolled": true
   },
   "outputs": [
    {
     "data": {
      "text/html": [
       "<div>\n",
       "<style scoped>\n",
       "    .dataframe tbody tr th:only-of-type {\n",
       "        vertical-align: middle;\n",
       "    }\n",
       "\n",
       "    .dataframe tbody tr th {\n",
       "        vertical-align: top;\n",
       "    }\n",
       "\n",
       "    .dataframe thead th {\n",
       "        text-align: right;\n",
       "    }\n",
       "</style>\n",
       "<table border=\"1\" class=\"dataframe\">\n",
       "  <thead>\n",
       "    <tr style=\"text-align: right;\">\n",
       "      <th>Survived</th>\n",
       "      <th>0</th>\n",
       "      <th>1</th>\n",
       "      <th>합</th>\n",
       "    </tr>\n",
       "    <tr>\n",
       "      <th>Pclass</th>\n",
       "      <th></th>\n",
       "      <th></th>\n",
       "      <th></th>\n",
       "    </tr>\n",
       "  </thead>\n",
       "  <tbody>\n",
       "    <tr>\n",
       "      <th>1</th>\n",
       "      <td>80</td>\n",
       "      <td>136</td>\n",
       "      <td>216</td>\n",
       "    </tr>\n",
       "    <tr>\n",
       "      <th>2</th>\n",
       "      <td>97</td>\n",
       "      <td>87</td>\n",
       "      <td>184</td>\n",
       "    </tr>\n",
       "    <tr>\n",
       "      <th>3</th>\n",
       "      <td>368</td>\n",
       "      <td>119</td>\n",
       "      <td>487</td>\n",
       "    </tr>\n",
       "  </tbody>\n",
       "</table>\n",
       "</div>"
      ],
      "text/plain": [
       "Survived    0    1    합\n",
       "Pclass                 \n",
       "1          80  136  216\n",
       "2          97   87  184\n",
       "3         368  119  487"
      ]
     },
     "execution_count": 21,
     "metadata": {},
     "output_type": "execute_result"
    }
   ],
   "source": [
    "g_pclass_survived['합'] = g_pclass_survived.sum(axis=1)\n",
    "g_pclass_survived"
   ]
  },
  {
   "cell_type": "code",
   "execution_count": 22,
   "id": "3a2eb434",
   "metadata": {},
   "outputs": [
    {
     "data": {
      "text/html": [
       "<div>\n",
       "<style scoped>\n",
       "    .dataframe tbody tr th:only-of-type {\n",
       "        vertical-align: middle;\n",
       "    }\n",
       "\n",
       "    .dataframe tbody tr th {\n",
       "        vertical-align: top;\n",
       "    }\n",
       "\n",
       "    .dataframe thead th {\n",
       "        text-align: right;\n",
       "    }\n",
       "</style>\n",
       "<table border=\"1\" class=\"dataframe\">\n",
       "  <thead>\n",
       "    <tr style=\"text-align: right;\">\n",
       "      <th>Survived</th>\n",
       "      <th>0</th>\n",
       "      <th>1</th>\n",
       "      <th>합</th>\n",
       "      <th>사망자 비율</th>\n",
       "    </tr>\n",
       "    <tr>\n",
       "      <th>Pclass</th>\n",
       "      <th></th>\n",
       "      <th></th>\n",
       "      <th></th>\n",
       "      <th></th>\n",
       "    </tr>\n",
       "  </thead>\n",
       "  <tbody>\n",
       "    <tr>\n",
       "      <th>1</th>\n",
       "      <td>80</td>\n",
       "      <td>136</td>\n",
       "      <td>216</td>\n",
       "      <td>0.370370</td>\n",
       "    </tr>\n",
       "    <tr>\n",
       "      <th>2</th>\n",
       "      <td>97</td>\n",
       "      <td>87</td>\n",
       "      <td>184</td>\n",
       "      <td>0.527174</td>\n",
       "    </tr>\n",
       "    <tr>\n",
       "      <th>3</th>\n",
       "      <td>368</td>\n",
       "      <td>119</td>\n",
       "      <td>487</td>\n",
       "      <td>0.755647</td>\n",
       "    </tr>\n",
       "  </tbody>\n",
       "</table>\n",
       "</div>"
      ],
      "text/plain": [
       "Survived    0    1    합    사망자 비율\n",
       "Pclass                           \n",
       "1          80  136  216  0.370370\n",
       "2          97   87  184  0.527174\n",
       "3         368  119  487  0.755647"
      ]
     },
     "execution_count": 22,
     "metadata": {},
     "output_type": "execute_result"
    }
   ],
   "source": [
    "g_pclass_survived['사망자 비율'] = g_pclass_survived[0] / g_pclass_survived.합\n",
    "g_pclass_survived"
   ]
  },
  {
   "cell_type": "code",
   "execution_count": 23,
   "id": "a51c47ff",
   "metadata": {},
   "outputs": [
    {
     "data": {
      "text/html": [
       "<div>\n",
       "<style scoped>\n",
       "    .dataframe tbody tr th:only-of-type {\n",
       "        vertical-align: middle;\n",
       "    }\n",
       "\n",
       "    .dataframe tbody tr th {\n",
       "        vertical-align: top;\n",
       "    }\n",
       "\n",
       "    .dataframe thead th {\n",
       "        text-align: right;\n",
       "    }\n",
       "</style>\n",
       "<table border=\"1\" class=\"dataframe\">\n",
       "  <thead>\n",
       "    <tr style=\"text-align: right;\">\n",
       "      <th>Survived</th>\n",
       "      <th>0</th>\n",
       "      <th>1</th>\n",
       "      <th>합</th>\n",
       "      <th>사망자 비율</th>\n",
       "      <th>생존자 비율</th>\n",
       "    </tr>\n",
       "    <tr>\n",
       "      <th>Pclass</th>\n",
       "      <th></th>\n",
       "      <th></th>\n",
       "      <th></th>\n",
       "      <th></th>\n",
       "      <th></th>\n",
       "    </tr>\n",
       "  </thead>\n",
       "  <tbody>\n",
       "    <tr>\n",
       "      <th>1</th>\n",
       "      <td>80</td>\n",
       "      <td>136</td>\n",
       "      <td>216</td>\n",
       "      <td>0.370370</td>\n",
       "      <td>0.629630</td>\n",
       "    </tr>\n",
       "    <tr>\n",
       "      <th>2</th>\n",
       "      <td>97</td>\n",
       "      <td>87</td>\n",
       "      <td>184</td>\n",
       "      <td>0.527174</td>\n",
       "      <td>0.472826</td>\n",
       "    </tr>\n",
       "    <tr>\n",
       "      <th>3</th>\n",
       "      <td>368</td>\n",
       "      <td>119</td>\n",
       "      <td>487</td>\n",
       "      <td>0.755647</td>\n",
       "      <td>0.244353</td>\n",
       "    </tr>\n",
       "  </tbody>\n",
       "</table>\n",
       "</div>"
      ],
      "text/plain": [
       "Survived    0    1    합    사망자 비율    생존자 비율\n",
       "Pclass                                     \n",
       "1          80  136  216  0.370370  0.629630\n",
       "2          97   87  184  0.527174  0.472826\n",
       "3         368  119  487  0.755647  0.244353"
      ]
     },
     "execution_count": 23,
     "metadata": {},
     "output_type": "execute_result"
    }
   ],
   "source": [
    "g_pclass_survived['생존자 비율'] = g_pclass_survived[1] / g_pclass_survived.합\n",
    "g_pclass_survived"
   ]
  },
  {
   "cell_type": "code",
   "execution_count": 24,
   "id": "3202d647",
   "metadata": {},
   "outputs": [
    {
     "data": {
      "text/html": [
       "<div>\n",
       "<style scoped>\n",
       "    .dataframe tbody tr th:only-of-type {\n",
       "        vertical-align: middle;\n",
       "    }\n",
       "\n",
       "    .dataframe tbody tr th {\n",
       "        vertical-align: top;\n",
       "    }\n",
       "\n",
       "    .dataframe thead th {\n",
       "        text-align: right;\n",
       "    }\n",
       "</style>\n",
       "<table border=\"1\" class=\"dataframe\">\n",
       "  <thead>\n",
       "    <tr style=\"text-align: right;\">\n",
       "      <th>Survived</th>\n",
       "      <th>0</th>\n",
       "      <th>1</th>\n",
       "    </tr>\n",
       "    <tr>\n",
       "      <th>Pclass</th>\n",
       "      <th></th>\n",
       "      <th></th>\n",
       "    </tr>\n",
       "  </thead>\n",
       "  <tbody>\n",
       "    <tr>\n",
       "      <th>1</th>\n",
       "      <td>0.370370</td>\n",
       "      <td>0.629630</td>\n",
       "    </tr>\n",
       "    <tr>\n",
       "      <th>2</th>\n",
       "      <td>0.527174</td>\n",
       "      <td>0.472826</td>\n",
       "    </tr>\n",
       "    <tr>\n",
       "      <th>3</th>\n",
       "      <td>0.755647</td>\n",
       "      <td>0.244353</td>\n",
       "    </tr>\n",
       "  </tbody>\n",
       "</table>\n",
       "</div>"
      ],
      "text/plain": [
       "Survived         0         1\n",
       "Pclass                      \n",
       "1         0.370370  0.629630\n",
       "2         0.527174  0.472826\n",
       "3         0.755647  0.244353"
      ]
     },
     "execution_count": 24,
     "metadata": {},
     "output_type": "execute_result"
    }
   ],
   "source": [
    "titanic.groupby('Pclass').Survived.value_counts(normalize=True).unstack()"
   ]
  },
  {
   "cell_type": "markdown",
   "id": "a4370d83",
   "metadata": {},
   "source": [
    "#### 시각화"
   ]
  },
  {
   "cell_type": "code",
   "execution_count": 25,
   "id": "93eab60c",
   "metadata": {
    "scrolled": true
   },
   "outputs": [
    {
     "data": {
      "text/html": [
       "<div>\n",
       "<style scoped>\n",
       "    .dataframe tbody tr th:only-of-type {\n",
       "        vertical-align: middle;\n",
       "    }\n",
       "\n",
       "    .dataframe tbody tr th {\n",
       "        vertical-align: top;\n",
       "    }\n",
       "\n",
       "    .dataframe thead th {\n",
       "        text-align: right;\n",
       "    }\n",
       "</style>\n",
       "<table border=\"1\" class=\"dataframe\">\n",
       "  <thead>\n",
       "    <tr style=\"text-align: right;\">\n",
       "      <th>Pclass</th>\n",
       "      <th>1</th>\n",
       "      <th>2</th>\n",
       "      <th>3</th>\n",
       "    </tr>\n",
       "    <tr>\n",
       "      <th>Survived</th>\n",
       "      <th></th>\n",
       "      <th></th>\n",
       "      <th></th>\n",
       "    </tr>\n",
       "  </thead>\n",
       "  <tbody>\n",
       "    <tr>\n",
       "      <th>0</th>\n",
       "      <td>80</td>\n",
       "      <td>97</td>\n",
       "      <td>368</td>\n",
       "    </tr>\n",
       "    <tr>\n",
       "      <th>1</th>\n",
       "      <td>136</td>\n",
       "      <td>87</td>\n",
       "      <td>119</td>\n",
       "    </tr>\n",
       "  </tbody>\n",
       "</table>\n",
       "</div>"
      ],
      "text/plain": [
       "Pclass      1   2    3\n",
       "Survived              \n",
       "0          80  97  368\n",
       "1         136  87  119"
      ]
     },
     "execution_count": 25,
     "metadata": {},
     "output_type": "execute_result"
    }
   ],
   "source": [
    "# 행, 열 바꾸기\n",
    "g_pclass_survived[[0,1]].transpose()\n",
    "g_pclass_survived[[0,1]].T"
   ]
  },
  {
   "cell_type": "code",
   "execution_count": 26,
   "id": "1b1124c1",
   "metadata": {},
   "outputs": [
    {
     "data": {
      "image/png": "[encoded data removed]",
      "text/plain": [
       "<Figure size 1400x1400 with 3 Axes>"
      ]
     },
     "metadata": {},
     "output_type": "display_data"
    }
   ],
   "source": [
    "plt.rc('font', family='Malgun Gothic')\n",
    "plt.rc('font', size=10)\n",
    "plt.rc('axes', titlesize=15) # title 사이즈 설정\n",
    "\n",
    "g_pclass_survived[[0,1]].T.plot(\n",
    "    kind='pie',\n",
    "    subplots=True,\n",
    "    ylabel='', # ylabel 지우기\n",
    "    legend=False,   # 범례 지우기\n",
    "    autopct='%.f%%',\n",
    "    labels=['사망자', '생존자'],\n",
    "    counterclock=False,   #시계방향으로 변경\n",
    "    colors=['lightblue', 'lightpink'],\n",
    "    title=['1등실', '2등실', '3등실'],\n",
    "    explode=[0, 0.1],\n",
    "    shadow=True,\n",
    "    figsize=(14, 14),\n",
    ")\n",
    "\n",
    "plt.savefig('각 등실의 생존자와 사망자 비율.png')"
   ]
  },
  {
   "cell_type": "markdown",
   "id": "9a442751",
   "metadata": {},
   "source": [
    "#### 결론\n",
    "- [가설 2] 1등실 승객의 생존율이 높았을 것이다.\n",
    "    - 1등실 승객 216명 중 136명이 생존하여, 1등실 승객은 약 63%가 생존하였다.\n",
    "    - 2등실 승객 184명 중 87명이 생존하여, 2등실 승객은 약 47%가 생존하였다.\n",
    "    - 3등실 승객 487명 중 119명이 생존하여, 3등실 승객은 약 24%가 생존하였다.  \n",
    "    - 생존율은 1등실이 약 63%로 가장 높았다."
   ]
  },
  {
   "cell_type": "markdown",
   "id": "add78e2a",
   "metadata": {},
   "source": [
    "### [가설 3] 사망자는 고령자가 많았을 것이다.\n",
    "- “고령자”란 55세 이상인 사람을 말합니다\n",
    "- 「고용상 연령차별금지 및 고령자고용촉진에 관한 법률」 제2조제1호 \n",
    "- 「고용상 연령차별금지 및 고령자고용촉진에 관한 법률 시행령」 제2조제1항"
   ]
  },
  {
   "cell_type": "markdown",
   "id": "f41ecc7b",
   "metadata": {},
   "source": [
    "#### 분석"
   ]
  },
  {
   "cell_type": "code",
   "execution_count": 27,
   "id": "b5bcf6a3",
   "metadata": {},
   "outputs": [],
   "source": [
    "# 연속형(continuous values) -> 범주형(categorical values)\n",
    "# 범주 : 55세 미만, 55세 이상\n",
    "\n",
    "# [방법 1] 직접 레이블링\n",
    "# 레이블링(labeling) : 분류된 데이터나 정보에 이름(label)을 붙이는 것\n",
    "# 55세 미만 : A , 55세 이상 : B\n",
    "\n",
    "# 1-1. 모든 값이 0인 AgeBand 컬럼 추가\n",
    "titanic['AgeBand'] = 0\n",
    "\n",
    "titanic.loc[titanic.Age < 55, 'AgeBand'] = 'A'\n",
    "titanic.loc[titanic.Age >= 55, 'AgeBand'] = 'B'"
   ]
  },
  {
   "cell_type": "code",
   "execution_count": 28,
   "id": "0bcdd675",
   "metadata": {},
   "outputs": [],
   "source": [
    "# [방법 2] cut() 함수 \n",
    "titanic['AgeCut'] = pd.cut(titanic.Age, bins=[0, 54, 80], labels=['A', 'B'])"
   ]
  },
  {
   "cell_type": "code",
   "execution_count": 29,
   "id": "6a46b404",
   "metadata": {},
   "outputs": [],
   "source": [
    "# 사망자 데이터 추출\n",
    "g_agecut = titanic[titanic.Survived == 0].groupby('AgeCut').size().to_frame()  #to_frame : frame으로 변경해줌"
   ]
  },
  {
   "cell_type": "code",
   "execution_count": 30,
   "id": "0694faaf",
   "metadata": {},
   "outputs": [],
   "source": [
    "g_agecut['rate'] = g_agecut / g_agecut.sum()"
   ]
  },
  {
   "cell_type": "code",
   "execution_count": 31,
   "id": "c756d6cb",
   "metadata": {},
   "outputs": [
    {
     "data": {
      "text/html": [
       "<div>\n",
       "<style scoped>\n",
       "    .dataframe tbody tr th:only-of-type {\n",
       "        vertical-align: middle;\n",
       "    }\n",
       "\n",
       "    .dataframe tbody tr th {\n",
       "        vertical-align: top;\n",
       "    }\n",
       "\n",
       "    .dataframe thead th {\n",
       "        text-align: right;\n",
       "    }\n",
       "</style>\n",
       "<table border=\"1\" class=\"dataframe\">\n",
       "  <thead>\n",
       "    <tr style=\"text-align: right;\">\n",
       "      <th></th>\n",
       "      <th>0</th>\n",
       "      <th>rate</th>\n",
       "    </tr>\n",
       "    <tr>\n",
       "      <th>AgeCut</th>\n",
       "      <th></th>\n",
       "      <th></th>\n",
       "    </tr>\n",
       "  </thead>\n",
       "  <tbody>\n",
       "    <tr>\n",
       "      <th>A</th>\n",
       "      <td>509.0</td>\n",
       "      <td>0.933945</td>\n",
       "    </tr>\n",
       "    <tr>\n",
       "      <th>B</th>\n",
       "      <td>36.0</td>\n",
       "      <td>0.066055</td>\n",
       "    </tr>\n",
       "    <tr>\n",
       "      <th>합</th>\n",
       "      <td>545.0</td>\n",
       "      <td>1.000000</td>\n",
       "    </tr>\n",
       "  </tbody>\n",
       "</table>\n",
       "</div>"
      ],
      "text/plain": [
       "            0      rate\n",
       "AgeCut                 \n",
       "A       509.0  0.933945\n",
       "B        36.0  0.066055\n",
       "합       545.0  1.000000"
      ]
     },
     "execution_count": 31,
     "metadata": {},
     "output_type": "execute_result"
    }
   ],
   "source": [
    "g_agecut.loc['합'] = g_agecut.sum()\n",
    "g_agecut"
   ]
  },
  {
   "cell_type": "code",
   "execution_count": 32,
   "id": "8a2ebec3",
   "metadata": {
    "scrolled": true
   },
   "outputs": [
    {
     "data": {
      "text/html": [
       "<div>\n",
       "<style scoped>\n",
       "    .dataframe tbody tr th:only-of-type {\n",
       "        vertical-align: middle;\n",
       "    }\n",
       "\n",
       "    .dataframe tbody tr th {\n",
       "        vertical-align: top;\n",
       "    }\n",
       "\n",
       "    .dataframe thead th {\n",
       "        text-align: right;\n",
       "    }\n",
       "</style>\n",
       "<table border=\"1\" class=\"dataframe\">\n",
       "  <thead>\n",
       "    <tr style=\"text-align: right;\">\n",
       "      <th></th>\n",
       "      <th>0</th>\n",
       "      <th>rate</th>\n",
       "    </tr>\n",
       "    <tr>\n",
       "      <th>AgeCut</th>\n",
       "      <th></th>\n",
       "      <th></th>\n",
       "    </tr>\n",
       "  </thead>\n",
       "  <tbody>\n",
       "    <tr>\n",
       "      <th>A</th>\n",
       "      <td>509</td>\n",
       "      <td>0.933945</td>\n",
       "    </tr>\n",
       "    <tr>\n",
       "      <th>B</th>\n",
       "      <td>36</td>\n",
       "      <td>0.066055</td>\n",
       "    </tr>\n",
       "    <tr>\n",
       "      <th>합</th>\n",
       "      <td>545</td>\n",
       "      <td>1.000000</td>\n",
       "    </tr>\n",
       "  </tbody>\n",
       "</table>\n",
       "</div>"
      ],
      "text/plain": [
       "          0      rate\n",
       "AgeCut               \n",
       "A       509  0.933945\n",
       "B        36  0.066055\n",
       "합       545  1.000000"
      ]
     },
     "execution_count": 32,
     "metadata": {},
     "output_type": "execute_result"
    }
   ],
   "source": [
    "# 컬럼 0 타입 변경 : float -> int\n",
    "g_agecut[0] = g_agecut[0].astype(int)\n",
    "g_agecut"
   ]
  },
  {
   "cell_type": "markdown",
   "id": "f4c20de2",
   "metadata": {},
   "source": [
    "#### 시각화"
   ]
  },
  {
   "cell_type": "code",
   "execution_count": 33,
   "id": "a2e732bd",
   "metadata": {},
   "outputs": [
    {
     "data": {
      "text/plain": [
       "<Axes: title={'center': '사망자 중 고령자 비율'}>"
      ]
     },
     "execution_count": 33,
     "metadata": {},
     "output_type": "execute_result"
    },
    {
     "data": {
      "image/png": "[encoded data removed]",
      "text/plain": [
       "<Figure size 640x480 with 1 Axes>"
      ]
     },
     "metadata": {},
     "output_type": "display_data"
    }
   ],
   "source": [
    "g_agecut[0][:2].plot(\n",
    "    kind='pie',\n",
    "    ylabel='',\n",
    "    labels=['55세 미만', '55세 이상'],\n",
    "    autopct='%.f%%',\n",
    "    title='사망자 중 고령자 비율',\n",
    "    explode=[0, 0.3],\n",
    "    shadow=True,\n",
    "    colors=['DarkTurquoise','BlanchedAlmond'],\n",
    ")"
   ]
  },
  {
   "cell_type": "markdown",
   "id": "97417b9d",
   "metadata": {},
   "source": [
    "#### 결론\n",
    "- [가설 3] 사망자는 고령자가 많았을 것이다.\n",
    "    - 사망자 총 545명 중 고령자는 36명(약 7%)으로 나타났다.\n",
    "    - 사망자의 대부분은 고령자가 아닌 55세 미만(약 93%)으로 나타났다."
   ]
  }
 ],
 "metadata": {
  "kernelspec": {
   "display_name": "ex_kernel",
   "language": "python",
   "name": "ex"
  },
  "language_info": {
   "codemirror_mode": {
    "name": "ipython",
    "version": 3
   },
   "file_extension": ".py",
   "mimetype": "text/x-python",
   "name": "python",
   "nbconvert_exporter": "python",
   "pygments_lexer": "ipython3",
   "version": "3.8.10"
  },
  "toc": {
   "base_numbering": 1,
   "nav_menu": {},
   "number_sections": true,
   "sideBar": true,
   "skip_h1_title": false,
   "title_cell": "Table of Contents",
   "title_sidebar": "Contents",
   "toc_cell": false,
   "toc_position": {},
   "toc_section_display": true,
   "toc_window_display": false
  }
 },
 "nbformat": 4,
 "nbformat_minor": 5
}
