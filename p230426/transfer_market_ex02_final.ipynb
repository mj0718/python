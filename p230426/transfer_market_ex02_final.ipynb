{
 "cells": [
  {
   "cell_type": "code",
   "execution_count": 1,
   "id": "7c3dc550",
   "metadata": {},
   "outputs": [
    {
     "name": "stdout",
     "output_type": "stream",
     "text": [
      "==저장 완료==\n"
     ]
    }
   ],
   "source": [
    "# 1-100등까지 추출\n",
    "from urllib import request\n",
    "import requests\n",
    "from bs4 import BeautifulSoup\n",
    "import pandas\n",
    "\n",
    "headers = {'user-agent': 'Mozilla/5.0 (Windows NT 10.0; Win64; x64) AppleWebKit/537.36 (KHTML, like Gecko) Chrome/112.0.0.0 Safari/537.36'}\n",
    "\n",
    "player_list = []\n",
    "\n",
    "for idx in range(1, 5):\n",
    "    url = f'https://www.transfermarkt.com/spieler-statistik/wertvollstespieler/marktwertetop?ajax=yw1&page={idx}'\n",
    "    html = requests.get(url, headers=headers)\n",
    "    \n",
    "    soup = BeautifulSoup(html.text, 'html.parser')\n",
    "\n",
    "    player_info = soup.find_all('tr',class_=['odd', 'even'])\n",
    "    \n",
    "    for player in player_info:\n",
    "        info = player.find_all('td')\n",
    "        \n",
    "        number = info[0].text\n",
    "        name = info[3].text\n",
    "        position = info[4].text\n",
    "        age = info[5].text\n",
    "        nation = info[6].img['title']\n",
    "        team = info[7].img['title']\n",
    "        value = info[8].text.strip()\n",
    "        \n",
    "        player_list.append([number, name, position, age, nation, team, value])\n",
    "\n",
    "df = pandas.DataFrame(player_list, columns=['number', 'name', 'position', 'age', 'nation', 'team', 'value'])\n",
    "\n",
    "df.to_csv('market100.csv', index=False)\n",
    "print('==저장 완료==')"
   ]
  }
 ],
 "metadata": {
  "kernelspec": {
   "display_name": "ex_kernel",
   "language": "python",
   "name": "ex"
  },
  "language_info": {
   "codemirror_mode": {
    "name": "ipython",
    "version": 3
   },
   "file_extension": ".py",
   "mimetype": "text/x-python",
   "name": "python",
   "nbconvert_exporter": "python",
   "pygments_lexer": "ipython3",
   "version": "3.8.10"
  }
 },
 "nbformat": 4,
 "nbformat_minor": 5
}
