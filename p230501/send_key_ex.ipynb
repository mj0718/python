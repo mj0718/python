{
 "cells": [
  {
   "cell_type": "code",
   "execution_count": 26,
   "id": "6c744585",
   "metadata": {},
   "outputs": [],
   "source": [
    "from selenium import webdriver\n",
    "from selenium.webdriver.common.keys import Keys\n",
    "from selenium.webdriver.common.by import By\n",
    "from time import sleep\n",
    "\n",
    "# 1. 크롬 웹 브라우저 실행\n",
    "driver = webdriver.Chrome()\n",
    "\n",
    "# 2. 네이버 접속\n",
    "driver.get('https://www.naver.com/')\n",
    "\n",
    "# 3. body 엘리먼트 추출\n",
    "body_element = driver.find_element(By.TAG_NAME, 'body')\n",
    "\n",
    "sleep(2)\n",
    "\n",
    "# page down 1회 실행\n",
    "# body_element.send_keys(Keys.PAGE_DOWN)\n",
    "\n",
    "# page down 2회 실행\n",
    "# body_element.send_keys(Keys.PAGE_DOWN, Keys.PAGE_DOWN)\n",
    "# body_element.send_keys(Keys.PAGE_DOWN + Keys.PAGE_DOWN)\n",
    "\n",
    "# end : 페이지 하단으로 이동\n",
    "# body_element.send_keys(Keys.END)\n",
    "# body_element.send_keys(Keys.CONTROL + Keys.END)\n",
    "\n",
    "# home : 페이지 상단으로 이동\n",
    "# body_element.send_keys(Keys.HOME)\n",
    "# body_element.send_keys(Keys.CONTROL + Keys.HOME)\n",
    "\n",
    "# 페이지 하단으로 이동 후, 오른쪽 이동\n",
    "# body_element.send_keys(Keys.END + Keys.ARROW_RIGHT)\n",
    "\n",
    "\n",
    "# [문제] 뉴스를 새 탭에서 열고 뉴스 탭으로 이동 후 닫기\n",
    "# 뉴스를 새 탭에서 열기\n",
    "news_tab = '//*[@id=\"NM_FAVORITE\"]/div[1]/ul[2]/li[2]/a'\n",
    "body_element.find_element(By.XPATH, news_tab).send_keys(Keys.CONTROL + Keys.ENTER)\n",
    "sleep(1)\n",
    "driver.switch_to.window(driver.window_handles[1])\n",
    "sleep(1)\n",
    "driver.close()\n",
    "\n",
    "driver.switch_to.window(driver.window_handles[0])\n",
    "\n",
    "# [문제] 회원가입 새 탭에서 열고, 회원가입 탭으로 이동 후 웹 브라우저 닫기\n",
    "join_tab = '//*[@id=\"account\"]/div/a'\n",
    "body_element.find_element(By.XPATH, join_tab).send_keys(Keys.CONTROL + Keys.ENTER) \n",
    "sleep(2)\n",
    "driver.switch_to.window(driver.window_handles[1])\n",
    "sleep(1)\n",
    "driver.quit()\n",
    "\n",
    "# [문제] 회원가입 새 창에서 열기\n",
    "# body_element.find_element(By.XPATH, join_tab).send_keys(Keys.SHIFT + Keys.ENTER)"
   ]
  },
  {
   "cell_type": "code",
   "execution_count": null,
   "id": "bd785fdf",
   "metadata": {},
   "outputs": [],
   "source": [
    "# 탭 하나 닫기\n",
    "driver.close()"
   ]
  },
  {
   "cell_type": "code",
   "execution_count": null,
   "id": "dbe9a4dc",
   "metadata": {},
   "outputs": [],
   "source": [
    "# 다 닫기\n",
    "driver.quit()"
   ]
  },
  {
   "cell_type": "code",
   "execution_count": 15,
   "id": "8b4ad683",
   "metadata": {},
   "outputs": [
    {
     "data": {
      "text/plain": [
       "['43B15907DDB393E8465698B67A7761DF',\n",
       " 'FD9BF72B53135ABBE6185ED74485B08B',\n",
       " '5C49AC63201E41F8686A169D9E70EDD7',\n",
       " 'E8CD166DDF8F95EE66A3163FA234C6A6']"
      ]
     },
     "execution_count": 15,
     "metadata": {},
     "output_type": "execute_result"
    }
   ],
   "source": [
    "# 윈도우 이름\n",
    "# 이름은 자동으로 부여\n",
    "# 타입 : list\n",
    "driver.window_handles"
   ]
  },
  {
   "cell_type": "code",
   "execution_count": 20,
   "id": "a662989c",
   "metadata": {},
   "outputs": [],
   "source": [
    "# 탭 이동\n",
    "# [문법] driver.switch_to.window(윈도우이름)\n",
    "driver.switch_to.window(driver.window_handles[3])"
   ]
  }
 ],
 "metadata": {
  "kernelspec": {
   "display_name": "ex_kernel",
   "language": "python",
   "name": "ex"
  },
  "language_info": {
   "codemirror_mode": {
    "name": "ipython",
    "version": 3
   },
   "file_extension": ".py",
   "mimetype": "text/x-python",
   "name": "python",
   "nbconvert_exporter": "python",
   "pygments_lexer": "ipython3",
   "version": "3.8.10"
  }
 },
 "nbformat": 4,
 "nbformat_minor": 5
}
