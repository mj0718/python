{
 "cells": [
  {
   "cell_type": "code",
   "execution_count": 1,
   "id": "ea864a91",
   "metadata": {},
   "outputs": [],
   "source": [
    "from selenium import webdriver\n",
    "from time import sleep"
   ]
  },
  {
   "cell_type": "code",
   "execution_count": 11,
   "id": "da7e2af7",
   "metadata": {},
   "outputs": [
    {
     "name": "stdout",
     "output_type": "stream",
     "text": [
      "1. 크롬 웹 브라우저 실행\n",
      "2. 네이버 접속\n"
     ]
    }
   ],
   "source": [
    "# 크롬 드라이버 옵션 설정\n",
    "chrome_options = webdriver.ChromeOptions()\n",
    "chrome_options.add_argument('headless') # 백그라운드로 실행\n",
    "chrome_options.add_argument('user-agent=Mozilla/5.0 (Windows NT 10.0; Win64; x64) AppleWebKit/537.36 (KHTML, like Gecko) Chrome/112.0.0.0 Safari/537.36')\n",
    "chrome_options.add_argument('lang=ko_KR')\n",
    "\n",
    "# chrome_options.add_argument('--window-size=360,640') # 창 크기 지정 / 콤마 사이에 공백 넣으면 안 됨\n",
    "# chrome_options.add_argument('--window-position=200,200') # 창 위치 지정\n",
    "\n",
    "chrome_options.add_argument('--start-maximized') # 최대화\n",
    "# chrome_options.add_argument('--start-fullscreen') # F11과 같은 기능\n",
    "\n",
    "# chrome_options.add_argument('--disable-gpu') # gpu 안 쓰게 함\n",
    "####################################################################\n",
    "\n",
    "# 1. 크롬 웹 브라우저 실행\n",
    "driver = webdriver.Chrome(options=chrome_options)\n",
    "print('1. 크롬 웹 브라우저 실행')\n",
    "\n",
    "# 2. 네이버 접속\n",
    "driver.get('https://www.naver.com/')\n",
    "print('2. 네이버 접속')"
   ]
  },
  {
   "cell_type": "code",
   "execution_count": 5,
   "id": "226a69ff",
   "metadata": {},
   "outputs": [],
   "source": [
    "driver.quit()"
   ]
  },
  {
   "cell_type": "code",
   "execution_count": null,
   "id": "201f13a3",
   "metadata": {},
   "outputs": [],
   "source": []
  },
  {
   "cell_type": "code",
   "execution_count": null,
   "id": "cbae1079",
   "metadata": {},
   "outputs": [],
   "source": []
  }
 ],
 "metadata": {
  "kernelspec": {
   "display_name": "ex_kernel",
   "language": "python",
   "name": "ex"
  },
  "language_info": {
   "codemirror_mode": {
    "name": "ipython",
    "version": 3
   },
   "file_extension": ".py",
   "mimetype": "text/x-python",
   "name": "python",
   "nbconvert_exporter": "python",
   "pygments_lexer": "ipython3",
   "version": "3.8.10"
  }
 },
 "nbformat": 4,
 "nbformat_minor": 5
}
