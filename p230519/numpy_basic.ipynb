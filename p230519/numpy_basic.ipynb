{
 "cells": [
  {
   "cell_type": "code",
   "execution_count": 1,
   "id": "1940e568",
   "metadata": {},
   "outputs": [],
   "source": [
    "import numpy as np"
   ]
  },
  {
   "cell_type": "markdown",
   "id": "270b03f0",
   "metadata": {},
   "source": [
    "- numpy \n",
    "    - Numerical Python\n",
    "    - 파이썬의 고성능 과학 계산용 패키지\n",
    "    - Matrix와 Vector와 같은 Array 연산\n",
    "    - list에 비해 연산 속도 빠르고, 메모리 효율적 사용\n",
    "    - 반복문 없이 배열 연산 가능\n",
    "    - 선형대수와 관련된 다양한 기능을 제공\n",
    "    - C, C++, 포트란 등의 언어 통합 가능"
   ]
  },
  {
   "cell_type": "markdown",
   "id": "33648413",
   "metadata": {},
   "source": [
    "# 차원에 따른 이름\n",
    "차원 | 이름 | 예제\n",
    "- | - | -\n",
    "0 | scalar | 7\n",
    "1 | vector | [10, 20]\n",
    "2 | matrix | [[10, 20], [30, 40]]\n",
    "3 | 3-tensor | [[[1, 3, 5], [7, 9, 11]], [[2, 4, 6], [8, 10 ,12]]]\n",
    "n | n-tensor |"
   ]
  },
  {
   "cell_type": "markdown",
   "id": "353499ca",
   "metadata": {},
   "source": [
    "## 스칼라 (scalar)\n",
    "- 상수"
   ]
  },
  {
   "cell_type": "code",
   "execution_count": 2,
   "id": "a5a6325e",
   "metadata": {},
   "outputs": [
    {
     "data": {
      "text/plain": [
       "True"
      ]
     },
     "execution_count": 2,
     "metadata": {},
     "output_type": "execute_result"
    }
   ],
   "source": [
    "np.isscalar(3)"
   ]
  },
  {
   "cell_type": "code",
   "execution_count": 3,
   "id": "f53e1073",
   "metadata": {},
   "outputs": [
    {
     "data": {
      "text/plain": [
       "True"
      ]
     },
     "execution_count": 3,
     "metadata": {},
     "output_type": "execute_result"
    }
   ],
   "source": [
    "np.isscalar(4.2)"
   ]
  },
  {
   "cell_type": "code",
   "execution_count": 4,
   "id": "c139e956",
   "metadata": {},
   "outputs": [
    {
     "data": {
      "text/plain": [
       "True"
      ]
     },
     "execution_count": 4,
     "metadata": {},
     "output_type": "execute_result"
    }
   ],
   "source": [
    "np.isscalar('hi')"
   ]
  },
  {
   "cell_type": "code",
   "execution_count": 5,
   "id": "8afa8a51",
   "metadata": {},
   "outputs": [
    {
     "data": {
      "text/plain": [
       "True"
      ]
     },
     "execution_count": 5,
     "metadata": {},
     "output_type": "execute_result"
    }
   ],
   "source": [
    "np.isscalar(True)"
   ]
  },
  {
   "cell_type": "code",
   "execution_count": 6,
   "id": "779623c5",
   "metadata": {},
   "outputs": [
    {
     "data": {
      "text/plain": [
       "False"
      ]
     },
     "execution_count": 6,
     "metadata": {},
     "output_type": "execute_result"
    }
   ],
   "source": [
    "np.isscalar([4])"
   ]
  },
  {
   "cell_type": "code",
   "execution_count": 7,
   "id": "c2bccf7d",
   "metadata": {},
   "outputs": [
    {
     "data": {
      "text/plain": [
       "False"
      ]
     },
     "execution_count": 7,
     "metadata": {},
     "output_type": "execute_result"
    }
   ],
   "source": [
    "np.isscalar(np.array([3, 4]))"
   ]
  },
  {
   "cell_type": "markdown",
   "id": "d6465a6a",
   "metadata": {},
   "source": [
    "## 벡터 (vector)\n",
    "- 크기와 방향을 갖는 물리량\n",
    "- 공간에서 갖는 하나의 점\n",
    "- 1차원 배열\n",
    "- 선\n",
    "- axis0"
   ]
  },
  {
   "cell_type": "code",
   "execution_count": 13,
   "id": "20bb796b",
   "metadata": {},
   "outputs": [
    {
     "name": "stdout",
     "output_type": "stream",
     "text": [
      "[0 1 2 3 4]\n",
      "<class 'numpy.ndarray'>\n",
      "ar size >> 5\n",
      "ar len >> 5\n",
      "ar shape >> (5,)\n",
      "ar dtype >> int32\n",
      "ar nbtypes >> 20\n"
     ]
    }
   ],
   "source": [
    "ar = np.arange(5)\n",
    "print(ar)\n",
    "print(type(ar))\n",
    "print('ar size >>', ar.size) # 전체 요소의 개수\n",
    "print('ar len >>', len(ar))  # 해당 축의 요소 개수\n",
    "print('ar shape >>', ar.shape)  # 크기(길이)가 5인 1차원 배열(벡터)\n",
    "print('ar dtype >>', ar.dtype)  # 32bit -> 4byte\n",
    "print('ar nbytes >>', ar.nbytes)  # 메모리 크기 : 4byte * 5개 = 20btye"
   ]
  },
  {
   "cell_type": "markdown",
   "id": "cc57f34c",
   "metadata": {},
   "source": [
    "## 매트릭스 (matrix)\n",
    "- 행과 열 : 행렬\n",
    "- 2차원 배열 : 1차원 배열 여러 개\n",
    "- 여러 개의 벡터 (벡터를 원소로 갖음)\n",
    "- 면\n",
    "- axis0, axis1"
   ]
  },
  {
   "cell_type": "code",
   "execution_count": 21,
   "id": "be9db172",
   "metadata": {},
   "outputs": [
    {
     "name": "stdout",
     "output_type": "stream",
     "text": [
      "[[0 1 2 3 4]\n",
      " [0 1 2 3 4]]\n",
      "ar2 size >> 10\n",
      "ar2 len >> 2\n",
      "ar2[0] len >> 5\n",
      "ar2 shape >> (2, 5)\n",
      "ar2 dtype >> int32\n",
      "ar2 nbytes >> 40\n"
     ]
    }
   ],
   "source": [
    "ar2 = np.array([ar, ar])\n",
    "print(ar2)\n",
    "print('ar2 size >>', ar2.size) # 전체 요소 개수 : 10\n",
    "print('ar2 len >>', len(ar2)) # 행 길이\n",
    "print('ar2[0] len >>', len(ar2[0])) # 열 길이\n",
    "print('ar2 shape >>', ar2.shape) # 크기가 2x5인 2차원 배열(matrix)\n",
    "print('ar2 dtype >>', ar2.dtype) # 32bit -> 4byte\n",
    "print('ar2 nbytes >>', ar2.nbytes) # 메모리 크기 : 4byte * 10개 = 40byte"
   ]
  },
  {
   "cell_type": "markdown",
   "id": "32bf01cf",
   "metadata": {},
   "source": [
    "## 텐서 (tensor)\n",
    "- 행, 열, 깊이/높이/차원\n",
    "- 3차원 배열 : 2차원 배열 여러 개\n",
    "- 입체\n",
    "- axis0, axis1, axis2"
   ]
  },
  {
   "cell_type": "code",
   "execution_count": 25,
   "id": "b9b31531",
   "metadata": {},
   "outputs": [
    {
     "name": "stdout",
     "output_type": "stream",
     "text": [
      "[[[0 1 2 3 4]\n",
      "  [0 1 2 3 4]]\n",
      "\n",
      " [[0 1 2 3 4]\n",
      "  [0 1 2 3 4]]\n",
      "\n",
      " [[0 1 2 3 4]\n",
      "  [0 1 2 3 4]]]\n",
      "ar3 size >> 30\n",
      "ar3 len >> 3\n",
      "ar3[0] len >> 2\n",
      "ar3 shape >> (3, 2, 5)\n",
      "ar3 dtype >> int32\n",
      "ar3 nbytes >> 120\n"
     ]
    }
   ],
   "source": [
    "ar3 = np.array([ar2, ar2, ar2])\n",
    "print(ar3)\n",
    "print('ar3 size >>', ar3.size)\n",
    "print('ar3 len >>', len(ar3))\n",
    "print('ar3[0] len >>', len(ar3[0]))\n",
    "print('ar3 shape >>', ar3.shape)\n",
    "print('ar3 dtype >>', ar3.dtype)\n",
    "print('ar3 nbytes >>', ar3.nbytes) # 4byte * 30개 = 120byte"
   ]
  },
  {
   "cell_type": "markdown",
   "id": "cb06a67e",
   "metadata": {},
   "source": [
    "# numpy type \n",
    "- int : 정수\n",
    "- uint : 부호없는 정수 (음수가 없음)\n",
    "- float : 실수\n",
    "- comlpex : 복소수 (실수, 허수)\n",
    "- bool : 논리"
   ]
  },
  {
   "cell_type": "code",
   "execution_count": 26,
   "id": "1953e40e",
   "metadata": {},
   "outputs": [
    {
     "data": {
      "text/plain": [
       "array([0, 1, 2, 3, 4])"
      ]
     },
     "execution_count": 26,
     "metadata": {},
     "output_type": "execute_result"
    }
   ],
   "source": [
    "ar = np.arange(5)\n",
    "ar"
   ]
  },
  {
   "cell_type": "code",
   "execution_count": 27,
   "id": "72edc703",
   "metadata": {},
   "outputs": [
    {
     "data": {
      "text/plain": [
       "dtype('int32')"
      ]
     },
     "execution_count": 27,
     "metadata": {},
     "output_type": "execute_result"
    }
   ],
   "source": [
    "ar.dtype"
   ]
  },
  {
   "cell_type": "markdown",
   "id": "793fe963",
   "metadata": {},
   "source": [
    "## int"
   ]
  },
  {
   "cell_type": "code",
   "execution_count": 33,
   "id": "06284989",
   "metadata": {},
   "outputs": [
    {
     "data": {
      "text/plain": [
       "array([0, 1, 2, 3, 4], dtype=int64)"
      ]
     },
     "execution_count": 33,
     "metadata": {},
     "output_type": "execute_result"
    }
   ],
   "source": [
    "ar.astype('int8') # 8bit\n",
    "ar.astype('int16') # 16bit\n",
    "ar.astype('int32') # 32bit\n",
    "ar.astype('int64') # 64bit\n",
    "# ar.astype('int128') Error"
   ]
  },
  {
   "cell_type": "code",
   "execution_count": 53,
   "id": "4b1aeb53",
   "metadata": {},
   "outputs": [
    {
     "data": {
      "text/plain": [
       "numpy.int64"
      ]
     },
     "execution_count": 53,
     "metadata": {},
     "output_type": "execute_result"
    }
   ],
   "source": [
    "type(ar.astype('int64')[-1])"
   ]
  },
  {
   "cell_type": "markdown",
   "id": "4bf65ec3",
   "metadata": {},
   "source": [
    "## unsigned int"
   ]
  },
  {
   "cell_type": "code",
   "execution_count": 39,
   "id": "e751a576",
   "metadata": {},
   "outputs": [
    {
     "data": {
      "text/plain": [
       "array([0, 1, 2, 3, 4], dtype=uint64)"
      ]
     },
     "execution_count": 39,
     "metadata": {},
     "output_type": "execute_result"
    }
   ],
   "source": [
    "ar.astype('uint8')\n",
    "ar.astype('uint16')\n",
    "ar.astype('uint32')\n",
    "ar.astype('uint64')\n",
    "# ar.astype('uint128') Error"
   ]
  },
  {
   "cell_type": "markdown",
   "id": "4aa0d586",
   "metadata": {},
   "source": [
    "## float"
   ]
  },
  {
   "cell_type": "code",
   "execution_count": 44,
   "id": "4974dd6f",
   "metadata": {},
   "outputs": [
    {
     "data": {
      "text/plain": [
       "array([0., 1., 2., 3., 4.])"
      ]
     },
     "execution_count": 44,
     "metadata": {},
     "output_type": "execute_result"
    }
   ],
   "source": [
    "# ar.astype('float8') Error\n",
    "ar.astype('float16')\n",
    "ar.astype('float32')\n",
    "ar.astype('float64') # default\n",
    "# ar.astype('float128') Error"
   ]
  },
  {
   "cell_type": "markdown",
   "id": "c53eca37",
   "metadata": {},
   "source": [
    "## str"
   ]
  },
  {
   "cell_type": "code",
   "execution_count": 48,
   "id": "8698f910",
   "metadata": {
    "scrolled": true
   },
   "outputs": [
    {
     "data": {
      "text/plain": [
       "dtype('<U2')"
      ]
     },
     "execution_count": 48,
     "metadata": {},
     "output_type": "execute_result"
    }
   ],
   "source": [
    "ar_str = np.array(['hi'])\n",
    "ar_str.dtype"
   ]
  },
  {
   "cell_type": "code",
   "execution_count": 49,
   "id": "1c9f972a",
   "metadata": {},
   "outputs": [
    {
     "data": {
      "text/plain": [
       "dtype('<U5')"
      ]
     },
     "execution_count": 49,
     "metadata": {},
     "output_type": "execute_result"
    }
   ],
   "source": [
    "ar_str = np.array(['hello'])\n",
    "ar_str.dtype"
   ]
  },
  {
   "cell_type": "code",
   "execution_count": 50,
   "id": "23a4fd0e",
   "metadata": {
    "scrolled": true
   },
   "outputs": [
    {
     "data": {
      "text/plain": [
       "dtype('<U9')"
      ]
     },
     "execution_count": 50,
     "metadata": {},
     "output_type": "execute_result"
    }
   ],
   "source": [
    "ar_str = np.array(['오늘도 좋은 하루'])\n",
    "ar_str.dtype"
   ]
  },
  {
   "cell_type": "code",
   "execution_count": 51,
   "id": "8fcaf665",
   "metadata": {
    "scrolled": true
   },
   "outputs": [
    {
     "data": {
      "text/plain": [
       "dtype('<U5')"
      ]
     },
     "execution_count": 51,
     "metadata": {},
     "output_type": "execute_result"
    }
   ],
   "source": [
    "ar_str = np.array(['hi', 'hello']) # 가장 긴 길이가 나옴\n",
    "ar_str.dtype"
   ]
  },
  {
   "cell_type": "markdown",
   "id": "9ea8f0c4",
   "metadata": {},
   "source": [
    "# 전치 행렬"
   ]
  },
  {
   "cell_type": "code",
   "execution_count": 54,
   "id": "5b83ffae",
   "metadata": {},
   "outputs": [
    {
     "data": {
      "text/plain": [
       "(2, 5)"
      ]
     },
     "execution_count": 54,
     "metadata": {},
     "output_type": "execute_result"
    }
   ],
   "source": [
    "ar2.shape"
   ]
  },
  {
   "cell_type": "code",
   "execution_count": 55,
   "id": "f69f7326",
   "metadata": {},
   "outputs": [
    {
     "data": {
      "text/plain": [
       "array([[0, 0],\n",
       "       [1, 1],\n",
       "       [2, 2],\n",
       "       [3, 3],\n",
       "       [4, 4]])"
      ]
     },
     "execution_count": 55,
     "metadata": {},
     "output_type": "execute_result"
    }
   ],
   "source": [
    "ar2.transpose()"
   ]
  },
  {
   "cell_type": "code",
   "execution_count": 56,
   "id": "780d318a",
   "metadata": {},
   "outputs": [
    {
     "data": {
      "text/plain": [
       "(5, 2)"
      ]
     },
     "execution_count": 56,
     "metadata": {},
     "output_type": "execute_result"
    }
   ],
   "source": [
    "ar2.transpose().shape"
   ]
  },
  {
   "cell_type": "code",
   "execution_count": 57,
   "id": "e51005e2",
   "metadata": {
    "scrolled": true
   },
   "outputs": [
    {
     "data": {
      "text/plain": [
       "array([[0, 0],\n",
       "       [1, 1],\n",
       "       [2, 2],\n",
       "       [3, 3],\n",
       "       [4, 4]])"
      ]
     },
     "execution_count": 57,
     "metadata": {},
     "output_type": "execute_result"
    }
   ],
   "source": [
    "ar2.T"
   ]
  },
  {
   "cell_type": "code",
   "execution_count": 58,
   "id": "d460256b",
   "metadata": {
    "scrolled": true
   },
   "outputs": [
    {
     "data": {
      "text/plain": [
       "(5, 2)"
      ]
     },
     "execution_count": 58,
     "metadata": {},
     "output_type": "execute_result"
    }
   ],
   "source": [
    "ar2.T.shape"
   ]
  },
  {
   "cell_type": "markdown",
   "id": "77a69aab",
   "metadata": {},
   "source": [
    "## 다차원 배열을 1차원 배열로 크기 변경(변형)"
   ]
  },
  {
   "cell_type": "code",
   "execution_count": 59,
   "id": "ab4381fc",
   "metadata": {},
   "outputs": [
    {
     "data": {
      "text/plain": [
       "array([0, 1, 2, 3, 4, 0, 1, 2, 3, 4])"
      ]
     },
     "execution_count": 59,
     "metadata": {},
     "output_type": "execute_result"
    }
   ],
   "source": [
    "ar2.reshape(-1)"
   ]
  },
  {
   "cell_type": "code",
   "execution_count": 60,
   "id": "95f3a2d5",
   "metadata": {},
   "outputs": [
    {
     "data": {
      "text/plain": [
       "array([0, 1, 2, 3, 4, 0, 1, 2, 3, 4])"
      ]
     },
     "execution_count": 60,
     "metadata": {},
     "output_type": "execute_result"
    }
   ],
   "source": [
    "ar2.flatten()"
   ]
  },
  {
   "cell_type": "code",
   "execution_count": 61,
   "id": "9eabc2eb",
   "metadata": {},
   "outputs": [
    {
     "data": {
      "text/plain": [
       "array([0, 1, 2, 3, 4, 0, 1, 2, 3, 4])"
      ]
     },
     "execution_count": 61,
     "metadata": {},
     "output_type": "execute_result"
    }
   ],
   "source": [
    "ar2.ravel()"
   ]
  },
  {
   "cell_type": "code",
   "execution_count": 62,
   "id": "531dbc01",
   "metadata": {},
   "outputs": [
    {
     "data": {
      "text/plain": [
       "array([0, 1, 2, 3, 4, 0, 1, 2, 3, 4, 0, 1, 2, 3, 4, 0, 1, 2, 3, 4, 0, 1,\n",
       "       2, 3, 4, 0, 1, 2, 3, 4])"
      ]
     },
     "execution_count": 62,
     "metadata": {},
     "output_type": "execute_result"
    }
   ],
   "source": [
    "ar3.reshape(-1)"
   ]
  },
  {
   "cell_type": "code",
   "execution_count": 63,
   "id": "af742f41",
   "metadata": {},
   "outputs": [
    {
     "data": {
      "text/plain": [
       "array([0, 1, 2, 3, 4, 0, 1, 2, 3, 4, 0, 1, 2, 3, 4, 0, 1, 2, 3, 4, 0, 1,\n",
       "       2, 3, 4, 0, 1, 2, 3, 4])"
      ]
     },
     "execution_count": 63,
     "metadata": {},
     "output_type": "execute_result"
    }
   ],
   "source": [
    "ar3.flatten()"
   ]
  },
  {
   "cell_type": "code",
   "execution_count": 64,
   "id": "37636e24",
   "metadata": {},
   "outputs": [
    {
     "data": {
      "text/plain": [
       "array([0, 1, 2, 3, 4, 0, 1, 2, 3, 4, 0, 1, 2, 3, 4, 0, 1, 2, 3, 4, 0, 1,\n",
       "       2, 3, 4, 0, 1, 2, 3, 4])"
      ]
     },
     "execution_count": 64,
     "metadata": {},
     "output_type": "execute_result"
    }
   ],
   "source": [
    "ar3.ravel()"
   ]
  }
 ],
 "metadata": {
  "kernelspec": {
   "display_name": "ex_kernel",
   "language": "python",
   "name": "ex"
  },
  "language_info": {
   "codemirror_mode": {
    "name": "ipython",
    "version": 3
   },
   "file_extension": ".py",
   "mimetype": "text/x-python",
   "name": "python",
   "nbconvert_exporter": "python",
   "pygments_lexer": "ipython3",
   "version": "3.8.10"
  },
  "toc": {
   "base_numbering": 1,
   "nav_menu": {},
   "number_sections": true,
   "sideBar": true,
   "skip_h1_title": false,
   "title_cell": "Table of Contents",
   "title_sidebar": "Contents",
   "toc_cell": false,
   "toc_position": {},
   "toc_section_display": true,
   "toc_window_display": false
  }
 },
 "nbformat": 4,
 "nbformat_minor": 5
}
