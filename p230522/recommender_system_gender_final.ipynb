{
 "cells": [
  {
   "cell_type": "markdown",
   "id": "8eac3d6f",
   "metadata": {},
   "source": [
    "# 추천 시스템"
   ]
  },
  {
   "cell_type": "markdown",
   "id": "249d441e",
   "metadata": {},
   "source": [
    "- 사용자 집단별 추천\n",
    "    - 성별"
   ]
  },
  {
   "cell_type": "markdown",
   "id": "17ca3dab",
   "metadata": {},
   "source": [
    "## 전처리"
   ]
  },
  {
   "cell_type": "code",
   "execution_count": 1,
   "id": "9bc42baa",
   "metadata": {},
   "outputs": [],
   "source": [
    "import pandas as pd\n",
    "import numpy as np"
   ]
  },
  {
   "cell_type": "code",
   "execution_count": 2,
   "id": "5e16bc97",
   "metadata": {},
   "outputs": [
    {
     "data": {
      "text/html": [
       "<div>\n",
       "<style scoped>\n",
       "    .dataframe tbody tr th:only-of-type {\n",
       "        vertical-align: middle;\n",
       "    }\n",
       "\n",
       "    .dataframe tbody tr th {\n",
       "        vertical-align: top;\n",
       "    }\n",
       "\n",
       "    .dataframe thead th {\n",
       "        text-align: right;\n",
       "    }\n",
       "</style>\n",
       "<table border=\"1\" class=\"dataframe\">\n",
       "  <thead>\n",
       "    <tr style=\"text-align: right;\">\n",
       "      <th></th>\n",
       "      <th>user_id</th>\n",
       "      <th>age</th>\n",
       "      <th>gender</th>\n",
       "      <th>job</th>\n",
       "      <th>zip_code</th>\n",
       "    </tr>\n",
       "  </thead>\n",
       "  <tbody>\n",
       "    <tr>\n",
       "      <th>0</th>\n",
       "      <td>1</td>\n",
       "      <td>24</td>\n",
       "      <td>M</td>\n",
       "      <td>technician</td>\n",
       "      <td>85711</td>\n",
       "    </tr>\n",
       "    <tr>\n",
       "      <th>1</th>\n",
       "      <td>2</td>\n",
       "      <td>53</td>\n",
       "      <td>F</td>\n",
       "      <td>other</td>\n",
       "      <td>94043</td>\n",
       "    </tr>\n",
       "  </tbody>\n",
       "</table>\n",
       "</div>"
      ],
      "text/plain": [
       "   user_id  age gender         job zip_code\n",
       "0        1   24      M  technician    85711\n",
       "1        2   53      F       other    94043"
      ]
     },
     "execution_count": 2,
     "metadata": {},
     "output_type": "execute_result"
    }
   ],
   "source": [
    "## 사용자\n",
    "users = pd.read_csv('users.csv')\n",
    "users[:2]"
   ]
  },
  {
   "cell_type": "code",
   "execution_count": 3,
   "id": "77be8c1f",
   "metadata": {},
   "outputs": [
    {
     "data": {
      "text/html": [
       "<div>\n",
       "<style scoped>\n",
       "    .dataframe tbody tr th:only-of-type {\n",
       "        vertical-align: middle;\n",
       "    }\n",
       "\n",
       "    .dataframe tbody tr th {\n",
       "        vertical-align: top;\n",
       "    }\n",
       "\n",
       "    .dataframe thead th {\n",
       "        text-align: right;\n",
       "    }\n",
       "</style>\n",
       "<table border=\"1\" class=\"dataframe\">\n",
       "  <thead>\n",
       "    <tr style=\"text-align: right;\">\n",
       "      <th></th>\n",
       "      <th>user_id</th>\n",
       "      <th>movie_id</th>\n",
       "      <th>rating</th>\n",
       "      <th>timestamp</th>\n",
       "    </tr>\n",
       "  </thead>\n",
       "  <tbody>\n",
       "    <tr>\n",
       "      <th>0</th>\n",
       "      <td>1</td>\n",
       "      <td>55</td>\n",
       "      <td>5</td>\n",
       "      <td>875072688</td>\n",
       "    </tr>\n",
       "    <tr>\n",
       "      <th>1</th>\n",
       "      <td>1</td>\n",
       "      <td>203</td>\n",
       "      <td>4</td>\n",
       "      <td>878542231</td>\n",
       "    </tr>\n",
       "  </tbody>\n",
       "</table>\n",
       "</div>"
      ],
      "text/plain": [
       "   user_id  movie_id  rating  timestamp\n",
       "0        1        55       5  875072688\n",
       "1        1       203       4  878542231"
      ]
     },
     "execution_count": 3,
     "metadata": {},
     "output_type": "execute_result"
    }
   ],
   "source": [
    "## 영화 평점\n",
    "ratings = pd.read_csv('ratings.csv')\n",
    "ratings[:2]"
   ]
  },
  {
   "cell_type": "code",
   "execution_count": 4,
   "id": "f62dd1c6",
   "metadata": {},
   "outputs": [
    {
     "data": {
      "text/html": [
       "<div>\n",
       "<style scoped>\n",
       "    .dataframe tbody tr th:only-of-type {\n",
       "        vertical-align: middle;\n",
       "    }\n",
       "\n",
       "    .dataframe tbody tr th {\n",
       "        vertical-align: top;\n",
       "    }\n",
       "\n",
       "    .dataframe thead th {\n",
       "        text-align: right;\n",
       "    }\n",
       "</style>\n",
       "<table border=\"1\" class=\"dataframe\">\n",
       "  <thead>\n",
       "    <tr style=\"text-align: right;\">\n",
       "      <th></th>\n",
       "      <th>user_id</th>\n",
       "      <th>movie_id</th>\n",
       "      <th>rating</th>\n",
       "    </tr>\n",
       "  </thead>\n",
       "  <tbody>\n",
       "    <tr>\n",
       "      <th>0</th>\n",
       "      <td>1</td>\n",
       "      <td>55</td>\n",
       "      <td>5</td>\n",
       "    </tr>\n",
       "    <tr>\n",
       "      <th>1</th>\n",
       "      <td>1</td>\n",
       "      <td>203</td>\n",
       "      <td>4</td>\n",
       "    </tr>\n",
       "  </tbody>\n",
       "</table>\n",
       "</div>"
      ],
      "text/plain": [
       "   user_id  movie_id  rating\n",
       "0        1        55       5\n",
       "1        1       203       4"
      ]
     },
     "execution_count": 4,
     "metadata": {},
     "output_type": "execute_result"
    }
   ],
   "source": [
    "## 컬럼 삭제 : timestamp\n",
    "ratings.drop('timestamp', axis=1, inplace=True)\n",
    "ratings[:2]"
   ]
  },
  {
   "cell_type": "code",
   "execution_count": 5,
   "id": "c23cbc8f",
   "metadata": {},
   "outputs": [
    {
     "data": {
      "text/html": [
       "<div>\n",
       "<style scoped>\n",
       "    .dataframe tbody tr th:only-of-type {\n",
       "        vertical-align: middle;\n",
       "    }\n",
       "\n",
       "    .dataframe tbody tr th {\n",
       "        vertical-align: top;\n",
       "    }\n",
       "\n",
       "    .dataframe thead th {\n",
       "        text-align: right;\n",
       "    }\n",
       "</style>\n",
       "<table border=\"1\" class=\"dataframe\">\n",
       "  <thead>\n",
       "    <tr style=\"text-align: right;\">\n",
       "      <th></th>\n",
       "      <th>movie_id</th>\n",
       "      <th>title</th>\n",
       "      <th>release date</th>\n",
       "      <th>imdb url</th>\n",
       "      <th>action</th>\n",
       "      <th>adventure</th>\n",
       "      <th>animation</th>\n",
       "      <th>children</th>\n",
       "      <th>comedy</th>\n",
       "      <th>crime</th>\n",
       "      <th>...</th>\n",
       "      <th>fantasy</th>\n",
       "      <th>film-noir</th>\n",
       "      <th>horror</th>\n",
       "      <th>musical</th>\n",
       "      <th>mystery</th>\n",
       "      <th>romance</th>\n",
       "      <th>sci-fi</th>\n",
       "      <th>thriller</th>\n",
       "      <th>war</th>\n",
       "      <th>western</th>\n",
       "    </tr>\n",
       "  </thead>\n",
       "  <tbody>\n",
       "    <tr>\n",
       "      <th>0</th>\n",
       "      <td>1</td>\n",
       "      <td>Toy Story (1995)</td>\n",
       "      <td>01-Jan-1995</td>\n",
       "      <td>http://us.imdb.com/M/title-exact?Toy%20Story%2...</td>\n",
       "      <td>0</td>\n",
       "      <td>0</td>\n",
       "      <td>1</td>\n",
       "      <td>1</td>\n",
       "      <td>1</td>\n",
       "      <td>0</td>\n",
       "      <td>...</td>\n",
       "      <td>0</td>\n",
       "      <td>0</td>\n",
       "      <td>0</td>\n",
       "      <td>0</td>\n",
       "      <td>0</td>\n",
       "      <td>0</td>\n",
       "      <td>0</td>\n",
       "      <td>0</td>\n",
       "      <td>0</td>\n",
       "      <td>0</td>\n",
       "    </tr>\n",
       "    <tr>\n",
       "      <th>1</th>\n",
       "      <td>2</td>\n",
       "      <td>GoldenEye (1995)</td>\n",
       "      <td>01-Jan-1995</td>\n",
       "      <td>http://us.imdb.com/M/title-exact?GoldenEye%20(...</td>\n",
       "      <td>1</td>\n",
       "      <td>1</td>\n",
       "      <td>0</td>\n",
       "      <td>0</td>\n",
       "      <td>0</td>\n",
       "      <td>0</td>\n",
       "      <td>...</td>\n",
       "      <td>0</td>\n",
       "      <td>0</td>\n",
       "      <td>0</td>\n",
       "      <td>0</td>\n",
       "      <td>0</td>\n",
       "      <td>0</td>\n",
       "      <td>0</td>\n",
       "      <td>1</td>\n",
       "      <td>0</td>\n",
       "      <td>0</td>\n",
       "    </tr>\n",
       "  </tbody>\n",
       "</table>\n",
       "<p>2 rows × 22 columns</p>\n",
       "</div>"
      ],
      "text/plain": [
       "   movie_id             title release date   \n",
       "0         1  Toy Story (1995)  01-Jan-1995  \\\n",
       "1         2  GoldenEye (1995)  01-Jan-1995   \n",
       "\n",
       "                                            imdb url  action  adventure   \n",
       "0  http://us.imdb.com/M/title-exact?Toy%20Story%2...       0          0  \\\n",
       "1  http://us.imdb.com/M/title-exact?GoldenEye%20(...       1          1   \n",
       "\n",
       "   animation  children  comedy  crime  ...  fantasy  film-noir  horror   \n",
       "0          1         1       1      0  ...        0          0       0  \\\n",
       "1          0         0       0      0  ...        0          0       0   \n",
       "\n",
       "   musical  mystery  romance  sci-fi  thriller  war  western  \n",
       "0        0        0        0       0         0    0        0  \n",
       "1        0        0        0       0         1    0        0  \n",
       "\n",
       "[2 rows x 22 columns]"
      ]
     },
     "execution_count": 5,
     "metadata": {},
     "output_type": "execute_result"
    }
   ],
   "source": [
    "## 영화 정보\n",
    "movies = pd.read_csv('movies.csv')\n",
    "movies[:2]"
   ]
  },
  {
   "cell_type": "code",
   "execution_count": 6,
   "id": "1d0d9971",
   "metadata": {},
   "outputs": [
    {
     "data": {
      "text/html": [
       "<div>\n",
       "<style scoped>\n",
       "    .dataframe tbody tr th:only-of-type {\n",
       "        vertical-align: middle;\n",
       "    }\n",
       "\n",
       "    .dataframe tbody tr th {\n",
       "        vertical-align: top;\n",
       "    }\n",
       "\n",
       "    .dataframe thead th {\n",
       "        text-align: right;\n",
       "    }\n",
       "</style>\n",
       "<table border=\"1\" class=\"dataframe\">\n",
       "  <thead>\n",
       "    <tr style=\"text-align: right;\">\n",
       "      <th></th>\n",
       "      <th>movie_id</th>\n",
       "      <th>title</th>\n",
       "    </tr>\n",
       "  </thead>\n",
       "  <tbody>\n",
       "    <tr>\n",
       "      <th>0</th>\n",
       "      <td>1</td>\n",
       "      <td>Toy Story (1995)</td>\n",
       "    </tr>\n",
       "    <tr>\n",
       "      <th>1</th>\n",
       "      <td>2</td>\n",
       "      <td>GoldenEye (1995)</td>\n",
       "    </tr>\n",
       "  </tbody>\n",
       "</table>\n",
       "</div>"
      ],
      "text/plain": [
       "   movie_id             title\n",
       "0         1  Toy Story (1995)\n",
       "1         2  GoldenEye (1995)"
      ]
     },
     "execution_count": 6,
     "metadata": {},
     "output_type": "execute_result"
    }
   ],
   "source": [
    "## 컬럼 정리 : movie_id, title만 사용\n",
    "movies = movies[['movie_id', 'title']]\n",
    "movies[:2]"
   ]
  },
  {
   "cell_type": "markdown",
   "id": "64b9df8e",
   "metadata": {},
   "source": [
    "## 데이터 셋 분리\n",
    "- Train data\n",
    "    - 모델을 학습하기 위한 데이터 셋\n",
    "    - 학습은 최적의 파라미터를 찾는 것\n",
    "    - 학습을 위한 데이터\n",
    "- Test data\n",
    "    - 모델의 '최종 성능'을 평가하기 위한 데이터 셋\n",
    "    - 모델 학습에 관여하지 않음\n",
    "- Train data로 학습하고, Test data로 최종 성능 평가"
   ]
  },
  {
   "cell_type": "markdown",
   "id": "8d6b1d06",
   "metadata": {},
   "source": [
    "### train, test set 분리"
   ]
  },
  {
   "cell_type": "code",
   "execution_count": 7,
   "id": "7e5540f9",
   "metadata": {},
   "outputs": [],
   "source": [
    "## train, test set 분리\n",
    "from sklearn.model_selection import train_test_split\n",
    "\n",
    "x = ratings.copy()\n",
    "y = ratings.user_id"
   ]
  },
  {
   "cell_type": "code",
   "execution_count": 8,
   "id": "d991b2fc",
   "metadata": {},
   "outputs": [],
   "source": [
    "## x_train : 학습용 데이터\n",
    "## x_test : 정확도 검증용 데이터\n",
    "## y_train, y_test : 사용자 ID\n",
    "x_train, x_test, y_train, y_test = train_test_split(x,               ## feature data\n",
    "                                                    y,               ## target data\n",
    "                                                    test_size=0.25,  ## test data size\n",
    "                                                    #random_state=1,  ## random seed  \n",
    "                                                    #shuffle=True,   ## default : True\n",
    "                                                    stratify=y,      ## 값 기준으로 train, test data 분리\n",
    "                                                   )"
   ]
  },
  {
   "cell_type": "markdown",
   "id": "a92c1b69",
   "metadata": {},
   "source": [
    "## Gender 기준 추천 모델"
   ]
  },
  {
   "cell_type": "code",
   "execution_count": 9,
   "id": "fe7f789b",
   "metadata": {},
   "outputs": [
    {
     "data": {
      "text/html": [
       "<div>\n",
       "<style scoped>\n",
       "    .dataframe tbody tr th:only-of-type {\n",
       "        vertical-align: middle;\n",
       "    }\n",
       "\n",
       "    .dataframe tbody tr th {\n",
       "        vertical-align: top;\n",
       "    }\n",
       "\n",
       "    .dataframe thead th {\n",
       "        text-align: right;\n",
       "    }\n",
       "</style>\n",
       "<table border=\"1\" class=\"dataframe\">\n",
       "  <thead>\n",
       "    <tr style=\"text-align: right;\">\n",
       "      <th></th>\n",
       "      <th>user_id</th>\n",
       "      <th>movie_id</th>\n",
       "      <th>rating</th>\n",
       "      <th>age</th>\n",
       "      <th>gender</th>\n",
       "      <th>job</th>\n",
       "      <th>zip_code</th>\n",
       "    </tr>\n",
       "  </thead>\n",
       "  <tbody>\n",
       "    <tr>\n",
       "      <th>0</th>\n",
       "      <td>533</td>\n",
       "      <td>451</td>\n",
       "      <td>2</td>\n",
       "      <td>43</td>\n",
       "      <td>M</td>\n",
       "      <td>librarian</td>\n",
       "      <td>02324</td>\n",
       "    </tr>\n",
       "    <tr>\n",
       "      <th>1</th>\n",
       "      <td>533</td>\n",
       "      <td>568</td>\n",
       "      <td>5</td>\n",
       "      <td>43</td>\n",
       "      <td>M</td>\n",
       "      <td>librarian</td>\n",
       "      <td>02324</td>\n",
       "    </tr>\n",
       "  </tbody>\n",
       "</table>\n",
       "</div>"
      ],
      "text/plain": [
       "   user_id  movie_id  rating  age gender        job zip_code\n",
       "0      533       451       2   43      M  librarian    02324\n",
       "1      533       568       5   43      M  librarian    02324"
      ]
     },
     "execution_count": 9,
     "metadata": {},
     "output_type": "execute_result"
    }
   ],
   "source": [
    "## x_train를 users와 merge\n",
    "merged_ratings = pd.merge(x_train, users)\n",
    "merged_ratings[:2]"
   ]
  },
  {
   "cell_type": "code",
   "execution_count": 10,
   "id": "49258652",
   "metadata": {},
   "outputs": [
    {
     "data": {
      "text/plain": [
       "movie_id  gender\n",
       "1         F         3.842697\n",
       "          M         3.859848\n",
       "2         F         3.333333\n",
       "          M         3.151163\n",
       "3         F         2.857143\n",
       "                      ...   \n",
       "1677      F         3.000000\n",
       "1678      M         1.000000\n",
       "1679      M         3.000000\n",
       "1681      M         3.000000\n",
       "1682      M         3.000000\n",
       "Name: rating, Length: 3032, dtype: float64"
      ]
     },
     "execution_count": 10,
     "metadata": {},
     "output_type": "execute_result"
    }
   ],
   "source": [
    "## 영화별 성별별 평점 평균 계산\n",
    "g_mean = merged_ratings[['movie_id', 'gender', 'rating']].groupby(['movie_id', 'gender']).rating.mean()\n",
    "g_mean"
   ]
  },
  {
   "cell_type": "code",
   "execution_count": 11,
   "id": "c860b2c9",
   "metadata": {},
   "outputs": [
    {
     "data": {
      "text/html": [
       "<div>\n",
       "<style scoped>\n",
       "    .dataframe tbody tr th:only-of-type {\n",
       "        vertical-align: middle;\n",
       "    }\n",
       "\n",
       "    .dataframe tbody tr th {\n",
       "        vertical-align: top;\n",
       "    }\n",
       "\n",
       "    .dataframe thead th {\n",
       "        text-align: right;\n",
       "    }\n",
       "</style>\n",
       "<table border=\"1\" class=\"dataframe\">\n",
       "  <thead>\n",
       "    <tr style=\"text-align: right;\">\n",
       "      <th></th>\n",
       "      <th>age</th>\n",
       "      <th>gender</th>\n",
       "      <th>job</th>\n",
       "      <th>zip_code</th>\n",
       "    </tr>\n",
       "    <tr>\n",
       "      <th>user_id</th>\n",
       "      <th></th>\n",
       "      <th></th>\n",
       "      <th></th>\n",
       "      <th></th>\n",
       "    </tr>\n",
       "  </thead>\n",
       "  <tbody>\n",
       "    <tr>\n",
       "      <th>1</th>\n",
       "      <td>24</td>\n",
       "      <td>M</td>\n",
       "      <td>technician</td>\n",
       "      <td>85711</td>\n",
       "    </tr>\n",
       "    <tr>\n",
       "      <th>2</th>\n",
       "      <td>53</td>\n",
       "      <td>F</td>\n",
       "      <td>other</td>\n",
       "      <td>94043</td>\n",
       "    </tr>\n",
       "  </tbody>\n",
       "</table>\n",
       "</div>"
      ],
      "text/plain": [
       "         age gender         job zip_code\n",
       "user_id                                 \n",
       "1         24      M  technician    85711\n",
       "2         53      F       other    94043"
      ]
     },
     "execution_count": 11,
     "metadata": {},
     "output_type": "execute_result"
    }
   ],
   "source": [
    "users.set_index('user_id', inplace=True)\n",
    "users[:2]"
   ]
  },
  {
   "cell_type": "code",
   "execution_count": 41,
   "id": "cf72d789",
   "metadata": {},
   "outputs": [
    {
     "data": {
      "text/html": [
       "<div>\n",
       "<style scoped>\n",
       "    .dataframe tbody tr th:only-of-type {\n",
       "        vertical-align: middle;\n",
       "    }\n",
       "\n",
       "    .dataframe tbody tr th {\n",
       "        vertical-align: top;\n",
       "    }\n",
       "\n",
       "    .dataframe thead th {\n",
       "        text-align: right;\n",
       "    }\n",
       "</style>\n",
       "<table border=\"1\" class=\"dataframe\">\n",
       "  <thead>\n",
       "    <tr style=\"text-align: right;\">\n",
       "      <th>movie_id</th>\n",
       "      <th>1</th>\n",
       "      <th>2</th>\n",
       "      <th>3</th>\n",
       "      <th>4</th>\n",
       "      <th>5</th>\n",
       "      <th>6</th>\n",
       "      <th>7</th>\n",
       "      <th>8</th>\n",
       "      <th>9</th>\n",
       "      <th>10</th>\n",
       "      <th>...</th>\n",
       "      <th>1669</th>\n",
       "      <th>1671</th>\n",
       "      <th>1672</th>\n",
       "      <th>1673</th>\n",
       "      <th>1675</th>\n",
       "      <th>1677</th>\n",
       "      <th>1678</th>\n",
       "      <th>1679</th>\n",
       "      <th>1680</th>\n",
       "      <th>1682</th>\n",
       "    </tr>\n",
       "    <tr>\n",
       "      <th>user_id</th>\n",
       "      <th></th>\n",
       "      <th></th>\n",
       "      <th></th>\n",
       "      <th></th>\n",
       "      <th></th>\n",
       "      <th></th>\n",
       "      <th></th>\n",
       "      <th></th>\n",
       "      <th></th>\n",
       "      <th></th>\n",
       "      <th></th>\n",
       "      <th></th>\n",
       "      <th></th>\n",
       "      <th></th>\n",
       "      <th></th>\n",
       "      <th></th>\n",
       "      <th></th>\n",
       "      <th></th>\n",
       "      <th></th>\n",
       "      <th></th>\n",
       "      <th></th>\n",
       "    </tr>\n",
       "  </thead>\n",
       "  <tbody>\n",
       "    <tr>\n",
       "      <th>1</th>\n",
       "      <td>5.0</td>\n",
       "      <td>3.0</td>\n",
       "      <td>4.0</td>\n",
       "      <td>NaN</td>\n",
       "      <td>NaN</td>\n",
       "      <td>NaN</td>\n",
       "      <td>NaN</td>\n",
       "      <td>NaN</td>\n",
       "      <td>5.0</td>\n",
       "      <td>3.0</td>\n",
       "      <td>...</td>\n",
       "      <td>NaN</td>\n",
       "      <td>NaN</td>\n",
       "      <td>NaN</td>\n",
       "      <td>NaN</td>\n",
       "      <td>NaN</td>\n",
       "      <td>NaN</td>\n",
       "      <td>NaN</td>\n",
       "      <td>NaN</td>\n",
       "      <td>NaN</td>\n",
       "      <td>NaN</td>\n",
       "    </tr>\n",
       "    <tr>\n",
       "      <th>2</th>\n",
       "      <td>4.0</td>\n",
       "      <td>NaN</td>\n",
       "      <td>NaN</td>\n",
       "      <td>NaN</td>\n",
       "      <td>NaN</td>\n",
       "      <td>NaN</td>\n",
       "      <td>NaN</td>\n",
       "      <td>NaN</td>\n",
       "      <td>NaN</td>\n",
       "      <td>2.0</td>\n",
       "      <td>...</td>\n",
       "      <td>NaN</td>\n",
       "      <td>NaN</td>\n",
       "      <td>NaN</td>\n",
       "      <td>NaN</td>\n",
       "      <td>NaN</td>\n",
       "      <td>NaN</td>\n",
       "      <td>NaN</td>\n",
       "      <td>NaN</td>\n",
       "      <td>NaN</td>\n",
       "      <td>NaN</td>\n",
       "    </tr>\n",
       "  </tbody>\n",
       "</table>\n",
       "<p>2 rows × 1646 columns</p>\n",
       "</div>"
      ],
      "text/plain": [
       "movie_id  1     2     3     4     5     6     7     8     9     10    ...   \n",
       "user_id                                                               ...   \n",
       "1          5.0   3.0   4.0   NaN   NaN   NaN   NaN   NaN   5.0   3.0  ...  \\\n",
       "2          4.0   NaN   NaN   NaN   NaN   NaN   NaN   NaN   NaN   2.0  ...   \n",
       "\n",
       "movie_id  1669  1671  1672  1673  1675  1677  1678  1679  1680  1682  \n",
       "user_id                                                               \n",
       "1          NaN   NaN   NaN   NaN   NaN   NaN   NaN   NaN   NaN   NaN  \n",
       "2          NaN   NaN   NaN   NaN   NaN   NaN   NaN   NaN   NaN   NaN  \n",
       "\n",
       "[2 rows x 1646 columns]"
      ]
     },
     "execution_count": 41,
     "metadata": {},
     "output_type": "execute_result"
    }
   ],
   "source": [
    "## x_train -->full matrix\n",
    "rating_matrix = x_train.pivot(index='user_id', columns='movie_id', values='rating')\n",
    "rating_matrix[:2]"
   ]
  },
  {
   "cell_type": "markdown",
   "id": "3235933c",
   "metadata": {},
   "source": [
    "## 정확도 (Accuracy)\n",
    "\n",
    "- 오차(잔차) : 실제값 - 예측값 (y - y^)\n",
    "- 오차(잔차) 합 : 0이 되거나 -가 될 수 있음 -> 그래서 제곱의 합을 구함\n",
    "- 평균 제곱 오차(MSE : Mean Square Error) \n",
    "- 평균 제곱근 오차(RMSE : Root Mean Square Error)"
   ]
  },
  {
   "cell_type": "markdown",
   "id": "e91c2689",
   "metadata": {},
   "source": [
    "### RMSE 정의"
   ]
  },
  {
   "cell_type": "code",
   "execution_count": 42,
   "id": "7c078a53",
   "metadata": {},
   "outputs": [],
   "source": [
    "## 정확도(RMSE) 계산하는 함수 정의\n",
    "def RMSE(y_true, y_pred):\n",
    "    return np.sqrt(np.mean((np.array(y_true) - np.array(y_pred))**2))"
   ]
  },
  {
   "cell_type": "markdown",
   "id": "028aaa29",
   "metadata": {},
   "source": [
    "### 정확도 계산"
   ]
  },
  {
   "cell_type": "code",
   "execution_count": 43,
   "id": "7eb87d94",
   "metadata": {},
   "outputs": [],
   "source": [
    "## 모델별 RMSE를 계산하는 함수 정의\n",
    "## : 모델별 예측치의 정확도 계산\n",
    "def score(model):\n",
    "    id_pairs = zip(x_test['user_id'], x_test['movie_id'])\n",
    "    \n",
    "    y_pred = np.array([cf_gender(user, movie) for (user, movie) in id_pairs])\n",
    "    print(y_pred)\n",
    "    \n",
    "    y_true = np.array(x_test['rating'])\n",
    "    \n",
    "    return RMSE(y_true, y_pred)"
   ]
  },
  {
   "cell_type": "code",
   "execution_count": 44,
   "id": "2a3d607f",
   "metadata": {},
   "outputs": [],
   "source": [
    "## gender 기준 추천 모델\n",
    "## gender별 평균을 예측치로 돌려주는 함수\n",
    "def cf_gender(user_id, movie_id):\n",
    "    if movie_id in rating_matrix:\n",
    "        gender = users.loc[user_id].gender\n",
    "        \n",
    "        if gender in g_mean[movie_id]:\n",
    "            gender_rating = g_mean[movie_id][gender]\n",
    "        else:\n",
    "            gender_rating = 3.0            \n",
    "    else:\n",
    "        gender_rating = 3.0\n",
    "    return gender_rating        "
   ]
  },
  {
   "cell_type": "code",
   "execution_count": 45,
   "id": "3d3c6c6b",
   "metadata": {},
   "outputs": [
    {
     "name": "stdout",
     "output_type": "stream",
     "text": [
      "[4.22727273 2.67924528 3.7        ... 4.18518519 3.01086957 2.83333333]\n"
     ]
    },
    {
     "data": {
      "text/plain": [
       "1.029090380110449"
      ]
     },
     "execution_count": 45,
     "metadata": {},
     "output_type": "execute_result"
    }
   ],
   "source": [
    "score(cf_gender)"
   ]
  }
 ],
 "metadata": {
  "kernelspec": {
   "display_name": "ex_kernel",
   "language": "python",
   "name": "ex"
  },
  "language_info": {
   "codemirror_mode": {
    "name": "ipython",
    "version": 3
   },
   "file_extension": ".py",
   "mimetype": "text/x-python",
   "name": "python",
   "nbconvert_exporter": "python",
   "pygments_lexer": "ipython3",
   "version": "3.8.10"
  },
  "toc": {
   "base_numbering": 1,
   "nav_menu": {},
   "number_sections": true,
   "sideBar": true,
   "skip_h1_title": false,
   "title_cell": "Table of Contents",
   "title_sidebar": "Contents",
   "toc_cell": false,
   "toc_position": {
    "height": "calc(100% - 180px)",
    "left": "10px",
    "top": "150px",
    "width": "224.047px"
   },
   "toc_section_display": true,
   "toc_window_display": true
  }
 },
 "nbformat": 4,
 "nbformat_minor": 5
}
