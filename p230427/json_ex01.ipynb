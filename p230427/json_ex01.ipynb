{
 "cells": [
  {
   "cell_type": "code",
   "execution_count": null,
   "id": "54b625e5",
   "metadata": {},
   "outputs": [],
   "source": [
    "'''\n",
    "[JSON] Javascript Object Notation\n",
    "- 경량의 데이터 교환 형식\n",
    "- JSON은 완벽하게 언어로부터 독립\n",
    "- 데이터의 형태가 key: value 쌍으로 이뤄짐\n",
    "- 사람이 읽고 쓰기 쉽고, 컴퓨터가 분석하고 생성하기도 용이\n",
    "'''"
   ]
  },
  {
   "cell_type": "code",
   "execution_count": 1,
   "id": "36f408f6",
   "metadata": {},
   "outputs": [],
   "source": [
    "import json"
   ]
  },
  {
   "cell_type": "code",
   "execution_count": 3,
   "id": "f1b47a17",
   "metadata": {},
   "outputs": [
    {
     "name": "stdout",
     "output_type": "stream",
     "text": [
      "자료형 >> <class 'dict'>\n"
     ]
    }
   ],
   "source": [
    "data = {}\n",
    "print('자료형 >>', type(data))"
   ]
  },
  {
   "cell_type": "code",
   "execution_count": 4,
   "id": "ffb6051c",
   "metadata": {},
   "outputs": [
    {
     "name": "stdout",
     "output_type": "stream",
     "text": [
      "data >> {'student': []}\n"
     ]
    }
   ],
   "source": [
    "# 요소 추가 \n",
    "data['student'] =[]\n",
    "print('data >>', data)"
   ]
  },
  {
   "cell_type": "code",
   "execution_count": 5,
   "id": "cc5cd1a7",
   "metadata": {},
   "outputs": [
    {
     "name": "stdout",
     "output_type": "stream",
     "text": [
      "student 키의 값 타입 >> <class 'list'>\n"
     ]
    }
   ],
   "source": [
    "print('student 키의 값 타입 >>', type(data['student']))"
   ]
  },
  {
   "cell_type": "code",
   "execution_count": 6,
   "id": "eeaa811f",
   "metadata": {},
   "outputs": [
    {
     "data": {
      "text/plain": [
       "{'student': [{'name': 'hong', 'website': 'daum.net', 'from': 'Jeju'}]}"
      ]
     },
     "execution_count": 6,
     "metadata": {},
     "output_type": "execute_result"
    }
   ],
   "source": [
    "data['student'].append({\n",
    "    'name' : 'hong',\n",
    "    'website' : 'daum.net',\n",
    "    'from' : 'Jeju'\n",
    "})\n",
    "data"
   ]
  },
  {
   "cell_type": "code",
   "execution_count": 22,
   "id": "3bb54216",
   "metadata": {},
   "outputs": [
    {
     "data": {
      "text/plain": [
       "'Jeju'"
      ]
     },
     "execution_count": 22,
     "metadata": {},
     "output_type": "execute_result"
    }
   ],
   "source": [
    "# 학생 이름 출력\n",
    "data['student'][0]['name']\n",
    "data['student'][0]['website']\n",
    "data['student'][0]['from']"
   ]
  },
  {
   "cell_type": "code",
   "execution_count": 23,
   "id": "87e3d0c3",
   "metadata": {},
   "outputs": [
    {
     "data": {
      "text/plain": [
       "{'student': [{'name': 'hong', 'website': 'daum.net', 'from': 'Jeju'},\n",
       "  {'name': 'park', 'website': 'google.com', 'from': 'Busan'}]}"
      ]
     },
     "execution_count": 23,
     "metadata": {},
     "output_type": "execute_result"
    }
   ],
   "source": [
    "data['student'].append({\n",
    "    'name' : 'park',\n",
    "    'website' : 'google.com',\n",
    "    'from' : 'Busan'\n",
    "})\n",
    "data"
   ]
  },
  {
   "cell_type": "code",
   "execution_count": 24,
   "id": "5627111f",
   "metadata": {},
   "outputs": [
    {
     "data": {
      "text/plain": [
       "{'student': [{'name': 'hong', 'website': 'daum.net', 'from': 'Jeju'},\n",
       "  {'name': 'park', 'website': 'google.com', 'from': 'Busan'},\n",
       "  {'name': 'lee', 'website': 'naver.com', 'from': 'Seoul'}]}"
      ]
     },
     "execution_count": 24,
     "metadata": {},
     "output_type": "execute_result"
    }
   ],
   "source": [
    "data['student'].append({\n",
    "    'name' : 'lee',\n",
    "    'website' : 'naver.com',\n",
    "    'from' : 'Seoul'\n",
    "})\n",
    "data"
   ]
  },
  {
   "cell_type": "code",
   "execution_count": 26,
   "id": "20e9ed79",
   "metadata": {},
   "outputs": [
    {
     "name": "stdout",
     "output_type": "stream",
     "text": [
      "str_data type >> <class 'str'>\n",
      "{\"student\": [{\"name\": \"hong\", \"website\": \"daum.net\", \"from\": \"Jeju\"}, {\"name\": \"park\", \"website\": \"google.com\", \"from\": \"Busan\"}, {\"name\": \"lee\", \"website\": \"naver.com\", \"from\": \"Seoul\"}]}\n",
      "==student.json 파일 생성 완료==\n"
     ]
    }
   ],
   "source": [
    "# [dictionary -> json 파일]\n",
    "# [방법 1]\n",
    "# dict -> str -> json \n",
    "str_data = json.dumps(data) # 문자열로 변환\n",
    "print('str_data type >>', type(str_data))\n",
    "print(str_data)\n",
    "\n",
    "with open('student.json', 'w') as file:\n",
    "    file.write(str_data)\n",
    "    \n",
    "print('==student.json 파일 생성 완료==')"
   ]
  },
  {
   "cell_type": "code",
   "execution_count": 28,
   "id": "43a0f0a8",
   "metadata": {
    "scrolled": true
   },
   "outputs": [
    {
     "name": "stdout",
     "output_type": "stream",
     "text": [
      "==student2.json 파일 생성 완료==\n"
     ]
    }
   ],
   "source": [
    "# [방법 2]\n",
    "# dict -> json \n",
    "with open('student2.json', 'w') as file:\n",
    "    json.dump(data, file)\n",
    "print('==student2.json 파일 생성 완료==')"
   ]
  },
  {
   "cell_type": "code",
   "execution_count": 30,
   "id": "ee104e89",
   "metadata": {},
   "outputs": [
    {
     "name": "stdout",
     "output_type": "stream",
     "text": [
      "read_file 타입 >> <class 'dict'>\n"
     ]
    },
    {
     "data": {
      "text/plain": [
       "{'student': [{'name': 'hong', 'website': 'daum.net', 'from': 'Jeju'},\n",
       "  {'name': 'park', 'website': 'google.com', 'from': 'Busan'},\n",
       "  {'name': 'lee', 'website': 'naver.com', 'from': 'Seoul'}]}"
      ]
     },
     "execution_count": 30,
     "metadata": {},
     "output_type": "execute_result"
    }
   ],
   "source": [
    "# [json 파일 읽어오기]\n",
    "# [방법 1] \n",
    "# json 파일 -> str -> dict \n",
    "with open('student.json', 'r') as file:\n",
    "    #print(file.read())\n",
    "    read_file = json.loads(file.read())\n",
    "    print('read_file 타입 >>', type(read_file))\n",
    "    \n",
    "read_file"
   ]
  },
  {
   "cell_type": "code",
   "execution_count": 32,
   "id": "d920a0d7",
   "metadata": {},
   "outputs": [
    {
     "name": "stdout",
     "output_type": "stream",
     "text": [
      "<class 'dict'>\n"
     ]
    },
    {
     "data": {
      "text/plain": [
       "{'student': [{'name': 'hong', 'website': 'daum.net', 'from': 'Jeju'},\n",
       "  {'name': 'park', 'website': 'google.com', 'from': 'Busan'},\n",
       "  {'name': 'lee', 'website': 'naver.com', 'from': 'Seoul'}]}"
      ]
     },
     "execution_count": 32,
     "metadata": {},
     "output_type": "execute_result"
    }
   ],
   "source": [
    "# [방법 2] \n",
    "# json 파일 -> dict \n",
    "with open('student.json', 'r') as file:\n",
    "    read_file = json.load(file)\n",
    "    print(type(read_file))\n",
    "read_file"
   ]
  }
 ],
 "metadata": {
  "kernelspec": {
   "display_name": "ex_kernel",
   "language": "python",
   "name": "ex"
  },
  "language_info": {
   "codemirror_mode": {
    "name": "ipython",
    "version": 3
   },
   "file_extension": ".py",
   "mimetype": "text/x-python",
   "name": "python",
   "nbconvert_exporter": "python",
   "pygments_lexer": "ipython3",
   "version": "3.8.10"
  }
 },
 "nbformat": 4,
 "nbformat_minor": 5
}
