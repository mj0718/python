{
 "cells": [
  {
   "cell_type": "code",
   "execution_count": 1,
   "id": "fd6a4d52",
   "metadata": {},
   "outputs": [
    {
     "name": "stdout",
     "output_type": "stream",
     "text": [
      "<Response [200]>\n",
      "1. 검찰, 강남 납치·살인 ‘재력가 부부’ 등 7명 기소\n",
      "2. 서울과 초인접…'광명자이더샵포레나' 29일 견본주택 오픈\n",
      "3. \"기본 배달료 4000원으로 올려달라\"…배민 기사들 어린이날 파업한다\n",
      "4. \"스타벅스 200만잔 팔린 '이 음료', 5월부터 없습니다\"\n",
      "5. 자구안도 막막한데…가스公 '모잠비크' 사업 1500억 추가 투자\n",
      "6. 커지는 S 공포...\"지금은 스태그플레이션 수혜주 주목할 때\"\n",
      "7. 정의선, 尹대통령 연설 ‘직관’ 중 포착\n",
      "8. 갤럭시S23이 '이 회사' 살렸다…적자 막았다\n",
      "9. 금감원, 증권사 CEO 긴급 소집…\"CFD 리스크 관리 주문\"\n",
      "10. \"범인은 따로 있다\"…'임창정 주가조작' L대표가 지목한 사람은?\n",
      "11. 피해자는 죽어가는데...전세사기 범죄조직 형량은 겨우\n",
      "12. 은평구 역촌중앙시장, 260세대 아파트로 탈바꿈 [집슐랭]\n",
      "13. “더 이상 떨어질 곳 없다”...최악의 실적 거둔 美간판기업, 그래도 웃었다 [월가월부]\n",
      "14. 차용증 쓰고 부모한테 돈 빌리면 증여세 면제?[팩트체크]\n",
      "15. 은마아파트, 상가 조합원 분양비율 합의…재건축 속도 낸다\n",
      "16. '썩어도 준치'…반도체 대장주 랠리 '시동'\n",
      "17. \"너무 비싸진 車, 도저히 못 사겠다\"…韓 차량 구매의향 지수 최저치\n",
      "18. 빚투·반대매매 리스크에 동학개미들 또 ‘눈물’\n",
      "19. “편하니까 벼농사 고집합니다, 논콩·가루쌀 심어야 해요”\n",
      "20. 中 노동절 연휴 '보복소비' 폭발…23조 풀린다\n"
     ]
    }
   ],
   "source": [
    "'''\n",
    "json 파일 요청 방식으로 크롤링  (파일을 찾아야함)\n",
    "네이버 경제 광고 아래 기사 제목 1-10페이지(200개)까지 화면에 출력\n",
    "-출력 형태 : 1. [뉴스현장] ~~~ \n",
    "'''\n",
    "import requests\n",
    "import json\n",
    "\n",
    "# 1. json 파일 요청\n",
    "headers = {'user-agent': 'Mozilla/5.0 (Windows NT 10.0; Win64; x64) AppleWebKit/537.36 (KHTML, like Gecko) Chrome/112.0.0.0 Safari/537.36'}\n",
    "\n",
    "url = 'https://news.naver.com/main/mainNews.naver?sid1=101&date=%2000:00:00&page=1'\n",
    "\n",
    "httpResponse = requests.get(url, headers=headers)\n",
    "print(httpResponse)\n",
    "\n",
    "# 2. json 파일 -> dict 변환\n",
    "# [방법 1]\n",
    "news = httpResponse.json()\n",
    "# [방법 2]\n",
    "# news_two = json.loads(httpResponse.text)\n",
    "\n",
    "# 3. 뉴스 제목 추출\n",
    "news_page = json.loads(news['airsResult'])\n",
    "\n",
    "for idx, news_line in enumerate(news_page['result']['101'], 1):\n",
    "    print(f'{idx}. {news_line[\"title\"]}')"
   ]
  }
 ],
 "metadata": {
  "kernelspec": {
   "display_name": "ex_kernel",
   "language": "python",
   "name": "ex"
  },
  "language_info": {
   "codemirror_mode": {
    "name": "ipython",
    "version": 3
   },
   "file_extension": ".py",
   "mimetype": "text/x-python",
   "name": "python",
   "nbconvert_exporter": "python",
   "pygments_lexer": "ipython3",
   "version": "3.8.10"
  }
 },
 "nbformat": 4,
 "nbformat_minor": 5
}
