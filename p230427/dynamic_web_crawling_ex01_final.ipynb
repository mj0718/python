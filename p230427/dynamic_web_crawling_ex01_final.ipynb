{
 "cells": [
  {
   "cell_type": "code",
   "execution_count": 1,
   "id": "50eed0e0",
   "metadata": {},
   "outputs": [],
   "source": [
    "from time import sleep\n",
    "from selenium import webdriver\n",
    "from selenium.webdriver.common.by import By\n",
    "from selenium.webdriver.common.keys import Keys\n",
    "from bs4 import BeautifulSoup"
   ]
  },
  {
   "cell_type": "code",
   "execution_count": 9,
   "id": "7da8168e",
   "metadata": {},
   "outputs": [
    {
     "name": "stdout",
     "output_type": "stream",
     "text": [
      "1. 크롬 웹 브라우저 실행됨...\n",
      "2. 다음 접속...\n",
      "3. 3초 쉬기...\n",
      "4. 크롬 웹브라우저 닫기\n"
     ]
    }
   ],
   "source": [
    "# [첫 번째] daum 접속\n",
    "driver = webdriver.Chrome()\n",
    "print('1. 크롬 웹 브라우저 실행됨...')\n",
    "\n",
    "url = 'https://www.daum.net'\n",
    "driver.get(url)\n",
    "print('2. 다음 접속...')\n",
    "\n",
    "sleep(3)\n",
    "print('3. 3초 쉬기...')\n",
    "\n",
    "driver.close() \n",
    "print('4. 크롬 웹브라우저 닫기')"
   ]
  },
  {
   "cell_type": "code",
   "execution_count": 16,
   "id": "0d7ed87e",
   "metadata": {},
   "outputs": [
    {
     "name": "stdout",
     "output_type": "stream",
     "text": [
      "news_element type >> <class 'selenium.webdriver.remote.webelement.WebElement'>\n"
     ]
    }
   ],
   "source": [
    "# [두 번째] daum 접속 후 뉴스 탭 클릭\n",
    "# 1. 크롬 드라이버 설정 (매번 실행마다 해야 함)\n",
    "driver = webdriver.Chrome()\n",
    "\n",
    "# 2. 웹 주소\n",
    "url = 'https://www.daum.net'\n",
    "driver.get(url)\n",
    "\n",
    "# 3초 쉬기\n",
    "sleep(3)\n",
    "\n",
    "# 3. 뉴스 탭 클릭 : 개발자 도구 해당 코드에서 마우스 왼쪽 클릭 → copy → copy xPath\n",
    "news_xpath = '//*[@id=\"daumHead\"]/div[2]/div/div[1]/ul/li[3]/a'\n",
    "news_element = driver.find_element(By.XPATH, news_xpath)\n",
    "print('news_element type >>',type(news_element))\n",
    "\n",
    "news_element.click()\n",
    "\n",
    "# 3초 쉬기\n",
    "sleep(3)\n",
    "\n",
    "# 4. 웹 브라우저 닫기\n",
    "driver.close()"
   ]
  },
  {
   "cell_type": "code",
   "execution_count": 17,
   "id": "5474dd7b",
   "metadata": {},
   "outputs": [],
   "source": [
    "# [문제] 구글 창 띄우기\n",
    "driver = webdriver.Chrome()\n",
    "driver.get('https://www.google.com/')"
   ]
  },
  {
   "cell_type": "code",
   "execution_count": 4,
   "id": "ab88d779",
   "metadata": {},
   "outputs": [
    {
     "name": "stdout",
     "output_type": "stream",
     "text": [
      "<selenium.webdriver.remote.webelement.WebElement (session=\"6ae6c516e752950200a8b46ef861aea1\", element=\"25e06e40-5343-4eb9-869f-8f3511ef7a34\")>\n",
      "1. \"날씨가 쌀쌀해\" 잔디밭 불 지르고 몸 녹인 외국인 검거\n",
      "2. 포근한 날씨\n",
      "3. \"전남친 애라서\"…영하 날씨에 남친과 여행중 아기 버린 20대\n",
      "4. 일교차 큰 날씨 속 시원함\n",
      "5. [출근길 날씨] 아침에 쌀쌀…맑고 기온 일교차 커요!\n",
      "6. [날씨] 출근길, 어제보다 쌀쌀...낮 동안 맑고 따뜻, 큰 일교차\n",
      "7. [날씨] 전국 맑고 일교차 커…출근길 짙은 안개\n",
      "8. 쌀쌀한 날씨에 돋지 않는 옻순…옥천참옻축제 '비상'\n",
      "9. 낮에는 따뜻한 날씨\n",
      "10. [오늘의 날씨] 전국 맑고 쌀쌀…미세먼지 '보통'\n",
      "1. \"날씨가 쌀쌀해\" 잔디밭 불 지르고 몸 녹인 외국인 검거\n",
      "2. 포근한 날씨\n",
      "3. \"전남친 애라서\"…영하 날씨에 남친과 여행중 아기 버린 20대\n",
      "4. 일교차 큰 날씨 속 시원함\n",
      "5. [출근길 날씨] 아침에 쌀쌀…맑고 기온 일교차 커요!\n",
      "6. [날씨] 출근길, 어제보다 쌀쌀...낮 동안 맑고 따뜻, 큰 일교차\n",
      "7. [날씨] 전국 맑고 일교차 커…출근길 짙은 안개\n",
      "8. 쌀쌀한 날씨에 돋지 않는 옻순…옥천참옻축제 '비상'\n",
      "9. 낮에는 따뜻한 날씨\n",
      "10. [오늘의 날씨] 전국 맑고 쌀쌀…미세먼지 '보통'\n"
     ]
    }
   ],
   "source": [
    "# [세 번째] naver 접속 -> 검색 창에서 날씨 입력 후 엔터 -> 뉴스 탭 클릭 -> 뉴스 타이틀 10개 추출\n",
    "# 1. 크롬 드라이버\n",
    "driver = webdriver.Chrome()\n",
    "\n",
    "# 2. 웹 주소\n",
    "url = 'https://www.naver.com/'\n",
    "driver.get(url)\n",
    "\n",
    "sleep(2)\n",
    "\n",
    "# 3. 엘리먼트 접근 : 검색창 (selector)\n",
    "query_input_text = driver.find_element(by=By.CSS_SELECTOR, value='#query')\n",
    "print(query_input_text)\n",
    "\n",
    "# 4. 검색어 입력\n",
    "query_input_text.send_keys('날씨')\n",
    "\n",
    "# 5. 엔터 (ENTER와 RETURN은 똑같은 것임)\n",
    "query_input_text.send_keys(Keys.RETURN)\n",
    "\n",
    "sleep(2)\n",
    "\n",
    "# 6. 뉴스 탭 클릭\n",
    "driver.find_element(By.XPATH, '//*[@id=\"lnb\"]/div[1]/div/ul/li[8]/a').click()\n",
    "\n",
    "# 7. 뉴스 타이틀 추출\n",
    "# 7.1. html 파일 전체 요청\n",
    "html = driver.page_source\n",
    "\n",
    "soup = BeautifulSoup(html, 'html.parser')\n",
    "\n",
    "news_title = soup.select('a.news_tit')\n",
    "\n",
    "for idx, title in enumerate(news_title, 1):\n",
    "    print(f'{idx}. {title.text}')\n",
    "    \n",
    "# 7.2. 특정 엘리먼트만 추출 : 뉴스 타이틀\n",
    "news_title_element = driver.find_elements(By.CSS_SELECTOR, 'a.news_tit')\n",
    "\n",
    "for idx, t in enumerate(news_title_element, 1):\n",
    "    print(f'{idx}. {t.text}')\n",
    "    \n",
    "# 8. 닫기\n",
    "sleep(2)\n",
    "\n",
    "driver.close()"
   ]
  }
 ],
 "metadata": {
  "kernelspec": {
   "display_name": "ex_kernel",
   "language": "python",
   "name": "ex"
  },
  "language_info": {
   "codemirror_mode": {
    "name": "ipython",
    "version": 3
   },
   "file_extension": ".py",
   "mimetype": "text/x-python",
   "name": "python",
   "nbconvert_exporter": "python",
   "pygments_lexer": "ipython3",
   "version": "3.8.10"
  }
 },
 "nbformat": 4,
 "nbformat_minor": 5
}
