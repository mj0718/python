{
 "cells": [
  {
   "cell_type": "code",
   "execution_count": null,
   "id": "e16b7af4",
   "metadata": {},
   "outputs": [],
   "source": [
    "# 구글 접속 후 리팩토링 검색"
   ]
  },
  {
   "cell_type": "code",
   "execution_count": 1,
   "id": "ab6b2c66",
   "metadata": {},
   "outputs": [],
   "source": [
    "from selenium import webdriver\n",
    "from selenium.webdriver.common.by import By\n",
    "from selenium.webdriver.common.keys import Keys\n",
    "from time import sleep"
   ]
  },
  {
   "cell_type": "code",
   "execution_count": 4,
   "id": "31968f99",
   "metadata": {},
   "outputs": [],
   "source": [
    "driver = webdriver.Chrome()\n",
    "\n",
    "driver.get('https://www.google.com/')\n",
    "\n",
    "sleep(2)\n",
    "\n",
    "search = driver.find_element(By.ID, 'APjFqb')\n",
    "\n",
    "search.send_keys('리팩토링')\n",
    "\n",
    "search.send_keys(Keys.ENTER)\n",
    "\n",
    "sleep(2)\n",
    "driver.close()"
   ]
  }
 ],
 "metadata": {
  "kernelspec": {
   "display_name": "ex_kernel",
   "language": "python",
   "name": "ex"
  },
  "language_info": {
   "codemirror_mode": {
    "name": "ipython",
    "version": 3
   },
   "file_extension": ".py",
   "mimetype": "text/x-python",
   "name": "python",
   "nbconvert_exporter": "python",
   "pygments_lexer": "ipython3",
   "version": "3.8.10"
  }
 },
 "nbformat": 4,
 "nbformat_minor": 5
}
