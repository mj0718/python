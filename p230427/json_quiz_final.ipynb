{
 "cells": [
  {
   "cell_type": "code",
   "execution_count": 3,
   "id": "88c8b466",
   "metadata": {},
   "outputs": [
    {
     "name": "stdout",
     "output_type": "stream",
     "text": [
      "==저장 완료==\n"
     ]
    }
   ],
   "source": [
    "import requests \n",
    "import json\n",
    "import pandas as pd\n",
    "\n",
    "headers = {'user-agent' : 'Mozilla/5.0 (Windows NT 10.0; Win64; x64) AppleWebKit/537.36 (KHTML, like Gecko) Chrome/112.0.0.0 Safari/537.36'}\n",
    "\n",
    "data = []\n",
    "\n",
    "for idx in range(1, 11):\n",
    "    url = f'https://finance.naver.com/world/worldDayListJson.naver?symbol=SPI@SPX&fdtc=0&page={idx}'\n",
    "    # 1. json 파일 요청\n",
    "    httpResponse = requests.get(url, headers=headers)\n",
    "    \n",
    "    # 2. dict 변환\n",
    "    #json.loads(httpResponse.text)\n",
    "    data.extend(httpResponse.json())\n",
    "\n",
    "# 3. 데이터프레임 생성\n",
    "table = pd.DataFrame(data)\n",
    "\n",
    "# 4. csv 파일 저장\n",
    "table.to_csv('naver_sise.csv', index=False)\n",
    "print('==저장 완료==')"
   ]
  }
 ],
 "metadata": {
  "kernelspec": {
   "display_name": "ex_kernel",
   "language": "python",
   "name": "ex"
  },
  "language_info": {
   "codemirror_mode": {
    "name": "ipython",
    "version": 3
   },
   "file_extension": ".py",
   "mimetype": "text/x-python",
   "name": "python",
   "nbconvert_exporter": "python",
   "pygments_lexer": "ipython3",
   "version": "3.8.10"
  }
 },
 "nbformat": 4,
 "nbformat_minor": 5
}
