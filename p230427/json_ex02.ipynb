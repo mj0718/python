{
 "cells": [
  {
   "cell_type": "code",
   "execution_count": 1,
   "id": "5f858045",
   "metadata": {},
   "outputs": [],
   "source": [
    "import requests \n",
    "import json\n",
    "import pandas as pd"
   ]
  },
  {
   "cell_type": "code",
   "execution_count": 5,
   "id": "b834f143",
   "metadata": {},
   "outputs": [
    {
     "data": {
      "text/plain": [
       "200"
      ]
     },
     "execution_count": 5,
     "metadata": {},
     "output_type": "execute_result"
    }
   ],
   "source": [
    "headers = {'user-agent' : 'Mozilla/5.0 (Windows NT 10.0; Win64; x64) AppleWebKit/537.36 (KHTML, like Gecko) Chrome/112.0.0.0 Safari/537.36'}\n",
    "url = 'https://finance.naver.com/world/worldDayListJson.naver?symbol=HSI@HSI&fdtc=0&page=1'\n",
    "\n",
    "httpResponse = requests.get(url, headers=headers)\n",
    "httpResponse.status_code"
   ]
  },
  {
   "cell_type": "code",
   "execution_count": 6,
   "id": "fa503af8",
   "metadata": {
    "collapsed": true
   },
   "outputs": [
    {
     "data": {
      "text/plain": [
       "'[{\"symb\":\"HSI@HSI\",\"xymd\":\"20230426\",\"open\":19520.97,\"high\":19903.73,\"low\":19520.97,\"clos\":19757.27,\"diff\":139.39,\"rate\":0.71,\"gvol\":1941042630},{\"symb\":\"HSI@HSI\",\"xymd\":\"20230425\",\"open\":19903.53,\"high\":19910.28,\"low\":19527.63,\"clos\":19617.88,\"diff\":-342.06,\"rate\":-1.71,\"gvol\":2196274452},{\"symb\":\"HSI@HSI\",\"xymd\":\"20230424\",\"open\":20049.87,\"high\":20146.37,\"low\":19734.68,\"clos\":19959.94,\"diff\":-115.79,\"rate\":-0.58,\"gvol\":2247902013},{\"symb\":\"HSI@HSI\",\"xymd\":\"20230421\",\"open\":20330.15,\"high\":20378.9,\"low\":19974.91,\"clos\":20075.73,\"diff\":-321.24,\"rate\":-1.57,\"gvol\":2494223883},{\"symb\":\"HSI@HSI\",\"xymd\":\"20230420\",\"open\":20354.83,\"high\":20472.5,\"low\":20308.33,\"clos\":20396.97,\"diff\":29.21,\"rate\":0.14,\"gvol\":2047181563},{\"symb\":\"HSI@HSI\",\"xymd\":\"20230419\",\"open\":20633.0,\"high\":20633.0,\"low\":20336.71,\"clos\":20367.76,\"diff\":-282.75,\"rate\":-1.37,\"gvol\":2183749591},{\"symb\":\"HSI@HSI\",\"xymd\":\"20230418\",\"open\":20643.41,\"high\":20742.39,\"low\":20559.08,\"clos\":20650.51,\"diff\":-131.94,\"rate\":-0.63,\"gvol\":2349659010},{\"symb\":\"HSI@HSI\",\"xymd\":\"20230417\",\"open\":20374.51,\"high\":20864.74,\"low\":20299.15,\"clos\":20782.45,\"diff\":343.64,\"rate\":1.68,\"gvol\":3411232568},{\"symb\":\"HSI@HSI\",\"xymd\":\"20230414\",\"open\":20422.72,\"high\":20482.68,\"low\":20297.16,\"clos\":20438.81,\"diff\":94.33,\"rate\":0.46,\"gvol\":2086262156}]'"
      ]
     },
     "execution_count": 6,
     "metadata": {},
     "output_type": "execute_result"
    }
   ],
   "source": [
    "httpResponse.text"
   ]
  },
  {
   "cell_type": "code",
   "execution_count": 7,
   "id": "8cb486ae",
   "metadata": {
    "collapsed": true
   },
   "outputs": [
    {
     "data": {
      "text/plain": [
       "[{'symb': 'HSI@HSI',\n",
       "  'xymd': '20230426',\n",
       "  'open': 19520.97,\n",
       "  'high': 19903.73,\n",
       "  'low': 19520.97,\n",
       "  'clos': 19757.27,\n",
       "  'diff': 139.39,\n",
       "  'rate': 0.71,\n",
       "  'gvol': 1941042630},\n",
       " {'symb': 'HSI@HSI',\n",
       "  'xymd': '20230425',\n",
       "  'open': 19903.53,\n",
       "  'high': 19910.28,\n",
       "  'low': 19527.63,\n",
       "  'clos': 19617.88,\n",
       "  'diff': -342.06,\n",
       "  'rate': -1.71,\n",
       "  'gvol': 2196274452},\n",
       " {'symb': 'HSI@HSI',\n",
       "  'xymd': '20230424',\n",
       "  'open': 20049.87,\n",
       "  'high': 20146.37,\n",
       "  'low': 19734.68,\n",
       "  'clos': 19959.94,\n",
       "  'diff': -115.79,\n",
       "  'rate': -0.58,\n",
       "  'gvol': 2247902013},\n",
       " {'symb': 'HSI@HSI',\n",
       "  'xymd': '20230421',\n",
       "  'open': 20330.15,\n",
       "  'high': 20378.9,\n",
       "  'low': 19974.91,\n",
       "  'clos': 20075.73,\n",
       "  'diff': -321.24,\n",
       "  'rate': -1.57,\n",
       "  'gvol': 2494223883},\n",
       " {'symb': 'HSI@HSI',\n",
       "  'xymd': '20230420',\n",
       "  'open': 20354.83,\n",
       "  'high': 20472.5,\n",
       "  'low': 20308.33,\n",
       "  'clos': 20396.97,\n",
       "  'diff': 29.21,\n",
       "  'rate': 0.14,\n",
       "  'gvol': 2047181563},\n",
       " {'symb': 'HSI@HSI',\n",
       "  'xymd': '20230419',\n",
       "  'open': 20633.0,\n",
       "  'high': 20633.0,\n",
       "  'low': 20336.71,\n",
       "  'clos': 20367.76,\n",
       "  'diff': -282.75,\n",
       "  'rate': -1.37,\n",
       "  'gvol': 2183749591},\n",
       " {'symb': 'HSI@HSI',\n",
       "  'xymd': '20230418',\n",
       "  'open': 20643.41,\n",
       "  'high': 20742.39,\n",
       "  'low': 20559.08,\n",
       "  'clos': 20650.51,\n",
       "  'diff': -131.94,\n",
       "  'rate': -0.63,\n",
       "  'gvol': 2349659010},\n",
       " {'symb': 'HSI@HSI',\n",
       "  'xymd': '20230417',\n",
       "  'open': 20374.51,\n",
       "  'high': 20864.74,\n",
       "  'low': 20299.15,\n",
       "  'clos': 20782.45,\n",
       "  'diff': 343.64,\n",
       "  'rate': 1.68,\n",
       "  'gvol': 3411232568},\n",
       " {'symb': 'HSI@HSI',\n",
       "  'xymd': '20230414',\n",
       "  'open': 20422.72,\n",
       "  'high': 20482.68,\n",
       "  'low': 20297.16,\n",
       "  'clos': 20438.81,\n",
       "  'diff': 94.33,\n",
       "  'rate': 0.46,\n",
       "  'gvol': 2086262156}]"
      ]
     },
     "execution_count": 7,
     "metadata": {},
     "output_type": "execute_result"
    }
   ],
   "source": [
    "# 3.1. json -> str -> dict \n",
    "dict_data = json.loads(httpResponse.text)\n",
    "dict_data"
   ]
  },
  {
   "cell_type": "code",
   "execution_count": 8,
   "id": "5d6cad5a",
   "metadata": {},
   "outputs": [
    {
     "data": {
      "text/plain": [
       "list"
      ]
     },
     "execution_count": 8,
     "metadata": {},
     "output_type": "execute_result"
    }
   ],
   "source": [
    "type(dict_data)"
   ]
  },
  {
   "cell_type": "code",
   "execution_count": 9,
   "id": "2988ac28",
   "metadata": {
    "collapsed": true
   },
   "outputs": [
    {
     "data": {
      "text/plain": [
       "[{'symb': 'HSI@HSI',\n",
       "  'xymd': '20230426',\n",
       "  'open': 19520.97,\n",
       "  'high': 19903.73,\n",
       "  'low': 19520.97,\n",
       "  'clos': 19757.27,\n",
       "  'diff': 139.39,\n",
       "  'rate': 0.71,\n",
       "  'gvol': 1941042630},\n",
       " {'symb': 'HSI@HSI',\n",
       "  'xymd': '20230425',\n",
       "  'open': 19903.53,\n",
       "  'high': 19910.28,\n",
       "  'low': 19527.63,\n",
       "  'clos': 19617.88,\n",
       "  'diff': -342.06,\n",
       "  'rate': -1.71,\n",
       "  'gvol': 2196274452},\n",
       " {'symb': 'HSI@HSI',\n",
       "  'xymd': '20230424',\n",
       "  'open': 20049.87,\n",
       "  'high': 20146.37,\n",
       "  'low': 19734.68,\n",
       "  'clos': 19959.94,\n",
       "  'diff': -115.79,\n",
       "  'rate': -0.58,\n",
       "  'gvol': 2247902013},\n",
       " {'symb': 'HSI@HSI',\n",
       "  'xymd': '20230421',\n",
       "  'open': 20330.15,\n",
       "  'high': 20378.9,\n",
       "  'low': 19974.91,\n",
       "  'clos': 20075.73,\n",
       "  'diff': -321.24,\n",
       "  'rate': -1.57,\n",
       "  'gvol': 2494223883},\n",
       " {'symb': 'HSI@HSI',\n",
       "  'xymd': '20230420',\n",
       "  'open': 20354.83,\n",
       "  'high': 20472.5,\n",
       "  'low': 20308.33,\n",
       "  'clos': 20396.97,\n",
       "  'diff': 29.21,\n",
       "  'rate': 0.14,\n",
       "  'gvol': 2047181563},\n",
       " {'symb': 'HSI@HSI',\n",
       "  'xymd': '20230419',\n",
       "  'open': 20633.0,\n",
       "  'high': 20633.0,\n",
       "  'low': 20336.71,\n",
       "  'clos': 20367.76,\n",
       "  'diff': -282.75,\n",
       "  'rate': -1.37,\n",
       "  'gvol': 2183749591},\n",
       " {'symb': 'HSI@HSI',\n",
       "  'xymd': '20230418',\n",
       "  'open': 20643.41,\n",
       "  'high': 20742.39,\n",
       "  'low': 20559.08,\n",
       "  'clos': 20650.51,\n",
       "  'diff': -131.94,\n",
       "  'rate': -0.63,\n",
       "  'gvol': 2349659010},\n",
       " {'symb': 'HSI@HSI',\n",
       "  'xymd': '20230417',\n",
       "  'open': 20374.51,\n",
       "  'high': 20864.74,\n",
       "  'low': 20299.15,\n",
       "  'clos': 20782.45,\n",
       "  'diff': 343.64,\n",
       "  'rate': 1.68,\n",
       "  'gvol': 3411232568},\n",
       " {'symb': 'HSI@HSI',\n",
       "  'xymd': '20230414',\n",
       "  'open': 20422.72,\n",
       "  'high': 20482.68,\n",
       "  'low': 20297.16,\n",
       "  'clos': 20438.81,\n",
       "  'diff': 94.33,\n",
       "  'rate': 0.46,\n",
       "  'gvol': 2086262156}]"
      ]
     },
     "execution_count": 9,
     "metadata": {},
     "output_type": "execute_result"
    }
   ],
   "source": [
    "# 3.2. json -> dict\n",
    "dict_data_two = httpResponse.json()\n",
    "dict_data_two"
   ]
  },
  {
   "cell_type": "code",
   "execution_count": 11,
   "id": "7b02d763",
   "metadata": {},
   "outputs": [
    {
     "data": {
      "text/plain": [
       "dict"
      ]
     },
     "execution_count": 11,
     "metadata": {},
     "output_type": "execute_result"
    }
   ],
   "source": [
    "type(dict_data_two[0])"
   ]
  },
  {
   "cell_type": "code",
   "execution_count": 12,
   "id": "7813a593",
   "metadata": {},
   "outputs": [
    {
     "data": {
      "text/html": [
       "<div>\n",
       "<style scoped>\n",
       "    .dataframe tbody tr th:only-of-type {\n",
       "        vertical-align: middle;\n",
       "    }\n",
       "\n",
       "    .dataframe tbody tr th {\n",
       "        vertical-align: top;\n",
       "    }\n",
       "\n",
       "    .dataframe thead th {\n",
       "        text-align: right;\n",
       "    }\n",
       "</style>\n",
       "<table border=\"1\" class=\"dataframe\">\n",
       "  <thead>\n",
       "    <tr style=\"text-align: right;\">\n",
       "      <th></th>\n",
       "      <th>symb</th>\n",
       "      <th>xymd</th>\n",
       "      <th>open</th>\n",
       "      <th>high</th>\n",
       "      <th>low</th>\n",
       "      <th>clos</th>\n",
       "      <th>diff</th>\n",
       "      <th>rate</th>\n",
       "      <th>gvol</th>\n",
       "    </tr>\n",
       "  </thead>\n",
       "  <tbody>\n",
       "    <tr>\n",
       "      <th>0</th>\n",
       "      <td>HSI@HSI</td>\n",
       "      <td>20230426</td>\n",
       "      <td>19520.97</td>\n",
       "      <td>19903.73</td>\n",
       "      <td>19520.97</td>\n",
       "      <td>19757.27</td>\n",
       "      <td>139.39</td>\n",
       "      <td>0.71</td>\n",
       "      <td>1941042630</td>\n",
       "    </tr>\n",
       "    <tr>\n",
       "      <th>1</th>\n",
       "      <td>HSI@HSI</td>\n",
       "      <td>20230425</td>\n",
       "      <td>19903.53</td>\n",
       "      <td>19910.28</td>\n",
       "      <td>19527.63</td>\n",
       "      <td>19617.88</td>\n",
       "      <td>-342.06</td>\n",
       "      <td>-1.71</td>\n",
       "      <td>2196274452</td>\n",
       "    </tr>\n",
       "    <tr>\n",
       "      <th>2</th>\n",
       "      <td>HSI@HSI</td>\n",
       "      <td>20230424</td>\n",
       "      <td>20049.87</td>\n",
       "      <td>20146.37</td>\n",
       "      <td>19734.68</td>\n",
       "      <td>19959.94</td>\n",
       "      <td>-115.79</td>\n",
       "      <td>-0.58</td>\n",
       "      <td>2247902013</td>\n",
       "    </tr>\n",
       "    <tr>\n",
       "      <th>3</th>\n",
       "      <td>HSI@HSI</td>\n",
       "      <td>20230421</td>\n",
       "      <td>20330.15</td>\n",
       "      <td>20378.90</td>\n",
       "      <td>19974.91</td>\n",
       "      <td>20075.73</td>\n",
       "      <td>-321.24</td>\n",
       "      <td>-1.57</td>\n",
       "      <td>2494223883</td>\n",
       "    </tr>\n",
       "    <tr>\n",
       "      <th>4</th>\n",
       "      <td>HSI@HSI</td>\n",
       "      <td>20230420</td>\n",
       "      <td>20354.83</td>\n",
       "      <td>20472.50</td>\n",
       "      <td>20308.33</td>\n",
       "      <td>20396.97</td>\n",
       "      <td>29.21</td>\n",
       "      <td>0.14</td>\n",
       "      <td>2047181563</td>\n",
       "    </tr>\n",
       "    <tr>\n",
       "      <th>5</th>\n",
       "      <td>HSI@HSI</td>\n",
       "      <td>20230419</td>\n",
       "      <td>20633.00</td>\n",
       "      <td>20633.00</td>\n",
       "      <td>20336.71</td>\n",
       "      <td>20367.76</td>\n",
       "      <td>-282.75</td>\n",
       "      <td>-1.37</td>\n",
       "      <td>2183749591</td>\n",
       "    </tr>\n",
       "    <tr>\n",
       "      <th>6</th>\n",
       "      <td>HSI@HSI</td>\n",
       "      <td>20230418</td>\n",
       "      <td>20643.41</td>\n",
       "      <td>20742.39</td>\n",
       "      <td>20559.08</td>\n",
       "      <td>20650.51</td>\n",
       "      <td>-131.94</td>\n",
       "      <td>-0.63</td>\n",
       "      <td>2349659010</td>\n",
       "    </tr>\n",
       "    <tr>\n",
       "      <th>7</th>\n",
       "      <td>HSI@HSI</td>\n",
       "      <td>20230417</td>\n",
       "      <td>20374.51</td>\n",
       "      <td>20864.74</td>\n",
       "      <td>20299.15</td>\n",
       "      <td>20782.45</td>\n",
       "      <td>343.64</td>\n",
       "      <td>1.68</td>\n",
       "      <td>3411232568</td>\n",
       "    </tr>\n",
       "    <tr>\n",
       "      <th>8</th>\n",
       "      <td>HSI@HSI</td>\n",
       "      <td>20230414</td>\n",
       "      <td>20422.72</td>\n",
       "      <td>20482.68</td>\n",
       "      <td>20297.16</td>\n",
       "      <td>20438.81</td>\n",
       "      <td>94.33</td>\n",
       "      <td>0.46</td>\n",
       "      <td>2086262156</td>\n",
       "    </tr>\n",
       "  </tbody>\n",
       "</table>\n",
       "</div>"
      ],
      "text/plain": [
       "      symb      xymd      open      high       low      clos    diff  rate   \n",
       "0  HSI@HSI  20230426  19520.97  19903.73  19520.97  19757.27  139.39  0.71  \\\n",
       "1  HSI@HSI  20230425  19903.53  19910.28  19527.63  19617.88 -342.06 -1.71   \n",
       "2  HSI@HSI  20230424  20049.87  20146.37  19734.68  19959.94 -115.79 -0.58   \n",
       "3  HSI@HSI  20230421  20330.15  20378.90  19974.91  20075.73 -321.24 -1.57   \n",
       "4  HSI@HSI  20230420  20354.83  20472.50  20308.33  20396.97   29.21  0.14   \n",
       "5  HSI@HSI  20230419  20633.00  20633.00  20336.71  20367.76 -282.75 -1.37   \n",
       "6  HSI@HSI  20230418  20643.41  20742.39  20559.08  20650.51 -131.94 -0.63   \n",
       "7  HSI@HSI  20230417  20374.51  20864.74  20299.15  20782.45  343.64  1.68   \n",
       "8  HSI@HSI  20230414  20422.72  20482.68  20297.16  20438.81   94.33  0.46   \n",
       "\n",
       "         gvol  \n",
       "0  1941042630  \n",
       "1  2196274452  \n",
       "2  2247902013  \n",
       "3  2494223883  \n",
       "4  2047181563  \n",
       "5  2183749591  \n",
       "6  2349659010  \n",
       "7  3411232568  \n",
       "8  2086262156  "
      ]
     },
     "execution_count": 12,
     "metadata": {},
     "output_type": "execute_result"
    }
   ],
   "source": [
    "table = pd.json_normalize(dict_data_two)\n",
    "table"
   ]
  }
 ],
 "metadata": {
  "kernelspec": {
   "display_name": "ex_kernel",
   "language": "python",
   "name": "ex"
  },
  "language_info": {
   "codemirror_mode": {
    "name": "ipython",
    "version": 3
   },
   "file_extension": ".py",
   "mimetype": "text/x-python",
   "name": "python",
   "nbconvert_exporter": "python",
   "pygments_lexer": "ipython3",
   "version": "3.8.10"
  }
 },
 "nbformat": 4,
 "nbformat_minor": 5
}
