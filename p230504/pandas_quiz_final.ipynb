{
 "cells": [
  {
   "cell_type": "markdown",
   "id": "ffb8a8ea",
   "metadata": {},
   "source": [
    "## 네이버 증권 -> 국내증시 -> 인기검색종목 -> 더보기 -> 모든 정보 가져오기(30개) \n",
    "- 모든 값이 결측치인 행은 삭제\n",
    "- 타입은 알맞게 변경 (% 그대로 나오게)\n",
    "- 국내증시.csv 파일로 저장 (인덱스 제외)"
   ]
  },
  {
   "cell_type": "code",
   "execution_count": 1,
   "id": "e06079de",
   "metadata": {},
   "outputs": [
    {
     "name": "stdout",
     "output_type": "stream",
     "text": [
      "저장 완료\n"
     ]
    }
   ],
   "source": [
    "import pandas as pd\n",
    "\n",
    "# 1. 웹에서 테이블 가져오기\n",
    "url = 'https://finance.naver.com/sise/lastsearch2.naver'\n",
    "stock = pd.read_html(url, encoding='euc-kr')[1]\n",
    "\n",
    "# 2. 모든 값이 결측치인 행 삭제\n",
    "stock.dropna(how='all', inplace=True)\n",
    "\n",
    "# 3. 타입 변경\n",
    "stock = stock.astype({'순위': int, '현재가': int, '전일비': int, '거래량': int, '시가': int, '고가': int, '저가': int})\n",
    "\n",
    "# 4. 인덱스 재설정\n",
    "stock.reset_index(drop=True, inplace=True)\n",
    "\n",
    "# 5. csv 파일로 저장\n",
    "stock.to_csv('국내증시.csv', index=False, encoding='UTF-8')\n",
    "print('저장 완료')"
   ]
  }
 ],
 "metadata": {
  "kernelspec": {
   "display_name": "ex_kernel",
   "language": "python",
   "name": "ex"
  },
  "language_info": {
   "codemirror_mode": {
    "name": "ipython",
    "version": 3
   },
   "file_extension": ".py",
   "mimetype": "text/x-python",
   "name": "python",
   "nbconvert_exporter": "python",
   "pygments_lexer": "ipython3",
   "version": "3.8.10"
  },
  "toc": {
   "base_numbering": 1,
   "nav_menu": {},
   "number_sections": true,
   "sideBar": true,
   "skip_h1_title": false,
   "title_cell": "Table of Contents",
   "title_sidebar": "Contents",
   "toc_cell": false,
   "toc_position": {},
   "toc_section_display": true,
   "toc_window_display": false
  }
 },
 "nbformat": 4,
 "nbformat_minor": 5
}
