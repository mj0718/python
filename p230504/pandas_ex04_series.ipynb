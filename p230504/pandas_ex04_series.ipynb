{
 "cells": [
  {
   "cell_type": "markdown",
   "id": "5b50e9f8",
   "metadata": {},
   "source": [
    "## Series 기본 개념\n",
    "- 1차원 형태"
   ]
  },
  {
   "cell_type": "markdown",
   "id": "084bba18",
   "metadata": {},
   "source": [
    "### 시리즈 생성"
   ]
  },
  {
   "cell_type": "code",
   "execution_count": 1,
   "id": "13b9eb11",
   "metadata": {},
   "outputs": [],
   "source": [
    "import pandas as pd"
   ]
  },
  {
   "cell_type": "code",
   "execution_count": 2,
   "id": "7ae84d59",
   "metadata": {},
   "outputs": [
    {
     "data": {
      "text/plain": [
       "0    10\n",
       "1    20\n",
       "2    30\n",
       "3    40\n",
       "dtype: int64"
      ]
     },
     "execution_count": 2,
     "metadata": {},
     "output_type": "execute_result"
    }
   ],
   "source": [
    "se = pd.Series([10, 20, 30, 40])\n",
    "se"
   ]
  },
  {
   "cell_type": "code",
   "execution_count": 41,
   "id": "f09b5ccf",
   "metadata": {},
   "outputs": [
    {
     "name": "stdout",
     "output_type": "stream",
     "text": [
      "<class 'pandas.core.series.Series'>\n",
      "RangeIndex: 4 entries, 0 to 3\n",
      "Series name: None\n",
      "Non-Null Count  Dtype\n",
      "--------------  -----\n",
      "4 non-null      int64\n",
      "dtypes: int64(1)\n",
      "memory usage: 160.0 bytes\n"
     ]
    }
   ],
   "source": [
    "se.info()"
   ]
  },
  {
   "cell_type": "markdown",
   "id": "50e21549",
   "metadata": {},
   "source": [
    "### 타입"
   ]
  },
  {
   "cell_type": "code",
   "execution_count": 3,
   "id": "288124f1",
   "metadata": {},
   "outputs": [
    {
     "data": {
      "text/plain": [
       "pandas.core.series.Series"
      ]
     },
     "execution_count": 3,
     "metadata": {},
     "output_type": "execute_result"
    }
   ],
   "source": [
    "type(se)"
   ]
  },
  {
   "cell_type": "code",
   "execution_count": 4,
   "id": "d12901dd",
   "metadata": {},
   "outputs": [
    {
     "data": {
      "text/plain": [
       "dtype('int64')"
      ]
     },
     "execution_count": 4,
     "metadata": {},
     "output_type": "execute_result"
    }
   ],
   "source": [
    "se.dtype"
   ]
  },
  {
   "cell_type": "code",
   "execution_count": 5,
   "id": "59968fd8",
   "metadata": {},
   "outputs": [
    {
     "data": {
      "text/plain": [
       "dtype('int64')"
      ]
     },
     "execution_count": 5,
     "metadata": {},
     "output_type": "execute_result"
    }
   ],
   "source": [
    "se.dtypes"
   ]
  },
  {
   "cell_type": "markdown",
   "id": "e812f753",
   "metadata": {},
   "source": [
    "### 인덱스"
   ]
  },
  {
   "cell_type": "code",
   "execution_count": 6,
   "id": "6d7de7b6",
   "metadata": {},
   "outputs": [
    {
     "data": {
      "text/plain": [
       "RangeIndex(start=0, stop=4, step=1)"
      ]
     },
     "execution_count": 6,
     "metadata": {},
     "output_type": "execute_result"
    }
   ],
   "source": [
    "se.index"
   ]
  },
  {
   "cell_type": "code",
   "execution_count": 7,
   "id": "8c2e851b",
   "metadata": {},
   "outputs": [
    {
     "data": {
      "text/plain": [
       "1"
      ]
     },
     "execution_count": 7,
     "metadata": {},
     "output_type": "execute_result"
    }
   ],
   "source": [
    "# 인덱싱\n",
    "se.index[1]"
   ]
  },
  {
   "cell_type": "code",
   "execution_count": 8,
   "id": "597850db",
   "metadata": {},
   "outputs": [
    {
     "data": {
      "text/plain": [
       "RangeIndex(start=1, stop=4, step=1)"
      ]
     },
     "execution_count": 8,
     "metadata": {},
     "output_type": "execute_result"
    }
   ],
   "source": [
    "# 슬라이싱\n",
    "se.index[1:]"
   ]
  },
  {
   "cell_type": "code",
   "execution_count": 10,
   "id": "7d3ccc17",
   "metadata": {},
   "outputs": [
    {
     "data": {
      "text/plain": [
       "RangeIndex(start=2, stop=3, step=1)"
      ]
     },
     "execution_count": 10,
     "metadata": {},
     "output_type": "execute_result"
    }
   ],
   "source": [
    "se.index[2:3]"
   ]
  },
  {
   "cell_type": "code",
   "execution_count": 12,
   "id": "383b351c",
   "metadata": {},
   "outputs": [
    {
     "data": {
      "text/plain": [
       "0      10\n",
       "one    20\n",
       "2      30\n",
       "3      40\n",
       "dtype: int64"
      ]
     },
     "execution_count": 12,
     "metadata": {},
     "output_type": "execute_result"
    }
   ],
   "source": [
    "# 인덱스 일부 변경 : 1 -> 'one'\n",
    "# 원본 적용\n",
    "se.rename({1:'one'}, inplace=True)\n",
    "se"
   ]
  },
  {
   "cell_type": "code",
   "execution_count": 13,
   "id": "1fc404d3",
   "metadata": {},
   "outputs": [
    {
     "data": {
      "text/plain": [
       "Index([0, 'one', 2, 3], dtype='object')"
      ]
     },
     "execution_count": 13,
     "metadata": {},
     "output_type": "execute_result"
    }
   ],
   "source": [
    "se.index"
   ]
  },
  {
   "cell_type": "code",
   "execution_count": 14,
   "id": "6327cacf",
   "metadata": {},
   "outputs": [
    {
     "data": {
      "text/plain": [
       "하나    10\n",
       "둘     20\n",
       "셋     30\n",
       "넷     40\n",
       "dtype: int64"
      ]
     },
     "execution_count": 14,
     "metadata": {},
     "output_type": "execute_result"
    }
   ],
   "source": [
    "# 인덱스 전체 변경\n",
    "se.index = ['하나', '둘', '셋', '넷']\n",
    "se"
   ]
  },
  {
   "cell_type": "code",
   "execution_count": 15,
   "id": "b07ad4cf",
   "metadata": {},
   "outputs": [
    {
     "data": {
      "text/plain": [
       "Index(['하나', '둘', '셋', '넷'], dtype='object')"
      ]
     },
     "execution_count": 15,
     "metadata": {},
     "output_type": "execute_result"
    }
   ],
   "source": [
    "se.index"
   ]
  },
  {
   "cell_type": "code",
   "execution_count": 16,
   "id": "2c89094d",
   "metadata": {},
   "outputs": [
    {
     "data": {
      "text/plain": [
       "10"
      ]
     },
     "execution_count": 16,
     "metadata": {},
     "output_type": "execute_result"
    }
   ],
   "source": [
    "se['하나']\n",
    "se[0]"
   ]
  },
  {
   "cell_type": "code",
   "execution_count": 17,
   "id": "a2a3d2e3",
   "metadata": {},
   "outputs": [
    {
     "data": {
      "text/plain": [
       "10"
      ]
     },
     "execution_count": 17,
     "metadata": {},
     "output_type": "execute_result"
    }
   ],
   "source": [
    "se.iloc[0]"
   ]
  },
  {
   "cell_type": "code",
   "execution_count": 18,
   "id": "c553fe77",
   "metadata": {},
   "outputs": [
    {
     "data": {
      "text/plain": [
       "40"
      ]
     },
     "execution_count": 18,
     "metadata": {},
     "output_type": "execute_result"
    }
   ],
   "source": [
    "# 마지막 값 추출\n",
    "se['넷']\n",
    "se[3]\n",
    "se[-1]"
   ]
  },
  {
   "cell_type": "code",
   "execution_count": 20,
   "id": "6d507020",
   "metadata": {},
   "outputs": [
    {
     "data": {
      "text/plain": [
       "하나    10\n",
       "둘     20\n",
       "dtype: int64"
      ]
     },
     "execution_count": 20,
     "metadata": {},
     "output_type": "execute_result"
    }
   ],
   "source": [
    "# [슬라이싱] 첫 번째 ~ 두 번째 추출\n",
    "se['하나':'둘']\n",
    "se[0:2]"
   ]
  },
  {
   "cell_type": "code",
   "execution_count": 21,
   "id": "a7f35534",
   "metadata": {},
   "outputs": [
    {
     "data": {
      "text/plain": [
       "셋    30\n",
       "넷    40\n",
       "dtype: int64"
      ]
     },
     "execution_count": 21,
     "metadata": {},
     "output_type": "execute_result"
    }
   ],
   "source": [
    "se['셋':]\n",
    "se[-2:]"
   ]
  },
  {
   "cell_type": "code",
   "execution_count": 22,
   "id": "c85fbb35",
   "metadata": {},
   "outputs": [
    {
     "data": {
      "text/plain": [
       "RangeIndex(start=0, stop=4, step=1)"
      ]
     },
     "execution_count": 22,
     "metadata": {},
     "output_type": "execute_result"
    }
   ],
   "source": [
    "# 인덱스 변경\n",
    "se.index = range(4)\n",
    "se.index"
   ]
  },
  {
   "cell_type": "code",
   "execution_count": 23,
   "id": "e87a44aa",
   "metadata": {},
   "outputs": [
    {
     "data": {
      "text/plain": [
       "0    10\n",
       "1    20\n",
       "2    30\n",
       "3    40\n",
       "dtype: int64"
      ]
     },
     "execution_count": 23,
     "metadata": {},
     "output_type": "execute_result"
    }
   ],
   "source": [
    "se"
   ]
  },
  {
   "cell_type": "code",
   "execution_count": 24,
   "id": "72825825",
   "metadata": {},
   "outputs": [
    {
     "data": {
      "text/plain": [
       "10"
      ]
     },
     "execution_count": 24,
     "metadata": {},
     "output_type": "execute_result"
    }
   ],
   "source": [
    "# 인덱싱 : 첫 번째 값 추출\n",
    "se[0]"
   ]
  },
  {
   "cell_type": "code",
   "execution_count": 25,
   "id": "e4e9a2ff",
   "metadata": {},
   "outputs": [
    {
     "data": {
      "text/plain": [
       "40"
      ]
     },
     "execution_count": 25,
     "metadata": {},
     "output_type": "execute_result"
    }
   ],
   "source": [
    "# 인덱싱 : 마지막 값 추출\n",
    "se[3]\n",
    "# se[-1] Error! 정수 형태로 부여된 index이므로 -1로 접근 불가능"
   ]
  },
  {
   "cell_type": "markdown",
   "id": "a7107c1e",
   "metadata": {},
   "source": [
    "### 값 추출과 개수"
   ]
  },
  {
   "cell_type": "code",
   "execution_count": 26,
   "id": "b7111886",
   "metadata": {},
   "outputs": [
    {
     "data": {
      "text/plain": [
       "array([10, 20, 30, 40], dtype=int64)"
      ]
     },
     "execution_count": 26,
     "metadata": {},
     "output_type": "execute_result"
    }
   ],
   "source": [
    "# 값만 추출\n",
    "se.values"
   ]
  },
  {
   "cell_type": "code",
   "execution_count": 27,
   "id": "3f871f86",
   "metadata": {},
   "outputs": [
    {
     "data": {
      "text/plain": [
       "10"
      ]
     },
     "execution_count": 27,
     "metadata": {},
     "output_type": "execute_result"
    }
   ],
   "source": [
    "se.values[0]"
   ]
  },
  {
   "cell_type": "code",
   "execution_count": 28,
   "id": "3ad10f01",
   "metadata": {},
   "outputs": [
    {
     "data": {
      "text/plain": [
       "numpy.ndarray"
      ]
     },
     "execution_count": 28,
     "metadata": {},
     "output_type": "execute_result"
    }
   ],
   "source": [
    "type(se.values)"
   ]
  },
  {
   "cell_type": "code",
   "execution_count": 30,
   "id": "f7e17382",
   "metadata": {},
   "outputs": [
    {
     "data": {
      "text/plain": [
       "10    1\n",
       "20    1\n",
       "30    1\n",
       "40    1\n",
       "Name: count, dtype: int64"
      ]
     },
     "execution_count": 30,
     "metadata": {},
     "output_type": "execute_result"
    }
   ],
   "source": [
    "se.value_counts()"
   ]
  },
  {
   "cell_type": "markdown",
   "id": "ea9f20f4",
   "metadata": {},
   "source": [
    "## Series 시리즈 연산\n",
    "### 시리즈 생성 : 인덱스 다름"
   ]
  },
  {
   "cell_type": "code",
   "execution_count": 34,
   "id": "e50c2654",
   "metadata": {},
   "outputs": [],
   "source": [
    "s1 = pd.Series([2, 4, 6], index=['n1', 'n2', 'n3'])\n",
    "# s2 = pd.Series([1, 5, 3], index=['n1', 'n2', 'n3'])\n",
    "s2 = pd.Series([1, 5, 3], index=['n1', 'n3', 'n2'])"
   ]
  },
  {
   "cell_type": "code",
   "execution_count": 35,
   "id": "ababc30c",
   "metadata": {
    "scrolled": true
   },
   "outputs": [
    {
     "data": {
      "text/plain": [
       "n1    2\n",
       "n2    4\n",
       "n3    6\n",
       "dtype: int64"
      ]
     },
     "execution_count": 35,
     "metadata": {},
     "output_type": "execute_result"
    }
   ],
   "source": [
    "s1"
   ]
  },
  {
   "cell_type": "markdown",
   "id": "043dcb0f",
   "metadata": {},
   "source": [
    "### 연산"
   ]
  },
  {
   "cell_type": "code",
   "execution_count": 39,
   "id": "fca2c2c3",
   "metadata": {},
   "outputs": [
    {
     "data": {
      "text/plain": [
       "n1     3\n",
       "n2     7\n",
       "n3    11\n",
       "dtype: int64"
      ]
     },
     "execution_count": 39,
     "metadata": {},
     "output_type": "execute_result"
    }
   ],
   "source": [
    "# 인덱스가 같은 것끼리 연산함\n",
    "s1 + s2"
   ]
  },
  {
   "cell_type": "markdown",
   "id": "4e94dcb2",
   "metadata": {},
   "source": [
    "### 시리즈 생성 : 없는 인덱스"
   ]
  },
  {
   "cell_type": "code",
   "execution_count": 37,
   "id": "f477fa17",
   "metadata": {},
   "outputs": [],
   "source": [
    "s3 = pd.Series([2, 4, 6], index=['n1', 'n2', 'n3'])\n",
    "s4 = pd.Series([1, 5, 3], index=['n1', 'n3', 'n5'])"
   ]
  },
  {
   "cell_type": "markdown",
   "id": "e79e7098",
   "metadata": {},
   "source": [
    "### 연산"
   ]
  },
  {
   "cell_type": "code",
   "execution_count": 38,
   "id": "539ca149",
   "metadata": {},
   "outputs": [
    {
     "data": {
      "text/plain": [
       "n1     3.0\n",
       "n2     NaN\n",
       "n3    11.0\n",
       "n5     NaN\n",
       "dtype: float64"
      ]
     },
     "execution_count": 38,
     "metadata": {},
     "output_type": "execute_result"
    }
   ],
   "source": [
    "s3 + s4"
   ]
  }
 ],
 "metadata": {
  "kernelspec": {
   "display_name": "ex_kernel",
   "language": "python",
   "name": "ex"
  },
  "language_info": {
   "codemirror_mode": {
    "name": "ipython",
    "version": 3
   },
   "file_extension": ".py",
   "mimetype": "text/x-python",
   "name": "python",
   "nbconvert_exporter": "python",
   "pygments_lexer": "ipython3",
   "version": "3.8.10"
  },
  "toc": {
   "base_numbering": 1,
   "nav_menu": {},
   "number_sections": true,
   "sideBar": true,
   "skip_h1_title": false,
   "title_cell": "Table of Contents",
   "title_sidebar": "Contents",
   "toc_cell": false,
   "toc_position": {},
   "toc_section_display": true,
   "toc_window_display": false
  }
 },
 "nbformat": 4,
 "nbformat_minor": 5
}
