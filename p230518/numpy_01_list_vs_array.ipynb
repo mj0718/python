{
 "cells": [
  {
   "cell_type": "markdown",
   "id": "83e59163",
   "metadata": {},
   "source": [
    "list와 array 차이"
   ]
  },
  {
   "cell_type": "markdown",
   "id": "70dcf5e1",
   "metadata": {},
   "source": [
    "# 요소 차이\n",
    "- list : 숫자형, 문자열 등 모든 자료 타입을 가질 수 있음 (여러 자료형 허용)\n",
    "- array : 숫자형과 문자열이 혼합되면 모두 문자열로 변환 (한 가지 자료형만 허용)"
   ]
  },
  {
   "cell_type": "code",
   "execution_count": 1,
   "id": "704b7393",
   "metadata": {},
   "outputs": [],
   "source": [
    "import numpy as np"
   ]
  },
  {
   "cell_type": "code",
   "execution_count": 2,
   "id": "3b380df5",
   "metadata": {},
   "outputs": [],
   "source": [
    "lt = [1, 3, 'a', 'b']\n",
    "ar = np.array([1, 3, 'a', 'b'])"
   ]
  },
  {
   "cell_type": "code",
   "execution_count": 3,
   "id": "82c2985c",
   "metadata": {},
   "outputs": [
    {
     "data": {
      "text/plain": [
       "[1, 3, 'a', 'b']"
      ]
     },
     "execution_count": 3,
     "metadata": {},
     "output_type": "execute_result"
    }
   ],
   "source": [
    "lt"
   ]
  },
  {
   "cell_type": "code",
   "execution_count": 4,
   "id": "b1ee0546",
   "metadata": {},
   "outputs": [
    {
     "data": {
      "text/plain": [
       "array(['1', '3', 'a', 'b'], dtype='<U11')"
      ]
     },
     "execution_count": 4,
     "metadata": {},
     "output_type": "execute_result"
    }
   ],
   "source": [
    "ar"
   ]
  },
  {
   "cell_type": "markdown",
   "id": "8c1120c2",
   "metadata": {},
   "source": [
    "# 2차원 이상일 경우, 원소 개수\n",
    "- list : 요소의 개수가 달라도 됨\n",
    "- array : 요소의 개수가 모두 같아야 함"
   ]
  },
  {
   "cell_type": "code",
   "execution_count": 5,
   "id": "ef4a40f7",
   "metadata": {},
   "outputs": [
    {
     "ename": "ValueError",
     "evalue": "setting an array element with a sequence. The requested array has an inhomogeneous shape after 1 dimensions. The detected shape was (3,) + inhomogeneous part.",
     "output_type": "error",
     "traceback": [
      "\u001b[1;31m---------------------------------------------------------------------------\u001b[0m",
      "\u001b[1;31mValueError\u001b[0m                                Traceback (most recent call last)",
      "Cell \u001b[1;32mIn[5], line 2\u001b[0m\n\u001b[0;32m      1\u001b[0m lt \u001b[38;5;241m=\u001b[39m [[\u001b[38;5;241m1\u001b[39m], [\u001b[38;5;241m3\u001b[39m, \u001b[38;5;241m5\u001b[39m], [\u001b[38;5;241m7\u001b[39m, \u001b[38;5;241m9\u001b[39m, \u001b[38;5;241m10\u001b[39m]]\n\u001b[1;32m----> 2\u001b[0m ar \u001b[38;5;241m=\u001b[39m \u001b[43mnp\u001b[49m\u001b[38;5;241;43m.\u001b[39;49m\u001b[43marray\u001b[49m\u001b[43m(\u001b[49m\u001b[43m[\u001b[49m\u001b[43m[\u001b[49m\u001b[38;5;241;43m1\u001b[39;49m\u001b[43m]\u001b[49m\u001b[43m,\u001b[49m\u001b[43m \u001b[49m\u001b[43m[\u001b[49m\u001b[38;5;241;43m3\u001b[39;49m\u001b[43m,\u001b[49m\u001b[43m \u001b[49m\u001b[38;5;241;43m5\u001b[39;49m\u001b[43m]\u001b[49m\u001b[43m,\u001b[49m\u001b[43m \u001b[49m\u001b[43m[\u001b[49m\u001b[38;5;241;43m7\u001b[39;49m\u001b[43m,\u001b[49m\u001b[43m \u001b[49m\u001b[38;5;241;43m9\u001b[39;49m\u001b[43m,\u001b[49m\u001b[43m \u001b[49m\u001b[38;5;241;43m10\u001b[39;49m\u001b[43m]\u001b[49m\u001b[43m]\u001b[49m\u001b[43m)\u001b[49m\n",
      "\u001b[1;31mValueError\u001b[0m: setting an array element with a sequence. The requested array has an inhomogeneous shape after 1 dimensions. The detected shape was (3,) + inhomogeneous part."
     ]
    }
   ],
   "source": [
    "lt = [[1], [3, 5], [7, 9, 10]]\n",
    "ar = np.array([[1], [3, 5], [7, 9, 10]]) #Error"
   ]
  },
  {
   "cell_type": "code",
   "execution_count": 6,
   "id": "ad18aaa0",
   "metadata": {},
   "outputs": [],
   "source": [
    "ar = np.array([[1, 3], [3, 5], [7, 9]]) "
   ]
  },
  {
   "cell_type": "code",
   "execution_count": 7,
   "id": "5adc7f3d",
   "metadata": {},
   "outputs": [
    {
     "data": {
      "text/plain": [
       "array([[1, 3],\n",
       "       [3, 5],\n",
       "       [7, 9]])"
      ]
     },
     "execution_count": 7,
     "metadata": {},
     "output_type": "execute_result"
    }
   ],
   "source": [
    "ar"
   ]
  },
  {
   "cell_type": "markdown",
   "id": "b577effb",
   "metadata": {},
   "source": [
    "# 연산\n",
    "- list : 리스트 간 + 연산은 concatenate(이어줌) 수행 (-, *, / 연산 불가능)\n",
    "- array : +, -, *, / 연산 모두 가능"
   ]
  },
  {
   "cell_type": "code",
   "execution_count": 8,
   "id": "f28cfba8",
   "metadata": {},
   "outputs": [
    {
     "data": {
      "text/plain": [
       "[1, 3, 5, 2, 4, 6]"
      ]
     },
     "execution_count": 8,
     "metadata": {},
     "output_type": "execute_result"
    }
   ],
   "source": [
    "lt_one = [1, 3, 5]\n",
    "lt_two = [2, 4, 6]\n",
    "\n",
    "# 덧셈\n",
    "lt_one + lt_two"
   ]
  },
  {
   "cell_type": "code",
   "execution_count": 9,
   "id": "3ae9b293",
   "metadata": {},
   "outputs": [
    {
     "ename": "TypeError",
     "evalue": "unsupported operand type(s) for -: 'list' and 'list'",
     "output_type": "error",
     "traceback": [
      "\u001b[1;31m---------------------------------------------------------------------------\u001b[0m",
      "\u001b[1;31mTypeError\u001b[0m                                 Traceback (most recent call last)",
      "Cell \u001b[1;32mIn[9], line 2\u001b[0m\n\u001b[0;32m      1\u001b[0m \u001b[38;5;66;03m# 뺄셈\u001b[39;00m\n\u001b[1;32m----> 2\u001b[0m \u001b[43mlt_one\u001b[49m\u001b[43m \u001b[49m\u001b[38;5;241;43m-\u001b[39;49m\u001b[43m \u001b[49m\u001b[43mlt_two\u001b[49m\n",
      "\u001b[1;31mTypeError\u001b[0m: unsupported operand type(s) for -: 'list' and 'list'"
     ]
    }
   ],
   "source": [
    "# 뺄셈\n",
    "lt_one - lt_two"
   ]
  },
  {
   "cell_type": "code",
   "execution_count": 10,
   "id": "20f1820a",
   "metadata": {},
   "outputs": [
    {
     "data": {
      "text/plain": [
       "[1, 3, 5, 1, 3, 5, 1, 3, 5]"
      ]
     },
     "execution_count": 10,
     "metadata": {},
     "output_type": "execute_result"
    }
   ],
   "source": [
    "# 곱셈\n",
    "lt_one * 3"
   ]
  },
  {
   "cell_type": "code",
   "execution_count": 2,
   "id": "5b3ff864",
   "metadata": {},
   "outputs": [
    {
     "data": {
      "text/plain": [
       "array([ 3,  7, 11])"
      ]
     },
     "execution_count": 2,
     "metadata": {},
     "output_type": "execute_result"
    }
   ],
   "source": [
    "ar_one = np.array([1, 3, 5])\n",
    "ar_two = np.array([2, 4, 6])\n",
    "\n",
    "ar_one + ar_two"
   ]
  },
  {
   "cell_type": "code",
   "execution_count": 3,
   "id": "6382e91d",
   "metadata": {},
   "outputs": [
    {
     "data": {
      "text/plain": [
       "array([-1, -1, -1])"
      ]
     },
     "execution_count": 3,
     "metadata": {},
     "output_type": "execute_result"
    }
   ],
   "source": [
    "ar_one - ar_two"
   ]
  },
  {
   "cell_type": "code",
   "execution_count": 4,
   "id": "f339bb55",
   "metadata": {
    "scrolled": true
   },
   "outputs": [
    {
     "data": {
      "text/plain": [
       "array([ 2, 12, 30])"
      ]
     },
     "execution_count": 4,
     "metadata": {},
     "output_type": "execute_result"
    }
   ],
   "source": [
    "ar_one * ar_two"
   ]
  },
  {
   "cell_type": "code",
   "execution_count": 5,
   "id": "da0bcf95",
   "metadata": {
    "scrolled": true
   },
   "outputs": [
    {
     "data": {
      "text/plain": [
       "array([0.5       , 0.75      , 0.83333333])"
      ]
     },
     "execution_count": 5,
     "metadata": {},
     "output_type": "execute_result"
    }
   ],
   "source": [
    "ar_one / ar_two"
   ]
  },
  {
   "cell_type": "code",
   "execution_count": 6,
   "id": "b1e98acf",
   "metadata": {},
   "outputs": [
    {
     "data": {
      "text/plain": [
       "array([ 2,  6, 10])"
      ]
     },
     "execution_count": 6,
     "metadata": {},
     "output_type": "execute_result"
    }
   ],
   "source": [
    "ar_one * 2"
   ]
  },
  {
   "cell_type": "markdown",
   "id": "8a51d16b",
   "metadata": {},
   "source": [
    "# 연산 속도\n",
    "- time.time()\n",
    "    - 1970년 1월 1일 0시 0분 0초 이후 경과한 시간을 초단위로 반환\n",
    "    - 정수부는 초단위이고, 소수부는 마이크로(micro) 초단위\n",
    "    - 마이크로초(micro-second) : 백만 분의 1초"
   ]
  },
  {
   "cell_type": "code",
   "execution_count": 12,
   "id": "61b6d2d5",
   "metadata": {},
   "outputs": [
    {
     "name": "stdout",
     "output_type": "stream",
     "text": [
      "9.37250018119812\n"
     ]
    }
   ],
   "source": [
    "import time\n",
    "\n",
    "# 리스트 연산 속도\n",
    "lt = list(range(10**8))\n",
    "\n",
    "start = time.time()\n",
    "\n",
    "for i in lt:\n",
    "    lt[i] *= 2\n",
    "    \n",
    "end = time.time()\n",
    "\n",
    "print(end - start)"
   ]
  },
  {
   "cell_type": "code",
   "execution_count": 11,
   "id": "810ecc99",
   "metadata": {},
   "outputs": [
    {
     "data": {
      "text/plain": [
       "[0, 2, 4, 6, 8]"
      ]
     },
     "execution_count": 11,
     "metadata": {},
     "output_type": "execute_result"
    }
   ],
   "source": [
    "even = list(range(5))\n",
    "for e in even:\n",
    "    even[e] *= 2\n",
    "even"
   ]
  },
  {
   "cell_type": "code",
   "execution_count": 13,
   "id": "d7e67249",
   "metadata": {},
   "outputs": [
    {
     "name": "stdout",
     "output_type": "stream",
     "text": [
      "0.10902285575866699\n"
     ]
    }
   ],
   "source": [
    "# array 연산 속도\n",
    "ar = np.array(range(10**8))\n",
    "\n",
    "start = time.time()\n",
    "ar = ar * 2\n",
    "end = time.time()\n",
    "\n",
    "print(end - start)"
   ]
  }
 ],
 "metadata": {
  "kernelspec": {
   "display_name": "ex_kernel",
   "language": "python",
   "name": "ex"
  },
  "language_info": {
   "codemirror_mode": {
    "name": "ipython",
    "version": 3
   },
   "file_extension": ".py",
   "mimetype": "text/x-python",
   "name": "python",
   "nbconvert_exporter": "python",
   "pygments_lexer": "ipython3",
   "version": "3.8.10"
  },
  "toc": {
   "base_numbering": 1,
   "nav_menu": {},
   "number_sections": true,
   "sideBar": true,
   "skip_h1_title": false,
   "title_cell": "Table of Contents",
   "title_sidebar": "Contents",
   "toc_cell": false,
   "toc_position": {},
   "toc_section_display": true,
   "toc_window_display": false
  }
 },
 "nbformat": 4,
 "nbformat_minor": 5
}
