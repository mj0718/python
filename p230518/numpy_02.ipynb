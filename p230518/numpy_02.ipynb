{
 "cells": [
  {
   "cell_type": "markdown",
   "id": "672e5f08",
   "metadata": {},
   "source": [
    "# numpy ndarray 개요\n",
    "- ndarray : n-dimentional array"
   ]
  },
  {
   "cell_type": "code",
   "execution_count": 1,
   "id": "482228e2",
   "metadata": {},
   "outputs": [],
   "source": [
    "import numpy as np"
   ]
  },
  {
   "cell_type": "code",
   "execution_count": 4,
   "id": "f7085103",
   "metadata": {},
   "outputs": [
    {
     "name": "stdout",
     "output_type": "stream",
     "text": [
      "lt 타입 >> <class 'list'>\n",
      "ar 타입 >> <class 'numpy.ndarray'>\n",
      "ar 형태 >> (3,)\n",
      "ar 형태 타입 >> <class 'tuple'>\n"
     ]
    }
   ],
   "source": [
    "lt = [1, 2, 3]\n",
    "print('lt 타입 >>', type(lt))\n",
    "\n",
    "ar = np.array(lt)\n",
    "print('ar 타입 >>', type(ar))\n",
    "print('ar 형태 >>', ar.shape) # 일차원 의미\n",
    "print('ar 형태 타입 >>', type(ar.shape))"
   ]
  },
  {
   "cell_type": "code",
   "execution_count": 6,
   "id": "5e727acb",
   "metadata": {},
   "outputs": [
    {
     "name": "stdout",
     "output_type": "stream",
     "text": [
      "ar2 type >> <class 'numpy.ndarray'>\n",
      "ar2 shape >> (2, 3)\n"
     ]
    },
    {
     "data": {
      "text/plain": [
       "array([[1, 2, 3],\n",
       "       [2, 3, 4]])"
      ]
     },
     "execution_count": 6,
     "metadata": {},
     "output_type": "execute_result"
    }
   ],
   "source": [
    "ar2 = np.array([[1, 2, 3], \n",
    "                [2, 3, 4]])\n",
    "print('ar2 type >>', type(ar2))\n",
    "print('ar2 shape >>', ar2.shape)\n",
    "ar2"
   ]
  },
  {
   "cell_type": "code",
   "execution_count": 8,
   "id": "741e51f1",
   "metadata": {},
   "outputs": [
    {
     "name": "stdout",
     "output_type": "stream",
     "text": [
      "ar3 shape >> (1, 3)\n"
     ]
    },
    {
     "data": {
      "text/plain": [
       "array([[1, 2, 3]])"
      ]
     },
     "execution_count": 8,
     "metadata": {},
     "output_type": "execute_result"
    }
   ],
   "source": [
    "ar3 = np.array([[1, 2, 3]])\n",
    "print('ar3 shape >>', ar3.shape)\n",
    "ar3"
   ]
  },
  {
   "cell_type": "code",
   "execution_count": 9,
   "id": "07c70b30",
   "metadata": {},
   "outputs": [
    {
     "data": {
      "text/plain": [
       "1"
      ]
     },
     "execution_count": 9,
     "metadata": {},
     "output_type": "execute_result"
    }
   ],
   "source": [
    "# 차원 표시\n",
    "ar.ndim"
   ]
  },
  {
   "cell_type": "code",
   "execution_count": 10,
   "id": "4fd429b3",
   "metadata": {},
   "outputs": [
    {
     "data": {
      "text/plain": [
       "2"
      ]
     },
     "execution_count": 10,
     "metadata": {},
     "output_type": "execute_result"
    }
   ],
   "source": [
    "ar2.ndim"
   ]
  },
  {
   "cell_type": "code",
   "execution_count": 11,
   "id": "e047e101",
   "metadata": {},
   "outputs": [
    {
     "data": {
      "text/plain": [
       "2"
      ]
     },
     "execution_count": 11,
     "metadata": {},
     "output_type": "execute_result"
    }
   ],
   "source": [
    "ar3.ndim"
   ]
  },
  {
   "cell_type": "code",
   "execution_count": 12,
   "id": "287b6bec",
   "metadata": {},
   "outputs": [
    {
     "data": {
      "text/plain": [
       "'ar: 1차원, ar2: 2차원, ar3: 2차원'"
      ]
     },
     "execution_count": 12,
     "metadata": {},
     "output_type": "execute_result"
    }
   ],
   "source": [
    "f'ar: {ar.ndim}차원, ar2: {ar2.ndim}차원, ar3: {ar3.ndim}차원'"
   ]
  },
  {
   "cell_type": "markdown",
   "id": "f3aeff0e",
   "metadata": {},
   "source": [
    "# ndarray 데이터 타입"
   ]
  },
  {
   "cell_type": "code",
   "execution_count": 16,
   "id": "8ef110fb",
   "metadata": {},
   "outputs": [
    {
     "name": "stdout",
     "output_type": "stream",
     "text": [
      "ar type >> <class 'numpy.ndarray'>\n",
      "ar dtype >> float64\n",
      "ar shape >> (4,)\n"
     ]
    },
    {
     "data": {
      "text/plain": [
       "array([1. , 2. , 3. , 2.5])"
      ]
     },
     "execution_count": 16,
     "metadata": {},
     "output_type": "execute_result"
    }
   ],
   "source": [
    "ar = np.array([1, 2, 3, 2.5])\n",
    "print('ar type >>', type(ar))\n",
    "print('ar dtype >>', ar.dtype)\n",
    "print('ar shape >>', ar.shape)\n",
    "ar"
   ]
  },
  {
   "cell_type": "code",
   "execution_count": 17,
   "id": "dcf2c3b5",
   "metadata": {},
   "outputs": [
    {
     "data": {
      "text/plain": [
       "array(['1', '2', 'test'], dtype='<U11')"
      ]
     },
     "execution_count": 17,
     "metadata": {},
     "output_type": "execute_result"
    }
   ],
   "source": [
    "ar2 = np.array([1, 2, 'test'])\n",
    "ar2"
   ]
  },
  {
   "cell_type": "code",
   "execution_count": 23,
   "id": "3702dcbe",
   "metadata": {},
   "outputs": [
    {
     "name": "stdout",
     "output_type": "stream",
     "text": [
      "ar_int >> [1 2 3]\n",
      "ar_int type >>  int32\n",
      "ar_float >> [1. 2. 3.]\n",
      "ar_float type >> float64\n"
     ]
    }
   ],
   "source": [
    "# 타입 변경 : int -> float\n",
    "ar_int = np.array([1, 2, 3])\n",
    "print('ar_int >>', ar_int)\n",
    "print('ar_int type >> ', ar_int.dtype)\n",
    "\n",
    "ar_float = ar_int.astype('float')\n",
    "print('ar_float >>', ar_float)\n",
    "print('ar_float type >>', ar_float.dtype)"
   ]
  },
  {
   "cell_type": "code",
   "execution_count": 24,
   "id": "2a3d2f45",
   "metadata": {},
   "outputs": [
    {
     "data": {
      "text/plain": [
       "array([1, 2, 3])"
      ]
     },
     "execution_count": 24,
     "metadata": {},
     "output_type": "execute_result"
    }
   ],
   "source": [
    "ar_float2 = np.array([1.1, 2.5, 3.8])\n",
    "ar_float2.astype('int')"
   ]
  },
  {
   "cell_type": "markdown",
   "id": "03a975bb",
   "metadata": {},
   "source": [
    "# ndarray를 편하게 생성 - arange, zeros, ones"
   ]
  },
  {
   "cell_type": "code",
   "execution_count": 25,
   "id": "6fbcb854",
   "metadata": {},
   "outputs": [
    {
     "data": {
      "text/plain": [
       "array([0, 1, 2, 3, 4, 5, 6, 7, 8, 9])"
      ]
     },
     "execution_count": 25,
     "metadata": {},
     "output_type": "execute_result"
    }
   ],
   "source": [
    "np.arange(10)"
   ]
  },
  {
   "cell_type": "code",
   "execution_count": 27,
   "id": "78eef8c8",
   "metadata": {},
   "outputs": [
    {
     "name": "stdout",
     "output_type": "stream",
     "text": [
      "[0 1 2 3 4 5 6 7 8 9]\n",
      "<class 'numpy.ndarray'>\n",
      "int32\n",
      "(10,)\n"
     ]
    }
   ],
   "source": [
    "sequence_ar = np.arange(10)\n",
    "\n",
    "print(sequence_ar)\n",
    "print(type(sequence_ar))\n",
    "print(sequence_ar.dtype)\n",
    "print(sequence_ar.shape)"
   ]
  },
  {
   "cell_type": "code",
   "execution_count": 30,
   "id": "e10c56ff",
   "metadata": {},
   "outputs": [
    {
     "data": {
      "text/plain": [
       "dtype('int32')"
      ]
     },
     "execution_count": 30,
     "metadata": {},
     "output_type": "execute_result"
    }
   ],
   "source": [
    "# 모든 요소가 0인 ndarray 생성\n",
    "zero_ar = np.zeros((3, 2), dtype='int32')\n",
    "zero_ar.dtype"
   ]
  },
  {
   "cell_type": "code",
   "execution_count": 31,
   "id": "784c1f96",
   "metadata": {},
   "outputs": [
    {
     "data": {
      "text/plain": [
       "array([[0, 0],\n",
       "       [0, 0],\n",
       "       [0, 0]])"
      ]
     },
     "execution_count": 31,
     "metadata": {},
     "output_type": "execute_result"
    }
   ],
   "source": [
    "zero_ar"
   ]
  },
  {
   "cell_type": "code",
   "execution_count": 33,
   "id": "5560768a",
   "metadata": {},
   "outputs": [
    {
     "name": "stdout",
     "output_type": "stream",
     "text": [
      "[[1. 1.]\n",
      " [1. 1.]\n",
      " [1. 1.]]\n",
      "float64\n",
      "(3, 2)\n"
     ]
    }
   ],
   "source": [
    "# 모든 요소가 1인 ndarray 생성\n",
    "one_ar = np.ones((3,2))\n",
    "print(one_ar)\n",
    "print(one_ar.dtype)\n",
    "print(one_ar.shape)"
   ]
  },
  {
   "cell_type": "markdown",
   "id": "5276b9a4",
   "metadata": {},
   "source": [
    "# ndarray의 차원과 크기 변경 : reshape"
   ]
  },
  {
   "cell_type": "code",
   "execution_count": 35,
   "id": "1f09322a",
   "metadata": {},
   "outputs": [
    {
     "data": {
      "text/plain": [
       "array([0, 1, 2, 3, 4, 5, 6, 7, 8, 9])"
      ]
     },
     "execution_count": 35,
     "metadata": {},
     "output_type": "execute_result"
    }
   ],
   "source": [
    "ar = np.arange(10)\n",
    "ar"
   ]
  },
  {
   "cell_type": "code",
   "execution_count": 36,
   "id": "b3d5740c",
   "metadata": {},
   "outputs": [
    {
     "data": {
      "text/plain": [
       "(10,)"
      ]
     },
     "execution_count": 36,
     "metadata": {},
     "output_type": "execute_result"
    }
   ],
   "source": [
    "ar.shape"
   ]
  },
  {
   "cell_type": "code",
   "execution_count": 37,
   "id": "61e220d1",
   "metadata": {},
   "outputs": [
    {
     "data": {
      "text/plain": [
       "array([[0, 1, 2, 3, 4],\n",
       "       [5, 6, 7, 8, 9]])"
      ]
     },
     "execution_count": 37,
     "metadata": {},
     "output_type": "execute_result"
    }
   ],
   "source": [
    "# 1차원 배열 (10, 0) -> 2차원 배열 (2, 5) 변환\n",
    "ar2 = ar.reshape(2, 5)\n",
    "ar2"
   ]
  },
  {
   "cell_type": "code",
   "execution_count": 40,
   "id": "896a6c6a",
   "metadata": {},
   "outputs": [
    {
     "data": {
      "text/plain": [
       "array([[0, 1],\n",
       "       [2, 3],\n",
       "       [4, 5],\n",
       "       [6, 7],\n",
       "       [8, 9]])"
      ]
     },
     "execution_count": 40,
     "metadata": {},
     "output_type": "execute_result"
    }
   ],
   "source": [
    "# 2차원 배열 (2, 5) -> 2차원 배열 (5, 2) 변환\n",
    "ar3 = ar2.reshape(5, 2)\n",
    "ar3"
   ]
  },
  {
   "cell_type": "code",
   "execution_count": 42,
   "id": "5ab14740",
   "metadata": {},
   "outputs": [
    {
     "data": {
      "text/plain": [
       "array([[0, 1, 2, 3, 4],\n",
       "       [5, 6, 7, 8, 9]])"
      ]
     },
     "execution_count": 42,
     "metadata": {},
     "output_type": "execute_result"
    }
   ],
   "source": [
    "# -1은 알아서 맞춰줌\n",
    "ar4 = ar.reshape(-1, 5)\n",
    "ar4"
   ]
  },
  {
   "cell_type": "code",
   "execution_count": 43,
   "id": "f5c9e550",
   "metadata": {},
   "outputs": [
    {
     "data": {
      "text/plain": [
       "array([[0, 1],\n",
       "       [2, 3],\n",
       "       [4, 5],\n",
       "       [6, 7],\n",
       "       [8, 9]])"
      ]
     },
     "execution_count": 43,
     "metadata": {},
     "output_type": "execute_result"
    }
   ],
   "source": [
    "ar5 = ar.reshape(5, -1)\n",
    "ar5"
   ]
  },
  {
   "cell_type": "code",
   "execution_count": 44,
   "id": "17daa47d",
   "metadata": {},
   "outputs": [
    {
     "ename": "ValueError",
     "evalue": "cannot reshape array of size 10 into shape (4,newaxis)",
     "output_type": "error",
     "traceback": [
      "\u001b[1;31m---------------------------------------------------------------------------\u001b[0m",
      "\u001b[1;31mValueError\u001b[0m                                Traceback (most recent call last)",
      "Cell \u001b[1;32mIn[44], line 1\u001b[0m\n\u001b[1;32m----> 1\u001b[0m \u001b[43mar\u001b[49m\u001b[38;5;241;43m.\u001b[39;49m\u001b[43mreshape\u001b[49m\u001b[43m(\u001b[49m\u001b[38;5;241;43m4\u001b[39;49m\u001b[43m,\u001b[49m\u001b[43m \u001b[49m\u001b[38;5;241;43m-\u001b[39;49m\u001b[38;5;241;43m1\u001b[39;49m\u001b[43m)\u001b[49m\n",
      "\u001b[1;31mValueError\u001b[0m: cannot reshape array of size 10 into shape (4,newaxis)"
     ]
    }
   ],
   "source": [
    "ar.reshape(4, -1)"
   ]
  },
  {
   "cell_type": "code",
   "execution_count": 45,
   "id": "6c1713db",
   "metadata": {},
   "outputs": [
    {
     "data": {
      "text/plain": [
       "array([0, 1, 2, 3, 4, 5, 6, 7])"
      ]
     },
     "execution_count": 45,
     "metadata": {},
     "output_type": "execute_result"
    }
   ],
   "source": [
    "ar = np.arange(8)\n",
    "ar"
   ]
  },
  {
   "cell_type": "code",
   "execution_count": 47,
   "id": "5e71906c",
   "metadata": {},
   "outputs": [
    {
     "data": {
      "text/plain": [
       "[[[0, 1], [2, 3]], [[4, 5], [6, 7]]]"
      ]
     },
     "execution_count": 47,
     "metadata": {},
     "output_type": "execute_result"
    }
   ],
   "source": [
    "# 1차원 (8, 0) -> 3차원 (2, 2, 2) 변환\n",
    "ar2 = ar.reshape(2, 2, 2)\n",
    "ar2.shape\n",
    "ar2.tolist()"
   ]
  },
  {
   "cell_type": "code",
   "execution_count": 48,
   "id": "ed01fd4f",
   "metadata": {},
   "outputs": [
    {
     "data": {
      "text/plain": [
       "array([[0, 1],\n",
       "       [2, 3],\n",
       "       [4, 5],\n",
       "       [6, 7]])"
      ]
     },
     "execution_count": 48,
     "metadata": {},
     "output_type": "execute_result"
    }
   ],
   "source": [
    "# 3차원 -> 2차원 변환\n",
    "ar2.reshape(4, 2)"
   ]
  },
  {
   "cell_type": "code",
   "execution_count": 50,
   "id": "013f7423",
   "metadata": {},
   "outputs": [
    {
     "data": {
      "text/plain": [
       "array([0, 1, 2, 3, 4, 5, 6, 7])"
      ]
     },
     "execution_count": 50,
     "metadata": {},
     "output_type": "execute_result"
    }
   ],
   "source": [
    "# 3차원 -> 1차원 변환\n",
    "ar2.reshape(-1, )"
   ]
  },
  {
   "cell_type": "markdown",
   "id": "a0729ac6",
   "metadata": {},
   "source": [
    "# ndarray의 요소 선택"
   ]
  },
  {
   "cell_type": "code",
   "execution_count": 52,
   "id": "07a4e63e",
   "metadata": {},
   "outputs": [
    {
     "data": {
      "text/plain": [
       "array([1, 2, 3, 4, 5, 6, 7, 8, 9])"
      ]
     },
     "execution_count": 52,
     "metadata": {},
     "output_type": "execute_result"
    }
   ],
   "source": [
    "ar = np.arange(start=1, stop=10)\n",
    "ar = np.arange(1, 10)\n",
    "ar"
   ]
  },
  {
   "cell_type": "code",
   "execution_count": 53,
   "id": "d11d8684",
   "metadata": {},
   "outputs": [
    {
     "data": {
      "text/plain": [
       "3"
      ]
     },
     "execution_count": 53,
     "metadata": {},
     "output_type": "execute_result"
    }
   ],
   "source": [
    "ar[2]"
   ]
  },
  {
   "cell_type": "code",
   "execution_count": 54,
   "id": "7c05881b",
   "metadata": {},
   "outputs": [
    {
     "data": {
      "text/plain": [
       "dtype('int32')"
      ]
     },
     "execution_count": 54,
     "metadata": {},
     "output_type": "execute_result"
    }
   ],
   "source": [
    "ar.dtype"
   ]
  },
  {
   "cell_type": "code",
   "execution_count": 56,
   "id": "87fe2dfd",
   "metadata": {},
   "outputs": [
    {
     "data": {
      "text/plain": [
       "numpy.int32"
      ]
     },
     "execution_count": 56,
     "metadata": {},
     "output_type": "execute_result"
    }
   ],
   "source": [
    "type(ar[2])"
   ]
  },
  {
   "cell_type": "code",
   "execution_count": 57,
   "id": "e8bf9645",
   "metadata": {},
   "outputs": [
    {
     "data": {
      "text/plain": [
       "9"
      ]
     },
     "execution_count": 57,
     "metadata": {},
     "output_type": "execute_result"
    }
   ],
   "source": [
    "# 마지막 요소 추출\n",
    "ar[-1]"
   ]
  },
  {
   "cell_type": "code",
   "execution_count": 58,
   "id": "28434cf7",
   "metadata": {},
   "outputs": [
    {
     "data": {
      "text/plain": [
       "array([9, 2, 3, 4, 5, 6, 7, 8, 9])"
      ]
     },
     "execution_count": 58,
     "metadata": {},
     "output_type": "execute_result"
    }
   ],
   "source": [
    "# 요소 변경\n",
    "# 첫 번째 요소 : 1 -> 9\n",
    "ar[0] = 9\n",
    "ar"
   ]
  },
  {
   "cell_type": "code",
   "execution_count": 59,
   "id": "e09ebada",
   "metadata": {},
   "outputs": [
    {
     "data": {
      "text/plain": [
       "array([9, 2, 3, 4, 5, 6, 7, 8, 0])"
      ]
     },
     "execution_count": 59,
     "metadata": {},
     "output_type": "execute_result"
    }
   ],
   "source": [
    "# 마지막 요소 : 9 -> 0\n",
    "ar[-1] = 0\n",
    "ar"
   ]
  },
  {
   "cell_type": "code",
   "execution_count": 60,
   "id": "7302a65d",
   "metadata": {},
   "outputs": [
    {
     "data": {
      "text/plain": [
       "array([1, 2, 3, 4, 5, 6, 7, 8, 9])"
      ]
     },
     "execution_count": 60,
     "metadata": {},
     "output_type": "execute_result"
    }
   ],
   "source": [
    "ar = np.arange(1, 10)\n",
    "ar"
   ]
  },
  {
   "cell_type": "code",
   "execution_count": 61,
   "id": "d3b53e31",
   "metadata": {},
   "outputs": [
    {
     "data": {
      "text/plain": [
       "array([[1, 2, 3],\n",
       "       [4, 5, 6],\n",
       "       [7, 8, 9]])"
      ]
     },
     "execution_count": 61,
     "metadata": {},
     "output_type": "execute_result"
    }
   ],
   "source": [
    "ar2 = ar.reshape(3, -1)\n",
    "ar2"
   ]
  },
  {
   "cell_type": "code",
   "execution_count": 62,
   "id": "2e8a1224",
   "metadata": {},
   "outputs": [
    {
     "data": {
      "text/plain": [
       "(3, 3)"
      ]
     },
     "execution_count": 62,
     "metadata": {},
     "output_type": "execute_result"
    }
   ],
   "source": [
    "ar2.shape"
   ]
  },
  {
   "cell_type": "code",
   "execution_count": 64,
   "id": "498ce6f4",
   "metadata": {},
   "outputs": [
    {
     "data": {
      "text/plain": [
       "1"
      ]
     },
     "execution_count": 64,
     "metadata": {},
     "output_type": "execute_result"
    }
   ],
   "source": [
    "# 요소 1을 추출\n",
    "ar2[0][0]"
   ]
  },
  {
   "cell_type": "code",
   "execution_count": 67,
   "id": "1483a01d",
   "metadata": {},
   "outputs": [
    {
     "data": {
      "text/plain": [
       "1"
      ]
     },
     "execution_count": 67,
     "metadata": {},
     "output_type": "execute_result"
    }
   ],
   "source": [
    "# ar2[행인덱스, 열인덱스]\n",
    "ar2[0, 0]"
   ]
  },
  {
   "cell_type": "code",
   "execution_count": 68,
   "id": "50c0e09b",
   "metadata": {},
   "outputs": [
    {
     "data": {
      "text/plain": [
       "8"
      ]
     },
     "execution_count": 68,
     "metadata": {},
     "output_type": "execute_result"
    }
   ],
   "source": [
    "# 요소 8 추출\n",
    "ar2[2, 1]"
   ]
  },
  {
   "cell_type": "markdown",
   "id": "121df6e7",
   "metadata": {},
   "source": [
    "- 슬라이싱"
   ]
  },
  {
   "cell_type": "code",
   "execution_count": 70,
   "id": "053c9adc",
   "metadata": {},
   "outputs": [
    {
     "data": {
      "text/plain": [
       "array([1, 2, 3, 4, 5, 6, 7, 8, 9])"
      ]
     },
     "execution_count": 70,
     "metadata": {},
     "output_type": "execute_result"
    }
   ],
   "source": [
    "ar"
   ]
  },
  {
   "cell_type": "code",
   "execution_count": 71,
   "id": "8eddedd2",
   "metadata": {},
   "outputs": [
    {
     "data": {
      "text/plain": [
       "array([1, 2, 3])"
      ]
     },
     "execution_count": 71,
     "metadata": {},
     "output_type": "execute_result"
    }
   ],
   "source": [
    "# 요소 1, 2, 3 추출\n",
    "ar[:3]"
   ]
  },
  {
   "cell_type": "code",
   "execution_count": 72,
   "id": "7c6f79da",
   "metadata": {},
   "outputs": [
    {
     "data": {
      "text/plain": [
       "array([[1, 2, 3],\n",
       "       [4, 5, 6],\n",
       "       [7, 8, 9]])"
      ]
     },
     "execution_count": 72,
     "metadata": {},
     "output_type": "execute_result"
    }
   ],
   "source": [
    "ar2 = ar.reshape(-1, 3)\n",
    "ar2"
   ]
  },
  {
   "cell_type": "code",
   "execution_count": 101,
   "id": "eb90470e",
   "metadata": {
    "scrolled": true
   },
   "outputs": [
    {
     "name": "stdout",
     "output_type": "stream",
     "text": [
      "[[1 2]\n",
      " [4 5]] \n",
      "\n",
      "[[4 5 6]\n",
      " [7 8 9]] \n",
      "\n",
      "[[4 5 6]\n",
      " [7 8 9]] \n",
      "\n",
      "[[1 2 3]\n",
      " [4 5 6]\n",
      " [7 8 9]] \n",
      "\n",
      "[[2 3]\n",
      " [5 6]] \n",
      "\n",
      "[1 4]\n"
     ]
    }
   ],
   "source": [
    "print(ar2[:2, :2], '\\n')\n",
    "\n",
    "print(ar2[1:], '\\n')\n",
    "\n",
    "print(ar2[1:, :], '\\n')\n",
    "\n",
    "print(ar2[:, :], '\\n')\n",
    "\n",
    "print(ar2[:2, 1:], '\\n')\n",
    "\n",
    "print(ar2[:2, 0])"
   ]
  },
  {
   "cell_type": "markdown",
   "id": "14722235",
   "metadata": {},
   "source": [
    "# 팬시 인덱싱 (fancy indexing)\n",
    "    - 배열을 인덱스로 설정\n",
    "    - 배열의 요소 : 정수, 불린(boolean)"
   ]
  },
  {
   "cell_type": "code",
   "execution_count": 2,
   "id": "23d2eb91",
   "metadata": {},
   "outputs": [
    {
     "data": {
      "text/plain": [
       "array([1, 2, 3, 4, 5])"
      ]
     },
     "execution_count": 2,
     "metadata": {},
     "output_type": "execute_result"
    }
   ],
   "source": [
    "ar = np.arange(1, 6)\n",
    "ar"
   ]
  },
  {
   "cell_type": "markdown",
   "id": "2cc00c2f",
   "metadata": {},
   "source": [
    "- 홀수만 출력"
   ]
  },
  {
   "cell_type": "code",
   "execution_count": 3,
   "id": "64bbd957",
   "metadata": {},
   "outputs": [
    {
     "data": {
      "text/plain": [
       "array([1, 3, 5])"
      ]
     },
     "execution_count": 3,
     "metadata": {},
     "output_type": "execute_result"
    }
   ],
   "source": [
    "ar[[0, 2, 4]]"
   ]
  },
  {
   "cell_type": "code",
   "execution_count": 4,
   "id": "681d3549",
   "metadata": {
    "scrolled": true
   },
   "outputs": [
    {
     "data": {
      "text/plain": [
       "array([1, 1, 1, 3, 3, 5, 5, 5, 5])"
      ]
     },
     "execution_count": 4,
     "metadata": {},
     "output_type": "execute_result"
    }
   ],
   "source": [
    "ar[[0, 0, 0, 2, 2, 4, 4, 4, 4]]"
   ]
  },
  {
   "cell_type": "markdown",
   "id": "237b377e",
   "metadata": {},
   "source": [
    "- 불린 인덱싱 (boolean indexing)"
   ]
  },
  {
   "cell_type": "code",
   "execution_count": 5,
   "id": "d812db62",
   "metadata": {},
   "outputs": [
    {
     "data": {
      "text/plain": [
       "array([1, 3, 5])"
      ]
     },
     "execution_count": 5,
     "metadata": {},
     "output_type": "execute_result"
    }
   ],
   "source": [
    "# boolean은 배열의 길이랑 같아야 함 다르면 에러\n",
    "ar[[True, False, True, False, True]]"
   ]
  },
  {
   "cell_type": "code",
   "execution_count": 6,
   "id": "8e8fed15",
   "metadata": {},
   "outputs": [
    {
     "data": {
      "text/plain": [
       "array([1, 3, 5])"
      ]
     },
     "execution_count": 6,
     "metadata": {},
     "output_type": "execute_result"
    }
   ],
   "source": [
    "ar[ar % 2 == 1]"
   ]
  },
  {
   "cell_type": "code",
   "execution_count": 7,
   "id": "09c02bc0",
   "metadata": {},
   "outputs": [
    {
     "data": {
      "text/plain": [
       "array([4, 5])"
      ]
     },
     "execution_count": 7,
     "metadata": {},
     "output_type": "execute_result"
    }
   ],
   "source": [
    "ar[ar > 3]"
   ]
  },
  {
   "cell_type": "code",
   "execution_count": 8,
   "id": "3d76bd08",
   "metadata": {},
   "outputs": [
    {
     "data": {
      "text/plain": [
       "array([[1, 2, 3],\n",
       "       [4, 5, 6],\n",
       "       [7, 8, 9]])"
      ]
     },
     "execution_count": 8,
     "metadata": {},
     "output_type": "execute_result"
    }
   ],
   "source": [
    "ar = np.arange(1, 10)\n",
    "ar2 = ar.reshape(3, -1)\n",
    "ar2"
   ]
  },
  {
   "cell_type": "code",
   "execution_count": 9,
   "id": "299d9a4e",
   "metadata": {},
   "outputs": [
    {
     "data": {
      "text/plain": [
       "(3, 3)"
      ]
     },
     "execution_count": 9,
     "metadata": {},
     "output_type": "execute_result"
    }
   ],
   "source": [
    "ar2.shape"
   ]
  },
  {
   "cell_type": "code",
   "execution_count": 10,
   "id": "c877eb00",
   "metadata": {},
   "outputs": [
    {
     "data": {
      "text/plain": [
       "array([[1, 2, 3],\n",
       "       [7, 8, 9]])"
      ]
     },
     "execution_count": 10,
     "metadata": {},
     "output_type": "execute_result"
    }
   ],
   "source": [
    "ar2[[0, 2]]"
   ]
  },
  {
   "cell_type": "code",
   "execution_count": 11,
   "id": "ad7eeb79",
   "metadata": {},
   "outputs": [
    {
     "data": {
      "text/plain": [
       "array([1, 9])"
      ]
     },
     "execution_count": 11,
     "metadata": {},
     "output_type": "execute_result"
    }
   ],
   "source": [
    "# [0, 0], [2, 2]만 추출을 의미\n",
    "ar2[[0, 2], [0, 2]]"
   ]
  },
  {
   "cell_type": "code",
   "execution_count": 12,
   "id": "9be58fd6",
   "metadata": {},
   "outputs": [
    {
     "data": {
      "text/plain": [
       "array([[2, 3],\n",
       "       [8, 9]])"
      ]
     },
     "execution_count": 12,
     "metadata": {},
     "output_type": "execute_result"
    }
   ],
   "source": [
    "ar2[[0, 2], 1:]"
   ]
  },
  {
   "cell_type": "code",
   "execution_count": 13,
   "id": "89e1ac71",
   "metadata": {},
   "outputs": [
    {
     "data": {
      "text/plain": [
       "array([4, 5, 6])"
      ]
     },
     "execution_count": 13,
     "metadata": {},
     "output_type": "execute_result"
    }
   ],
   "source": [
    "ar2[1]"
   ]
  },
  {
   "cell_type": "code",
   "execution_count": 14,
   "id": "18bda23f",
   "metadata": {
    "scrolled": true
   },
   "outputs": [
    {
     "data": {
      "text/plain": [
       "array([1, 3, 6, 7])"
      ]
     },
     "execution_count": 14,
     "metadata": {},
     "output_type": "execute_result"
    }
   ],
   "source": [
    "# 불린 인덱싱\n",
    "idx = np.array(\n",
    "    [[True, False, True],\n",
    "     [False, False, True],\n",
    "     [True, False, False]]\n",
    ")\n",
    "ar2[idx]"
   ]
  },
  {
   "cell_type": "code",
   "execution_count": 15,
   "id": "3ae06b8d",
   "metadata": {},
   "outputs": [
    {
     "data": {
      "text/plain": [
       "array([[False, False, False],\n",
       "       [False, False,  True],\n",
       "       [ True,  True,  True]])"
      ]
     },
     "execution_count": 15,
     "metadata": {},
     "output_type": "execute_result"
    }
   ],
   "source": [
    "ar2 > 5"
   ]
  },
  {
   "cell_type": "code",
   "execution_count": 16,
   "id": "5220d043",
   "metadata": {},
   "outputs": [
    {
     "data": {
      "text/plain": [
       "array([6, 7, 8, 9])"
      ]
     },
     "execution_count": 16,
     "metadata": {},
     "output_type": "execute_result"
    }
   ],
   "source": [
    "ar2[ar2 > 5]"
   ]
  },
  {
   "cell_type": "code",
   "execution_count": 19,
   "id": "15c812ca",
   "metadata": {},
   "outputs": [
    {
     "data": {
      "text/plain": [
       "array([1, 3, 5, 7, 9])"
      ]
     },
     "execution_count": 19,
     "metadata": {},
     "output_type": "execute_result"
    }
   ],
   "source": [
    "ar2[ar2 % 2 == 1]"
   ]
  },
  {
   "cell_type": "markdown",
   "id": "7bc53932",
   "metadata": {},
   "source": [
    "# 정렬 - sort()와 argsort()"
   ]
  },
  {
   "cell_type": "code",
   "execution_count": 25,
   "id": "e053ade9",
   "metadata": {},
   "outputs": [
    {
     "data": {
      "text/plain": [
       "array([3, 1, 9, 5])"
      ]
     },
     "execution_count": 25,
     "metadata": {},
     "output_type": "execute_result"
    }
   ],
   "source": [
    "ar = np.array([3, 1, 9, 5])\n",
    "ar"
   ]
  },
  {
   "cell_type": "markdown",
   "id": "8d8702be",
   "metadata": {},
   "source": [
    "## sort\n",
    "- [문법 1] numpy.sort(배열) : 복사본\n",
    "- [문법 2] 배열.sort() : 원본"
   ]
  },
  {
   "cell_type": "code",
   "execution_count": 26,
   "id": "6320993d",
   "metadata": {},
   "outputs": [
    {
     "data": {
      "text/plain": [
       "array([1, 3, 5, 9])"
      ]
     },
     "execution_count": 26,
     "metadata": {},
     "output_type": "execute_result"
    }
   ],
   "source": [
    "# [문법 1] numpy.sort(배열)\n",
    "# 오름차순 정렬\n",
    "ar_copy = np.sort(ar)\n",
    "ar_copy"
   ]
  },
  {
   "cell_type": "code",
   "execution_count": 28,
   "id": "1ba2ea51",
   "metadata": {},
   "outputs": [
    {
     "data": {
      "text/plain": [
       "array([9, 5, 3, 1])"
      ]
     },
     "execution_count": 28,
     "metadata": {},
     "output_type": "execute_result"
    }
   ],
   "source": [
    "# 내림차순 정렬\n",
    "np.sort(ar)[::-1]"
   ]
  },
  {
   "cell_type": "code",
   "execution_count": 27,
   "id": "2e9d0362",
   "metadata": {},
   "outputs": [
    {
     "data": {
      "text/plain": [
       "array([3, 1, 9, 5])"
      ]
     },
     "execution_count": 27,
     "metadata": {},
     "output_type": "execute_result"
    }
   ],
   "source": [
    "# 원본 영향 없음\n",
    "ar"
   ]
  },
  {
   "cell_type": "code",
   "execution_count": 23,
   "id": "da89bed8",
   "metadata": {},
   "outputs": [],
   "source": [
    "# [문법 2] 배열.sort()\n",
    "ar.sort()"
   ]
  },
  {
   "cell_type": "code",
   "execution_count": 24,
   "id": "85ae1869",
   "metadata": {},
   "outputs": [
    {
     "data": {
      "text/plain": [
       "array([1, 3, 5, 9])"
      ]
     },
     "execution_count": 24,
     "metadata": {},
     "output_type": "execute_result"
    }
   ],
   "source": [
    "ar"
   ]
  },
  {
   "cell_type": "code",
   "execution_count": 29,
   "id": "9c41a37f",
   "metadata": {},
   "outputs": [
    {
     "data": {
      "text/plain": [
       "array([[ 8, 12],\n",
       "       [ 9,  1]])"
      ]
     },
     "execution_count": 29,
     "metadata": {},
     "output_type": "execute_result"
    }
   ],
   "source": [
    "ar2 = np.array([[8, 12],\n",
    "                [9, 1]])\n",
    "ar2"
   ]
  },
  {
   "cell_type": "code",
   "execution_count": 30,
   "id": "75417323",
   "metadata": {},
   "outputs": [
    {
     "data": {
      "text/plain": [
       "array([[ 8,  1],\n",
       "       [ 9, 12]])"
      ]
     },
     "execution_count": 30,
     "metadata": {},
     "output_type": "execute_result"
    }
   ],
   "source": [
    "# 행 기준 정렬\n",
    "np.sort(ar2, axis=0)"
   ]
  },
  {
   "cell_type": "code",
   "execution_count": 31,
   "id": "973b17e1",
   "metadata": {},
   "outputs": [
    {
     "data": {
      "text/plain": [
       "array([[ 8, 12],\n",
       "       [ 1,  9]])"
      ]
     },
     "execution_count": 31,
     "metadata": {},
     "output_type": "execute_result"
    }
   ],
   "source": [
    "# 열 기준 정렬\n",
    "np.sort(ar2, axis=1)"
   ]
  },
  {
   "cell_type": "markdown",
   "id": "5fb7a7d6",
   "metadata": {},
   "source": [
    "## argsort()\n",
    "- 정렬된 요소의 원래 인덱스 반환"
   ]
  },
  {
   "cell_type": "code",
   "execution_count": 33,
   "id": "dbd4e3fe",
   "metadata": {},
   "outputs": [
    {
     "data": {
      "text/plain": [
       "array([1, 0, 3, 2], dtype=int64)"
      ]
     },
     "execution_count": 33,
     "metadata": {},
     "output_type": "execute_result"
    }
   ],
   "source": [
    "ar.argsort()"
   ]
  },
  {
   "cell_type": "code",
   "execution_count": 34,
   "id": "58dd8836",
   "metadata": {},
   "outputs": [
    {
     "data": {
      "text/plain": [
       "array(['홍길동', '이미자', '민국', '박보검', '대한'], dtype='<U3')"
      ]
     },
     "execution_count": 34,
     "metadata": {},
     "output_type": "execute_result"
    }
   ],
   "source": [
    "# 성적 순(낮은 순 -> 높은 순)으로 이름을 출력\n",
    "name = np.array(['홍길동', '박보검', '이미자', '대한', '민국'])\n",
    "score = np.array([78, 95, 84, 98, 88])\n",
    "\n",
    "org_idx = score.argsort()\n",
    "name[org_idx]"
   ]
  },
  {
   "cell_type": "code",
   "execution_count": 37,
   "id": "6d79363f",
   "metadata": {},
   "outputs": [
    {
     "data": {
      "text/plain": [
       "array(['대한', '박보검', '민국', '이미자', '홍길동'], dtype='<U3')"
      ]
     },
     "execution_count": 37,
     "metadata": {},
     "output_type": "execute_result"
    }
   ],
   "source": [
    "# 성적 순(높은 순 -> 낮은 순)으로 이름을 출력\n",
    "org_idx_desc = score.argsort()[::-1]\n",
    "name[org_idx_desc]"
   ]
  },
  {
   "cell_type": "markdown",
   "id": "fae0ba4c",
   "metadata": {},
   "source": [
    "## 선형대수 연산\n",
    "### 사칙 연산"
   ]
  },
  {
   "cell_type": "code",
   "execution_count": 38,
   "id": "fcee0d16",
   "metadata": {},
   "outputs": [],
   "source": [
    "A = np.array([[1, 2, 3],\n",
    "              [4, 5, 6]])\n",
    "B = np.array([[2, 4, 6],\n",
    "              [8, 10 ,12]])"
   ]
  },
  {
   "cell_type": "code",
   "execution_count": 39,
   "id": "6926cb35",
   "metadata": {},
   "outputs": [
    {
     "data": {
      "text/plain": [
       "array([[1, 2, 3],\n",
       "       [4, 5, 6]])"
      ]
     },
     "execution_count": 39,
     "metadata": {},
     "output_type": "execute_result"
    }
   ],
   "source": [
    "A"
   ]
  },
  {
   "cell_type": "code",
   "execution_count": 40,
   "id": "20ca8cbb",
   "metadata": {},
   "outputs": [
    {
     "data": {
      "text/plain": [
       "array([[ 3,  6,  9],\n",
       "       [12, 15, 18]])"
      ]
     },
     "execution_count": 40,
     "metadata": {},
     "output_type": "execute_result"
    }
   ],
   "source": [
    "A + B"
   ]
  },
  {
   "cell_type": "code",
   "execution_count": 41,
   "id": "77ef7374",
   "metadata": {},
   "outputs": [
    {
     "data": {
      "text/plain": [
       "array([[0.5, 0.5, 0.5],\n",
       "       [0.5, 0.5, 0.5]])"
      ]
     },
     "execution_count": 41,
     "metadata": {},
     "output_type": "execute_result"
    }
   ],
   "source": [
    "A / B"
   ]
  },
  {
   "attachments": {
    "image.png": {
     "image/png": "[encoded data removed]"
    }
   },
   "cell_type": "markdown",
   "id": "de78fa10",
   "metadata": {},
   "source": [
    "### 행렬 내적\n",
    "![image.png](attachment:image.png)"
   ]
  },
  {
   "cell_type": "code",
   "execution_count": 42,
   "id": "4860ff69",
   "metadata": {},
   "outputs": [
    {
     "data": {
      "text/plain": [
       "array([[1, 2, 3],\n",
       "       [4, 5, 6]])"
      ]
     },
     "execution_count": 42,
     "metadata": {},
     "output_type": "execute_result"
    }
   ],
   "source": [
    "A = np.array([[1, 2, 3],\n",
    "             [4, 5, 6]])\n",
    "B = np.array([[7, 8],\n",
    "             [9, 10], \n",
    "             [11, 12]])\n",
    "A"
   ]
  },
  {
   "cell_type": "code",
   "execution_count": 43,
   "id": "9dbc844b",
   "metadata": {},
   "outputs": [
    {
     "data": {
      "text/plain": [
       "array([[ 58,  64],\n",
       "       [139, 154]])"
      ]
     },
     "execution_count": 43,
     "metadata": {},
     "output_type": "execute_result"
    }
   ],
   "source": [
    "np.dot(A, B)"
   ]
  },
  {
   "cell_type": "code",
   "execution_count": 44,
   "id": "afc5a68b",
   "metadata": {},
   "outputs": [
    {
     "data": {
      "text/plain": [
       "array([[1, 4],\n",
       "       [2, 5],\n",
       "       [3, 6]])"
      ]
     },
     "execution_count": 44,
     "metadata": {},
     "output_type": "execute_result"
    }
   ],
   "source": [
    "A.T"
   ]
  },
  {
   "cell_type": "code",
   "execution_count": 45,
   "id": "abff3be9",
   "metadata": {},
   "outputs": [
    {
     "data": {
      "text/plain": [
       "array([[14, 32],\n",
       "       [32, 77]])"
      ]
     },
     "execution_count": 45,
     "metadata": {},
     "output_type": "execute_result"
    }
   ],
   "source": [
    "np.dot(A, A.T)"
   ]
  }
 ],
 "metadata": {
  "kernelspec": {
   "display_name": "ex_kernel",
   "language": "python",
   "name": "ex"
  },
  "language_info": {
   "codemirror_mode": {
    "name": "ipython",
    "version": 3
   },
   "file_extension": ".py",
   "mimetype": "text/x-python",
   "name": "python",
   "nbconvert_exporter": "python",
   "pygments_lexer": "ipython3",
   "version": "3.8.10"
  },
  "toc": {
   "base_numbering": 1,
   "nav_menu": {},
   "number_sections": true,
   "sideBar": true,
   "skip_h1_title": false,
   "title_cell": "Table of Contents",
   "title_sidebar": "Contents",
   "toc_cell": false,
   "toc_position": {},
   "toc_section_display": true,
   "toc_window_display": false
  }
 },
 "nbformat": 4,
 "nbformat_minor": 5
}
