{
 "cells": [
  {
   "cell_type": "code",
   "execution_count": 1,
   "id": "b36f2989",
   "metadata": {},
   "outputs": [],
   "source": [
    "from selenium import webdriver\n",
    "from time import sleep\n",
    "from selenium.webdriver.common.by import By\n",
    "from selenium.webdriver.common.keys import Keys"
   ]
  },
  {
   "cell_type": "code",
   "execution_count": 5,
   "id": "27f06930",
   "metadata": {},
   "outputs": [
    {
     "name": "stdout",
     "output_type": "stream",
     "text": [
      "1. 크롬 웹 브라우저 실행\n",
      "2. 네이버 접속\n",
      "현재 페이지 전체 높이 : 3587\n",
      "3. 페이지 하단으로 이동\n",
      "4. 뉴스 스탠드로 이동\n"
     ]
    }
   ],
   "source": [
    "# 크롬 웹 브라우저 실행\n",
    "driver = webdriver.Chrome()\n",
    "print('1. 크롬 웹 브라우저 실행')\n",
    "\n",
    "# 네이버 접속\n",
    "driver.get('https://www.naver.com/')\n",
    "print('2. 네이버 접속')\n",
    "\n",
    "# 현재 페이지 전체 높이\n",
    "web_page_height = driver.execute_script('return document.body.scrollHeight')\n",
    "print('현재 페이지 전체 높이 :', web_page_height)\n",
    "\n",
    "# 페이지 하단 이동 : window.scrollTo(가로, 세로)\n",
    "driver.execute_script(f'window.scrollTo(0,{web_page_height})')\n",
    "print('3. 페이지 하단으로 이동')\n",
    "\n",
    "sleep(2)\n",
    "\n",
    "# 특정 위치로 이동\n",
    "from selenium.webdriver import ActionChains\n",
    "\n",
    "xpath = '//*[@id=\"NM_THEME_CONTAINER\"]/div[1]'\n",
    "move_element = driver.find_element(By.XPATH, xpath)\n",
    "ActionChains(driver).move_to_element(move_element).perform()\n",
    "print('4. 뉴스 스탠드로 이동')"
   ]
  }
 ],
 "metadata": {
  "kernelspec": {
   "display_name": "ex_kernel",
   "language": "python",
   "name": "ex"
  },
  "language_info": {
   "codemirror_mode": {
    "name": "ipython",
    "version": 3
   },
   "file_extension": ".py",
   "mimetype": "text/x-python",
   "name": "python",
   "nbconvert_exporter": "python",
   "pygments_lexer": "ipython3",
   "version": "3.8.10"
  }
 },
 "nbformat": 4,
 "nbformat_minor": 5
}
