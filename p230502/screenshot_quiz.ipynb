{
 "cells": [
  {
   "cell_type": "code",
   "execution_count": null,
   "id": "d3283336",
   "metadata": {},
   "outputs": [],
   "source": [
    "# [문제] 네이버의 광고 캡쳐"
   ]
  },
  {
   "cell_type": "code",
   "execution_count": 9,
   "id": "5986573c",
   "metadata": {},
   "outputs": [],
   "source": [
    "from selenium import webdriver\n",
    "from selenium.webdriver.common.by import By\n",
    "from time import sleep"
   ]
  },
  {
   "cell_type": "code",
   "execution_count": 12,
   "id": "4d382706",
   "metadata": {},
   "outputs": [
    {
     "name": "stdout",
     "output_type": "stream",
     "text": [
      "스크린샷 완료\n"
     ]
    }
   ],
   "source": [
    "option = webdriver.ChromeOptions()\n",
    "\n",
    "option.add_argument('--start-maximized')\n",
    "\n",
    "driver = webdriver.Chrome(options=option)\n",
    "\n",
    "url = 'https://www.naver.com/'\n",
    "driver.get(url)\n",
    "\n",
    "sleep(2)\n",
    "\n",
    "ad_element = driver.find_element(By.XPATH, '//*[@id=\"veta_branding\"]')\n",
    "ad_element.screenshot('ad_element.png')\n",
    "print('스크린샷 완료')"
   ]
  }
 ],
 "metadata": {
  "kernelspec": {
   "display_name": "ex_kernel",
   "language": "python",
   "name": "ex"
  },
  "language_info": {
   "codemirror_mode": {
    "name": "ipython",
    "version": 3
   },
   "file_extension": ".py",
   "mimetype": "text/x-python",
   "name": "python",
   "nbconvert_exporter": "python",
   "pygments_lexer": "ipython3",
   "version": "3.8.10"
  }
 },
 "nbformat": 4,
 "nbformat_minor": 5
}
