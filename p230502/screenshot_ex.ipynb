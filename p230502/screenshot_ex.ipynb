{
 "cells": [
  {
   "cell_type": "code",
   "execution_count": 1,
   "id": "9c6bff02",
   "metadata": {},
   "outputs": [],
   "source": [
    "from selenium import webdriver\n",
    "from time import sleep\n",
    "from selenium.webdriver.common.by import By\n",
    "from selenium.webdriver.common.keys import Keys"
   ]
  },
  {
   "cell_type": "code",
   "execution_count": 7,
   "id": "51679e19",
   "metadata": {},
   "outputs": [
    {
     "name": "stdout",
     "output_type": "stream",
     "text": [
      "스크린샷 완료\n"
     ]
    }
   ],
   "source": [
    "# 크롬 드라이버 옵션 설정\n",
    "options = webdriver.ChromeOptions()\n",
    "options.add_argument('--window-size=360,800')\n",
    "\n",
    "# 크롬 웹 브라우저 실행\n",
    "driver = webdriver.Chrome(options=options)\n",
    "\n",
    "# w3school 접속\n",
    "url = 'https://www.w3schools.com/'\n",
    "driver.get(url)\n",
    "\n",
    "sleep(2)\n",
    "\n",
    "# 실행된 웹 브라우저 전체 스크린샷 : save_screenshot(저장위치, 파일명)\n",
    "# driver.save_screenshot('screenshot.png')\n",
    "# print('전체 스크린샷 저장 완료')\n",
    "\n",
    "# 특정 영역 스크린샷\n",
    "# 1) 이미지로 저장할 영역의 element 지정\n",
    "python_element = driver.find_element(By.XPATH, '//*[@id=\"main\"]/div[6]')\n",
    "\n",
    "# [방법 1] 이 방법도 있지만 잘 안 될 경우도 있음\n",
    "# 2) 해당 element 스크린샷\n",
    "python_element.screenshot('python_element2.png')    \n",
    "\n",
    "# [방법 2]\n",
    "# 2) byte로 변환\n",
    "# python_element_byte = python_element.screenshot_as_png\n",
    "# 3) 이미지 파일로 저장\n",
    "# with open('python_element.png', 'wb') as file:\n",
    "#     file.write(python_element_byte)\n",
    "print('스크린샷 완료')"
   ]
  }
 ],
 "metadata": {
  "kernelspec": {
   "display_name": "ex_kernel",
   "language": "python",
   "name": "ex"
  },
  "language_info": {
   "codemirror_mode": {
    "name": "ipython",
    "version": 3
   },
   "file_extension": ".py",
   "mimetype": "text/x-python",
   "name": "python",
   "nbconvert_exporter": "python",
   "pygments_lexer": "ipython3",
   "version": "3.8.10"
  }
 },
 "nbformat": 4,
 "nbformat_minor": 5
}
