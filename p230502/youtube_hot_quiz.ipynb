{
 "cells": [
  {
   "cell_type": "code",
   "execution_count": null,
   "id": "90c74057",
   "metadata": {},
   "outputs": [],
   "source": [
    "'''\n",
    "유튜브의 인기급상승에서 [최근 인기 동영상]의 정보를 추출하시오.\n",
    "- 추출 정보 : 제목, 게시자, 조회수, 게시일\n",
    "- csv 파일 저장 : youtube_hot.csv (인덱스 제외)\n",
    "'''"
   ]
  },
  {
   "cell_type": "code",
   "execution_count": 155,
   "id": "61867890",
   "metadata": {
    "scrolled": true
   },
   "outputs": [],
   "source": [
    "from selenium import webdriver\n",
    "from time import sleep\n",
    "from selenium.webdriver.common.by import By\n",
    "from bs4 import BeautifulSoup\n",
    "import pandas as pd\n",
    "\n",
    "options = webdriver.ChromeOptions()\n",
    "options.add_argument('--start-maximized')\n",
    "driver = webdriver.Chrome(options=options)\n",
    "\n",
    "url = 'https://www.youtube.com/'\n",
    "\n",
    "driver.get(url)\n",
    "\n",
    "sleep(2)\n",
    "driver.find_element(By.XPATH, '//a[@href=\"/feed/trending?bp=6gQJRkVleHBsb3Jl\"]').click()\n",
    "\n",
    "sleep(2)\n",
    "\n",
    "html = driver.page_source\n",
    "soup = BeautifulSoup(html, 'html.parser')\n",
    "contents = soup.select('#contents > ytd-item-section-renderer:nth-child(4) #meta')\n",
    "\n",
    "data = []\n",
    "# contents\n",
    "for idx, content in enumerate(contents, 1):\n",
    "    title = content.select_one('#video-title').text.strip()\n",
    "    own = content.select_one('#text > a').text.strip()\n",
    "    count = content.select_one('#metadata-line > span:nth-child(3)').text.strip()\n",
    "    date = content.select_one('#metadata-line > span:nth-child(4)').text.strip()\n",
    "    data.append({'제목': title, '게시자': own, '조회수':count, '게시일':date})\n",
    "df = pd.DataFrame(data)\n",
    "df.to_csv('youtube_hot.csv', index=False)\n"
   ]
  }
 ],
 "metadata": {
  "kernelspec": {
   "display_name": "ex_kernel",
   "language": "python",
   "name": "ex"
  },
  "language_info": {
   "codemirror_mode": {
    "name": "ipython",
    "version": 3
   },
   "file_extension": ".py",
   "mimetype": "text/x-python",
   "name": "python",
   "nbconvert_exporter": "python",
   "pygments_lexer": "ipython3",
   "version": "3.8.10"
  }
 },
 "nbformat": 4,
 "nbformat_minor": 5
}
