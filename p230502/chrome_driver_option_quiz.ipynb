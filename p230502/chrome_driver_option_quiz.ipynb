{
 "cells": [
  {
   "cell_type": "code",
   "execution_count": null,
   "id": "ddb6134c",
   "metadata": {},
   "outputs": [],
   "source": [
    "'''\n",
    "[문제] w3school에 접속하여 검색창에 input을 입력하여 검색하시오.\n",
    "창 닫은 후 검색어 지우시오.\n",
    "- 윈도우 크기 : 360,800\n",
    "- 작업 후 창 닫기\n",
    "'''"
   ]
  },
  {
   "cell_type": "code",
   "execution_count": 2,
   "id": "8b988c9a",
   "metadata": {},
   "outputs": [],
   "source": [
    "from selenium import webdriver\n",
    "from time import sleep\n",
    "from selenium.webdriver.common.by import By\n",
    "from selenium.webdriver.common.keys import Keys\n",
    "\n",
    "# chrome driver 옵션 설정\n",
    "chrome_options = webdriver.ChromeOptions()\n",
    "chrome_options.add_argument('--window-size=360,800')\n",
    "\n",
    "# 크롬 웹 브라우저 실행\n",
    "driver = webdriver.Chrome(options=chrome_options)\n",
    "\n",
    "# w3school 접속\n",
    "driver.get('https://www.w3schools.com/')\n",
    "\n",
    "sleep(2)\n",
    "\n",
    "# 검색\n",
    "search = driver.find_element(By.CSS_SELECTOR, '#search2')\n",
    "\n",
    "search.send_keys('input')\n",
    "\n",
    "search.send_keys(Keys.ENTER)\n",
    "\n",
    "sleep(2)\n",
    "\n",
    "# 창 닫기 \n",
    "driver.find_element(By.CSS_SELECTOR, '#___gcse_0 div.gsc-results-wrapper-overlay.gsc-results-wrapper-visible > div.gsc-results-close-btn.gsc-results-close-btn-visible').click()\n",
    "\n",
    "sleep(2)\n",
    "\n",
    "# 검색어 지우기\n",
    "search.clear()\n",
    "\n",
    "sleep(2)\n",
    "\n",
    "# 크롬 웹 브라우저 종료\n",
    "driver.quit()"
   ]
  }
 ],
 "metadata": {
  "kernelspec": {
   "display_name": "ex_kernel",
   "language": "python",
   "name": "ex"
  },
  "language_info": {
   "codemirror_mode": {
    "name": "ipython",
    "version": 3
   },
   "file_extension": ".py",
   "mimetype": "text/x-python",
   "name": "python",
   "nbconvert_exporter": "python",
   "pygments_lexer": "ipython3",
   "version": "3.8.10"
  }
 },
 "nbformat": 4,
 "nbformat_minor": 5
}
