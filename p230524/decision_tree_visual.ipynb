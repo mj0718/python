{
 "cells": [
  {
   "cell_type": "markdown",
   "id": "e4b8ea48",
   "metadata": {},
   "source": [
    "# 결정 트리 모델 시각화"
   ]
  },
  {
   "cell_type": "code",
   "execution_count": 1,
   "id": "aa3b4730",
   "metadata": {},
   "outputs": [],
   "source": [
    "from sklearn.tree import DecisionTreeClassifier\n",
    "from sklearn.datasets import load_iris\n",
    "from sklearn.model_selection import train_test_split"
   ]
  },
  {
   "cell_type": "markdown",
   "id": "59806a20",
   "metadata": {},
   "source": [
    "## 학습 데이터, 테스트 데이터 셋 분리"
   ]
  },
  {
   "cell_type": "code",
   "execution_count": 2,
   "id": "7c3bf45a",
   "metadata": {},
   "outputs": [],
   "source": [
    "iris_data = load_iris()\n",
    "\n",
    "x_train, x_test, y_train, y_test = train_test_split(iris_data.data, iris_data.target, test_size=0.2, random_state=11)"
   ]
  },
  {
   "cell_type": "markdown",
   "id": "ef21159e",
   "metadata": {},
   "source": [
    "## 하이퍼파라미터 조정 안 함 : default"
   ]
  },
  {
   "cell_type": "code",
   "execution_count": 3,
   "id": "b531cddf",
   "metadata": {},
   "outputs": [
    {
     "data": {
      "text/plain": [
       "'테스트 데이터 세트 정확도 : 0.9333333333333333'"
      ]
     },
     "execution_count": 3,
     "metadata": {},
     "output_type": "execute_result"
    }
   ],
   "source": [
    "# 1. 결정 트리 객체 생성\n",
    "dt_clf = DecisionTreeClassifier(random_state=11)\n",
    "\n",
    "# 2. 학습\n",
    "dt_clf.fit(x_train, y_train)\n",
    "\n",
    "# 3. 예측\n",
    "pred = dt_clf.predict(x_test)\n",
    "\n",
    "# 4. 평가\n",
    "from sklearn.metrics import accuracy_score\n",
    "acc = accuracy_score(y_test, pred)\n",
    "f'테스트 데이터 세트 정확도 : {acc}'"
   ]
  },
  {
   "cell_type": "code",
   "execution_count": 4,
   "id": "20962bd5",
   "metadata": {},
   "outputs": [
    {
     "data": {
      "text/plain": [
       "5"
      ]
     },
     "execution_count": 4,
     "metadata": {},
     "output_type": "execute_result"
    }
   ],
   "source": [
    "# depth 확인\n",
    "dt_clf.get_depth()"
   ]
  },
  {
   "cell_type": "code",
   "execution_count": 5,
   "id": "e87e7f47",
   "metadata": {},
   "outputs": [
    {
     "data": {
      "text/plain": [
       "9"
      ]
     },
     "execution_count": 5,
     "metadata": {},
     "output_type": "execute_result"
    }
   ],
   "source": [
    "# leaf node 수 확인\n",
    "dt_clf.get_n_leaves()"
   ]
  },
  {
   "cell_type": "code",
   "execution_count": 6,
   "id": "345a9a84",
   "metadata": {},
   "outputs": [
    {
     "name": "stdout",
     "output_type": "stream",
     "text": [
      "Collecting graphviz\n",
      "  Downloading graphviz-0.20.1-py3-none-any.whl (47 kB)\n",
      "     ---------------------------------------- 0.0/47.0 kB ? eta -:--:--\n",
      "     ---------------------------------------- 47.0/47.0 kB ? eta 0:00:00\n",
      "Installing collected packages: graphviz\n",
      "Successfully installed graphviz-0.20.1\n"
     ]
    }
   ],
   "source": [
    "!pip install graphviz"
   ]
  },
  {
   "cell_type": "code",
   "execution_count": 7,
   "id": "c75da02c",
   "metadata": {},
   "outputs": [],
   "source": [
    "from sklearn.tree import export_graphviz\n",
    "\n",
    "export_graphviz(dt_clf, \n",
    "                out_file='tree.dot', \n",
    "                class_names=iris_data.target_names, \n",
    "                feature_names=iris_data.feature_names, \n",
    "                filled=True,\n",
    "               )"
   ]
  },
  {
   "cell_type": "code",
   "execution_count": null,
   "id": "7195b9cb",
   "metadata": {},
   "outputs": [],
   "source": [
    "import graphviz\n",
    "\n",
    "with open('tree.dot') as file:\n",
    "    graph = file.read()\n",
    "    \n",
    "graphviz.Source(graph)"
   ]
  }
 ],
 "metadata": {
  "kernelspec": {
   "display_name": "ex_kernel",
   "language": "python",
   "name": "ex"
  },
  "language_info": {
   "codemirror_mode": {
    "name": "ipython",
    "version": 3
   },
   "file_extension": ".py",
   "mimetype": "text/x-python",
   "name": "python",
   "nbconvert_exporter": "python",
   "pygments_lexer": "ipython3",
   "version": "3.8.10"
  },
  "toc": {
   "base_numbering": 1,
   "nav_menu": {},
   "number_sections": true,
   "sideBar": true,
   "skip_h1_title": false,
   "title_cell": "Table of Contents",
   "title_sidebar": "Contents",
   "toc_cell": false,
   "toc_position": {},
   "toc_section_display": true,
   "toc_window_display": false
  }
 },
 "nbformat": 4,
 "nbformat_minor": 5
}
