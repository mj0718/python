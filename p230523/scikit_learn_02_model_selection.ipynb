{
 "cells": [
  {
   "cell_type": "markdown",
   "id": "74fef044",
   "metadata": {},
   "source": [
    "# 교차 검증"
   ]
  },
  {
   "cell_type": "code",
   "execution_count": 22,
   "id": "f1094e5d",
   "metadata": {},
   "outputs": [],
   "source": [
    "from sklearn.tree import DecisionTreeClassifier\n",
    "from sklearn.metrics import accuracy_score\n",
    "from sklearn.model_selection import KFold\n",
    "from sklearn.datasets import load_iris\n",
    "import numpy as np\n",
    "import pandas as pd"
   ]
  },
  {
   "cell_type": "markdown",
   "id": "b5544c15",
   "metadata": {},
   "source": [
    "## 데이터 세트 로딩"
   ]
  },
  {
   "cell_type": "code",
   "execution_count": 4,
   "id": "250cca30",
   "metadata": {},
   "outputs": [],
   "source": [
    "# 붓꽃 파일 읽어오기\n",
    "iris = load_iris()\n",
    "features = iris.data\n",
    "label = iris.target"
   ]
  },
  {
   "cell_type": "code",
   "execution_count": 3,
   "id": "69079e90",
   "metadata": {},
   "outputs": [
    {
     "data": {
      "text/plain": [
       "(150, 4)"
      ]
     },
     "execution_count": 3,
     "metadata": {},
     "output_type": "execute_result"
    }
   ],
   "source": [
    "features.shape"
   ]
  },
  {
   "cell_type": "code",
   "execution_count": 5,
   "id": "1eb47532",
   "metadata": {},
   "outputs": [
    {
     "data": {
      "text/plain": [
       "(150,)"
      ]
     },
     "execution_count": 5,
     "metadata": {},
     "output_type": "execute_result"
    }
   ],
   "source": [
    "label.shape"
   ]
  },
  {
   "cell_type": "markdown",
   "id": "e330cc6f",
   "metadata": {},
   "source": [
    "## KFold\n",
    "### 학습 데이터와 검증 데이터 세트 분리\n",
    "- KFold 객체 생성\n",
    "- 5개의 폴드 세트로 분리 (150 rows)\n",
    "    - 학습 데이터 : 4/5 (120 rows)\n",
    "    - 검증 데이터 : 1/5 (30 rows)"
   ]
  },
  {
   "cell_type": "code",
   "execution_count": 6,
   "id": "5522cdff",
   "metadata": {},
   "outputs": [],
   "source": [
    "kfold = KFold(n_splits=5)"
   ]
  },
  {
   "cell_type": "code",
   "execution_count": 7,
   "id": "a31a6f73",
   "metadata": {},
   "outputs": [
    {
     "data": {
      "text/plain": [
       "sklearn.model_selection._split.KFold"
      ]
     },
     "execution_count": 7,
     "metadata": {},
     "output_type": "execute_result"
    }
   ],
   "source": [
    "type(kfold)"
   ]
  },
  {
   "cell_type": "code",
   "execution_count": 8,
   "id": "ace352bd",
   "metadata": {},
   "outputs": [
    {
     "data": {
      "text/plain": [
       "KFold(n_splits=5, random_state=None, shuffle=False)"
      ]
     },
     "execution_count": 8,
     "metadata": {},
     "output_type": "execute_result"
    }
   ],
   "source": [
    "kfold"
   ]
  },
  {
   "cell_type": "code",
   "execution_count": 10,
   "id": "468ed354",
   "metadata": {},
   "outputs": [
    {
     "data": {
      "text/plain": [
       "5"
      ]
     },
     "execution_count": 10,
     "metadata": {},
     "output_type": "execute_result"
    }
   ],
   "source": [
    "# 폴드 세트 수\n",
    "kfold.n_splits\n",
    "kfold.get_n_splits()"
   ]
  },
  {
   "cell_type": "code",
   "execution_count": 11,
   "id": "7ef62361",
   "metadata": {},
   "outputs": [
    {
     "data": {
      "text/plain": [
       "<generator object _BaseKFold.split at 0x000001C038C95D60>"
      ]
     },
     "execution_count": 11,
     "metadata": {},
     "output_type": "execute_result"
    }
   ],
   "source": [
    "# 폴드별 학습용, 검증용(test) 데이터의 인덱스 리턴\n",
    "kfold.split(features)"
   ]
  },
  {
   "cell_type": "code",
   "execution_count": 12,
   "id": "93dd7aa1",
   "metadata": {},
   "outputs": [
    {
     "name": "stdout",
     "output_type": "stream",
     "text": [
      "[학습용]\n",
      "[ 30  31  32  33  34  35  36  37  38  39  40  41  42  43  44  45  46  47\n",
      "  48  49  50  51  52  53  54  55  56  57  58  59  60  61  62  63  64  65\n",
      "  66  67  68  69  70  71  72  73  74  75  76  77  78  79  80  81  82  83\n",
      "  84  85  86  87  88  89  90  91  92  93  94  95  96  97  98  99 100 101\n",
      " 102 103 104 105 106 107 108 109 110 111 112 113 114 115 116 117 118 119\n",
      " 120 121 122 123 124 125 126 127 128 129 130 131 132 133 134 135 136 137\n",
      " 138 139 140 141 142 143 144 145 146 147 148 149]\n",
      "\n",
      "[검증용]\n",
      "[ 0  1  2  3  4  5  6  7  8  9 10 11 12 13 14 15 16 17 18 19 20 21 22 23\n",
      " 24 25 26 27 28 29]\n",
      "==================================================\n",
      "[학습용]\n",
      "[  0   1   2   3   4   5   6   7   8   9  10  11  12  13  14  15  16  17\n",
      "  18  19  20  21  22  23  24  25  26  27  28  29  60  61  62  63  64  65\n",
      "  66  67  68  69  70  71  72  73  74  75  76  77  78  79  80  81  82  83\n",
      "  84  85  86  87  88  89  90  91  92  93  94  95  96  97  98  99 100 101\n",
      " 102 103 104 105 106 107 108 109 110 111 112 113 114 115 116 117 118 119\n",
      " 120 121 122 123 124 125 126 127 128 129 130 131 132 133 134 135 136 137\n",
      " 138 139 140 141 142 143 144 145 146 147 148 149]\n",
      "\n",
      "[검증용]\n",
      "[30 31 32 33 34 35 36 37 38 39 40 41 42 43 44 45 46 47 48 49 50 51 52 53\n",
      " 54 55 56 57 58 59]\n",
      "==================================================\n",
      "[학습용]\n",
      "[  0   1   2   3   4   5   6   7   8   9  10  11  12  13  14  15  16  17\n",
      "  18  19  20  21  22  23  24  25  26  27  28  29  30  31  32  33  34  35\n",
      "  36  37  38  39  40  41  42  43  44  45  46  47  48  49  50  51  52  53\n",
      "  54  55  56  57  58  59  90  91  92  93  94  95  96  97  98  99 100 101\n",
      " 102 103 104 105 106 107 108 109 110 111 112 113 114 115 116 117 118 119\n",
      " 120 121 122 123 124 125 126 127 128 129 130 131 132 133 134 135 136 137\n",
      " 138 139 140 141 142 143 144 145 146 147 148 149]\n",
      "\n",
      "[검증용]\n",
      "[60 61 62 63 64 65 66 67 68 69 70 71 72 73 74 75 76 77 78 79 80 81 82 83\n",
      " 84 85 86 87 88 89]\n",
      "==================================================\n",
      "[학습용]\n",
      "[  0   1   2   3   4   5   6   7   8   9  10  11  12  13  14  15  16  17\n",
      "  18  19  20  21  22  23  24  25  26  27  28  29  30  31  32  33  34  35\n",
      "  36  37  38  39  40  41  42  43  44  45  46  47  48  49  50  51  52  53\n",
      "  54  55  56  57  58  59  60  61  62  63  64  65  66  67  68  69  70  71\n",
      "  72  73  74  75  76  77  78  79  80  81  82  83  84  85  86  87  88  89\n",
      " 120 121 122 123 124 125 126 127 128 129 130 131 132 133 134 135 136 137\n",
      " 138 139 140 141 142 143 144 145 146 147 148 149]\n",
      "\n",
      "[검증용]\n",
      "[ 90  91  92  93  94  95  96  97  98  99 100 101 102 103 104 105 106 107\n",
      " 108 109 110 111 112 113 114 115 116 117 118 119]\n",
      "==================================================\n",
      "[학습용]\n",
      "[  0   1   2   3   4   5   6   7   8   9  10  11  12  13  14  15  16  17\n",
      "  18  19  20  21  22  23  24  25  26  27  28  29  30  31  32  33  34  35\n",
      "  36  37  38  39  40  41  42  43  44  45  46  47  48  49  50  51  52  53\n",
      "  54  55  56  57  58  59  60  61  62  63  64  65  66  67  68  69  70  71\n",
      "  72  73  74  75  76  77  78  79  80  81  82  83  84  85  86  87  88  89\n",
      "  90  91  92  93  94  95  96  97  98  99 100 101 102 103 104 105 106 107\n",
      " 108 109 110 111 112 113 114 115 116 117 118 119]\n",
      "\n",
      "[검증용]\n",
      "[120 121 122 123 124 125 126 127 128 129 130 131 132 133 134 135 136 137\n",
      " 138 139 140 141 142 143 144 145 146 147 148 149]\n",
      "==================================================\n"
     ]
    }
   ],
   "source": [
    "for train_index, test_index in kfold.split(features):\n",
    "    print('[학습용]')\n",
    "    print(train_index)\n",
    "    print('\\n[검증용]')\n",
    "    print(test_index)\n",
    "    print('=' * 50)"
   ]
  },
  {
   "cell_type": "markdown",
   "id": "def767a0",
   "metadata": {},
   "source": [
    "### 학습, 예측, 정확도 수행"
   ]
  },
  {
   "cell_type": "code",
   "execution_count": 13,
   "id": "8f08ec09",
   "metadata": {},
   "outputs": [],
   "source": [
    "dt_clf = DecisionTreeClassifier(random_state=11)"
   ]
  },
  {
   "cell_type": "code",
   "execution_count": 14,
   "id": "e66b040d",
   "metadata": {},
   "outputs": [
    {
     "name": "stdout",
     "output_type": "stream",
     "text": [
      "\n",
      "[1]차\n",
      "교차 검증 정확도 : 1.0, 학습 데이터 크기 : 120, 검증 데이터 크기 : 30\n",
      "검증 세트 인덱스 : [ 0  1  2  3  4  5  6  7  8  9 10 11 12 13 14 15 16 17 18 19 20 21 22 23\n",
      " 24 25 26 27 28 29]\n",
      "\n",
      "[2]차\n",
      "교차 검증 정확도 : 0.9667, 학습 데이터 크기 : 120, 검증 데이터 크기 : 30\n",
      "검증 세트 인덱스 : [30 31 32 33 34 35 36 37 38 39 40 41 42 43 44 45 46 47 48 49 50 51 52 53\n",
      " 54 55 56 57 58 59]\n",
      "\n",
      "[3]차\n",
      "교차 검증 정확도 : 0.8667, 학습 데이터 크기 : 120, 검증 데이터 크기 : 30\n",
      "검증 세트 인덱스 : [60 61 62 63 64 65 66 67 68 69 70 71 72 73 74 75 76 77 78 79 80 81 82 83\n",
      " 84 85 86 87 88 89]\n",
      "\n",
      "[4]차\n",
      "교차 검증 정확도 : 0.9333, 학습 데이터 크기 : 120, 검증 데이터 크기 : 30\n",
      "검증 세트 인덱스 : [ 90  91  92  93  94  95  96  97  98  99 100 101 102 103 104 105 106 107\n",
      " 108 109 110 111 112 113 114 115 116 117 118 119]\n",
      "\n",
      "[5]차\n",
      "교차 검증 정확도 : 0.8333, 학습 데이터 크기 : 120, 검증 데이터 크기 : 30\n",
      "검증 세트 인덱스 : [120 121 122 123 124 125 126 127 128 129 130 131 132 133 134 135 136 137\n",
      " 138 139 140 141 142 143 144 145 146 147 148 149]\n"
     ]
    }
   ],
   "source": [
    "n_iter = 0\n",
    "accuracy = []\n",
    "\n",
    "for train_index, test_index in kfold.split(features):\n",
    "    # 학습용, 검증용 데이터 추출\n",
    "    x_train, x_test = features[train_index], features[test_index]\n",
    "    y_train, y_test = label[train_index], label[test_index]\n",
    "    \n",
    "    # 학습\n",
    "    dt_clf.fit(x_train, y_train)\n",
    "    \n",
    "    # 예측\n",
    "    pred = dt_clf.predict(x_test)\n",
    "    n_iter += 1\n",
    "    \n",
    "    # 정확도\n",
    "    acc = np.round(accuracy_score(y_test, pred), 4)\n",
    "    accuracy.append(acc)\n",
    "    \n",
    "    train_size = x_train.shape[0]\n",
    "    test_size = x_test.shape[0]\n",
    "    \n",
    "    # 출력\n",
    "    print(f'\\n[{n_iter}]차')\n",
    "    print(f'교차 검증 정확도 : {acc}, 학습 데이터 크기 : {train_size}, 검증 데이터 크기 : {test_size}')\n",
    "    print(f'검증 세트 인덱스 : {test_index}')"
   ]
  },
  {
   "cell_type": "code",
   "execution_count": 16,
   "id": "6f967e89",
   "metadata": {},
   "outputs": [
    {
     "data": {
      "text/plain": [
       "0.9"
      ]
     },
     "execution_count": 16,
     "metadata": {},
     "output_type": "execute_result"
    }
   ],
   "source": [
    "np.round(np.mean(accuracy), 1)"
   ]
  },
  {
   "cell_type": "code",
   "execution_count": 22,
   "id": "0e9bf734",
   "metadata": {},
   "outputs": [
    {
     "data": {
      "text/plain": [
       "[1.0, 0.9667, 0.8667, 0.9333, 0.8333]"
      ]
     },
     "execution_count": 22,
     "metadata": {},
     "output_type": "execute_result"
    }
   ],
   "source": [
    "accuracy"
   ]
  },
  {
   "cell_type": "markdown",
   "id": "9f7188dd",
   "metadata": {},
   "source": [
    "## Stratified K폴드\n",
    "- 데이터가 골고루 분포됨\n",
    "- 불균형한 분포도를 가진 레이블 데이터 집합을 위한 KFold\n",
    "- 특정 레이블 값이 특이하게 많거나 매우 적어서 값의 분포가 한 쪽으로 치우친 경우"
   ]
  },
  {
   "cell_type": "code",
   "execution_count": 17,
   "id": "1fbf9ec6",
   "metadata": {},
   "outputs": [
    {
     "data": {
      "text/html": [
       "<div>\n",
       "<style scoped>\n",
       "    .dataframe tbody tr th:only-of-type {\n",
       "        vertical-align: middle;\n",
       "    }\n",
       "\n",
       "    .dataframe tbody tr th {\n",
       "        vertical-align: top;\n",
       "    }\n",
       "\n",
       "    .dataframe thead th {\n",
       "        text-align: right;\n",
       "    }\n",
       "</style>\n",
       "<table border=\"1\" class=\"dataframe\">\n",
       "  <thead>\n",
       "    <tr style=\"text-align: right;\">\n",
       "      <th></th>\n",
       "      <th>sepal length (cm)</th>\n",
       "      <th>sepal width (cm)</th>\n",
       "      <th>petal length (cm)</th>\n",
       "      <th>petal width (cm)</th>\n",
       "    </tr>\n",
       "  </thead>\n",
       "  <tbody>\n",
       "    <tr>\n",
       "      <th>0</th>\n",
       "      <td>5.1</td>\n",
       "      <td>3.5</td>\n",
       "      <td>1.4</td>\n",
       "      <td>0.2</td>\n",
       "    </tr>\n",
       "    <tr>\n",
       "      <th>1</th>\n",
       "      <td>4.9</td>\n",
       "      <td>3.0</td>\n",
       "      <td>1.4</td>\n",
       "      <td>0.2</td>\n",
       "    </tr>\n",
       "  </tbody>\n",
       "</table>\n",
       "</div>"
      ],
      "text/plain": [
       "   sepal length (cm)  sepal width (cm)  petal length (cm)  petal width (cm)\n",
       "0                5.1               3.5                1.4               0.2\n",
       "1                4.9               3.0                1.4               0.2"
      ]
     },
     "execution_count": 17,
     "metadata": {},
     "output_type": "execute_result"
    }
   ],
   "source": [
    "import pandas as pd\n",
    "\n",
    "iris = load_iris()\n",
    "\n",
    "iris_df = pd.DataFrame(data=iris.data, columns=iris.feature_names)\n",
    "iris_df[:2]"
   ]
  },
  {
   "cell_type": "code",
   "execution_count": 18,
   "id": "b0d4f07e",
   "metadata": {},
   "outputs": [
    {
     "data": {
      "text/html": [
       "<div>\n",
       "<style scoped>\n",
       "    .dataframe tbody tr th:only-of-type {\n",
       "        vertical-align: middle;\n",
       "    }\n",
       "\n",
       "    .dataframe tbody tr th {\n",
       "        vertical-align: top;\n",
       "    }\n",
       "\n",
       "    .dataframe thead th {\n",
       "        text-align: right;\n",
       "    }\n",
       "</style>\n",
       "<table border=\"1\" class=\"dataframe\">\n",
       "  <thead>\n",
       "    <tr style=\"text-align: right;\">\n",
       "      <th></th>\n",
       "      <th>sepal length (cm)</th>\n",
       "      <th>sepal width (cm)</th>\n",
       "      <th>petal length (cm)</th>\n",
       "      <th>petal width (cm)</th>\n",
       "      <th>label</th>\n",
       "    </tr>\n",
       "  </thead>\n",
       "  <tbody>\n",
       "    <tr>\n",
       "      <th>0</th>\n",
       "      <td>5.1</td>\n",
       "      <td>3.5</td>\n",
       "      <td>1.4</td>\n",
       "      <td>0.2</td>\n",
       "      <td>0</td>\n",
       "    </tr>\n",
       "    <tr>\n",
       "      <th>1</th>\n",
       "      <td>4.9</td>\n",
       "      <td>3.0</td>\n",
       "      <td>1.4</td>\n",
       "      <td>0.2</td>\n",
       "      <td>0</td>\n",
       "    </tr>\n",
       "  </tbody>\n",
       "</table>\n",
       "</div>"
      ],
      "text/plain": [
       "   sepal length (cm)  sepal width (cm)  petal length (cm)  petal width (cm)   \n",
       "0                5.1               3.5                1.4               0.2  \\\n",
       "1                4.9               3.0                1.4               0.2   \n",
       "\n",
       "   label  \n",
       "0      0  \n",
       "1      0  "
      ]
     },
     "execution_count": 18,
     "metadata": {},
     "output_type": "execute_result"
    }
   ],
   "source": [
    "iris_df['label'] = iris.target\n",
    "iris_df[:2]"
   ]
  },
  {
   "cell_type": "code",
   "execution_count": 21,
   "id": "c24a9686",
   "metadata": {},
   "outputs": [
    {
     "data": {
      "text/plain": [
       "label\n",
       "0    50\n",
       "1    50\n",
       "2    50\n",
       "Name: count, dtype: int64"
      ]
     },
     "execution_count": 21,
     "metadata": {},
     "output_type": "execute_result"
    }
   ],
   "source": [
    "iris_df.label.value_counts()"
   ]
  },
  {
   "cell_type": "markdown",
   "id": "001ccda4",
   "metadata": {},
   "source": [
    "### KFold"
   ]
  },
  {
   "cell_type": "code",
   "execution_count": 23,
   "id": "474b73ff",
   "metadata": {},
   "outputs": [
    {
     "name": "stdout",
     "output_type": "stream",
     "text": [
      "[교차 검증 1]\n",
      ">> 학습 레이블 데이터 분포\n",
      "label\n",
      "1    50\n",
      "2    50\n",
      "Name: count, dtype: int64\n",
      "\n",
      ">> 검증 레이블 데이터 분포\n",
      "label\n",
      "0    50\n",
      "Name: count, dtype: int64\n",
      "==================================================\n",
      "[교차 검증 2]\n",
      ">> 학습 레이블 데이터 분포\n",
      "label\n",
      "0    50\n",
      "2    50\n",
      "Name: count, dtype: int64\n",
      "\n",
      ">> 검증 레이블 데이터 분포\n",
      "label\n",
      "1    50\n",
      "Name: count, dtype: int64\n",
      "==================================================\n",
      "[교차 검증 3]\n",
      ">> 학습 레이블 데이터 분포\n",
      "label\n",
      "0    50\n",
      "1    50\n",
      "Name: count, dtype: int64\n",
      "\n",
      ">> 검증 레이블 데이터 분포\n",
      "label\n",
      "2    50\n",
      "Name: count, dtype: int64\n",
      "==================================================\n"
     ]
    }
   ],
   "source": [
    "kfold = KFold(n_splits=3)\n",
    "n_iter = 0\n",
    "\n",
    "for train_index, test_index in kfold.split(iris_df):\n",
    "    n_iter += 1\n",
    "    \n",
    "    label_train = iris_df.label.iloc[train_index]\n",
    "    label_test = iris_df.label.iloc[test_index]\n",
    "    \n",
    "    print(f'[교차 검증 {n_iter}]')\n",
    "    print('>> 학습 레이블 데이터 분포')\n",
    "    print(label_train.value_counts())\n",
    "    \n",
    "    print('\\n>> 검증 레이블 데이터 분포')\n",
    "    print(label_test.value_counts())\n",
    "    print('=' * 50)"
   ]
  },
  {
   "cell_type": "markdown",
   "id": "2cfdab0b",
   "metadata": {},
   "source": [
    "### StratifiedKFold"
   ]
  },
  {
   "cell_type": "code",
   "execution_count": 25,
   "id": "c863927f",
   "metadata": {},
   "outputs": [
    {
     "name": "stdout",
     "output_type": "stream",
     "text": [
      "[교차 검증 1]\n",
      ">> 학습 레이블 데이터 분포\n",
      "label\n",
      "2    34\n",
      "0    33\n",
      "1    33\n",
      "Name: count, dtype: int64\n",
      "\n",
      ">> 검증 레이블 데이터 분포\n",
      "label\n",
      "0    17\n",
      "1    17\n",
      "2    16\n",
      "Name: count, dtype: int64\n",
      "==================================================\n",
      "[교차 검증 2]\n",
      ">> 학습 레이블 데이터 분포\n",
      "label\n",
      "1    34\n",
      "0    33\n",
      "2    33\n",
      "Name: count, dtype: int64\n",
      "\n",
      ">> 검증 레이블 데이터 분포\n",
      "label\n",
      "0    17\n",
      "2    17\n",
      "1    16\n",
      "Name: count, dtype: int64\n",
      "==================================================\n",
      "[교차 검증 3]\n",
      ">> 학습 레이블 데이터 분포\n",
      "label\n",
      "0    34\n",
      "1    33\n",
      "2    33\n",
      "Name: count, dtype: int64\n",
      "\n",
      ">> 검증 레이블 데이터 분포\n",
      "label\n",
      "1    17\n",
      "2    17\n",
      "0    16\n",
      "Name: count, dtype: int64\n",
      "==================================================\n"
     ]
    }
   ],
   "source": [
    "from sklearn.model_selection import StratifiedKFold\n",
    "\n",
    "skf = StratifiedKFold(n_splits=3)\n",
    "n_iter = 0\n",
    "\n",
    "for train_index, test_index in skf.split(iris_df, iris_df.label):\n",
    "    n_iter += 1\n",
    "    \n",
    "    label_train = iris_df.label.iloc[train_index]\n",
    "    label_test = iris_df.label.iloc[test_index]\n",
    "    \n",
    "    print(f'[교차 검증 {n_iter}]')\n",
    "    print('>> 학습 레이블 데이터 분포')\n",
    "    print(label_train.value_counts())\n",
    "    \n",
    "    print('\\n>> 검증 레이블 데이터 분포')\n",
    "    print(label_test.value_counts())\n",
    "    print('=' * 50)"
   ]
  },
  {
   "cell_type": "markdown",
   "id": "1b76ca0b",
   "metadata": {},
   "source": [
    "### 학습, 예측, 정확도 수행"
   ]
  },
  {
   "cell_type": "code",
   "execution_count": 46,
   "id": "ebf47dbd",
   "metadata": {},
   "outputs": [
    {
     "name": "stdout",
     "output_type": "stream",
     "text": [
      "\n",
      "[1]차\n",
      "교차 검증 정확도 : 0.9667, 학습 데이터 크기 : 120, 검증 데이터 크기 : 30\n",
      "검증 세트 인덱스 : [  0   1   2   3   4   5   6   7   8   9  50  51  52  53  54  55  56  57\n",
      "  58  59 100 101 102 103 104 105 106 107 108 109]\n",
      "\n",
      "[2]차\n",
      "교차 검증 정확도 : 0.9667, 학습 데이터 크기 : 120, 검증 데이터 크기 : 30\n",
      "검증 세트 인덱스 : [ 10  11  12  13  14  15  16  17  18  19  60  61  62  63  64  65  66  67\n",
      "  68  69 110 111 112 113 114 115 116 117 118 119]\n",
      "\n",
      "[3]차\n",
      "교차 검증 정확도 : 0.9, 학습 데이터 크기 : 120, 검증 데이터 크기 : 30\n",
      "검증 세트 인덱스 : [ 20  21  22  23  24  25  26  27  28  29  70  71  72  73  74  75  76  77\n",
      "  78  79 120 121 122 123 124 125 126 127 128 129]\n",
      "\n",
      "[4]차\n",
      "교차 검증 정확도 : 0.9667, 학습 데이터 크기 : 120, 검증 데이터 크기 : 30\n",
      "검증 세트 인덱스 : [ 30  31  32  33  34  35  36  37  38  39  80  81  82  83  84  85  86  87\n",
      "  88  89 130 131 132 133 134 135 136 137 138 139]\n",
      "\n",
      "[5]차\n",
      "교차 검증 정확도 : 1.0, 학습 데이터 크기 : 120, 검증 데이터 크기 : 30\n",
      "검증 세트 인덱스 : [ 40  41  42  43  44  45  46  47  48  49  90  91  92  93  94  95  96  97\n",
      "  98  99 140 141 142 143 144 145 146 147 148 149]\n"
     ]
    }
   ],
   "source": [
    "dt_clf = DecisionTreeClassifier(random_state=11)\n",
    "\n",
    "sk_fold = StratifiedKFold(n_splits=5)\n",
    "n_iter = 0\n",
    "s_accuracy = []\n",
    "\n",
    "for train_index, test_index in sk_fold.split(features, label):\n",
    "    # 학습용, 검증용 데이터 추출\n",
    "    x_train, x_test = features[train_index], features[test_index]\n",
    "    y_train, y_test = label[train_index], label[test_index]\n",
    "    \n",
    "    # 학습\n",
    "    dt_clf.fit(x_train, y_train)\n",
    "    \n",
    "    # 예측\n",
    "    pred = dt_clf.predict(x_test)\n",
    "    \n",
    "    # 정확도\n",
    "    acc = np.round(accuracy_score(y_test, pred), 4)\n",
    "    s_accuracy.append(acc)\n",
    "    \n",
    "    # 출력\n",
    "    n_iter += 1\n",
    "    train_size = x_train.shape[0]\n",
    "    test_size = x_test.shape[0]\n",
    "    \n",
    "    print(f'\\n[{n_iter}]차')\n",
    "    print(f'교차 검증 정확도 : {acc}, 학습 데이터 크기 : {train_size}, 검증 데이터 크기 : {test_size}')\n",
    "    print(f'검증 세트 인덱스 : {test_index}')"
   ]
  },
  {
   "cell_type": "code",
   "execution_count": 47,
   "id": "f94ceaca",
   "metadata": {},
   "outputs": [
    {
     "data": {
      "text/plain": [
       "0.9600200000000001"
      ]
     },
     "execution_count": 47,
     "metadata": {},
     "output_type": "execute_result"
    }
   ],
   "source": [
    "# 교차 검증 정확도 평균\n",
    "np.mean(s_accuracy)"
   ]
  },
  {
   "cell_type": "markdown",
   "id": "f00a02ad",
   "metadata": {},
   "source": [
    "## cross_val_score()\n",
    "- StratifiedKFold 더 간단하게"
   ]
  },
  {
   "cell_type": "code",
   "execution_count": 4,
   "id": "51542965",
   "metadata": {},
   "outputs": [],
   "source": [
    "from sklearn.tree import DecisionTreeClassifier\n",
    "from sklearn.model_selection import cross_val_score\n",
    "from sklearn.datasets import load_iris\n",
    "import numpy as np"
   ]
  },
  {
   "cell_type": "code",
   "execution_count": 5,
   "id": "6faf2087",
   "metadata": {},
   "outputs": [],
   "source": [
    "iris_data = load_iris()\n",
    "dt_clf = DecisionTreeClassifier(random_state=11)\n",
    "\n",
    "data = iris_data.data  # 전체 데이터\n",
    "label = iris_data.target  # 레이블\n",
    "\n",
    "scores = cross_val_score(dt_clf, # 모델 : estimator\n",
    "                         data,  # 전체 데이터 \n",
    "                         label,  # 데이터를 균등하게 나누기 위한 기준 컬럼\n",
    "                         scoring='accuracy',  # 성능지표 : 정확도\n",
    "                         cv=5,  # 폴드 세트 수\n",
    "                        )"
   ]
  },
  {
   "cell_type": "code",
   "execution_count": 6,
   "id": "7092ad0b",
   "metadata": {},
   "outputs": [
    {
     "data": {
      "text/plain": [
       "array([0.96666667, 0.96666667, 0.9       , 0.96666667, 1.        ])"
      ]
     },
     "execution_count": 6,
     "metadata": {},
     "output_type": "execute_result"
    }
   ],
   "source": [
    "scores"
   ]
  },
  {
   "cell_type": "code",
   "execution_count": 7,
   "id": "84382e0d",
   "metadata": {},
   "outputs": [
    {
     "data": {
      "text/plain": [
       "0.9600000000000002"
      ]
     },
     "execution_count": 7,
     "metadata": {},
     "output_type": "execute_result"
    }
   ],
   "source": [
    "np.mean(scores)"
   ]
  },
  {
   "cell_type": "markdown",
   "id": "7a6dfa6c",
   "metadata": {},
   "source": [
    "## 하이퍼 파라미터 설정\n",
    "- max_depth : 1, 3, 5\n",
    "- min_samples_split : 2, 3"
   ]
  },
  {
   "cell_type": "code",
   "execution_count": 8,
   "id": "81714615",
   "metadata": {},
   "outputs": [
    {
     "name": "stdout",
     "output_type": "stream",
     "text": [
      "[0.66666667 0.66666667 0.66666667 0.66666667 0.66666667]\n",
      "0.6666666666666666\n"
     ]
    }
   ],
   "source": [
    "# max_depth=1, min_samples_split=2\n",
    "iris_data = load_iris()\n",
    "dt_clf = DecisionTreeClassifier(random_state=11,\n",
    "                                max_depth=1,\n",
    "                                min_samples_split=2,\n",
    "                               )\n",
    "\n",
    "data = iris_data.data  # 전체 데이터\n",
    "label = iris_data.target  # 레이블\n",
    "\n",
    "scores = cross_val_score(dt_clf, # 모델 : estimator\n",
    "                         data,  # 전체 데이터 \n",
    "                         label,  # 데이터를 균등하게 나누기 위한 기준 컬럼\n",
    "                         scoring='accuracy',  # 성능지표 : 정확도\n",
    "                         cv=5,  # 폴드 세트 수\n",
    "                        )\n",
    "print(scores)\n",
    "print(np.mean(scores))"
   ]
  },
  {
   "cell_type": "code",
   "execution_count": 9,
   "id": "4cbdc31a",
   "metadata": {},
   "outputs": [
    {
     "name": "stdout",
     "output_type": "stream",
     "text": [
      "[0.66666667 0.66666667 0.66666667 0.66666667 0.66666667]\n",
      "0.6666666666666666\n"
     ]
    }
   ],
   "source": [
    "# max_depth=1, min_samples_split=3\n",
    "iris_data = load_iris()\n",
    "dt_clf = DecisionTreeClassifier(random_state=11,\n",
    "                                max_depth=1,\n",
    "                                min_samples_split=3,\n",
    "                               )\n",
    "\n",
    "data = iris_data.data  # 전체 데이터\n",
    "label = iris_data.target  # 레이블\n",
    "\n",
    "scores = cross_val_score(dt_clf, # 모델 : estimator\n",
    "                         data,  # 전체 데이터 \n",
    "                         label,  # 데이터를 균등하게 나누기 위한 기준 컬럼\n",
    "                         scoring='accuracy',  # 성능지표 : 정확도\n",
    "                         cv=5,  # 폴드 세트 수\n",
    "                        )\n",
    "print(scores)\n",
    "print(np.mean(scores))"
   ]
  },
  {
   "cell_type": "code",
   "execution_count": 10,
   "id": "dbca8c49",
   "metadata": {},
   "outputs": [
    {
     "name": "stdout",
     "output_type": "stream",
     "text": [
      "[0.96666667 0.96666667 0.93333333 1.         1.        ]\n",
      "0.9733333333333334\n"
     ]
    }
   ],
   "source": [
    "# max_depth=3, min_samples_split=2\n",
    "iris_data = load_iris()\n",
    "dt_clf = DecisionTreeClassifier(random_state=11,\n",
    "                                max_depth=3,\n",
    "                                min_samples_split=2,\n",
    "                               )\n",
    "\n",
    "data = iris_data.data  # 전체 데이터\n",
    "label = iris_data.target  # 레이블\n",
    "\n",
    "scores = cross_val_score(dt_clf, # 모델 : estimator\n",
    "                         data,  # 전체 데이터 \n",
    "                         label,  # 데이터를 균등하게 나누기 위한 기준 컬럼\n",
    "                         scoring='accuracy',  # 성능지표 : 정확도\n",
    "                         cv=5,  # 폴드 세트 수\n",
    "                        )\n",
    "print(scores)\n",
    "print(np.mean(scores))"
   ]
  },
  {
   "cell_type": "code",
   "execution_count": 11,
   "id": "1d7ba221",
   "metadata": {},
   "outputs": [
    {
     "name": "stdout",
     "output_type": "stream",
     "text": [
      "[0.96666667 0.96666667 0.93333333 1.         1.        ]\n",
      "0.9733333333333334\n"
     ]
    }
   ],
   "source": [
    "# max_depth=3, min_samples_split=3\n",
    "iris_data = load_iris()\n",
    "dt_clf = DecisionTreeClassifier(random_state=11,\n",
    "                                max_depth=3,\n",
    "                                min_samples_split=3,\n",
    "                               )\n",
    "\n",
    "data = iris_data.data  # 전체 데이터\n",
    "label = iris_data.target  # 레이블\n",
    "\n",
    "scores = cross_val_score(dt_clf, # 모델 : estimator\n",
    "                         data,  # 전체 데이터 \n",
    "                         label,  # 데이터를 균등하게 나누기 위한 기준 컬럼\n",
    "                         scoring='accuracy',  # 성능지표 : 정확도\n",
    "                         cv=5,  # 폴드 세트 수\n",
    "                        )\n",
    "print(scores)\n",
    "print(np.mean(scores))"
   ]
  },
  {
   "cell_type": "code",
   "execution_count": 12,
   "id": "6e6e76ec",
   "metadata": {},
   "outputs": [
    {
     "name": "stdout",
     "output_type": "stream",
     "text": [
      "[0.96666667 0.96666667 0.9        0.96666667 1.        ]\n",
      "0.9600000000000002\n"
     ]
    }
   ],
   "source": [
    "# max_depth=5, min_samples_split=2\n",
    "iris_data = load_iris()\n",
    "dt_clf = DecisionTreeClassifier(random_state=11,\n",
    "                                max_depth=5,\n",
    "                                min_samples_split=2,\n",
    "                               )\n",
    "\n",
    "data = iris_data.data  # 전체 데이터\n",
    "label = iris_data.target  # 레이블\n",
    "\n",
    "scores = cross_val_score(dt_clf, # 모델 : estimator\n",
    "                         data,  # 전체 데이터 \n",
    "                         label,  # 데이터를 균등하게 나누기 위한 기준 컬럼\n",
    "                         scoring='accuracy',  # 성능지표 : 정확도\n",
    "                         cv=5,  # 폴드 세트 수\n",
    "                        )\n",
    "print(scores)\n",
    "print(np.mean(scores))"
   ]
  },
  {
   "cell_type": "code",
   "execution_count": 13,
   "id": "8abaa4bc",
   "metadata": {},
   "outputs": [
    {
     "name": "stdout",
     "output_type": "stream",
     "text": [
      "[0.96666667 0.96666667 0.9        0.96666667 1.        ]\n",
      "0.9600000000000002\n"
     ]
    }
   ],
   "source": [
    "# max_depth=5, min_samples_split=3\n",
    "iris_data = load_iris()\n",
    "dt_clf = DecisionTreeClassifier(random_state=11,\n",
    "                                max_depth=5,\n",
    "                                min_samples_split=3,\n",
    "                               )\n",
    "\n",
    "data = iris_data.data  # 전체 데이터\n",
    "label = iris_data.target  # 레이블\n",
    "\n",
    "scores = cross_val_score(dt_clf, # 모델 : estimator\n",
    "                         data,  # 전체 데이터 \n",
    "                         label,  # 데이터를 균등하게 나누기 위한 기준 컬럼\n",
    "                         scoring='accuracy',  # 성능지표 : 정확도\n",
    "                         cv=5,  # 폴드 세트 수\n",
    "                        )\n",
    "print(scores)\n",
    "print(np.mean(scores))"
   ]
  },
  {
   "cell_type": "markdown",
   "id": "35733824",
   "metadata": {},
   "source": [
    "## GridSearchCV\n",
    "- 모델 성능향상을 위해 사용하는 기법 중 하나\n",
    "- 하이퍼 파라미터 값을 리스트로 입력하면, 경우 수마다 예측 성능을 평가한 후 비교하면서 최적의 파라미터 값을 찾음\n",
    "- 단점 : 시간 소요"
   ]
  },
  {
   "cell_type": "code",
   "execution_count": 14,
   "id": "a85f95b1",
   "metadata": {},
   "outputs": [],
   "source": [
    "from sklearn.datasets import load_iris\n",
    "from sklearn.tree import DecisionTreeClassifier\n",
    "from sklearn.model_selection import GridSearchCV, train_test_split\n",
    "from sklearn.metrics import accuracy_score"
   ]
  },
  {
   "cell_type": "code",
   "execution_count": 15,
   "id": "4b49ff8c",
   "metadata": {},
   "outputs": [],
   "source": [
    "iris = load_iris()\n",
    "\n",
    "x_train, x_test, y_train, y_test = train_test_split(iris_data.data,\n",
    "                                                    iris_data.target,\n",
    "                                                    test_size=0.2,\n",
    "                                                    random_state=11,\n",
    "                                                   )\n",
    "\n",
    "dtree = DecisionTreeClassifier()\n",
    "\n",
    "parameter = {'max_depth' : [1, 3, 5], 'min_samples_split' : [2, 3]}"
   ]
  },
  {
   "cell_type": "code",
   "execution_count": 17,
   "id": "06a51de9",
   "metadata": {},
   "outputs": [],
   "source": [
    "grid_dtree = GridSearchCV(dtree,\n",
    "                          param_grid=parameter,\n",
    "                          cv=5, # 폴드 세트 수 : 3 x 2 x 5 = 30회 수행\n",
    "                          refit=True, # 최적의 파라미터를 찾은 후, 모델 재학습\n",
    "                          return_train_score=True,\n",
    "                         )"
   ]
  },
  {
   "cell_type": "code",
   "execution_count": 18,
   "id": "ea646e35",
   "metadata": {},
   "outputs": [
    {
     "data": {
      "text/html": [
       "<style>#sk-container-id-1 {color: black;background-color: white;}#sk-container-id-1 pre{padding: 0;}#sk-container-id-1 div.sk-toggleable {background-color: white;}#sk-container-id-1 label.sk-toggleable__label {cursor: pointer;display: block;width: 100%;margin-bottom: 0;padding: 0.3em;box-sizing: border-box;text-align: center;}#sk-container-id-1 label.sk-toggleable__label-arrow:before {content: \"▸\";float: left;margin-right: 0.25em;color: #696969;}#sk-container-id-1 label.sk-toggleable__label-arrow:hover:before {color: black;}#sk-container-id-1 div.sk-estimator:hover label.sk-toggleable__label-arrow:before {color: black;}#sk-container-id-1 div.sk-toggleable__content {max-height: 0;max-width: 0;overflow: hidden;text-align: left;background-color: #f0f8ff;}#sk-container-id-1 div.sk-toggleable__content pre {margin: 0.2em;color: black;border-radius: 0.25em;background-color: #f0f8ff;}#sk-container-id-1 input.sk-toggleable__control:checked~div.sk-toggleable__content {max-height: 200px;max-width: 100%;overflow: auto;}#sk-container-id-1 input.sk-toggleable__control:checked~label.sk-toggleable__label-arrow:before {content: \"▾\";}#sk-container-id-1 div.sk-estimator input.sk-toggleable__control:checked~label.sk-toggleable__label {background-color: #d4ebff;}#sk-container-id-1 div.sk-label input.sk-toggleable__control:checked~label.sk-toggleable__label {background-color: #d4ebff;}#sk-container-id-1 input.sk-hidden--visually {border: 0;clip: rect(1px 1px 1px 1px);clip: rect(1px, 1px, 1px, 1px);height: 1px;margin: -1px;overflow: hidden;padding: 0;position: absolute;width: 1px;}#sk-container-id-1 div.sk-estimator {font-family: monospace;background-color: #f0f8ff;border: 1px dotted black;border-radius: 0.25em;box-sizing: border-box;margin-bottom: 0.5em;}#sk-container-id-1 div.sk-estimator:hover {background-color: #d4ebff;}#sk-container-id-1 div.sk-parallel-item::after {content: \"\";width: 100%;border-bottom: 1px solid gray;flex-grow: 1;}#sk-container-id-1 div.sk-label:hover label.sk-toggleable__label {background-color: #d4ebff;}#sk-container-id-1 div.sk-serial::before {content: \"\";position: absolute;border-left: 1px solid gray;box-sizing: border-box;top: 0;bottom: 0;left: 50%;z-index: 0;}#sk-container-id-1 div.sk-serial {display: flex;flex-direction: column;align-items: center;background-color: white;padding-right: 0.2em;padding-left: 0.2em;position: relative;}#sk-container-id-1 div.sk-item {position: relative;z-index: 1;}#sk-container-id-1 div.sk-parallel {display: flex;align-items: stretch;justify-content: center;background-color: white;position: relative;}#sk-container-id-1 div.sk-item::before, #sk-container-id-1 div.sk-parallel-item::before {content: \"\";position: absolute;border-left: 1px solid gray;box-sizing: border-box;top: 0;bottom: 0;left: 50%;z-index: -1;}#sk-container-id-1 div.sk-parallel-item {display: flex;flex-direction: column;z-index: 1;position: relative;background-color: white;}#sk-container-id-1 div.sk-parallel-item:first-child::after {align-self: flex-end;width: 50%;}#sk-container-id-1 div.sk-parallel-item:last-child::after {align-self: flex-start;width: 50%;}#sk-container-id-1 div.sk-parallel-item:only-child::after {width: 0;}#sk-container-id-1 div.sk-dashed-wrapped {border: 1px dashed gray;margin: 0 0.4em 0.5em 0.4em;box-sizing: border-box;padding-bottom: 0.4em;background-color: white;}#sk-container-id-1 div.sk-label label {font-family: monospace;font-weight: bold;display: inline-block;line-height: 1.2em;}#sk-container-id-1 div.sk-label-container {text-align: center;}#sk-container-id-1 div.sk-container {/* jupyter's `normalize.less` sets `[hidden] { display: none; }` but bootstrap.min.css set `[hidden] { display: none !important; }` so we also need the `!important` here to be able to override the default hidden behavior on the sphinx rendered scikit-learn.org. See: https://github.com/scikit-learn/scikit-learn/issues/21755 */display: inline-block !important;position: relative;}#sk-container-id-1 div.sk-text-repr-fallback {display: none;}</style><div id=\"sk-container-id-1\" class=\"sk-top-container\"><div class=\"sk-text-repr-fallback\"><pre>GridSearchCV(cv=5, estimator=DecisionTreeClassifier(),\n",
       "             param_grid={&#x27;max_depth&#x27;: [1, 3, 5], &#x27;min_samples_split&#x27;: [2, 3]},\n",
       "             return_train_score=True)</pre><b>In a Jupyter environment, please rerun this cell to show the HTML representation or trust the notebook. <br />On GitHub, the HTML representation is unable to render, please try loading this page with nbviewer.org.</b></div><div class=\"sk-container\" hidden><div class=\"sk-item sk-dashed-wrapped\"><div class=\"sk-label-container\"><div class=\"sk-label sk-toggleable\"><input class=\"sk-toggleable__control sk-hidden--visually\" id=\"sk-estimator-id-1\" type=\"checkbox\" ><label for=\"sk-estimator-id-1\" class=\"sk-toggleable__label sk-toggleable__label-arrow\">GridSearchCV</label><div class=\"sk-toggleable__content\"><pre>GridSearchCV(cv=5, estimator=DecisionTreeClassifier(),\n",
       "             param_grid={&#x27;max_depth&#x27;: [1, 3, 5], &#x27;min_samples_split&#x27;: [2, 3]},\n",
       "             return_train_score=True)</pre></div></div></div><div class=\"sk-parallel\"><div class=\"sk-parallel-item\"><div class=\"sk-item\"><div class=\"sk-label-container\"><div class=\"sk-label sk-toggleable\"><input class=\"sk-toggleable__control sk-hidden--visually\" id=\"sk-estimator-id-2\" type=\"checkbox\" ><label for=\"sk-estimator-id-2\" class=\"sk-toggleable__label sk-toggleable__label-arrow\">estimator: DecisionTreeClassifier</label><div class=\"sk-toggleable__content\"><pre>DecisionTreeClassifier()</pre></div></div></div><div class=\"sk-serial\"><div class=\"sk-item\"><div class=\"sk-estimator sk-toggleable\"><input class=\"sk-toggleable__control sk-hidden--visually\" id=\"sk-estimator-id-3\" type=\"checkbox\" ><label for=\"sk-estimator-id-3\" class=\"sk-toggleable__label sk-toggleable__label-arrow\">DecisionTreeClassifier</label><div class=\"sk-toggleable__content\"><pre>DecisionTreeClassifier()</pre></div></div></div></div></div></div></div></div></div></div>"
      ],
      "text/plain": [
       "GridSearchCV(cv=5, estimator=DecisionTreeClassifier(),\n",
       "             param_grid={'max_depth': [1, 3, 5], 'min_samples_split': [2, 3]},\n",
       "             return_train_score=True)"
      ]
     },
     "execution_count": 18,
     "metadata": {},
     "output_type": "execute_result"
    }
   ],
   "source": [
    "grid_dtree.fit(x_train, y_train)"
   ]
  },
  {
   "cell_type": "code",
   "execution_count": 19,
   "id": "b8a4560d",
   "metadata": {
    "collapsed": true
   },
   "outputs": [
    {
     "data": {
      "text/plain": [
       "{'mean_fit_time': array([0., 0., 0., 0., 0., 0.]),\n",
       " 'std_fit_time': array([0., 0., 0., 0., 0., 0.]),\n",
       " 'mean_score_time': array([0.00020008, 0.        , 0.        , 0.        , 0.        ,\n",
       "        0.        ]),\n",
       " 'std_score_time': array([0.00040016, 0.        , 0.        , 0.        , 0.        ,\n",
       "        0.        ]),\n",
       " 'param_max_depth': masked_array(data=[1, 1, 3, 3, 5, 5],\n",
       "              mask=[False, False, False, False, False, False],\n",
       "        fill_value='?',\n",
       "             dtype=object),\n",
       " 'param_min_samples_split': masked_array(data=[2, 3, 2, 3, 2, 3],\n",
       "              mask=[False, False, False, False, False, False],\n",
       "        fill_value='?',\n",
       "             dtype=object),\n",
       " 'params': [{'max_depth': 1, 'min_samples_split': 2},\n",
       "  {'max_depth': 1, 'min_samples_split': 3},\n",
       "  {'max_depth': 3, 'min_samples_split': 2},\n",
       "  {'max_depth': 3, 'min_samples_split': 3},\n",
       "  {'max_depth': 5, 'min_samples_split': 2},\n",
       "  {'max_depth': 5, 'min_samples_split': 3}],\n",
       " 'split0_test_score': array([0.70833333, 0.70833333, 0.91666667, 0.91666667, 0.91666667,\n",
       "        0.91666667]),\n",
       " 'split1_test_score': array([0.66666667, 0.66666667, 0.91666667, 0.95833333, 0.95833333,\n",
       "        0.95833333]),\n",
       " 'split2_test_score': array([0.66666667, 0.66666667, 1.        , 1.        , 1.        ,\n",
       "        1.        ]),\n",
       " 'split3_test_score': array([0.66666667, 0.66666667, 0.95833333, 0.95833333, 0.91666667,\n",
       "        0.91666667]),\n",
       " 'split4_test_score': array([0.66666667, 0.66666667, 1.        , 1.        , 1.        ,\n",
       "        1.        ]),\n",
       " 'mean_test_score': array([0.675     , 0.675     , 0.95833333, 0.96666667, 0.95833333,\n",
       "        0.95833333]),\n",
       " 'std_test_score': array([0.01666667, 0.01666667, 0.0372678 , 0.03118048, 0.0372678 ,\n",
       "        0.0372678 ]),\n",
       " 'rank_test_score': array([5, 5, 2, 1, 2, 2]),\n",
       " 'split0_train_score': array([0.66666667, 0.66666667, 0.98958333, 0.98958333, 1.        ,\n",
       "        1.        ]),\n",
       " 'split1_train_score': array([0.67708333, 0.67708333, 0.98958333, 0.98958333, 1.        ,\n",
       "        1.        ]),\n",
       " 'split2_train_score': array([0.67708333, 0.67708333, 0.96875   , 0.96875   , 1.        ,\n",
       "        1.        ]),\n",
       " 'split3_train_score': array([0.67708333, 0.67708333, 0.98958333, 0.98958333, 1.        ,\n",
       "        1.        ]),\n",
       " 'split4_train_score': array([0.67708333, 0.67708333, 0.97916667, 0.97916667, 1.        ,\n",
       "        0.98958333]),\n",
       " 'mean_train_score': array([0.675     , 0.675     , 0.98333333, 0.98333333, 1.        ,\n",
       "        0.99791667]),\n",
       " 'std_train_score': array([0.00416667, 0.00416667, 0.00833333, 0.00833333, 0.        ,\n",
       "        0.00416667])}"
      ]
     },
     "execution_count": 19,
     "metadata": {},
     "output_type": "execute_result"
    }
   ],
   "source": [
    "grid_dtree.cv_results_"
   ]
  },
  {
   "cell_type": "code",
   "execution_count": 24,
   "id": "648ba1cf",
   "metadata": {
    "collapsed": true
   },
   "outputs": [
    {
     "data": {
      "text/html": [
       "<div>\n",
       "<style scoped>\n",
       "    .dataframe tbody tr th:only-of-type {\n",
       "        vertical-align: middle;\n",
       "    }\n",
       "\n",
       "    .dataframe tbody tr th {\n",
       "        vertical-align: top;\n",
       "    }\n",
       "\n",
       "    .dataframe thead th {\n",
       "        text-align: right;\n",
       "    }\n",
       "</style>\n",
       "<table border=\"1\" class=\"dataframe\">\n",
       "  <thead>\n",
       "    <tr style=\"text-align: right;\">\n",
       "      <th></th>\n",
       "      <th>mean_fit_time</th>\n",
       "      <th>std_fit_time</th>\n",
       "      <th>mean_score_time</th>\n",
       "      <th>std_score_time</th>\n",
       "      <th>param_max_depth</th>\n",
       "      <th>param_min_samples_split</th>\n",
       "      <th>params</th>\n",
       "      <th>split0_test_score</th>\n",
       "      <th>split1_test_score</th>\n",
       "      <th>split2_test_score</th>\n",
       "      <th>...</th>\n",
       "      <th>mean_test_score</th>\n",
       "      <th>std_test_score</th>\n",
       "      <th>rank_test_score</th>\n",
       "      <th>split0_train_score</th>\n",
       "      <th>split1_train_score</th>\n",
       "      <th>split2_train_score</th>\n",
       "      <th>split3_train_score</th>\n",
       "      <th>split4_train_score</th>\n",
       "      <th>mean_train_score</th>\n",
       "      <th>std_train_score</th>\n",
       "    </tr>\n",
       "  </thead>\n",
       "  <tbody>\n",
       "    <tr>\n",
       "      <th>0</th>\n",
       "      <td>0.0</td>\n",
       "      <td>0.0</td>\n",
       "      <td>0.0002</td>\n",
       "      <td>0.0004</td>\n",
       "      <td>1</td>\n",
       "      <td>2</td>\n",
       "      <td>{'max_depth': 1, 'min_samples_split': 2}</td>\n",
       "      <td>0.708333</td>\n",
       "      <td>0.666667</td>\n",
       "      <td>0.666667</td>\n",
       "      <td>...</td>\n",
       "      <td>0.675000</td>\n",
       "      <td>0.016667</td>\n",
       "      <td>5</td>\n",
       "      <td>0.666667</td>\n",
       "      <td>0.677083</td>\n",
       "      <td>0.677083</td>\n",
       "      <td>0.677083</td>\n",
       "      <td>0.677083</td>\n",
       "      <td>0.675000</td>\n",
       "      <td>0.004167</td>\n",
       "    </tr>\n",
       "    <tr>\n",
       "      <th>1</th>\n",
       "      <td>0.0</td>\n",
       "      <td>0.0</td>\n",
       "      <td>0.0000</td>\n",
       "      <td>0.0000</td>\n",
       "      <td>1</td>\n",
       "      <td>3</td>\n",
       "      <td>{'max_depth': 1, 'min_samples_split': 3}</td>\n",
       "      <td>0.708333</td>\n",
       "      <td>0.666667</td>\n",
       "      <td>0.666667</td>\n",
       "      <td>...</td>\n",
       "      <td>0.675000</td>\n",
       "      <td>0.016667</td>\n",
       "      <td>5</td>\n",
       "      <td>0.666667</td>\n",
       "      <td>0.677083</td>\n",
       "      <td>0.677083</td>\n",
       "      <td>0.677083</td>\n",
       "      <td>0.677083</td>\n",
       "      <td>0.675000</td>\n",
       "      <td>0.004167</td>\n",
       "    </tr>\n",
       "    <tr>\n",
       "      <th>2</th>\n",
       "      <td>0.0</td>\n",
       "      <td>0.0</td>\n",
       "      <td>0.0000</td>\n",
       "      <td>0.0000</td>\n",
       "      <td>3</td>\n",
       "      <td>2</td>\n",
       "      <td>{'max_depth': 3, 'min_samples_split': 2}</td>\n",
       "      <td>0.916667</td>\n",
       "      <td>0.916667</td>\n",
       "      <td>1.000000</td>\n",
       "      <td>...</td>\n",
       "      <td>0.958333</td>\n",
       "      <td>0.037268</td>\n",
       "      <td>2</td>\n",
       "      <td>0.989583</td>\n",
       "      <td>0.989583</td>\n",
       "      <td>0.968750</td>\n",
       "      <td>0.989583</td>\n",
       "      <td>0.979167</td>\n",
       "      <td>0.983333</td>\n",
       "      <td>0.008333</td>\n",
       "    </tr>\n",
       "    <tr>\n",
       "      <th>3</th>\n",
       "      <td>0.0</td>\n",
       "      <td>0.0</td>\n",
       "      <td>0.0000</td>\n",
       "      <td>0.0000</td>\n",
       "      <td>3</td>\n",
       "      <td>3</td>\n",
       "      <td>{'max_depth': 3, 'min_samples_split': 3}</td>\n",
       "      <td>0.916667</td>\n",
       "      <td>0.958333</td>\n",
       "      <td>1.000000</td>\n",
       "      <td>...</td>\n",
       "      <td>0.966667</td>\n",
       "      <td>0.031180</td>\n",
       "      <td>1</td>\n",
       "      <td>0.989583</td>\n",
       "      <td>0.989583</td>\n",
       "      <td>0.968750</td>\n",
       "      <td>0.989583</td>\n",
       "      <td>0.979167</td>\n",
       "      <td>0.983333</td>\n",
       "      <td>0.008333</td>\n",
       "    </tr>\n",
       "    <tr>\n",
       "      <th>4</th>\n",
       "      <td>0.0</td>\n",
       "      <td>0.0</td>\n",
       "      <td>0.0000</td>\n",
       "      <td>0.0000</td>\n",
       "      <td>5</td>\n",
       "      <td>2</td>\n",
       "      <td>{'max_depth': 5, 'min_samples_split': 2}</td>\n",
       "      <td>0.916667</td>\n",
       "      <td>0.958333</td>\n",
       "      <td>1.000000</td>\n",
       "      <td>...</td>\n",
       "      <td>0.958333</td>\n",
       "      <td>0.037268</td>\n",
       "      <td>2</td>\n",
       "      <td>1.000000</td>\n",
       "      <td>1.000000</td>\n",
       "      <td>1.000000</td>\n",
       "      <td>1.000000</td>\n",
       "      <td>1.000000</td>\n",
       "      <td>1.000000</td>\n",
       "      <td>0.000000</td>\n",
       "    </tr>\n",
       "    <tr>\n",
       "      <th>5</th>\n",
       "      <td>0.0</td>\n",
       "      <td>0.0</td>\n",
       "      <td>0.0000</td>\n",
       "      <td>0.0000</td>\n",
       "      <td>5</td>\n",
       "      <td>3</td>\n",
       "      <td>{'max_depth': 5, 'min_samples_split': 3}</td>\n",
       "      <td>0.916667</td>\n",
       "      <td>0.958333</td>\n",
       "      <td>1.000000</td>\n",
       "      <td>...</td>\n",
       "      <td>0.958333</td>\n",
       "      <td>0.037268</td>\n",
       "      <td>2</td>\n",
       "      <td>1.000000</td>\n",
       "      <td>1.000000</td>\n",
       "      <td>1.000000</td>\n",
       "      <td>1.000000</td>\n",
       "      <td>0.989583</td>\n",
       "      <td>0.997917</td>\n",
       "      <td>0.004167</td>\n",
       "    </tr>\n",
       "  </tbody>\n",
       "</table>\n",
       "<p>6 rows × 22 columns</p>\n",
       "</div>"
      ],
      "text/plain": [
       "   mean_fit_time  std_fit_time  mean_score_time  std_score_time   \n",
       "0            0.0           0.0           0.0002          0.0004  \\\n",
       "1            0.0           0.0           0.0000          0.0000   \n",
       "2            0.0           0.0           0.0000          0.0000   \n",
       "3            0.0           0.0           0.0000          0.0000   \n",
       "4            0.0           0.0           0.0000          0.0000   \n",
       "5            0.0           0.0           0.0000          0.0000   \n",
       "\n",
       "  param_max_depth param_min_samples_split   \n",
       "0               1                       2  \\\n",
       "1               1                       3   \n",
       "2               3                       2   \n",
       "3               3                       3   \n",
       "4               5                       2   \n",
       "5               5                       3   \n",
       "\n",
       "                                     params  split0_test_score   \n",
       "0  {'max_depth': 1, 'min_samples_split': 2}           0.708333  \\\n",
       "1  {'max_depth': 1, 'min_samples_split': 3}           0.708333   \n",
       "2  {'max_depth': 3, 'min_samples_split': 2}           0.916667   \n",
       "3  {'max_depth': 3, 'min_samples_split': 3}           0.916667   \n",
       "4  {'max_depth': 5, 'min_samples_split': 2}           0.916667   \n",
       "5  {'max_depth': 5, 'min_samples_split': 3}           0.916667   \n",
       "\n",
       "   split1_test_score  split2_test_score  ...  mean_test_score  std_test_score   \n",
       "0           0.666667           0.666667  ...         0.675000        0.016667  \\\n",
       "1           0.666667           0.666667  ...         0.675000        0.016667   \n",
       "2           0.916667           1.000000  ...         0.958333        0.037268   \n",
       "3           0.958333           1.000000  ...         0.966667        0.031180   \n",
       "4           0.958333           1.000000  ...         0.958333        0.037268   \n",
       "5           0.958333           1.000000  ...         0.958333        0.037268   \n",
       "\n",
       "   rank_test_score  split0_train_score  split1_train_score   \n",
       "0                5            0.666667            0.677083  \\\n",
       "1                5            0.666667            0.677083   \n",
       "2                2            0.989583            0.989583   \n",
       "3                1            0.989583            0.989583   \n",
       "4                2            1.000000            1.000000   \n",
       "5                2            1.000000            1.000000   \n",
       "\n",
       "   split2_train_score  split3_train_score  split4_train_score   \n",
       "0            0.677083            0.677083            0.677083  \\\n",
       "1            0.677083            0.677083            0.677083   \n",
       "2            0.968750            0.989583            0.979167   \n",
       "3            0.968750            0.989583            0.979167   \n",
       "4            1.000000            1.000000            1.000000   \n",
       "5            1.000000            1.000000            0.989583   \n",
       "\n",
       "   mean_train_score  std_train_score  \n",
       "0          0.675000         0.004167  \n",
       "1          0.675000         0.004167  \n",
       "2          0.983333         0.008333  \n",
       "3          0.983333         0.008333  \n",
       "4          1.000000         0.000000  \n",
       "5          0.997917         0.004167  \n",
       "\n",
       "[6 rows x 22 columns]"
      ]
     },
     "execution_count": 24,
     "metadata": {},
     "output_type": "execute_result"
    }
   ],
   "source": [
    "scores_df = pd.DataFrame(grid_dtree.cv_results_)\n",
    "scores_df"
   ]
  },
  {
   "cell_type": "code",
   "execution_count": 26,
   "id": "3b2c39d5",
   "metadata": {},
   "outputs": [
    {
     "data": {
      "text/html": [
       "<div>\n",
       "<style scoped>\n",
       "    .dataframe tbody tr th:only-of-type {\n",
       "        vertical-align: middle;\n",
       "    }\n",
       "\n",
       "    .dataframe tbody tr th {\n",
       "        vertical-align: top;\n",
       "    }\n",
       "\n",
       "    .dataframe thead th {\n",
       "        text-align: right;\n",
       "    }\n",
       "</style>\n",
       "<table border=\"1\" class=\"dataframe\">\n",
       "  <thead>\n",
       "    <tr style=\"text-align: right;\">\n",
       "      <th></th>\n",
       "      <th>params</th>\n",
       "      <th>mean_test_score</th>\n",
       "      <th>rank_test_score</th>\n",
       "      <th>split0_test_score</th>\n",
       "      <th>split1_test_score</th>\n",
       "      <th>split2_test_score</th>\n",
       "    </tr>\n",
       "  </thead>\n",
       "  <tbody>\n",
       "    <tr>\n",
       "      <th>0</th>\n",
       "      <td>{'max_depth': 1, 'min_samples_split': 2}</td>\n",
       "      <td>0.675000</td>\n",
       "      <td>5</td>\n",
       "      <td>0.708333</td>\n",
       "      <td>0.666667</td>\n",
       "      <td>0.666667</td>\n",
       "    </tr>\n",
       "    <tr>\n",
       "      <th>1</th>\n",
       "      <td>{'max_depth': 1, 'min_samples_split': 3}</td>\n",
       "      <td>0.675000</td>\n",
       "      <td>5</td>\n",
       "      <td>0.708333</td>\n",
       "      <td>0.666667</td>\n",
       "      <td>0.666667</td>\n",
       "    </tr>\n",
       "    <tr>\n",
       "      <th>2</th>\n",
       "      <td>{'max_depth': 3, 'min_samples_split': 2}</td>\n",
       "      <td>0.958333</td>\n",
       "      <td>2</td>\n",
       "      <td>0.916667</td>\n",
       "      <td>0.916667</td>\n",
       "      <td>1.000000</td>\n",
       "    </tr>\n",
       "    <tr>\n",
       "      <th>3</th>\n",
       "      <td>{'max_depth': 3, 'min_samples_split': 3}</td>\n",
       "      <td>0.966667</td>\n",
       "      <td>1</td>\n",
       "      <td>0.916667</td>\n",
       "      <td>0.958333</td>\n",
       "      <td>1.000000</td>\n",
       "    </tr>\n",
       "    <tr>\n",
       "      <th>4</th>\n",
       "      <td>{'max_depth': 5, 'min_samples_split': 2}</td>\n",
       "      <td>0.958333</td>\n",
       "      <td>2</td>\n",
       "      <td>0.916667</td>\n",
       "      <td>0.958333</td>\n",
       "      <td>1.000000</td>\n",
       "    </tr>\n",
       "    <tr>\n",
       "      <th>5</th>\n",
       "      <td>{'max_depth': 5, 'min_samples_split': 3}</td>\n",
       "      <td>0.958333</td>\n",
       "      <td>2</td>\n",
       "      <td>0.916667</td>\n",
       "      <td>0.958333</td>\n",
       "      <td>1.000000</td>\n",
       "    </tr>\n",
       "  </tbody>\n",
       "</table>\n",
       "</div>"
      ],
      "text/plain": [
       "                                     params  mean_test_score  rank_test_score   \n",
       "0  {'max_depth': 1, 'min_samples_split': 2}         0.675000                5  \\\n",
       "1  {'max_depth': 1, 'min_samples_split': 3}         0.675000                5   \n",
       "2  {'max_depth': 3, 'min_samples_split': 2}         0.958333                2   \n",
       "3  {'max_depth': 3, 'min_samples_split': 3}         0.966667                1   \n",
       "4  {'max_depth': 5, 'min_samples_split': 2}         0.958333                2   \n",
       "5  {'max_depth': 5, 'min_samples_split': 3}         0.958333                2   \n",
       "\n",
       "   split0_test_score  split1_test_score  split2_test_score  \n",
       "0           0.708333           0.666667           0.666667  \n",
       "1           0.708333           0.666667           0.666667  \n",
       "2           0.916667           0.916667           1.000000  \n",
       "3           0.916667           0.958333           1.000000  \n",
       "4           0.916667           0.958333           1.000000  \n",
       "5           0.916667           0.958333           1.000000  "
      ]
     },
     "execution_count": 26,
     "metadata": {},
     "output_type": "execute_result"
    }
   ],
   "source": [
    "scores_df[['params', 'mean_test_score', 'rank_test_score', 'split0_test_score', 'split1_test_score', 'split2_test_score']]"
   ]
  },
  {
   "cell_type": "code",
   "execution_count": 27,
   "id": "5853ae94",
   "metadata": {},
   "outputs": [
    {
     "data": {
      "text/plain": [
       "{'max_depth': 3, 'min_samples_split': 3}"
      ]
     },
     "execution_count": 27,
     "metadata": {},
     "output_type": "execute_result"
    }
   ],
   "source": [
    "# 최적 파라미터\n",
    "grid_dtree.best_params_"
   ]
  },
  {
   "cell_type": "code",
   "execution_count": 28,
   "id": "edcd2754",
   "metadata": {},
   "outputs": [
    {
     "data": {
      "text/plain": [
       "0.9666666666666668"
      ]
     },
     "execution_count": 28,
     "metadata": {},
     "output_type": "execute_result"
    }
   ],
   "source": [
    "# 최고 정확도\n",
    "grid_dtree.best_score_"
   ]
  },
  {
   "cell_type": "markdown",
   "id": "a022ed41",
   "metadata": {},
   "source": [
    "### 데스트(예측) 수행"
   ]
  },
  {
   "cell_type": "code",
   "execution_count": 29,
   "id": "4025aa39",
   "metadata": {},
   "outputs": [],
   "source": [
    "# 예측\n",
    "pred = grid_dtree.predict(x_test)"
   ]
  },
  {
   "cell_type": "markdown",
   "id": "6f775ad8",
   "metadata": {},
   "source": [
    "### 정확도 측정"
   ]
  },
  {
   "cell_type": "code",
   "execution_count": 30,
   "id": "7d586f81",
   "metadata": {},
   "outputs": [
    {
     "data": {
      "text/plain": [
       "0.9333333333333333"
      ]
     },
     "execution_count": 30,
     "metadata": {},
     "output_type": "execute_result"
    }
   ],
   "source": [
    "# 정확도\n",
    "accuracy_score(y_test, pred)"
   ]
  },
  {
   "cell_type": "markdown",
   "id": "854463fa",
   "metadata": {},
   "source": [
    "### 테스트(예측) 재수행"
   ]
  },
  {
   "cell_type": "code",
   "execution_count": 32,
   "id": "361b0f8b",
   "metadata": {},
   "outputs": [],
   "source": [
    "estimator = grid_dtree.best_estimator_"
   ]
  },
  {
   "cell_type": "code",
   "execution_count": 33,
   "id": "a69e67e3",
   "metadata": {},
   "outputs": [],
   "source": [
    "pred = estimator.predict(x_test)"
   ]
  },
  {
   "cell_type": "markdown",
   "id": "3ebc3eac",
   "metadata": {},
   "source": [
    "### 정확도 재측정"
   ]
  },
  {
   "cell_type": "code",
   "execution_count": 34,
   "id": "1c89c664",
   "metadata": {},
   "outputs": [
    {
     "data": {
      "text/plain": [
       "0.9333333333333333"
      ]
     },
     "execution_count": 34,
     "metadata": {},
     "output_type": "execute_result"
    }
   ],
   "source": [
    "accuracy_score(y_test, pred)"
   ]
  }
 ],
 "metadata": {
  "kernelspec": {
   "display_name": "ex_kernel",
   "language": "python",
   "name": "ex"
  },
  "language_info": {
   "codemirror_mode": {
    "name": "ipython",
    "version": 3
   },
   "file_extension": ".py",
   "mimetype": "text/x-python",
   "name": "python",
   "nbconvert_exporter": "python",
   "pygments_lexer": "ipython3",
   "version": "3.8.10"
  },
  "toc": {
   "base_numbering": 1,
   "nav_menu": {},
   "number_sections": true,
   "sideBar": true,
   "skip_h1_title": false,
   "title_cell": "Table of Contents",
   "title_sidebar": "Contents",
   "toc_cell": false,
   "toc_position": {},
   "toc_section_display": true,
   "toc_window_display": false
  }
 },
 "nbformat": 4,
 "nbformat_minor": 5
}
