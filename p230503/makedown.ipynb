{
 "cells": [
  {
   "cell_type": "markdown",
   "id": "66c43549",
   "metadata": {},
   "source": [
    "## markdown : 문서 형태로 작업 가능  \n",
    "## 단축키 : command 상태에서 M / 해제하고 싶을 때는 Y"
   ]
  },
  {
   "cell_type": "code",
   "execution_count": 1,
   "id": "dc5fbd03",
   "metadata": {},
   "outputs": [
    {
     "name": "stdout",
     "output_type": "stream",
     "text": [
      "5\n"
     ]
    }
   ],
   "source": [
    "num = 5\n",
    "print(num)"
   ]
  },
  {
   "cell_type": "markdown",
   "id": "c63a55bf",
   "metadata": {},
   "source": [
    "# 제목1 (#)\n",
    "## 제목2\n",
    "### 제목3\n",
    "#### 제목4\n",
    "##### 제목5\n",
    "###### 제목6"
   ]
  },
  {
   "cell_type": "markdown",
   "id": "efd6751d",
   "metadata": {},
   "source": [
    "# 순서 없는 리스트 (-)\n",
    "- 리스트1\n",
    "- 리스트2\n",
    "    - 리스트2.1 (탭하고 - 또는 스페이스바 두번하고 -)\n",
    "        - 리스트2.1.1 \n",
    "    - 리스트2.2\n",
    "- 리스트3"
   ]
  },
  {
   "cell_type": "markdown",
   "id": "55d1cd52",
   "metadata": {},
   "source": [
    "# 순서 있는 리스트 (모두 1.로 쓰면 알아서 순서 부여해줌, 탭만 인식함)\n",
    "1. 리스트1\n",
    "1. 리스트2\n",
    "    1. 리스트2.1\n",
    "        1. 리스트2.1.1\n",
    "        1. 리스트2.1.2\n",
    "    1. 리스트2.2\n",
    "1. 리스트3"
   ]
  },
  {
   "cell_type": "markdown",
   "id": "e0193b3d",
   "metadata": {},
   "source": [
    "# 글자 진하게 (글자 앞뒤에 **)\n",
    "**진하게**"
   ]
  },
  {
   "cell_type": "markdown",
   "id": "0ba043b0",
   "metadata": {},
   "source": [
    "# 줄바꿈 (글자  뒤에 공백 두개)\n",
    "하나  \n",
    "둘  \n",
    "셋"
   ]
  },
  {
   "cell_type": "markdown",
   "id": "7b819579",
   "metadata": {},
   "source": [
    "# 수평선 (---)\n",
    "---"
   ]
  },
  {
   "cell_type": "markdown",
   "id": "613ff970",
   "metadata": {},
   "source": [
    "# 쓴 문자 그대로 인식 (글자 앞 뒤에 `세 개씩)\n",
    "```python\n",
    "num = 5 \n",
    "print(num)\n",
    "```"
   ]
  },
  {
   "cell_type": "markdown",
   "id": "a7de93fe",
   "metadata": {},
   "source": [
    "# 인용구 (>)\n",
    "> 인용1  \n",
    "> 인용2  \n",
    "> 인용3"
   ]
  },
  {
   "cell_type": "markdown",
   "id": "c08f0a16",
   "metadata": {},
   "source": [
    "# 표  (|로 구분하고 칼럼명 아래에 - | 넣기)\n",
    "이름 | 전화번호 | 이메일\n",
    "- | - | -\n",
    "A | 010 | a@a.com\n",
    "B | 02 | b@b.com"
   ]
  },
  {
   "attachments": {
    "image-2.png": {
     "image/png": "[encoded data removed]"
    }
   },
   "cell_type": "markdown",
   "id": "5bcfc175",
   "metadata": {},
   "source": [
    "# 이미지 (Ctrl + V로 넣기)\n",
    "![image-2.png](attachment:image-2.png)"
   ]
  },
  {
   "cell_type": "markdown",
   "id": "005c8e3a",
   "metadata": {},
   "source": [
    "# URL (Ctrl + V로 넣기)\n",
    "- 참고자료\n",
    "- https://www.naver.com/"
   ]
  }
 ],
 "metadata": {
  "kernelspec": {
   "display_name": "ex_kernel",
   "language": "python",
   "name": "ex"
  },
  "language_info": {
   "codemirror_mode": {
    "name": "ipython",
    "version": 3
   },
   "file_extension": ".py",
   "mimetype": "text/x-python",
   "name": "python",
   "nbconvert_exporter": "python",
   "pygments_lexer": "ipython3",
   "version": "3.8.10"
  },
  "toc": {
   "base_numbering": 1,
   "nav_menu": {
    "height": "282px",
    "width": "445px"
   },
   "number_sections": true,
   "sideBar": true,
   "skip_h1_title": false,
   "title_cell": "Table of Contents",
   "title_sidebar": "Contents",
   "toc_cell": false,
   "toc_position": {
    "height": "calc(100% - 180px)",
    "left": "10px",
    "top": "150px",
    "width": "255.312px"
   },
   "toc_section_display": true,
   "toc_window_display": false
  }
 },
 "nbformat": 4,
 "nbformat_minor": 5
}
