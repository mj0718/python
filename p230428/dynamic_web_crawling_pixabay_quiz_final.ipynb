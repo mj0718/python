{
 "cells": [
  {
   "cell_type": "code",
   "execution_count": null,
   "id": "a4655683",
   "metadata": {},
   "outputs": [],
   "source": [
    "'''\n",
    "[문제] 픽사베이에서 구슬을 검색하여, 페이지 내 이미지(100개)를 다운로드하시오.\n",
    "- 다운로드 폴더 : 구슬\n",
    "- 파일명 : 1.jpg \n",
    "'''"
   ]
  },
  {
   "cell_type": "code",
   "execution_count": 3,
   "id": "7ac1e328",
   "metadata": {},
   "outputs": [
    {
     "name": "stdout",
     "output_type": "stream",
     "text": [
      "이미지 100개 다운로드 완료\n"
     ]
    }
   ],
   "source": [
    "from time import sleep\n",
    "from selenium import webdriver\n",
    "from selenium.webdriver.common.by import By\n",
    "from selenium.webdriver.common.keys import Keys\n",
    "import os\n",
    "import requests\n",
    "\n",
    "# 1. 웹 브라우저 실행\n",
    "driver = webdriver.Chrome()\n",
    "\n",
    "# 2. 픽사베이 접속\n",
    "url = 'https://pixabay.com/ko/'\n",
    "driver.get(url)\n",
    "\n",
    "sleep(2)\n",
    "\n",
    "# 3. 검색창에 검색어 입력\n",
    "search = driver.find_element(By.CSS_SELECTOR, 'form > input')\n",
    "search_word = '구슬'\n",
    "search.send_keys(search_word)\n",
    "search.send_keys(Keys.ENTER)\n",
    "\n",
    "# 5. 이미지 엘리먼트 추출 : 페이지 내 모든 이미지 추출\n",
    "img_elements = driver.find_elements(By.CSS_SELECTOR, 'a > img')\n",
    "\n",
    "# 6. 폴더 생성 : 검색어 이름의 폴더 생성\n",
    "os.makedirs(search_word, exist_ok=True)\n",
    "\n",
    "sleep(2)\n",
    "\n",
    "for idx, img in enumerate(img_elements, 1):\n",
    "    # 7. 이미지 주소 추출\n",
    "    if not img.get_attribute('data-lazy'):\n",
    "        src = img.get_attribute('src')\n",
    "    else:\n",
    "        src = img.get_attribute('data-lazy')\n",
    "        \n",
    "    # 8. 이미지 파일 요청\n",
    "    img_response = requests.get(src).content\n",
    "    \n",
    "    # 9. 이미지 다운로드\n",
    "    with open(f'{search_word}/{idx}.jpg', 'wb') as file:\n",
    "        file.write(img_response)\n",
    "        \n",
    "driver.close()\n",
    "print(f'이미지 {idx}개 다운로드 완료')"
   ]
  }
 ],
 "metadata": {
  "kernelspec": {
   "display_name": "ex_kernel",
   "language": "python",
   "name": "ex"
  },
  "language_info": {
   "codemirror_mode": {
    "name": "ipython",
    "version": 3
   },
   "file_extension": ".py",
   "mimetype": "text/x-python",
   "name": "python",
   "nbconvert_exporter": "python",
   "pygments_lexer": "ipython3",
   "version": "3.8.10"
  }
 },
 "nbformat": 4,
 "nbformat_minor": 5
}
