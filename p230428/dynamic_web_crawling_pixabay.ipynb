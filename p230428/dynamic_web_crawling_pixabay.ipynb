{
 "cells": [
  {
   "cell_type": "code",
   "execution_count": 1,
   "id": "00088fb1",
   "metadata": {},
   "outputs": [],
   "source": [
    "from selenium import webdriver\n",
    "from selenium.webdriver.common.keys import Keys\n",
    "from selenium.webdriver.common.by import By\n",
    "from time import sleep"
   ]
  },
  {
   "cell_type": "code",
   "execution_count": 57,
   "id": "3a3962cf",
   "metadata": {
    "scrolled": true
   },
   "outputs": [
    {
     "name": "stdout",
     "output_type": "stream",
     "text": [
      "<selenium.webdriver.remote.webelement.WebElement (session=\"257870638bb45b9985b8b0422e6e007e\", element=\"50c4b1c0-244c-4406-ab43-7361f2c3295e\")>\n",
      "https://cdn.pixabay.com/index/2023/04/21/00-17-54-889_1440x550.jpg\n"
     ]
    }
   ],
   "source": [
    "driver = webdriver.Chrome()\n",
    "\n",
    "url = 'https://pixabay.com/ko/'\n",
    "driver.get(url)\n",
    "\n",
    "# img_element = driver.find_element(By.CSS_SELECTOR, 'img[alt]')\n",
    "# print(img_element)\n",
    "# print(img_element.get_attribute('src'))\n",
    "\n",
    "# delay -> 렌더링이 되기 전에 중단되는 것을 막기 위한 방법\n",
    "sleep(5)\n",
    "\n",
    "img_elements = driver.find_elements(By.CSS_SELECTOR, 'img[alt]')\n",
    "# print(img_elements)\n",
    "\n",
    "for img in img_elements:\n",
    "    print(img.get_attribute('src'))\n",
    "\n",
    "# img 폴더에 이미지 다운로드\n",
    "import requests\n",
    "import os\n",
    "os.makedirs('img', exist_ok=True)\n",
    "\n",
    "for idx, img in enumerate(img_elements, 1):\n",
    "    response_img = requests.get(img.get_attribute('src')).content\n",
    "\n",
    "    with open(f'img/{idx}.jpg', 'wb') as file:\n",
    "        file.write(response_img)\n",
    "print(f'==이미지 {idx}개 다운로드 완료==')"
   ]
  },
  {
   "cell_type": "code",
   "execution_count": 33,
   "id": "893d6250",
   "metadata": {},
   "outputs": [
    {
     "data": {
      "text/plain": [
       "37"
      ]
     },
     "execution_count": 33,
     "metadata": {},
     "output_type": "execute_result"
    }
   ],
   "source": [
    "len(img_elements)"
   ]
  },
  {
   "cell_type": "code",
   "execution_count": 34,
   "id": "08ef6cf6",
   "metadata": {
    "collapsed": true
   },
   "outputs": [
    {
     "name": "stdout",
     "output_type": "stream",
     "text": [
      "https://cdn.pixabay.com/index/2023/04/21/00-17-54-889_1440x550.jpg\n",
      "https://cdn.pixabay.com/photo/2023/04/12/11/32/sparrow-7920064_640.jpg\n",
      "https://cdn.pixabay.com/photo/2023/04/17/00/06/vietnam-7931381_640.jpg\n",
      "https://cdn.pixabay.com/photo/2023/04/19/10/54/horse-7937478__340.jpg\n",
      "https://cdn.pixabay.com/photo/2023/04/14/13/46/animal-7925140__340.jpg\n",
      "https://cdn.pixabay.com/photo/2023/04/22/22/58/bird-7944578__340.jpg\n",
      "https://cdn.pixabay.com/audio/2023/04/24/09-30-22-297_200x200.jpg\n",
      "https://cdn.pixabay.com/photo/2023/03/30/11/58/norway-7887613__340.jpg\n",
      "https://cdn.pixabay.com/photo/2023/04/22/18/15/beach-7944181__340.jpg\n",
      "https://i.vimeocdn.com/video/1586314845-53f684fbc98dcbeaeca59dadf64edcd83dda7127175da790ad684aa960833b83-d_640x360.jpg\n",
      "https://cdn.pixabay.com/photo/2023/04/22/20/37/nature-7944405__340.jpg\n",
      "https://cdn.pixabay.com/audio/2023/04/17/09-17-55-729_200x200.jpg\n",
      "https://cdn.pixabay.com/photo/2023/04/23/08/02/mayfly-7945201__340.jpg\n",
      "https://cdn.pixabay.com/photo/2023/04/22/02/19/roller-coaster-7942853__340.jpg\n",
      "https://cdn.pixabay.com/photo/2020/07/21/18/21/cornflower-5427048_640.jpg\n",
      "https://cdn.pixabay.com/photo/2023/03/27/17/24/cat-7881256_640.png\n",
      "https://cdn.pixabay.com/photo/2023/04/11/16/04/berries-7917661__340.jpg\n",
      "https://i.vimeocdn.com/video/1656081605-7e96e96fbcebca6572d61ebf1a94b2316b057af5f28e87a44806660a96fcfa84-d_640x360.jpg\n",
      "https://cdn.pixabay.com/photo/2023/04/21/15/35/fusilier-tulip-7942127__340.jpg\n",
      "https://cdn.pixabay.com/photo/2023/04/22/02/20/insect-7942861_640.jpg\n",
      "https://cdn.pixabay.com/photo/2023/04/17/10/31/tennis-7932067__340.jpg\n",
      "https://cdn.pixabay.com/photo/2023/04/18/20/21/flowers-7935944__340.jpg\n",
      "https://cdn.pixabay.com/photo/2023/04/13/07/21/church-7921891__340.jpg\n",
      "https://cdn.pixabay.com/photo/2023/04/03/16/39/squirrel-7897245__340.jpg\n",
      "https://cdn.pixabay.com/photo/2023/04/10/10/40/women-7913460__340.jpg\n",
      "https://cdn.pixabay.com/photo/2023/04/23/07/44/buildings-7945163__340.jpg\n",
      "https://cdn.pixabay.com/photo/2023/04/01/14/52/monastery-7892569__340.jpg\n",
      "https://cdn.pixabay.com/photo/2023/02/09/18/42/podcast-7779510__340.png\n",
      "https://cdn.pixabay.com/photo/2023/04/23/13/27/walk-7945711__340.jpg\n",
      "https://cdn.pixabay.com/photo/2023/04/16/08/10/flower-7929400__340.jpg\n",
      "https://cdn.pixabay.com/photo/2023/03/22/12/53/crayons-7869424__340.jpg\n",
      "https://cdn.pixabay.com/photo/2023/04/15/14/21/bird-7927829_640.jpg\n",
      "https://cdn.pixabay.com/photo/2023/04/24/02/51/crimson-rosella-7947000__340.jpg\n",
      "https://cdn.pixabay.com/photo/2023/04/23/15/52/flowers-7946004__340.jpg\n",
      "https://cdn.pixabay.com/photo/2023/04/05/09/44/old-man-7901064__340.jpg\n",
      "https://cdn.pixabay.com/photo/2023/03/17/16/42/bikes-7859039__340.jpg\n",
      "https://cdn.pixabay.com/photo/2023/03/30/06/12/flower-7886861__340.jpg\n"
     ]
    }
   ],
   "source": [
    "for img in img_elements:\n",
    "    print(img.get_attribute('src'))"
   ]
  },
  {
   "cell_type": "code",
   "execution_count": 50,
   "id": "ec2825ca",
   "metadata": {},
   "outputs": [
    {
     "data": {
      "text/plain": [
       "'https://cdn.pixabay.com/index/2023/04/21/00-17-54-889_1440x550.jpg'"
      ]
     },
     "execution_count": 50,
     "metadata": {},
     "output_type": "execute_result"
    }
   ],
   "source": [
    "img_element.get_attribute('src')"
   ]
  },
  {
   "cell_type": "code",
   "execution_count": 54,
   "id": "e2b34250",
   "metadata": {},
   "outputs": [],
   "source": [
    "from urllib import request\n",
    "import requests\n",
    "\n",
    "download_src = 'https://cdn.pixabay.com/index/2023/04/21/00-17-54-889_1440x550.jpg'\n",
    "# HTTPError: HTTP Error 403: Forbidden\n",
    "# request.urlretrieve(download_src, '1.jpg')\n",
    "\n",
    "response_img = requests.get(download_src).content\n",
    "\n",
    "with open('1.jpg', 'wb') as file:\n",
    "    file.write(response_img)"
   ]
  },
  {
   "cell_type": "code",
   "execution_count": 43,
   "id": "d4937a4b",
   "metadata": {},
   "outputs": [
    {
     "name": "stdout",
     "output_type": "stream",
     "text": [
      "==img 폴더 생성 완료==\n",
      "==img2 폴더 생성 완료==\n"
     ]
    }
   ],
   "source": [
    "# 현재 위치에 img 폴더 생성\n",
    "import os\n",
    "\n",
    "# NameError jupyter에서는 __file__ 내장 변수가 지원이 안 됨\n",
    "# os.path.dirname(__file__)\n",
    "\n",
    "os.getcwd()\n",
    "\n",
    "save_path = os.path.join(os.getcwd(), 'img')\n",
    "\n",
    "os.makedirs(save_path, exist_ok=True)\n",
    "print('==img 폴더 생성 완료==')\n",
    "\n",
    "os.makedirs('img2', exist_ok=True)\n",
    "print('==img2 폴더 생성 완료==')"
   ]
  }
 ],
 "metadata": {
  "kernelspec": {
   "display_name": "ex_kernel",
   "language": "python",
   "name": "ex"
  },
  "language_info": {
   "codemirror_mode": {
    "name": "ipython",
    "version": 3
   },
   "file_extension": ".py",
   "mimetype": "text/x-python",
   "name": "python",
   "nbconvert_exporter": "python",
   "pygments_lexer": "ipython3",
   "version": "3.8.10"
  }
 },
 "nbformat": 4,
 "nbformat_minor": 5
}
