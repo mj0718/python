{
 "cells": [
  {
   "cell_type": "code",
   "execution_count": null,
   "id": "a4655683",
   "metadata": {},
   "outputs": [],
   "source": [
    "'''\n",
    "[문제] 픽사베이에서 구슬을 검색하여, 페이지 내 이미지(100개)를 다운로드하시오.\n",
    "- 다운로드 폴더 : 구슬\n",
    "- 파일명 : 1.jpg \n",
    "'''"
   ]
  },
  {
   "cell_type": "code",
   "execution_count": 3,
   "id": "7ac1e328",
   "metadata": {},
   "outputs": [
    {
     "name": "stdout",
     "output_type": "stream",
     "text": [
      "이미지 100개 다운로드 완료\n"
     ]
    }
   ],
   "source": [
    "from time import sleep\n",
    "from selenium import webdriver\n",
    "from selenium.webdriver.common.by import By\n",
    "from selenium.webdriver.common.keys import Keys\n",
    "import os\n",
    "import requests\n",
    "\n",
    "# 1. 웹 브라우저 실행\n",
    "driver = webdriver.Chrome()\n",
    "\n",
    "# 2. 픽사베이 접속\n",
    "url = 'https://pixabay.com/ko/'\n",
    "driver.get(url)\n",
    "\n",
    "sleep(2)\n",
    "\n",
    "# 3. 검색창에 검색어 입력\n",
    "search = driver.find_element(By.CSS_SELECTOR, 'form > input')\n",
    "search_word = '구슬'\n",
    "search.send_keys(search_word)\n",
    "search.send_keys(Keys.ENTER)\n",
    "\n",
    "# 5. 이미지 엘리먼트 추출 : 페이지 내 모든 이미지 추출\n",
    "img_elements = driver.find_elements(By.CSS_SELECTOR, 'a > img')\n",
    "\n",
    "# 6. 폴더 생성 : 검색어 이름의 폴더 생성\n",
    "os.makedirs(search_word, exist_ok=True)\n",
    "\n",
    "sleep(2)\n",
    "\n",
    "for idx, img in enumerate(img_elements, 1):\n",
    "    # 7. 이미지 주소 추출\n",
    "    if not img.get_attribute('data-lazy'):\n",
    "        src = img.get_attribute('src')\n",
    "    else:\n",
    "        src = img.get_attribute('data-lazy')\n",
    "        \n",
    "    # 8. 이미지 파일 요청\n",
    "    img_response = requests.get(src).content\n",
    "    \n",
    "    # 9. 이미지 다운로드\n",
    "    with open(f'{search_word}/{idx}.jpg', 'wb') as file:\n",
    "        file.write(img_response)\n",
    "        \n",
    "driver.close()\n",
    "print(f'이미지 {idx}개 다운로드 완료')"
   ]
  },
  {
   "cell_type": "code",
   "execution_count": null,
   "id": "52737734",
   "metadata": {},
   "outputs": [],
   "source": [
    "from bs4 import BeautifulSoup \n",
    "html = driver.page_source\n",
    "soup = BeautifulSoup(html, 'html.parser')\n",
    "\n",
    "check_img_elements = soup.select('a > img')\n",
    "check_img_elements"
   ]
  },
  {
   "cell_type": "code",
   "execution_count": 38,
   "id": "437a7035",
   "metadata": {
    "collapsed": true
   },
   "outputs": [
    {
     "name": "stdout",
     "output_type": "stream",
     "text": [
      "[<selenium.webdriver.remote.webelement.WebElement (session=\"990b8f74b3512b0bb3c6cac1f7db5aa7\", element=\"c9a0b61f-0f86-4feb-935d-4029597d79c0\")>, <selenium.webdriver.remote.webelement.WebElement (session=\"990b8f74b3512b0bb3c6cac1f7db5aa7\", element=\"5cc259db-727c-4786-aef7-fed72c4d1ecb\")>, <selenium.webdriver.remote.webelement.WebElement (session=\"990b8f74b3512b0bb3c6cac1f7db5aa7\", element=\"6c513af2-2bc4-470a-88bd-f50eb36967a1\")>, <selenium.webdriver.remote.webelement.WebElement (session=\"990b8f74b3512b0bb3c6cac1f7db5aa7\", element=\"2693b238-b1c8-4591-bc48-223fa7436681\")>, <selenium.webdriver.remote.webelement.WebElement (session=\"990b8f74b3512b0bb3c6cac1f7db5aa7\", element=\"d0f342db-9c2c-40fe-b09d-24514470a420\")>, <selenium.webdriver.remote.webelement.WebElement (session=\"990b8f74b3512b0bb3c6cac1f7db5aa7\", element=\"a3133755-3f84-476c-98d6-5998213b982d\")>, <selenium.webdriver.remote.webelement.WebElement (session=\"990b8f74b3512b0bb3c6cac1f7db5aa7\", element=\"4e9c11c5-166e-47f6-8775-d8b8ad8804c9\")>, <selenium.webdriver.remote.webelement.WebElement (session=\"990b8f74b3512b0bb3c6cac1f7db5aa7\", element=\"b3889c37-fdf6-455a-ba8b-767cca49c86f\")>, <selenium.webdriver.remote.webelement.WebElement (session=\"990b8f74b3512b0bb3c6cac1f7db5aa7\", element=\"a3c7215b-3af0-49aa-b8f8-5112c5d495f9\")>, <selenium.webdriver.remote.webelement.WebElement (session=\"990b8f74b3512b0bb3c6cac1f7db5aa7\", element=\"3556de59-7c68-49d2-9f1a-53679222fa32\")>, <selenium.webdriver.remote.webelement.WebElement (session=\"990b8f74b3512b0bb3c6cac1f7db5aa7\", element=\"722106b0-84e8-44e6-aee2-22cdaa1f797d\")>, <selenium.webdriver.remote.webelement.WebElement (session=\"990b8f74b3512b0bb3c6cac1f7db5aa7\", element=\"cfc8b72e-3899-4425-a35a-92551ddb9276\")>, <selenium.webdriver.remote.webelement.WebElement (session=\"990b8f74b3512b0bb3c6cac1f7db5aa7\", element=\"d1089252-5bce-4375-a8c9-732550294651\")>, <selenium.webdriver.remote.webelement.WebElement (session=\"990b8f74b3512b0bb3c6cac1f7db5aa7\", element=\"34f34325-7ec9-4ff4-be2b-6c8b32e5cf9a\")>, <selenium.webdriver.remote.webelement.WebElement (session=\"990b8f74b3512b0bb3c6cac1f7db5aa7\", element=\"16a51e95-6a14-4690-9972-305e8453bda6\")>, <selenium.webdriver.remote.webelement.WebElement (session=\"990b8f74b3512b0bb3c6cac1f7db5aa7\", element=\"b5fc0b12-79a6-4294-9b3c-5ec4c1331cbe\")>, <selenium.webdriver.remote.webelement.WebElement (session=\"990b8f74b3512b0bb3c6cac1f7db5aa7\", element=\"f3bb35c6-d032-49b6-9b22-4c039bcd3966\")>, <selenium.webdriver.remote.webelement.WebElement (session=\"990b8f74b3512b0bb3c6cac1f7db5aa7\", element=\"90403803-d280-4346-827d-7cb2aa2c0de2\")>, <selenium.webdriver.remote.webelement.WebElement (session=\"990b8f74b3512b0bb3c6cac1f7db5aa7\", element=\"723b9022-6d53-4bfa-a830-e965f157b654\")>, <selenium.webdriver.remote.webelement.WebElement (session=\"990b8f74b3512b0bb3c6cac1f7db5aa7\", element=\"6338a231-ead5-4666-bc6f-1d3fc74435ae\")>, <selenium.webdriver.remote.webelement.WebElement (session=\"990b8f74b3512b0bb3c6cac1f7db5aa7\", element=\"bfa757db-845b-40b4-9fa4-5ec3063e3778\")>, <selenium.webdriver.remote.webelement.WebElement (session=\"990b8f74b3512b0bb3c6cac1f7db5aa7\", element=\"a904f76b-94e4-4eae-8372-db509c630d83\")>, <selenium.webdriver.remote.webelement.WebElement (session=\"990b8f74b3512b0bb3c6cac1f7db5aa7\", element=\"03dab408-b086-4322-babe-fdea16774681\")>, <selenium.webdriver.remote.webelement.WebElement (session=\"990b8f74b3512b0bb3c6cac1f7db5aa7\", element=\"7ae25c09-3105-4ccc-9237-5edaa6ee66ee\")>, <selenium.webdriver.remote.webelement.WebElement (session=\"990b8f74b3512b0bb3c6cac1f7db5aa7\", element=\"c1419a3b-c6db-4088-b4d2-a712d7822e87\")>, <selenium.webdriver.remote.webelement.WebElement (session=\"990b8f74b3512b0bb3c6cac1f7db5aa7\", element=\"00bd40e2-5de4-453b-9d9e-d5c80e87fe85\")>, <selenium.webdriver.remote.webelement.WebElement (session=\"990b8f74b3512b0bb3c6cac1f7db5aa7\", element=\"7fbae670-04d8-4836-bdb5-2dbe2a0da7d0\")>, <selenium.webdriver.remote.webelement.WebElement (session=\"990b8f74b3512b0bb3c6cac1f7db5aa7\", element=\"d75cbdb1-2d7c-4307-85d0-c1cbf347827f\")>, <selenium.webdriver.remote.webelement.WebElement (session=\"990b8f74b3512b0bb3c6cac1f7db5aa7\", element=\"3160f187-4164-468c-aed7-6ea208434372\")>, <selenium.webdriver.remote.webelement.WebElement (session=\"990b8f74b3512b0bb3c6cac1f7db5aa7\", element=\"df32ff62-8968-41ae-9f1b-f9c8591d766a\")>, <selenium.webdriver.remote.webelement.WebElement (session=\"990b8f74b3512b0bb3c6cac1f7db5aa7\", element=\"4e8de119-4fc3-4ecb-8e1c-046a15386707\")>, <selenium.webdriver.remote.webelement.WebElement (session=\"990b8f74b3512b0bb3c6cac1f7db5aa7\", element=\"9e893af2-340b-4f25-a06b-26ee969c4e34\")>, <selenium.webdriver.remote.webelement.WebElement (session=\"990b8f74b3512b0bb3c6cac1f7db5aa7\", element=\"e60ecacb-eaa3-4c03-b51f-c4ac9f088a6e\")>, <selenium.webdriver.remote.webelement.WebElement (session=\"990b8f74b3512b0bb3c6cac1f7db5aa7\", element=\"e904c75b-b24f-44b7-8519-8fef18c80b09\")>, <selenium.webdriver.remote.webelement.WebElement (session=\"990b8f74b3512b0bb3c6cac1f7db5aa7\", element=\"8f5e2281-70eb-47e0-9295-accaf9cfb4ea\")>, <selenium.webdriver.remote.webelement.WebElement (session=\"990b8f74b3512b0bb3c6cac1f7db5aa7\", element=\"11845f36-5d0a-44e7-b008-087942366f10\")>, <selenium.webdriver.remote.webelement.WebElement (session=\"990b8f74b3512b0bb3c6cac1f7db5aa7\", element=\"339c9e2e-a900-4087-b262-a978ca5c3b3f\")>, <selenium.webdriver.remote.webelement.WebElement (session=\"990b8f74b3512b0bb3c6cac1f7db5aa7\", element=\"3f17a72d-c5c3-4e7b-adcc-bec6cc37f44e\")>, <selenium.webdriver.remote.webelement.WebElement (session=\"990b8f74b3512b0bb3c6cac1f7db5aa7\", element=\"f0e644ae-e015-4634-818b-49e1a534c502\")>, <selenium.webdriver.remote.webelement.WebElement (session=\"990b8f74b3512b0bb3c6cac1f7db5aa7\", element=\"3153cf27-6de8-4974-8283-32c80bce4b84\")>, <selenium.webdriver.remote.webelement.WebElement (session=\"990b8f74b3512b0bb3c6cac1f7db5aa7\", element=\"b5770aca-7a92-4c4b-88c5-1c931c16afbb\")>, <selenium.webdriver.remote.webelement.WebElement (session=\"990b8f74b3512b0bb3c6cac1f7db5aa7\", element=\"da8cffac-3a35-4e89-8038-11738182c8db\")>, <selenium.webdriver.remote.webelement.WebElement (session=\"990b8f74b3512b0bb3c6cac1f7db5aa7\", element=\"301e4bc7-7a9f-48f5-9ffe-daba250c8c27\")>, <selenium.webdriver.remote.webelement.WebElement (session=\"990b8f74b3512b0bb3c6cac1f7db5aa7\", element=\"45996568-78f6-478b-b821-9abd60fb2f76\")>, <selenium.webdriver.remote.webelement.WebElement (session=\"990b8f74b3512b0bb3c6cac1f7db5aa7\", element=\"e19b9407-5ad7-429f-a12b-e6b2edc9f580\")>, <selenium.webdriver.remote.webelement.WebElement (session=\"990b8f74b3512b0bb3c6cac1f7db5aa7\", element=\"60f21f6e-7f1c-4880-ade2-e62362aedd75\")>, <selenium.webdriver.remote.webelement.WebElement (session=\"990b8f74b3512b0bb3c6cac1f7db5aa7\", element=\"9e64ac4b-cd9c-4c2f-a3f6-6c6d918e24e1\")>, <selenium.webdriver.remote.webelement.WebElement (session=\"990b8f74b3512b0bb3c6cac1f7db5aa7\", element=\"d98743de-2476-4802-9154-37894dc8e76d\")>, <selenium.webdriver.remote.webelement.WebElement (session=\"990b8f74b3512b0bb3c6cac1f7db5aa7\", element=\"d104ea3d-bba0-433f-950d-44169ef7d1fc\")>, <selenium.webdriver.remote.webelement.WebElement (session=\"990b8f74b3512b0bb3c6cac1f7db5aa7\", element=\"bb940619-2ba8-48dc-b7d3-a6b94571a993\")>, <selenium.webdriver.remote.webelement.WebElement (session=\"990b8f74b3512b0bb3c6cac1f7db5aa7\", element=\"9d95db10-5344-4a1c-a576-3b591cc9b077\")>, <selenium.webdriver.remote.webelement.WebElement (session=\"990b8f74b3512b0bb3c6cac1f7db5aa7\", element=\"9f68b960-9f3c-4ae9-8542-48c221c71975\")>, <selenium.webdriver.remote.webelement.WebElement (session=\"990b8f74b3512b0bb3c6cac1f7db5aa7\", element=\"f363c73c-73cc-4529-b2f0-5292e60e6c76\")>, <selenium.webdriver.remote.webelement.WebElement (session=\"990b8f74b3512b0bb3c6cac1f7db5aa7\", element=\"beb28ba2-63a9-46bf-a9d9-65dcc1caa671\")>, <selenium.webdriver.remote.webelement.WebElement (session=\"990b8f74b3512b0bb3c6cac1f7db5aa7\", element=\"b525cd85-e99a-42a0-b08f-d7354d11e392\")>, <selenium.webdriver.remote.webelement.WebElement (session=\"990b8f74b3512b0bb3c6cac1f7db5aa7\", element=\"046ad99c-43ca-48d0-9b74-6a5b4dfcc567\")>, <selenium.webdriver.remote.webelement.WebElement (session=\"990b8f74b3512b0bb3c6cac1f7db5aa7\", element=\"83ca28c3-801c-4e0b-8001-7c0b2902ea31\")>, <selenium.webdriver.remote.webelement.WebElement (session=\"990b8f74b3512b0bb3c6cac1f7db5aa7\", element=\"560f739b-0991-46c1-8a73-8d21bcecb0c1\")>, <selenium.webdriver.remote.webelement.WebElement (session=\"990b8f74b3512b0bb3c6cac1f7db5aa7\", element=\"1fd79f79-efb1-46af-93ea-2dc4e1b4d13e\")>, <selenium.webdriver.remote.webelement.WebElement (session=\"990b8f74b3512b0bb3c6cac1f7db5aa7\", element=\"1782031e-0f65-4679-9aef-31bcc0c350ed\")>, <selenium.webdriver.remote.webelement.WebElement (session=\"990b8f74b3512b0bb3c6cac1f7db5aa7\", element=\"859c5f93-2ab6-4dc1-b186-8861fd4cba37\")>, <selenium.webdriver.remote.webelement.WebElement (session=\"990b8f74b3512b0bb3c6cac1f7db5aa7\", element=\"8b6b7307-2ace-4d98-a46a-d580a1759f9d\")>, <selenium.webdriver.remote.webelement.WebElement (session=\"990b8f74b3512b0bb3c6cac1f7db5aa7\", element=\"c9eb0961-c1c1-4b30-be23-033a2e93a44d\")>, <selenium.webdriver.remote.webelement.WebElement (session=\"990b8f74b3512b0bb3c6cac1f7db5aa7\", element=\"717efbe4-321c-4719-ad3d-26139d25f10d\")>, <selenium.webdriver.remote.webelement.WebElement (session=\"990b8f74b3512b0bb3c6cac1f7db5aa7\", element=\"3d678903-8175-4db7-8926-c1fc5544fee4\")>, <selenium.webdriver.remote.webelement.WebElement (session=\"990b8f74b3512b0bb3c6cac1f7db5aa7\", element=\"637e2a5a-19f3-4928-a15b-66b11d5c63d6\")>, <selenium.webdriver.remote.webelement.WebElement (session=\"990b8f74b3512b0bb3c6cac1f7db5aa7\", element=\"67c9bac3-acc3-4ac5-a2e5-1b85615beece\")>, <selenium.webdriver.remote.webelement.WebElement (session=\"990b8f74b3512b0bb3c6cac1f7db5aa7\", element=\"2e7a7c63-1cfa-4ff6-b106-4d2fb9c288d6\")>, <selenium.webdriver.remote.webelement.WebElement (session=\"990b8f74b3512b0bb3c6cac1f7db5aa7\", element=\"b8649fe4-166b-4c63-b78a-ca7b17af7de5\")>, <selenium.webdriver.remote.webelement.WebElement (session=\"990b8f74b3512b0bb3c6cac1f7db5aa7\", element=\"9f1469f8-11d2-4350-bba4-171842eaac98\")>, <selenium.webdriver.remote.webelement.WebElement (session=\"990b8f74b3512b0bb3c6cac1f7db5aa7\", element=\"d9ee18c0-76ef-4b39-b076-8ed55b9b4a78\")>, <selenium.webdriver.remote.webelement.WebElement (session=\"990b8f74b3512b0bb3c6cac1f7db5aa7\", element=\"55f86a88-0eb0-4323-9977-45a299265821\")>, <selenium.webdriver.remote.webelement.WebElement (session=\"990b8f74b3512b0bb3c6cac1f7db5aa7\", element=\"c2f5a7c7-04d9-4b87-9dfd-b5c4bbf2dfe1\")>, <selenium.webdriver.remote.webelement.WebElement (session=\"990b8f74b3512b0bb3c6cac1f7db5aa7\", element=\"60107a54-dba9-4ae4-bfd3-2cae021fe1bc\")>, <selenium.webdriver.remote.webelement.WebElement (session=\"990b8f74b3512b0bb3c6cac1f7db5aa7\", element=\"470a225e-fce0-4d13-b355-a195fc0ad946\")>, <selenium.webdriver.remote.webelement.WebElement (session=\"990b8f74b3512b0bb3c6cac1f7db5aa7\", element=\"492b9adb-220f-4342-852f-c9692f3cb3ae\")>, <selenium.webdriver.remote.webelement.WebElement (session=\"990b8f74b3512b0bb3c6cac1f7db5aa7\", element=\"1b47476a-7e4e-482b-b571-c18259ede0e4\")>, <selenium.webdriver.remote.webelement.WebElement (session=\"990b8f74b3512b0bb3c6cac1f7db5aa7\", element=\"47f8fae5-c2d4-4d20-9bc9-36621812743b\")>, <selenium.webdriver.remote.webelement.WebElement (session=\"990b8f74b3512b0bb3c6cac1f7db5aa7\", element=\"51c1794a-1efd-4bc1-b2dc-67d8d98e9054\")>, <selenium.webdriver.remote.webelement.WebElement (session=\"990b8f74b3512b0bb3c6cac1f7db5aa7\", element=\"22555d2d-5a03-4703-83dd-f13dd742d0e2\")>, <selenium.webdriver.remote.webelement.WebElement (session=\"990b8f74b3512b0bb3c6cac1f7db5aa7\", element=\"be05118c-6109-4b42-9d6e-a41a4bb3b535\")>, <selenium.webdriver.remote.webelement.WebElement (session=\"990b8f74b3512b0bb3c6cac1f7db5aa7\", element=\"13729b69-c510-47fb-a076-bdb241420bf8\")>, <selenium.webdriver.remote.webelement.WebElement (session=\"990b8f74b3512b0bb3c6cac1f7db5aa7\", element=\"130c0cbd-6293-497d-abae-2a0997c60be1\")>, <selenium.webdriver.remote.webelement.WebElement (session=\"990b8f74b3512b0bb3c6cac1f7db5aa7\", element=\"0a842189-6405-4c52-9d36-4dc64e3d3ac2\")>, <selenium.webdriver.remote.webelement.WebElement (session=\"990b8f74b3512b0bb3c6cac1f7db5aa7\", element=\"48b3e9b0-63c0-4e76-95df-39e10f18a345\")>, <selenium.webdriver.remote.webelement.WebElement (session=\"990b8f74b3512b0bb3c6cac1f7db5aa7\", element=\"46010462-cdd9-47e5-a808-4d07fe85c921\")>, <selenium.webdriver.remote.webelement.WebElement (session=\"990b8f74b3512b0bb3c6cac1f7db5aa7\", element=\"63e26a5f-1178-4484-860b-433eb7ee3718\")>, <selenium.webdriver.remote.webelement.WebElement (session=\"990b8f74b3512b0bb3c6cac1f7db5aa7\", element=\"f1c93fd6-1293-47b6-8221-a3366a4596a0\")>, <selenium.webdriver.remote.webelement.WebElement (session=\"990b8f74b3512b0bb3c6cac1f7db5aa7\", element=\"f5d272f2-ca87-496e-97ab-c78bd5af1883\")>, <selenium.webdriver.remote.webelement.WebElement (session=\"990b8f74b3512b0bb3c6cac1f7db5aa7\", element=\"dd5f2226-1569-478b-9cc5-ce20bf37a2c8\")>, <selenium.webdriver.remote.webelement.WebElement (session=\"990b8f74b3512b0bb3c6cac1f7db5aa7\", element=\"835608db-a2e4-4685-80bd-238b0c01d64d\")>, <selenium.webdriver.remote.webelement.WebElement (session=\"990b8f74b3512b0bb3c6cac1f7db5aa7\", element=\"c98ffcfe-8652-409d-93f7-b2d00938adb7\")>, <selenium.webdriver.remote.webelement.WebElement (session=\"990b8f74b3512b0bb3c6cac1f7db5aa7\", element=\"97a82ce0-0359-4859-a693-20a99bfde9a3\")>, <selenium.webdriver.remote.webelement.WebElement (session=\"990b8f74b3512b0bb3c6cac1f7db5aa7\", element=\"5f92148b-158e-4dd6-874a-0695343868b3\")>, <selenium.webdriver.remote.webelement.WebElement (session=\"990b8f74b3512b0bb3c6cac1f7db5aa7\", element=\"7daf37fd-4ddc-423e-a6d1-f7b0f055667f\")>, <selenium.webdriver.remote.webelement.WebElement (session=\"990b8f74b3512b0bb3c6cac1f7db5aa7\", element=\"473e5ab7-a90a-4d0a-b10a-51fd555d37b6\")>, <selenium.webdriver.remote.webelement.WebElement (session=\"990b8f74b3512b0bb3c6cac1f7db5aa7\", element=\"835bc093-458a-495c-b7b5-9c09cf60f1d9\")>, <selenium.webdriver.remote.webelement.WebElement (session=\"990b8f74b3512b0bb3c6cac1f7db5aa7\", element=\"266154b8-f7b6-4e1b-ba6a-0947a40fc7a5\")>, <selenium.webdriver.remote.webelement.WebElement (session=\"990b8f74b3512b0bb3c6cac1f7db5aa7\", element=\"be1e9b4b-a9a1-4ada-8093-ac21c080ac76\")>, <selenium.webdriver.remote.webelement.WebElement (session=\"990b8f74b3512b0bb3c6cac1f7db5aa7\", element=\"6c631a2f-6d21-4d80-a9ce-4702641a7fd1\")>]\n",
      "https://cdn.pixabay.com/photo/2016/09/10/15/45/marbles-1659398__340.jpg\n",
      "https://cdn.pixabay.com/photo/2014/07/31/22/56/balls-407081__340.jpg\n",
      "https://cdn.pixabay.com/photo/2016/01/17/04/29/rain-drops-1144448__340.jpg\n",
      "https://cdn.pixabay.com/photo/2016/11/29/06/48/bridal-1867900__340.jpg\n",
      "https://cdn.pixabay.com/photo/2016/04/15/19/06/drip-1331703__340.jpg\n",
      "https://cdn.pixabay.com/photo/2016/12/17/12/45/raindrop-1913347__340.jpg\n",
      "https://cdn.pixabay.com/photo/2019/02/09/10/14/tin-can-3984776__340.jpg\n",
      "https://cdn.pixabay.com/photo/2020/06/01/13/37/rain-5246705__340.jpg\n",
      "https://cdn.pixabay.com/photo/2013/10/22/10/06/blue-199261__340.jpg\n",
      "https://cdn.pixabay.com/photo/2016/11/13/17/51/marbles-1821548__340.jpg\n",
      "https://cdn.pixabay.com/photo/2016/11/13/17/46/marbles-1821540__340.jpg\n",
      "https://cdn.pixabay.com/photo/2016/11/13/17/51/marbles-1821547__340.jpg\n",
      "https://cdn.pixabay.com/photo/2015/11/06/10/49/psychics-1026092__340.jpg\n",
      "https://cdn.pixabay.com/photo/2018/01/08/23/15/marbles-3070512__340.jpg\n",
      "https://cdn.pixabay.com/photo/2017/03/19/11/08/bangle-2156210__340.jpg\n",
      "https://cdn.pixabay.com/photo/2017/01/06/22/58/drip-1959198__340.jpg\n",
      "https://cdn.pixabay.com/photo/2015/11/30/05/51/sign-1069785__340.png\n",
      "https://cdn.pixabay.com/photo/2016/01/13/14/50/marbles-1138051__340.jpg\n",
      "https://cdn.pixabay.com/photo/2014/08/01/00/13/marbles-407264__340.jpg\n",
      "https://cdn.pixabay.com/photo/2014/04/09/09/56/marbles-319938__340.jpg\n",
      "https://cdn.pixabay.com/photo/2017/07/05/12/44/glass-2474568__340.jpg\n",
      "https://cdn.pixabay.com/photo/2015/12/09/01/08/wallpaper-1084085__340.png\n",
      "https://cdn.pixabay.com/photo/2017/08/09/10/42/marbles-2614142__340.jpg\n",
      "https://cdn.pixabay.com/photo/2015/03/24/23/54/checkbook-688352__340.jpg\n",
      "https://cdn.pixabay.com/photo/2014/12/21/23/50/jar-576168__340.png\n",
      "https://cdn.pixabay.com/photo/2020/03/19/08/36/natural-4946737__340.jpg\n",
      "https://cdn.pixabay.com/photo/2016/01/25/12/58/buddhism-1160610__340.jpg\n"
     ]
    },
    {
     "name": "stdout",
     "output_type": "stream",
     "text": [
      "https://cdn.pixabay.com/photo/2016/09/27/16/42/cobweb-1698801__340.jpg\n",
      "https://cdn.pixabay.com/photo/2016/05/28/22/34/flower-1422261__340.png\n",
      "https://cdn.pixabay.com/photo/2014/02/13/14/32/ball-265334__340.jpg\n",
      "https://cdn.pixabay.com/photo/2019/03/09/08/28/crystal-ball-4043805__340.jpg\n",
      "https://cdn.pixabay.com/photo/2017/04/16/16/19/glass-ball-2235129__340.jpg\n",
      "https://cdn.pixabay.com/photo/2017/05/31/21/13/colored-pencils-2361653__340.jpg\n",
      "https://cdn.pixabay.com/photo/2019/02/22/12/45/natural-4013464__340.jpg\n",
      "https://cdn.pixabay.com/photo/2013/07/12/18/37/crystal-ball-153592__340.png\n",
      "https://cdn.pixabay.com/photo/2018/02/14/15/47/marbles-3153205__340.jpg\n",
      "https://cdn.pixabay.com/photo/2013/07/12/11/59/candies-145068__340.png\n",
      "https://cdn.pixabay.com/photo/2015/03/09/14/11/wooden-rosary-665744__340.jpg\n",
      "https://cdn.pixabay.com/photo/2015/11/04/13/44/marble-1022570__340.jpg\n",
      "https://cdn.pixabay.com/photo/2012/04/14/17/02/cubes-34615__340.png\n",
      "https://cdn.pixabay.com/photo/2016/04/27/21/59/scrapbook-1357629__340.png\n",
      "https://cdn.pixabay.com/photo/2016/09/19/16/28/marbles-1680664__340.jpg\n",
      "https://cdn.pixabay.com/photo/2017/02/11/00/53/marbles-2056813__340.jpg\n",
      "https://cdn.pixabay.com/photo/2016/06/30/21/16/marbles-1489920__340.jpg\n",
      "https://cdn.pixabay.com/photo/2015/05/26/09/44/jewellery-784410__340.jpg\n",
      "https://cdn.pixabay.com/photo/2016/07/28/08/59/glass-ball-1547291__340.jpg\n",
      "https://cdn.pixabay.com/photo/2019/03/02/17/42/colored-pencils-4030202__340.jpg\n",
      "https://cdn.pixabay.com/photo/2020/02/08/23/58/marbles-4831563__340.jpg\n",
      "https://cdn.pixabay.com/photo/2015/02/08/17/42/marbles-628820__340.jpg\n",
      "https://cdn.pixabay.com/photo/2016/04/27/22/18/scrapbook-1357682__340.jpg\n",
      "https://cdn.pixabay.com/photo/2015/12/31/11/17/glass-ball-1115566__340.jpg\n",
      "https://cdn.pixabay.com/photo/2019/02/11/09/50/natural-3989131__340.jpg\n",
      "https://cdn.pixabay.com/photo/2018/08/16/15/38/child-3610637__340.jpg\n",
      "https://cdn.pixabay.com/photo/2015/03/09/14/15/moss-agate-gemstone-bracelet-665755__340.jpg\n",
      "https://cdn.pixabay.com/photo/2015/05/31/23/22/grapes-792759__340.png\n",
      "https://cdn.pixabay.com/photo/2017/02/08/20/20/ball-2049981__340.jpg\n",
      "https://cdn.pixabay.com/photo/2017/03/01/11/15/paint-2108185__340.jpg\n",
      "https://cdn.pixabay.com/photo/2014/08/23/23/13/glass-blocks-425719__340.jpg\n",
      "https://cdn.pixabay.com/photo/2016/04/23/13/46/madagascar-1347606__340.jpg\n",
      "https://cdn.pixabay.com/photo/2017/01/10/16/59/ball-1969679__340.jpg\n",
      "https://cdn.pixabay.com/photo/2017/06/24/17/58/pencils-2438348__340.jpg\n",
      "https://cdn.pixabay.com/photo/2018/03/21/07/58/wood-3245843__340.jpg\n",
      "https://cdn.pixabay.com/photo/2017/06/19/02/21/devils-marbles-2417951__340.jpg\n",
      "https://cdn.pixabay.com/photo/2019/03/02/17/04/ball-4030155__340.jpg\n",
      "https://cdn.pixabay.com/photo/2016/06/30/21/14/marbles-1489908__340.jpg\n",
      "https://cdn.pixabay.com/photo/2016/05/15/18/38/games-1394165__340.jpg\n",
      "https://cdn.pixabay.com/photo/2017/11/09/22/35/colored-pencils-2934857__340.jpg\n",
      "https://cdn.pixabay.com/photo/2017/09/11/13/21/beer-foam-2738944__340.jpg\n",
      "https://cdn.pixabay.com/photo/2015/03/09/14/10/wooden-rosary-665740__340.jpg\n",
      "https://cdn.pixabay.com/photo/2017/12/13/23/14/angel-3017952__340.png\n",
      "https://cdn.pixabay.com/photo/2015/03/09/14/12/wooden-rosary-665745__340.jpg\n",
      "https://cdn.pixabay.com/photo/2017/06/26/20/45/genie-2445166__340.png\n",
      "https://cdn.pixabay.com/photo/2017/03/30/09/21/the-rosary-2187697__340.jpg\n",
      "https://cdn.pixabay.com/photo/2015/03/02/16/15/colored-pencils-656178__340.jpg\n",
      "https://cdn.pixabay.com/photo/2016/10/18/19/50/marbles-1751230__340.jpg\n",
      "https://cdn.pixabay.com/photo/2015/11/25/22/10/nature-1063041__340.jpg\n",
      "https://cdn.pixabay.com/photo/2017/06/19/02/21/devils-marbles-2417952__340.jpg\n",
      "https://cdn.pixabay.com/photo/2016/11/22/19/16/beaded-1850123__340.jpg\n",
      "https://cdn.pixabay.com/photo/2015/07/29/14/16/color-866057__340.jpg\n",
      "https://cdn.pixabay.com/photo/2012/03/01/00/40/gem-19797__340.jpg\n",
      "https://cdn.pixabay.com/photo/2020/10/21/19/32/children-5674132__340.png\n",
      "https://cdn.pixabay.com/photo/2019/11/24/18/57/spider-web-4650196__340.jpg\n",
      "https://cdn.pixabay.com/photo/2017/02/22/18/29/jewelry-2090198__340.jpg\n",
      "https://cdn.pixabay.com/photo/2015/04/11/12/04/colorful-717633__340.jpg\n",
      "https://cdn.pixabay.com/photo/2015/03/09/11/29/coral-665498__340.jpg\n",
      "https://cdn.pixabay.com/photo/2016/05/28/22/37/flower-1422267__340.png\n",
      "https://cdn.pixabay.com/photo/2023/01/08/21/46/marbles-7706203__340.png\n",
      "https://cdn.pixabay.com/photo/2018/02/18/19/12/globuli-3163133__340.jpg\n",
      "https://cdn.pixabay.com/photo/2013/07/12/19/16/marbles-154455__340.png\n",
      "https://cdn.pixabay.com/photo/2015/03/09/14/14/gemstone-bracelet-665753__340.jpg\n",
      "https://cdn.pixabay.com/photo/2014/04/03/09/58/treasure-309480__340.png\n",
      "https://cdn.pixabay.com/photo/2014/12/20/20/51/marbles-574439__340.jpg\n",
      "https://cdn.pixabay.com/photo/2014/01/21/22/55/glass-beads-249511__340.jpg\n",
      "https://cdn.pixabay.com/photo/2019/02/24/13/44/glass-ball-4017587__340.jpg\n",
      "https://cdn.pixabay.com/photo/2018/02/09/12/38/colored-pencils-3141510__340.jpg\n",
      "https://cdn.pixabay.com/photo/2016/06/09/14/13/raindrop-1445835__340.jpg\n",
      "https://cdn.pixabay.com/photo/2015/03/02/16/13/colored-pencils-656158__340.jpg\n",
      "https://cdn.pixabay.com/photo/2014/07/09/19/56/colored-pencils-388484__340.jpg\n",
      "https://cdn.pixabay.com/photo/2017/02/19/15/22/colour-pencils-2080043__340.jpg\n",
      "https://cdn.pixabay.com/photo/2016/01/07/22/54/future-1126760__340.png\n"
     ]
    }
   ],
   "source": [
    "for img in img_elements:\n",
    "    if img.get_attribute('data-lazy'):\n",
    "        # 동적\n",
    "        print(img.get_property(\"data-lazy\")) #None\n",
    "        print(img.get_attribute(\"data-lazy\"))\n",
    "    else:\n",
    "        # 정적\n",
    "        print(img.get_attribute('src'))\n",
    "        print(img.get_property('src'))        "
   ]
  },
  {
   "cell_type": "code",
   "execution_count": 32,
   "id": "2943cf3e",
   "metadata": {
    "scrolled": true
   },
   "outputs": [
    {
     "data": {
      "text/plain": [
       "100"
      ]
     },
     "execution_count": 32,
     "metadata": {},
     "output_type": "execute_result"
    }
   ],
   "source": [
    "len(img_elements)"
   ]
  },
  {
   "cell_type": "code",
   "execution_count": 2,
   "id": "eace1e79",
   "metadata": {},
   "outputs": [
    {
     "name": "stdout",
     "output_type": "stream",
     "text": [
      "숫자를 입력하세요...5\n",
      "입력된 숫자 : 5\n"
     ]
    }
   ],
   "source": [
    "number = input('숫자를 입력하세요...')\n",
    "print('입력된 숫자 :', number)"
   ]
  }
 ],
 "metadata": {
  "kernelspec": {
   "display_name": "ex_kernel",
   "language": "python",
   "name": "ex"
  },
  "language_info": {
   "codemirror_mode": {
    "name": "ipython",
    "version": 3
   },
   "file_extension": ".py",
   "mimetype": "text/x-python",
   "name": "python",
   "nbconvert_exporter": "python",
   "pygments_lexer": "ipython3",
   "version": "3.8.10"
  }
 },
 "nbformat": 4,
 "nbformat_minor": 5
}
