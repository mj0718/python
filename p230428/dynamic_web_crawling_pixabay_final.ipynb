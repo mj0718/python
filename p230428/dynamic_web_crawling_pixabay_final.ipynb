{
 "cells": [
  {
   "cell_type": "code",
   "execution_count": 1,
   "id": "00088fb1",
   "metadata": {},
   "outputs": [
    {
     "name": "stdout",
     "output_type": "stream",
     "text": [
      "==이미지 37개 다운로드 완료==\n"
     ]
    }
   ],
   "source": [
    "from selenium import webdriver\n",
    "from selenium.webdriver.common.keys import Keys\n",
    "from selenium.webdriver.common.by import By\n",
    "from time import sleep\n",
    "import requests\n",
    "import os\n",
    "\n",
    "# 1. 크롬 드라이버\n",
    "driver = webdriver.Chrome()\n",
    "\n",
    "# 2. 웹 주소\n",
    "url = 'https://pixabay.com/ko/'\n",
    "driver.get(url)\n",
    "\n",
    "# delay -> 렌더링이 되기 전에 중단되는 것을 막기 위한 방법\n",
    "sleep(5)\n",
    "\n",
    "# 3. 이미지 엘리먼트 추출\n",
    "img_elements = driver.find_elements(By.CSS_SELECTOR, 'img[alt]')\n",
    "\n",
    "# 4. img 폴더 생성\n",
    "file_name = 'img2'\n",
    "os.makedirs(file_name, exist_ok=True)\n",
    "\n",
    "# 5. 이미지 다운로드\n",
    "for idx, img in enumerate(img_elements, 1):\n",
    "    response_img = requests.get(img.get_attribute('src')).content\n",
    "\n",
    "    with open(f'{file_name}/{idx}.jpg', 'wb') as file:\n",
    "        file.write(response_img)\n",
    "        \n",
    "# 6. 웹 브라우저 닫기\n",
    "driver.close()\n",
    "\n",
    "print(f'==이미지 {idx}개 다운로드 완료==')"
   ]
  }
 ],
 "metadata": {
  "kernelspec": {
   "display_name": "ex_kernel",
   "language": "python",
   "name": "ex"
  },
  "language_info": {
   "codemirror_mode": {
    "name": "ipython",
    "version": 3
   },
   "file_extension": ".py",
   "mimetype": "text/x-python",
   "name": "python",
   "nbconvert_exporter": "python",
   "pygments_lexer": "ipython3",
   "version": "3.8.10"
  }
 },
 "nbformat": 4,
 "nbformat_minor": 5
}
