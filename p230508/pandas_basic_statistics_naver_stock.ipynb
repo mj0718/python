{
 "cells": [
  {
   "cell_type": "markdown",
   "id": "844b2666",
   "metadata": {},
   "source": [
    "- 통계량\n",
    "    - 데이터를 수치화한 값\n",
    "    - 대표적인 통계량 : 평균(mean), 분산(variance), 표준편차(standard deviation) 등\n",
    "        - 평균 : 총합 / 개수\n",
    "        - 편차 : 자료 - 평균\n",
    "            - 평균에서 얼마나 떨어져 있는지를 나타냄\n",
    "            - 편차의 합은 0\n",
    "        - 분산 : 편차 제곱의 평균\n",
    "            - 자료(데이터)가 평균 기준으로 어떻게 흩어져 있는지를 나타내는 지표\n",
    "            - 분산이 작다 => 자료(데이터)가 평균값 근처에 모여 있음\n",
    "            - 분산이 크다 => 자료(데이터)가 평균값에서 멀리 떨어져 있음\n",
    "        - 표준편차 : 분산의 제곱근\n",
    "            - 평균에서 얼마나 떨어졌는지를 나타냄\n",
    "        - 중앙값 \n",
    "            - 자료(데이터)를 작은 수부터 큰 수로 나열하여 가운데 위치한 값\n",
    "        - 사분위수(Quartile)\n",
    "            - 자료(데이터)를 작은 수부터 큰 수로 나열 후 4등분하여 구함\n",
    "            - Q1, Q2, Q3, Q4\n",
    "        - 백분위수\n",
    "            - 자료(데이터)를 작은 수부터 큰 수로 나열 후 4등분한 3개의 수\n",
    "            - Q1, Q2, Q3\n",
    "            - Q1 : 25% , Q2 : 50% , Q3 : 75%\n",
    "            - 제 1사분위수(Q1) : 25 백분위수 (하위 백분위)\n",
    "            - 제 2사분위수(Q2) : 50 백분위수\n",
    "            - 제 3사분위수(Q3) : 75 백분위수 (상위 백분위)"
   ]
  },
  {
   "cell_type": "code",
   "execution_count": 1,
   "id": "55a141e0",
   "metadata": {},
   "outputs": [],
   "source": [
    "import pandas as pd"
   ]
  },
  {
   "cell_type": "code",
   "execution_count": 6,
   "id": "67de4855",
   "metadata": {},
   "outputs": [
    {
     "data": {
      "text/html": [
       "<div>\n",
       "<style scoped>\n",
       "    .dataframe tbody tr th:only-of-type {\n",
       "        vertical-align: middle;\n",
       "    }\n",
       "\n",
       "    .dataframe tbody tr th {\n",
       "        vertical-align: top;\n",
       "    }\n",
       "\n",
       "    .dataframe thead th {\n",
       "        text-align: right;\n",
       "    }\n",
       "</style>\n",
       "<table border=\"1\" class=\"dataframe\">\n",
       "  <thead>\n",
       "    <tr style=\"text-align: right;\">\n",
       "      <th></th>\n",
       "      <th>순위</th>\n",
       "      <th>종목명</th>\n",
       "      <th>검색비율</th>\n",
       "      <th>현재가</th>\n",
       "      <th>전일비</th>\n",
       "      <th>등락률</th>\n",
       "      <th>거래량</th>\n",
       "      <th>시가</th>\n",
       "      <th>고가</th>\n",
       "      <th>저가</th>\n",
       "      <th>PER</th>\n",
       "      <th>ROE</th>\n",
       "    </tr>\n",
       "  </thead>\n",
       "  <tbody>\n",
       "    <tr>\n",
       "      <th>0</th>\n",
       "      <td>1</td>\n",
       "      <td>NAVER</td>\n",
       "      <td>2.45%</td>\n",
       "      <td>205000</td>\n",
       "      <td>8900</td>\n",
       "      <td>+4.54%</td>\n",
       "      <td>1221047</td>\n",
       "      <td>200500</td>\n",
       "      <td>206500</td>\n",
       "      <td>198200</td>\n",
       "      <td>44.24</td>\n",
       "      <td>3.29</td>\n",
       "    </tr>\n",
       "    <tr>\n",
       "      <th>1</th>\n",
       "      <td>2</td>\n",
       "      <td>삼성전자</td>\n",
       "      <td>1.72%</td>\n",
       "      <td>66000</td>\n",
       "      <td>900</td>\n",
       "      <td>+1.38%</td>\n",
       "      <td>5462382</td>\n",
       "      <td>66300</td>\n",
       "      <td>66300</td>\n",
       "      <td>65400</td>\n",
       "      <td>8.19</td>\n",
       "      <td>17.07</td>\n",
       "    </tr>\n",
       "  </tbody>\n",
       "</table>\n",
       "</div>"
      ],
      "text/plain": [
       "   순위    종목명   검색비율     현재가   전일비     등락률      거래량      시가      고가      저가   \n",
       "0   1  NAVER  2.45%  205000  8900  +4.54%  1221047  200500  206500  198200  \\\n",
       "1   2   삼성전자  1.72%   66000   900  +1.38%  5462382   66300   66300   65400   \n",
       "\n",
       "     PER    ROE  \n",
       "0  44.24   3.29  \n",
       "1   8.19  17.07  "
      ]
     },
     "execution_count": 6,
     "metadata": {},
     "output_type": "execute_result"
    }
   ],
   "source": [
    "# 국내증시.csv 파일 읽어오기\n",
    "stock = pd.read_csv('국내증시.csv')\n",
    "stock[:2]\n",
    "stock.head(2)"
   ]
  },
  {
   "cell_type": "code",
   "execution_count": 7,
   "id": "cde85ebb",
   "metadata": {},
   "outputs": [
    {
     "data": {
      "text/html": [
       "<div>\n",
       "<style scoped>\n",
       "    .dataframe tbody tr th:only-of-type {\n",
       "        vertical-align: middle;\n",
       "    }\n",
       "\n",
       "    .dataframe tbody tr th {\n",
       "        vertical-align: top;\n",
       "    }\n",
       "\n",
       "    .dataframe thead th {\n",
       "        text-align: right;\n",
       "    }\n",
       "</style>\n",
       "<table border=\"1\" class=\"dataframe\">\n",
       "  <thead>\n",
       "    <tr style=\"text-align: right;\">\n",
       "      <th></th>\n",
       "      <th>순위</th>\n",
       "      <th>현재가</th>\n",
       "      <th>전일비</th>\n",
       "      <th>거래량</th>\n",
       "      <th>시가</th>\n",
       "      <th>고가</th>\n",
       "      <th>저가</th>\n",
       "      <th>PER</th>\n",
       "      <th>ROE</th>\n",
       "    </tr>\n",
       "  </thead>\n",
       "  <tbody>\n",
       "    <tr>\n",
       "      <th>count</th>\n",
       "      <td>30.000000</td>\n",
       "      <td>30.000000</td>\n",
       "      <td>30.000000</td>\n",
       "      <td>3.000000e+01</td>\n",
       "      <td>30.000000</td>\n",
       "      <td>30.000000</td>\n",
       "      <td>30.000000</td>\n",
       "      <td>30.000000</td>\n",
       "      <td>28.000000</td>\n",
       "    </tr>\n",
       "    <tr>\n",
       "      <th>mean</th>\n",
       "      <td>15.500000</td>\n",
       "      <td>109137.966667</td>\n",
       "      <td>3626.466667</td>\n",
       "      <td>8.317425e+06</td>\n",
       "      <td>110589.466667</td>\n",
       "      <td>112377.666667</td>\n",
       "      <td>107392.100000</td>\n",
       "      <td>37.519667</td>\n",
       "      <td>1.441071</td>\n",
       "    </tr>\n",
       "    <tr>\n",
       "      <th>std</th>\n",
       "      <td>8.803408</td>\n",
       "      <td>151154.771978</td>\n",
       "      <td>4456.954471</td>\n",
       "      <td>1.477681e+07</td>\n",
       "      <td>154188.440264</td>\n",
       "      <td>154924.417054</td>\n",
       "      <td>149630.258334</td>\n",
       "      <td>101.733320</td>\n",
       "      <td>20.472842</td>\n",
       "    </tr>\n",
       "    <tr>\n",
       "      <th>min</th>\n",
       "      <td>1.000000</td>\n",
       "      <td>924.000000</td>\n",
       "      <td>55.000000</td>\n",
       "      <td>1.672760e+05</td>\n",
       "      <td>1089.000000</td>\n",
       "      <td>1110.000000</td>\n",
       "      <td>833.000000</td>\n",
       "      <td>-134.130000</td>\n",
       "      <td>-47.660000</td>\n",
       "    </tr>\n",
       "    <tr>\n",
       "      <th>25%</th>\n",
       "      <td>8.250000</td>\n",
       "      <td>11775.000000</td>\n",
       "      <td>908.750000</td>\n",
       "      <td>6.784010e+05</td>\n",
       "      <td>13050.000000</td>\n",
       "      <td>14002.500000</td>\n",
       "      <td>11422.500000</td>\n",
       "      <td>0.802500</td>\n",
       "      <td>-0.165000</td>\n",
       "    </tr>\n",
       "    <tr>\n",
       "      <th>50%</th>\n",
       "      <td>15.500000</td>\n",
       "      <td>48025.000000</td>\n",
       "      <td>1560.000000</td>\n",
       "      <td>1.540552e+06</td>\n",
       "      <td>47000.000000</td>\n",
       "      <td>48525.000000</td>\n",
       "      <td>46650.000000</td>\n",
       "      <td>13.510000</td>\n",
       "      <td>5.805000</td>\n",
       "    </tr>\n",
       "    <tr>\n",
       "      <th>75%</th>\n",
       "      <td>22.750000</td>\n",
       "      <td>178450.000000</td>\n",
       "      <td>4400.000000</td>\n",
       "      <td>8.487873e+06</td>\n",
       "      <td>174400.000000</td>\n",
       "      <td>181150.000000</td>\n",
       "      <td>172850.000000</td>\n",
       "      <td>43.232500</td>\n",
       "      <td>10.405000</td>\n",
       "    </tr>\n",
       "    <tr>\n",
       "      <th>max</th>\n",
       "      <td>30.000000</td>\n",
       "      <td>678000.000000</td>\n",
       "      <td>17500.000000</td>\n",
       "      <td>6.936279e+07</td>\n",
       "      <td>694000.000000</td>\n",
       "      <td>696000.000000</td>\n",
       "      <td>671000.000000</td>\n",
       "      <td>478.140000</td>\n",
       "      <td>37.460000</td>\n",
       "    </tr>\n",
       "  </tbody>\n",
       "</table>\n",
       "</div>"
      ],
      "text/plain": [
       "              순위            현재가           전일비           거래량             시가   \n",
       "count  30.000000      30.000000     30.000000  3.000000e+01      30.000000  \\\n",
       "mean   15.500000  109137.966667   3626.466667  8.317425e+06  110589.466667   \n",
       "std     8.803408  151154.771978   4456.954471  1.477681e+07  154188.440264   \n",
       "min     1.000000     924.000000     55.000000  1.672760e+05    1089.000000   \n",
       "25%     8.250000   11775.000000    908.750000  6.784010e+05   13050.000000   \n",
       "50%    15.500000   48025.000000   1560.000000  1.540552e+06   47000.000000   \n",
       "75%    22.750000  178450.000000   4400.000000  8.487873e+06  174400.000000   \n",
       "max    30.000000  678000.000000  17500.000000  6.936279e+07  694000.000000   \n",
       "\n",
       "                  고가             저가         PER        ROE  \n",
       "count      30.000000      30.000000   30.000000  28.000000  \n",
       "mean   112377.666667  107392.100000   37.519667   1.441071  \n",
       "std    154924.417054  149630.258334  101.733320  20.472842  \n",
       "min      1110.000000     833.000000 -134.130000 -47.660000  \n",
       "25%     14002.500000   11422.500000    0.802500  -0.165000  \n",
       "50%     48525.000000   46650.000000   13.510000   5.805000  \n",
       "75%    181150.000000  172850.000000   43.232500  10.405000  \n",
       "max    696000.000000  671000.000000  478.140000  37.460000  "
      ]
     },
     "execution_count": 7,
     "metadata": {},
     "output_type": "execute_result"
    }
   ],
   "source": [
    "# 기초 통계량 (숫자만 보여줌)\n",
    "stock.describe()"
   ]
  },
  {
   "cell_type": "code",
   "execution_count": 18,
   "id": "604379ea",
   "metadata": {
    "scrolled": true
   },
   "outputs": [
    {
     "data": {
      "text/html": [
       "<div>\n",
       "<style scoped>\n",
       "    .dataframe tbody tr th:only-of-type {\n",
       "        vertical-align: middle;\n",
       "    }\n",
       "\n",
       "    .dataframe tbody tr th {\n",
       "        vertical-align: top;\n",
       "    }\n",
       "\n",
       "    .dataframe thead th {\n",
       "        text-align: right;\n",
       "    }\n",
       "</style>\n",
       "<table border=\"1\" class=\"dataframe\">\n",
       "  <thead>\n",
       "    <tr style=\"text-align: right;\">\n",
       "      <th></th>\n",
       "      <th>0</th>\n",
       "      <th>1</th>\n",
       "      <th>2</th>\n",
       "      <th>3</th>\n",
       "      <th>4</th>\n",
       "      <th>5</th>\n",
       "      <th>6</th>\n",
       "      <th>7</th>\n",
       "      <th>8</th>\n",
       "      <th>9</th>\n",
       "    </tr>\n",
       "  </thead>\n",
       "  <tbody>\n",
       "    <tr>\n",
       "      <th>number</th>\n",
       "      <td>1</td>\n",
       "      <td>2</td>\n",
       "      <td>3</td>\n",
       "      <td>4</td>\n",
       "      <td>5</td>\n",
       "      <td>6</td>\n",
       "      <td>7</td>\n",
       "      <td>8</td>\n",
       "      <td>9</td>\n",
       "      <td>10</td>\n",
       "    </tr>\n",
       "  </tbody>\n",
       "</table>\n",
       "</div>"
      ],
      "text/plain": [
       "        0  1  2  3  4  5  6  7  8   9\n",
       "number  1  2  3  4  5  6  7  8  9  10"
      ]
     },
     "execution_count": 18,
     "metadata": {},
     "output_type": "execute_result"
    }
   ],
   "source": [
    "data = pd.DataFrame({\n",
    "    'number': range(1,11)\n",
    "})\n",
    "data.T # 행, 열을 바꿈"
   ]
  },
  {
   "cell_type": "code",
   "execution_count": 19,
   "id": "033513b3",
   "metadata": {},
   "outputs": [
    {
     "data": {
      "text/html": [
       "<div>\n",
       "<style scoped>\n",
       "    .dataframe tbody tr th:only-of-type {\n",
       "        vertical-align: middle;\n",
       "    }\n",
       "\n",
       "    .dataframe tbody tr th {\n",
       "        vertical-align: top;\n",
       "    }\n",
       "\n",
       "    .dataframe thead th {\n",
       "        text-align: right;\n",
       "    }\n",
       "</style>\n",
       "<table border=\"1\" class=\"dataframe\">\n",
       "  <thead>\n",
       "    <tr style=\"text-align: right;\">\n",
       "      <th></th>\n",
       "      <th>number</th>\n",
       "    </tr>\n",
       "  </thead>\n",
       "  <tbody>\n",
       "    <tr>\n",
       "      <th>count</th>\n",
       "      <td>10.00000</td>\n",
       "    </tr>\n",
       "    <tr>\n",
       "      <th>mean</th>\n",
       "      <td>5.50000</td>\n",
       "    </tr>\n",
       "    <tr>\n",
       "      <th>std</th>\n",
       "      <td>3.02765</td>\n",
       "    </tr>\n",
       "    <tr>\n",
       "      <th>min</th>\n",
       "      <td>1.00000</td>\n",
       "    </tr>\n",
       "    <tr>\n",
       "      <th>25%</th>\n",
       "      <td>3.25000</td>\n",
       "    </tr>\n",
       "    <tr>\n",
       "      <th>50%</th>\n",
       "      <td>5.50000</td>\n",
       "    </tr>\n",
       "    <tr>\n",
       "      <th>75%</th>\n",
       "      <td>7.75000</td>\n",
       "    </tr>\n",
       "    <tr>\n",
       "      <th>max</th>\n",
       "      <td>10.00000</td>\n",
       "    </tr>\n",
       "  </tbody>\n",
       "</table>\n",
       "</div>"
      ],
      "text/plain": [
       "         number\n",
       "count  10.00000\n",
       "mean    5.50000\n",
       "std     3.02765\n",
       "min     1.00000\n",
       "25%     3.25000\n",
       "50%     5.50000\n",
       "75%     7.75000\n",
       "max    10.00000"
      ]
     },
     "execution_count": 19,
     "metadata": {},
     "output_type": "execute_result"
    }
   ],
   "source": [
    "data.describe()"
   ]
  },
  {
   "cell_type": "code",
   "execution_count": 22,
   "id": "5cf35fb5",
   "metadata": {},
   "outputs": [
    {
     "data": {
      "text/plain": [
       "number    10\n",
       "dtype: int64"
      ]
     },
     "execution_count": 22,
     "metadata": {},
     "output_type": "execute_result"
    }
   ],
   "source": [
    "# 개수\n",
    "data.count()"
   ]
  },
  {
   "cell_type": "code",
   "execution_count": 23,
   "id": "09671eab",
   "metadata": {},
   "outputs": [
    {
     "data": {
      "text/plain": [
       "number    5.5\n",
       "dtype: float64"
      ]
     },
     "execution_count": 23,
     "metadata": {},
     "output_type": "execute_result"
    }
   ],
   "source": [
    "# 평균\n",
    "data.mean()"
   ]
  },
  {
   "cell_type": "code",
   "execution_count": 24,
   "id": "3bc93078",
   "metadata": {},
   "outputs": [
    {
     "data": {
      "text/plain": [
       "number    5.5\n",
       "dtype: float64"
      ]
     },
     "execution_count": 24,
     "metadata": {},
     "output_type": "execute_result"
    }
   ],
   "source": [
    "data.sum() / data.count()"
   ]
  },
  {
   "cell_type": "code",
   "execution_count": 25,
   "id": "da178f5e",
   "metadata": {},
   "outputs": [
    {
     "data": {
      "text/plain": [
       "number    9.166667\n",
       "dtype: float64"
      ]
     },
     "execution_count": 25,
     "metadata": {},
     "output_type": "execute_result"
    }
   ],
   "source": [
    "# 분산\n",
    "var = data.var()\n",
    "var"
   ]
  },
  {
   "cell_type": "code",
   "execution_count": 26,
   "id": "a69bee4c",
   "metadata": {},
   "outputs": [
    {
     "name": "stderr",
     "output_type": "stream",
     "text": [
      "C:\\Users\\hi-sinchon\\AppData\\Local\\Temp\\ipykernel_11548\\1904068684.py:2: FutureWarning: Calling float on a single element Series is deprecated and will raise a TypeError in the future. Use float(ser.iloc[0]) instead\n",
      "  math.sqrt(var)\n"
     ]
    },
    {
     "data": {
      "text/plain": [
       "3.0276503540974917"
      ]
     },
     "execution_count": 26,
     "metadata": {},
     "output_type": "execute_result"
    }
   ],
   "source": [
    "import math\n",
    "math.sqrt(var)"
   ]
  },
  {
   "cell_type": "code",
   "execution_count": 27,
   "id": "c325a196",
   "metadata": {},
   "outputs": [
    {
     "data": {
      "text/plain": [
       "number    5.5\n",
       "dtype: float64"
      ]
     },
     "execution_count": 27,
     "metadata": {},
     "output_type": "execute_result"
    }
   ],
   "source": [
    "# 중앙값\n",
    "data.median()"
   ]
  },
  {
   "cell_type": "code",
   "execution_count": 28,
   "id": "b1640249",
   "metadata": {},
   "outputs": [],
   "source": [
    "data = [10, 8, 10, 8, 8, 4]"
   ]
  },
  {
   "cell_type": "code",
   "execution_count": 33,
   "id": "3836524e",
   "metadata": {},
   "outputs": [
    {
     "data": {
      "text/plain": [
       "8.0"
      ]
     },
     "execution_count": 33,
     "metadata": {},
     "output_type": "execute_result"
    }
   ],
   "source": [
    "# 평균\n",
    "mean = sum(data) / len(data)\n",
    "mean"
   ]
  },
  {
   "cell_type": "code",
   "execution_count": 38,
   "id": "b681c9a9",
   "metadata": {},
   "outputs": [
    {
     "data": {
      "text/plain": [
       "4.0"
      ]
     },
     "execution_count": 38,
     "metadata": {},
     "output_type": "execute_result"
    }
   ],
   "source": [
    "# 분산 : var(variance)\n",
    "var = sum([int(d-mean)**2 for d in data]) / len(data)\n",
    "var"
   ]
  },
  {
   "cell_type": "code",
   "execution_count": 41,
   "id": "f09eca8e",
   "metadata": {},
   "outputs": [
    {
     "data": {
      "text/plain": [
       "2.0"
      ]
     },
     "execution_count": 41,
     "metadata": {},
     "output_type": "execute_result"
    }
   ],
   "source": [
    "# 표준편차\n",
    "import math\n",
    "math.sqrt(var)"
   ]
  },
  {
   "cell_type": "code",
   "execution_count": 42,
   "id": "ab429138",
   "metadata": {},
   "outputs": [
    {
     "data": {
      "text/plain": [
       "8.0"
      ]
     },
     "execution_count": 42,
     "metadata": {},
     "output_type": "execute_result"
    }
   ],
   "source": [
    "# 중앙값\n",
    "import numpy as np\n",
    "np.median(data)"
   ]
  },
  {
   "cell_type": "code",
   "execution_count": 43,
   "id": "cdf44eb3",
   "metadata": {},
   "outputs": [
    {
     "data": {
      "text/plain": [
       "[4, 8, 8, 8, 10, 10]"
      ]
     },
     "execution_count": 43,
     "metadata": {},
     "output_type": "execute_result"
    }
   ],
   "source": [
    "data.sort()\n",
    "data"
   ]
  },
  {
   "cell_type": "code",
   "execution_count": 44,
   "id": "0600705f",
   "metadata": {},
   "outputs": [
    {
     "data": {
      "text/plain": [
       "8.0"
      ]
     },
     "execution_count": 44,
     "metadata": {},
     "output_type": "execute_result"
    }
   ],
   "source": [
    "np.mean(data)"
   ]
  },
  {
   "cell_type": "code",
   "execution_count": 45,
   "id": "defdafc5",
   "metadata": {},
   "outputs": [
    {
     "data": {
      "text/plain": [
       "4.0"
      ]
     },
     "execution_count": 45,
     "metadata": {},
     "output_type": "execute_result"
    }
   ],
   "source": [
    "np.var(data)"
   ]
  },
  {
   "cell_type": "code",
   "execution_count": 46,
   "id": "e1987e08",
   "metadata": {},
   "outputs": [
    {
     "data": {
      "text/plain": [
       "2.0"
      ]
     },
     "execution_count": 46,
     "metadata": {},
     "output_type": "execute_result"
    }
   ],
   "source": [
    "np.std(data)"
   ]
  },
  {
   "cell_type": "code",
   "execution_count": 48,
   "id": "4b1c645b",
   "metadata": {},
   "outputs": [
    {
     "data": {
      "text/html": [
       "<div>\n",
       "<style scoped>\n",
       "    .dataframe tbody tr th:only-of-type {\n",
       "        vertical-align: middle;\n",
       "    }\n",
       "\n",
       "    .dataframe tbody tr th {\n",
       "        vertical-align: top;\n",
       "    }\n",
       "\n",
       "    .dataframe thead th {\n",
       "        text-align: right;\n",
       "    }\n",
       "</style>\n",
       "<table border=\"1\" class=\"dataframe\">\n",
       "  <thead>\n",
       "    <tr style=\"text-align: right;\">\n",
       "      <th></th>\n",
       "      <th>종목명</th>\n",
       "      <th>검색비율</th>\n",
       "      <th>등락률</th>\n",
       "    </tr>\n",
       "  </thead>\n",
       "  <tbody>\n",
       "    <tr>\n",
       "      <th>count</th>\n",
       "      <td>30</td>\n",
       "      <td>30</td>\n",
       "      <td>30</td>\n",
       "    </tr>\n",
       "    <tr>\n",
       "      <th>unique</th>\n",
       "      <td>30</td>\n",
       "      <td>24</td>\n",
       "      <td>30</td>\n",
       "    </tr>\n",
       "    <tr>\n",
       "      <th>top</th>\n",
       "      <td>NAVER</td>\n",
       "      <td>0.59%</td>\n",
       "      <td>+4.54%</td>\n",
       "    </tr>\n",
       "    <tr>\n",
       "      <th>freq</th>\n",
       "      <td>1</td>\n",
       "      <td>2</td>\n",
       "      <td>1</td>\n",
       "    </tr>\n",
       "  </tbody>\n",
       "</table>\n",
       "</div>"
      ],
      "text/plain": [
       "          종목명   검색비율     등락률\n",
       "count      30     30      30\n",
       "unique     30     24      30\n",
       "top     NAVER  0.59%  +4.54%\n",
       "freq        1      2       1"
      ]
     },
     "execution_count": 48,
     "metadata": {},
     "output_type": "execute_result"
    }
   ],
   "source": [
    "# top은 빈도수가 가장 높은 값 보여줌\n",
    "stock.describe(include=object)"
   ]
  },
  {
   "cell_type": "code",
   "execution_count": 49,
   "id": "aea47700",
   "metadata": {},
   "outputs": [
    {
     "data": {
      "text/plain": [
       "순위      30\n",
       "종목명     30\n",
       "검색비율    30\n",
       "현재가     30\n",
       "전일비     30\n",
       "등락률     30\n",
       "거래량     30\n",
       "시가      30\n",
       "고가      30\n",
       "저가      30\n",
       "PER     30\n",
       "ROE     28\n",
       "dtype: int64"
      ]
     },
     "execution_count": 49,
     "metadata": {},
     "output_type": "execute_result"
    }
   ],
   "source": [
    "stock.count()"
   ]
  },
  {
   "cell_type": "code",
   "execution_count": null,
   "id": "7b7924f6",
   "metadata": {},
   "outputs": [],
   "source": [
    "stock.value_counts()"
   ]
  },
  {
   "cell_type": "code",
   "execution_count": null,
   "id": "e4e2d57a",
   "metadata": {},
   "outputs": [],
   "source": [
    "stock.검색비율.value_counts()"
   ]
  },
  {
   "cell_type": "code",
   "execution_count": null,
   "id": "ac4507d5",
   "metadata": {},
   "outputs": [],
   "source": [
    "stock.등락률.value_counts()"
   ]
  },
  {
   "cell_type": "code",
   "execution_count": 60,
   "id": "f854ac31",
   "metadata": {},
   "outputs": [
    {
     "data": {
      "text/plain": [
       "순위      0\n",
       "종목명     0\n",
       "검색비율    0\n",
       "현재가     0\n",
       "전일비     0\n",
       "등락률     0\n",
       "거래량     0\n",
       "시가      0\n",
       "고가      0\n",
       "저가      0\n",
       "PER     0\n",
       "ROE     2\n",
       "dtype: int64"
      ]
     },
     "execution_count": 60,
     "metadata": {},
     "output_type": "execute_result"
    }
   ],
   "source": [
    "# 각 변수의 결측치 개수\n",
    "stock.isnull().sum()"
   ]
  },
  {
   "cell_type": "code",
   "execution_count": 64,
   "id": "6d99234d",
   "metadata": {},
   "outputs": [
    {
     "data": {
      "text/html": [
       "<div>\n",
       "<style scoped>\n",
       "    .dataframe tbody tr th:only-of-type {\n",
       "        vertical-align: middle;\n",
       "    }\n",
       "\n",
       "    .dataframe tbody tr th {\n",
       "        vertical-align: top;\n",
       "    }\n",
       "\n",
       "    .dataframe thead th {\n",
       "        text-align: right;\n",
       "    }\n",
       "</style>\n",
       "<table border=\"1\" class=\"dataframe\">\n",
       "  <thead>\n",
       "    <tr style=\"text-align: right;\">\n",
       "      <th></th>\n",
       "      <th>순위</th>\n",
       "      <th>종목명</th>\n",
       "      <th>검색비율</th>\n",
       "      <th>현재가</th>\n",
       "      <th>전일비</th>\n",
       "      <th>등락률</th>\n",
       "      <th>거래량</th>\n",
       "      <th>시가</th>\n",
       "      <th>고가</th>\n",
       "      <th>저가</th>\n",
       "      <th>PER</th>\n",
       "      <th>ROE</th>\n",
       "    </tr>\n",
       "  </thead>\n",
       "  <tbody>\n",
       "    <tr>\n",
       "      <th>9</th>\n",
       "      <td>10</td>\n",
       "      <td>카나리아바이오</td>\n",
       "      <td>1.00%</td>\n",
       "      <td>40450</td>\n",
       "      <td>1800</td>\n",
       "      <td>+4.66%</td>\n",
       "      <td>2215124</td>\n",
       "      <td>39300</td>\n",
       "      <td>40850</td>\n",
       "      <td>39100</td>\n",
       "      <td>-5.28</td>\n",
       "      <td>NaN</td>\n",
       "    </tr>\n",
       "    <tr>\n",
       "      <th>14</th>\n",
       "      <td>15</td>\n",
       "      <td>SK바이오사이언스</td>\n",
       "      <td>0.59%</td>\n",
       "      <td>79000</td>\n",
       "      <td>4100</td>\n",
       "      <td>-4.93%</td>\n",
       "      <td>814352</td>\n",
       "      <td>81000</td>\n",
       "      <td>83300</td>\n",
       "      <td>78900</td>\n",
       "      <td>49.50</td>\n",
       "      <td>NaN</td>\n",
       "    </tr>\n",
       "  </tbody>\n",
       "</table>\n",
       "</div>"
      ],
      "text/plain": [
       "    순위        종목명   검색비율    현재가   전일비     등락률      거래량     시가     고가     저가   \n",
       "9   10    카나리아바이오  1.00%  40450  1800  +4.66%  2215124  39300  40850  39100  \\\n",
       "14  15  SK바이오사이언스  0.59%  79000  4100  -4.93%   814352  81000  83300  78900   \n",
       "\n",
       "      PER  ROE  \n",
       "9   -5.28  NaN  \n",
       "14  49.50  NaN  "
      ]
     },
     "execution_count": 64,
     "metadata": {},
     "output_type": "execute_result"
    }
   ],
   "source": [
    "# 결측치 행 추출\n",
    "stock[stock.ROE.isnull()]"
   ]
  }
 ],
 "metadata": {
  "kernelspec": {
   "display_name": "ex_kernel",
   "language": "python",
   "name": "ex"
  },
  "language_info": {
   "codemirror_mode": {
    "name": "ipython",
    "version": 3
   },
   "file_extension": ".py",
   "mimetype": "text/x-python",
   "name": "python",
   "nbconvert_exporter": "python",
   "pygments_lexer": "ipython3",
   "version": "3.8.10"
  },
  "toc": {
   "base_numbering": 1,
   "nav_menu": {},
   "number_sections": true,
   "sideBar": true,
   "skip_h1_title": false,
   "title_cell": "Table of Contents",
   "title_sidebar": "Contents",
   "toc_cell": false,
   "toc_position": {},
   "toc_section_display": true,
   "toc_window_display": false
  }
 },
 "nbformat": 4,
 "nbformat_minor": 5
}
